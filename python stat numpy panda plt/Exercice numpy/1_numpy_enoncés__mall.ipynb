{
 "cells": [
  {
   "cell_type": "code",
   "execution_count": 1,
   "id": "9b3b33c8-c731-4d8f-99bc-e7d764aa91b7",
   "metadata": {},
   "outputs": [],
   "source": [
    "import numpy as np\n",
    "import json"
   ]
  },
  {
   "cell_type": "code",
   "execution_count": 2,
   "id": "ad53947c-47b5-4578-8be7-d195f4e459bf",
   "metadata": {},
   "outputs": [],
   "source": [
    "j_file = json.load(open(\"data/Mall_Customers_doc_source.json\",\"r\"))"
   ]
  },
  {
   "cell_type": "code",
   "execution_count": 3,
   "id": "652f79af-6186-4aed-b232-4a3a0023e397",
   "metadata": {},
   "outputs": [
    {
     "data": {
      "text/plain": [
       "{'CustomerID': 'Unique ID assigned to the customer',\n",
       " 'Gender': 'Gender of the customer',\n",
       " 'Age': 'Age of the customer',\n",
       " 'Annual Income (k$)': 'Annual Income of the customer',\n",
       " 'Spending Score (1-100)': 'Score assigned by the mall based on customer behavior and spending nature'}"
      ]
     },
     "execution_count": 3,
     "metadata": {},
     "output_type": "execute_result"
    }
   ],
   "source": [
    "j_file[\"DOC\"]"
   ]
  },
  {
   "cell_type": "markdown",
   "id": "5e8f6aea-9d96-4804-8be9-b68fa79a895e",
   "metadata": {},
   "source": [
    "# Mall customers: simple numpy use-case\n",
    "\n",
    "## import all columns of the \"Mall_Customers.csv\" dataset with numpy (loadtxt)"
   ]
  },
  {
   "cell_type": "markdown",
   "id": "db4cf6b1-1786-4a3d-a635-fd944e07a8a0",
   "metadata": {},
   "source": [
    "### check memory footprint of values (nbytes)\n",
    "- how can we reduce the memory footprint (without loosing data) ?"
   ]
  },
  {
   "cell_type": "markdown",
   "id": "17097067-c7f0-4b2a-a50b-bc1e85b376a3",
   "metadata": {},
   "source": [
    "### select the first 6 rows from each columns\n",
    "\n",
    "### select data from males with age above 30\n",
    "\n",
    "### create a 'give_statitics' function\n",
    "- returns an dictionary with :\n",
    "    - mean\n",
    "    - std\n",
    "    - median\n",
    "    - min\n",
    "    - max\n",
    "    - count of non empty\n",
    "### what are the statistics for the (whole) dataset ?\n",
    "\n",
    "### create function that does a group by"
   ]
  },
  {
   "cell_type": "code",
   "execution_count": null,
   "id": "a524c725-813a-4886-80ae-dc6672ccf752",
   "metadata": {},
   "outputs": [],
   "source": []
  }
 ],
 "metadata": {
  "kernelspec": {
   "display_name": "Python 3 (ipykernel)",
   "language": "python",
   "name": "python3"
  },
  "language_info": {
   "codemirror_mode": {
    "name": "ipython",
    "version": 3
   },
   "file_extension": ".py",
   "mimetype": "text/x-python",
   "name": "python",
   "nbconvert_exporter": "python",
   "pygments_lexer": "ipython3",
   "version": "3.10.13"
  }
 },
 "nbformat": 4,
 "nbformat_minor": 5
}
