{
 "cells": [
  {
   "cell_type": "markdown",
   "metadata": {
    "id": "rPIVKXCNPMrs"
   },
   "source": [
    "**<p style=\"text-align:center; font-size:30px\"><u> Exercices de base numpy</u></p>**"
   ]
  },
  {
   "cell_type": "markdown",
   "metadata": {
    "id": "aDp8NaOTPMru"
   },
   "source": [
    "# Exercice 1\n",
    "- créez un numpy array depuis la liste suivante [11.7, 20, 325, 10.2, 11.7, 20]\n",
    "- remplacez la première occurence de la valeur 11.7 par 5\n",
    "- remplacez toutes les occurences des valeurs 20 par 0\n",
    "- calculez la taille (mémoire) du tableau\n",
    "- modifier le typage en uint8\n",
    "- calculez la taille du tableau\n",
    "- Observez les valeurs ? Que s'est-il passé ?\n",
    "\n",
    "<br>"
   ]
  },
  {
   "cell_type": "code",
   "execution_count": 4,
   "metadata": {},
   "outputs": [],
   "source": [
    "import numpy as np"
   ]
  },
  {
   "cell_type": "code",
   "execution_count": 22,
   "metadata": {},
   "outputs": [
    {
     "name": "stdout",
     "output_type": "stream",
     "text": [
      "48\n",
      "6\n",
      "[ 5  0 69 10 11  0]\n"
     ]
    }
   ],
   "source": [
    "a = np.array(\n",
    "    [11.7, 20, 325, 10.2, 11.7, 20]\n",
    ")  # - créez un numpy array depuis la liste suivante [11.7, 20, 325, 10.2, 11.7, 20]\n",
    "\n",
    "a[0] = 5  # remplacez la première occurence de la valeur 11.7 par 5\n",
    "a = np.where(a == 20, 0, a)  # - remplacez toutes les occurences des valeurs 20 par 0\n",
    "print(a.nbytes)\n",
    "a = a.astype(np.uint8)  #\n",
    "print(a.size)\n",
    "print(a)\n"
   ]
  },
  {
   "cell_type": "markdown",
   "metadata": {
    "id": "822o_kAlPMrw"
   },
   "source": [
    "# Exercice 2\n",
    "\n",
    "- créez un numpy array depuis la matrice suivante [[1, 2, 3],  [4, 5, 6], [7, 8, np.nan]]\n",
    "- affichez:\n",
    "  - le type de données de la matrice\n",
    "  - sa forme\n",
    "  - son nombre de dimension\n",
    "  - son nombre d'élément\n",
    "  - Depuis la forme, pouvez-vous obtenir le nombre de dimension et le nombre d'élément ?\n",
    "- multipliez la dernière colonne par 5 et divisez la première ligne par 0\n",
    "- modifier le typage en int. Que se passe-t-il ?\n",
    "\n",
    "<br>"
   ]
  },
  {
   "cell_type": "code",
   "execution_count": 37,
   "metadata": {},
   "outputs": [
    {
     "name": "stdout",
     "output_type": "stream",
     "text": [
      "float64\n",
      "--------------------------------------------------\n",
      "(3, 3)\n",
      "--------------------------------------------------\n",
      "2\n",
      "--------------------------------------------------\n",
      "9\n",
      "--------------------------------------------------\n",
      "oui\n",
      "--------------------------------------------------\n",
      "[[ 1.  2.  3.]\n",
      " [ 4.  5.  6.]\n",
      " [35. 40. nan]]\n",
      "--------------------------------------------------\n"
     ]
    },
    {
     "name": "stderr",
     "output_type": "stream",
     "text": [
      "C:\\Users\\thoma\\AppData\\Local\\Temp\\ipykernel_25628\\2945736864.py:15: RuntimeWarning: divide by zero encountered in divide\n",
      "  b / np.array([[1, 1, 1], [1, 1, 1], [0, 0, 0]])\n",
      "C:\\Users\\thoma\\AppData\\Local\\Temp\\ipykernel_25628\\2945736864.py:19: RuntimeWarning: invalid value encountered in cast\n",
      "  b.astype(np.int32)\n"
     ]
    },
    {
     "data": {
      "text/plain": [
       "array([[          1,           2,           3],\n",
       "       [          4,           5,           6],\n",
       "       [          7,           8, -2147483648]])"
      ]
     },
     "execution_count": 37,
     "metadata": {},
     "output_type": "execute_result"
    }
   ],
   "source": [
    "b = np.array([[1, 2, 3], [4, 5, 6], [7, 8, np.nan]])\n",
    "print(b.dtype)\n",
    "print(\"-\" * 50)\n",
    "print(b.shape)\n",
    "print(\"-\" * 50)\n",
    "print(b.ndim)\n",
    "print(\"-\" * 50)\n",
    "print(b.size)\n",
    "print(\"-\" * 50)\n",
    "print(\"oui\")\n",
    "print(\"-\" * 50)\n",
    "print(b * np.array([[1, 1, 1], [1, 1, 1], [5, 5, 5]]))\n",
    "print(\"-\" * 50)\n",
    "try:\n",
    "    b / np.array([[1, 1, 1], [1, 1, 1], [0, 0, 0]])\n",
    "except Exception as e:\n",
    "    print(e)\n",
    "\n",
    "b.astype(np.int32)\n"
   ]
  },
  {
   "cell_type": "markdown",
   "metadata": {},
   "source": [
    "# Exercice 3\n",
    "\n",
    "Exercice:\n",
    "1. Créer la matrice suivante dans la variable x1:\n",
    "  ```py\n",
    "      [[10, 20, 30],\n",
    "       [40, 50, 60],\n",
    "       [70, 80, 90]]\n",
    "````\n",
    "\n",
    "2. Extraire une partie de x1 dans la variable x2\n",
    "  ```py\n",
    "      [[50, 60],\n",
    "       [80, 90]]\n",
    "````\n",
    "3. Remplacer le 50 de x2 par 99\n",
    "4. Réafficher x1"
   ]
  },
  {
   "cell_type": "code",
   "execution_count": 70,
   "metadata": {},
   "outputs": [
    {
     "name": "stdout",
     "output_type": "stream",
     "text": [
      "[[ 0 60]\n",
      " [80 90]]\n",
      "--------------------------------------------------\n",
      "[[10 20 30]\n",
      " [40  0 60]\n",
      " [70 80 90]]\n"
     ]
    }
   ],
   "source": [
    "c = np.array([[10, 20, 30], [40, 50, 60], [70, 80, 90]])\n",
    "d = c[1:, 1:]\n",
    "d[0, 0] = 0\n",
    "print(d)\n",
    "print(\"-\" * 50)\n",
    "print(c)\n"
   ]
  },
  {
   "cell_type": "markdown",
   "metadata": {},
   "source": [
    "# Exercice 4\n",
    "\n",
    "Exercice:\n",
    "1. Créer la matrice suivante dans la variable x3:\n",
    "  ```py\n",
    "      [[10, 20, 30],\n",
    "       [40, 50, 60],\n",
    "       [70, 80, 90]]\n",
    "````\n",
    "\n",
    "2. Extraire __une copie__ d'une partie de x3 dans la variable x4\n",
    "  ```py\n",
    "      [[50, 60],\n",
    "       [80, 90]]\n",
    "````\n",
    "3. Remplacer le 50 de x4 par 99\n",
    "4. Réafficher x3"
   ]
  },
  {
   "cell_type": "code",
   "execution_count": 68,
   "metadata": {},
   "outputs": [
    {
     "name": "stdout",
     "output_type": "stream",
     "text": [
      "[[99 60]\n",
      " [80 90]]\n",
      "--------------------------------------------------\n",
      "[[10 20 30]\n",
      " [40 50 60]\n",
      " [70 80 90]]\n"
     ]
    }
   ],
   "source": [
    "e = np.array([[10, 20, 30], [40, 50, 60], [70, 80, 90]])\n",
    "f = e[1:, 1:]\n",
    "f = np.where(f == 50, 99, f)\n",
    "print(f)\n",
    "print(\"-\" * 50)\n",
    "print(e)\n"
   ]
  },
  {
   "cell_type": "markdown",
   "metadata": {
    "id": "_dh3U5u1PMry"
   },
   "source": [
    "# Exercice 5\n",
    "\n",
    "- créez une matrice (4*4) remplie de valeurs aléatoires comprises entre 2 et 8\n",
    "- créer un matrice d'identité (*i.e.* une matrice carrée dont la diagonale descendente principale est remplie de 1 et le reste = 0). Proposez plusieurs solutions\n",
    "- créer une matrice dont la diagonale principale sera remplie de 6 valeurs aléatoires. Proposez plusieurs solutions\n",
    "\n",
    "(tip: 'zeros','identity', 'fill_diagonal')\n",
    "<br>"
   ]
  },
  {
   "cell_type": "code",
   "execution_count": 71,
   "metadata": {},
   "outputs": [
    {
     "name": "stdout",
     "output_type": "stream",
     "text": [
      "[[5 4 3 7]\n",
      " [2 2 3 3]\n",
      " [2 6 2 5]\n",
      " [6 6 6 5]]\n"
     ]
    }
   ],
   "source": [
    "g = np.random.randint(2, 8, (4, 4))\n",
    "print(g)\n"
   ]
  },
  {
   "cell_type": "markdown",
   "metadata": {
    "id": "Ifr5eMoKPMrz"
   },
   "source": [
    "# Exercice 6\n",
    "\n",
    "- reproduire la matrice suivante (sans les noms de lignes ou colonnes)\n",
    "<table border=\"1\" class=\"dataframe\">\n",
    "  <thead>\n",
    "    <tr style=\"text-align: right;\">\n",
    "      <th></th>\n",
    "      <th>pâtes</th>\n",
    "      <th>légumes</th>\n",
    "      <th>divers</th>\n",
    "    </tr>\n",
    "  </thead>\n",
    "  <tbody>\n",
    "    <tr>\n",
    "      <th>bob</th>\n",
    "      <td>10€</td>\n",
    "      <td>30€</td>\n",
    "      <td>5€</td>\n",
    "    </tr>\n",
    "    <tr>\n",
    "      <th>alice</th>\n",
    "      <td>20€</td>\n",
    "      <td>50€</td>\n",
    "      <td>1€</td>\n",
    "    </tr>\n",
    "    <tr>\n",
    "      <th>john</th>\n",
    "      <td>15€</td>\n",
    "      <td>30€</td>\n",
    "      <td>NaN</td>\n",
    "    </tr>\n",
    "  </tbody>\n",
    "</table>\n",
    "\n",
    "- affichez le montant total des achats\n",
    "- affichez les totaux des achats par personne\n",
    "- affichez les moyennes des achats par type d'aliments\n",
    "\n",
    "<br>"
   ]
  },
  {
   "cell_type": "markdown",
   "metadata": {},
   "source": [
    "# Exercice 7\n",
    "\n",
    "Cette fois-ci nous avons les quantités achetées ainsi que le prix unitaires pour chacun des éléments\n",
    "\n",
    "<table border=\"1\" class=\"dataframe\">\n",
    "  <thead>\n",
    "    <tr style=\"text-align: right;\">\n",
    "      <th></th>\n",
    "      <th>pâtes</th>\n",
    "      <th>légumes</th>\n",
    "      <th>divers</th>\n",
    "    </tr>\n",
    "  </thead>\n",
    "  <tbody>\n",
    "    <tr>\n",
    "      <th>bob</th>\n",
    "      <td>1</td>\n",
    "      <td>4</td>\n",
    "      <td>2</td>\n",
    "    </tr>\n",
    "    <tr>\n",
    "      <th>alice</th>\n",
    "      <td>3</td>\n",
    "      <td>5</td>\n",
    "      <td>7</td>\n",
    "    </tr>\n",
    "    <tr>\n",
    "      <th>john</th>\n",
    "      <td>5</td>\n",
    "      <td>4</td>\n",
    "      <td>4</td>\n",
    "    </tr>\n",
    "  </tbody>\n",
    "</table>\n",
    "\n",
    "```py\n",
    "[20, 5, 3]\n",
    "````\n",
    "\n",
    "- calculez le montant total par personne\n",
    "- calculez le montant total par produit\n",
    "\n",
    "<br>"
   ]
  },
  {
   "cell_type": "code",
   "execution_count": null,
   "metadata": {},
   "outputs": [],
   "source": []
  }
 ],
 "metadata": {
  "colab": {
   "provenance": []
  },
  "kernelspec": {
   "display_name": "Python 3",
   "language": "python",
   "name": "python3"
  },
  "language_info": {
   "codemirror_mode": {
    "name": "ipython",
    "version": 3
   },
   "file_extension": ".py",
   "mimetype": "text/x-python",
   "name": "python",
   "nbconvert_exporter": "python",
   "pygments_lexer": "ipython3",
   "version": "3.12.2"
  }
 },
 "nbformat": 4,
 "nbformat_minor": 4
}
