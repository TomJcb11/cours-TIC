{
 "cells": [
  {
   "cell_type": "code",
   "execution_count": 3,
   "metadata": {},
   "outputs": [],
   "source": [
    "import pandas as pd"
   ]
  },
  {
   "cell_type": "code",
   "execution_count": 4,
   "metadata": {},
   "outputs": [],
   "source": [
    "df = pd.read_csv(\"./Exercices_Pandas_athlete_events.csv\")"
   ]
  },
  {
   "cell_type": "code",
   "execution_count": null,
   "metadata": {},
   "outputs": [
    {
     "name": "stdout",
     "output_type": "stream",
     "text": [
      "   ID                      Name Sex   Age  Height  Weight            Team  \\\n",
      "0   1                 A Dijiang   M  24.0   180.0    80.0           China   \n",
      "1   2                  A Lamusi   M  23.0   170.0    60.0           China   \n",
      "2   3       Gunnar Nielsen Aaby   M  24.0     NaN     NaN         Denmark   \n",
      "3   4      Edgar Lindenau Aabye   M  34.0     NaN     NaN  Denmark/Sweden   \n",
      "4   5  Christine Jacoba Aaftink   F  21.0   185.0    82.0     Netherlands   \n",
      "\n",
      "   NOC        Games  Year  Season       City          Sport  \\\n",
      "0  CHN  1992 Summer  1992  Summer  Barcelona     Basketball   \n",
      "1  CHN  2012 Summer  2012  Summer     London           Judo   \n",
      "2  DEN  1920 Summer  1920  Summer  Antwerpen       Football   \n",
      "3  DEN  1900 Summer  1900  Summer      Paris     Tug-Of-War   \n",
      "4  NED  1988 Winter  1988  Winter    Calgary  Speed Skating   \n",
      "\n",
      "                              Event Medal  \n",
      "0       Basketball Men's Basketball   NaN  \n",
      "1      Judo Men's Extra-Lightweight   NaN  \n",
      "2           Football Men's Football   NaN  \n",
      "3       Tug-Of-War Men's Tug-Of-War  Gold  \n",
      "4  Speed Skating Women's 500 metres   NaN  \n",
      "            ID                Name Sex   Age  Height  Weight      Team  NOC  \\\n",
      "271111  135569          Andrzej ya   M  29.0   179.0    89.0  Poland-1  POL   \n",
      "271112  135570            Piotr ya   M  27.0   176.0    59.0    Poland  POL   \n",
      "271113  135570            Piotr ya   M  27.0   176.0    59.0    Poland  POL   \n",
      "271114  135571  Tomasz Ireneusz ya   M  30.0   185.0    96.0    Poland  POL   \n",
      "271115  135571  Tomasz Ireneusz ya   M  34.0   185.0    96.0    Poland  POL   \n",
      "\n",
      "              Games  Year  Season            City        Sport  \\\n",
      "271111  1976 Winter  1976  Winter       Innsbruck         Luge   \n",
      "271112  2014 Winter  2014  Winter           Sochi  Ski Jumping   \n",
      "271113  2014 Winter  2014  Winter           Sochi  Ski Jumping   \n",
      "271114  1998 Winter  1998  Winter          Nagano    Bobsleigh   \n",
      "271115  2002 Winter  2002  Winter  Salt Lake City    Bobsleigh   \n",
      "\n",
      "                                           Event Medal  \n",
      "271111                Luge Mixed (Men)'s Doubles   NaN  \n",
      "271112  Ski Jumping Men's Large Hill, Individual   NaN  \n",
      "271113        Ski Jumping Men's Large Hill, Team   NaN  \n",
      "271114                      Bobsleigh Men's Four   NaN  \n",
      "271115                      Bobsleigh Men's Four   NaN  \n",
      "<class 'pandas.core.frame.DataFrame'>\n",
      "RangeIndex: 271116 entries, 0 to 271115\n",
      "Data columns (total 15 columns):\n",
      " #   Column  Non-Null Count   Dtype  \n",
      "---  ------  --------------   -----  \n",
      " 0   ID      271116 non-null  int64  \n",
      " 1   Name    271116 non-null  object \n",
      " 2   Sex     271116 non-null  object \n",
      " 3   Age     261642 non-null  float64\n",
      " 4   Height  210945 non-null  float64\n",
      " 5   Weight  208241 non-null  float64\n",
      " 6   Team    271116 non-null  object \n",
      " 7   NOC     271116 non-null  object \n",
      " 8   Games   271116 non-null  object \n",
      " 9   Year    271116 non-null  int64  \n",
      " 10  Season  271116 non-null  object \n",
      " 11  City    271116 non-null  object \n",
      " 12  Sport   271116 non-null  object \n",
      " 13  Event   271116 non-null  object \n",
      " 14  Medal   39783 non-null   object \n",
      "dtypes: float64(3), int64(2), object(10)\n",
      "memory usage: 31.0+ MB\n",
      "None\n",
      "(271116, 15)\n",
      "                  ID            Age         Height         Weight  \\\n",
      "count  271116.000000  261642.000000  210945.000000  208241.000000   \n",
      "mean    68248.954396      25.556898     175.338970      70.702393   \n",
      "std     39022.286345       6.393561      10.518462      14.348020   \n",
      "min         1.000000      10.000000     127.000000      25.000000   \n",
      "25%     34643.000000      21.000000     168.000000      60.000000   \n",
      "50%     68205.000000      24.000000     175.000000      70.000000   \n",
      "75%    102097.250000      28.000000     183.000000      79.000000   \n",
      "max    135571.000000      97.000000     226.000000     214.000000   \n",
      "\n",
      "                Year  \n",
      "count  271116.000000  \n",
      "mean     1978.378480  \n",
      "std        29.877632  \n",
      "min      1896.000000  \n",
      "25%      1960.000000  \n",
      "50%      1988.000000  \n",
      "75%      2002.000000  \n",
      "max      2016.000000  \n",
      "ID             0\n",
      "Name           0\n",
      "Sex            0\n",
      "Age         9474\n",
      "Height     60171\n",
      "Weight     62875\n",
      "Team           0\n",
      "NOC            0\n",
      "Games          0\n",
      "Year           0\n",
      "Season         0\n",
      "City           0\n",
      "Sport          0\n",
      "Event          0\n",
      "Medal     231333\n",
      "dtype: int64\n"
     ]
    }
   ],
   "source": [
    "# 3) Afficher les 5 premières lignes afin de voir si l’importation est correcte\n",
    "display(df.head())\n",
    "\n",
    "# 4) Afficher les 5 dernières lignes\n",
    "display(df.tail())\n",
    "\n",
    "# 5) Afficher les informations sur le dataframe\n",
    "display(df.info())\n",
    "\n",
    "# 6) Afficher les dimensions du dataframe\n",
    "display(df.shape)\n",
    "\n",
    "# 7) Afficher les statistiques descriptives du dataframe\n",
    "display(df.describe())\n",
    "\n",
    "# 8) Compter le nombre de valeurs nulles dans le dataframe\n",
    "display(df.isnull().sum())\n"
   ]
  },
  {
   "cell_type": "code",
   "execution_count": null,
   "metadata": {},
   "outputs": [
    {
     "name": "stdout",
     "output_type": "stream",
     "text": [
      "0         1992 Summer\n",
      "1         2012 Summer\n",
      "2         1920 Summer\n",
      "3         1900 Summer\n",
      "4         1988 Winter\n",
      "             ...     \n",
      "271111    1976 Winter\n",
      "271112    2014 Winter\n",
      "271113    2014 Winter\n",
      "271114    1998 Winter\n",
      "271115    2002 Winter\n",
      "Name: Games, Length: 271116, dtype: object\n",
      "0         1992 Summer\n",
      "1         2012 Summer\n",
      "2         1920 Summer\n",
      "3         1900 Summer\n",
      "4         1988 Winter\n",
      "             ...     \n",
      "271111    1976 Winter\n",
      "271112    2014 Winter\n",
      "271113    2014 Winter\n",
      "271114    1998 Winter\n",
      "271115    2002 Winter\n",
      "Name: Games, Length: 271116, dtype: object\n",
      "0         1992 Summer\n",
      "1         2012 Summer\n",
      "2         1920 Summer\n",
      "3         1900 Summer\n",
      "4         1988 Winter\n",
      "             ...     \n",
      "271111    1976 Winter\n",
      "271112    2014 Winter\n",
      "271113    2014 Winter\n",
      "271114    1998 Winter\n",
      "271115    2002 Winter\n",
      "Name: Games, Length: 271116, dtype: object\n"
     ]
    }
   ],
   "source": [
    "# 9) Sélectionner la colonne Edition et afficher (selon 2-3 manières)\n",
    "display(df[\"Games\"])\n",
    "display(df.Games)\n",
    "display(df.loc[:, \"Games\"])\n"
   ]
  },
  {
   "cell_type": "code",
   "execution_count": null,
   "metadata": {},
   "outputs": [
    {
     "name": "stdout",
     "output_type": "stream",
     "text": [
      "1560        Gabrielle Marie \"Gabby\" Adcock (White-)\n",
      "215054          Eleonora Margarida Josephina Scmitt\n",
      "215055          Eleonora Margarida Josephina Scmitt\n",
      "92099                               Jean Hauptmanns\n",
      "51334       Luis ngel Fernando de los Santos Grossi\n",
      "                            ...                    \n",
      "114965                                    zlem Kaya\n",
      "79870                                    zman Graud\n",
      "207676                                   zzet Safer\n",
      "102955                                     zzet nce\n",
      "102956                                     zzet nce\n",
      "Name: Name, Length: 271116, dtype: object\n"
     ]
    }
   ],
   "source": [
    "# 10) Sélectionner la colonne Name et afficher le résultat en triant par ordre alphabétique\n",
    "display(df[\"Name\"].sort_values())\n"
   ]
  },
  {
   "cell_type": "code",
   "execution_count": null,
   "metadata": {},
   "outputs": [
    {
     "name": "stdout",
     "output_type": "stream",
     "text": [
      "                                           Event            City  \\\n",
      "0                    Basketball Men's Basketball       Barcelona   \n",
      "1                   Judo Men's Extra-Lightweight          London   \n",
      "2                        Football Men's Football       Antwerpen   \n",
      "3                    Tug-Of-War Men's Tug-Of-War           Paris   \n",
      "4               Speed Skating Women's 500 metres         Calgary   \n",
      "...                                          ...             ...   \n",
      "271111                Luge Mixed (Men)'s Doubles       Innsbruck   \n",
      "271112  Ski Jumping Men's Large Hill, Individual           Sochi   \n",
      "271113        Ski Jumping Men's Large Hill, Team           Sochi   \n",
      "271114                      Bobsleigh Men's Four          Nagano   \n",
      "271115                      Bobsleigh Men's Four  Salt Lake City   \n",
      "\n",
      "                            Name Medal  \n",
      "0                      A Dijiang   NaN  \n",
      "1                       A Lamusi   NaN  \n",
      "2            Gunnar Nielsen Aaby   NaN  \n",
      "3           Edgar Lindenau Aabye  Gold  \n",
      "4       Christine Jacoba Aaftink   NaN  \n",
      "...                          ...   ...  \n",
      "271111                Andrzej ya   NaN  \n",
      "271112                  Piotr ya   NaN  \n",
      "271113                  Piotr ya   NaN  \n",
      "271114        Tomasz Ireneusz ya   NaN  \n",
      "271115        Tomasz Ireneusz ya   NaN  \n",
      "\n",
      "[271116 rows x 4 columns]\n"
     ]
    }
   ],
   "source": [
    "# 11) Sélectionner les colonnes Event, city, Name, Medal\n",
    "display(df[[\"Event\", \"City\", \"Name\", \"Medal\"]])\n"
   ]
  },
  {
   "cell_type": "code",
   "execution_count": null,
   "metadata": {},
   "outputs": [
    {
     "name": "stdout",
     "output_type": "stream",
     "text": [
      "    ID                      Name Sex   Age  Height  Weight            Team  \\\n",
      "0    1                 A Dijiang   M  24.0   180.0    80.0           China   \n",
      "1    2                  A Lamusi   M  23.0   170.0    60.0           China   \n",
      "2    3       Gunnar Nielsen Aaby   M  24.0     NaN     NaN         Denmark   \n",
      "3    4      Edgar Lindenau Aabye   M  34.0     NaN     NaN  Denmark/Sweden   \n",
      "4    5  Christine Jacoba Aaftink   F  21.0   185.0    82.0     Netherlands   \n",
      "5    5  Christine Jacoba Aaftink   F  21.0   185.0    82.0     Netherlands   \n",
      "6    5  Christine Jacoba Aaftink   F  25.0   185.0    82.0     Netherlands   \n",
      "7    5  Christine Jacoba Aaftink   F  25.0   185.0    82.0     Netherlands   \n",
      "8    5  Christine Jacoba Aaftink   F  27.0   185.0    82.0     Netherlands   \n",
      "9    5  Christine Jacoba Aaftink   F  27.0   185.0    82.0     Netherlands   \n",
      "10   6           Per Knut Aaland   M  31.0   188.0    75.0   United States   \n",
      "11   6           Per Knut Aaland   M  31.0   188.0    75.0   United States   \n",
      "12   6           Per Knut Aaland   M  31.0   188.0    75.0   United States   \n",
      "13   6           Per Knut Aaland   M  31.0   188.0    75.0   United States   \n",
      "14   6           Per Knut Aaland   M  33.0   188.0    75.0   United States   \n",
      "15   6           Per Knut Aaland   M  33.0   188.0    75.0   United States   \n",
      "16   6           Per Knut Aaland   M  33.0   188.0    75.0   United States   \n",
      "17   6           Per Knut Aaland   M  33.0   188.0    75.0   United States   \n",
      "18   7              John Aalberg   M  31.0   183.0    72.0   United States   \n",
      "19   7              John Aalberg   M  31.0   183.0    72.0   United States   \n",
      "20   7              John Aalberg   M  31.0   183.0    72.0   United States   \n",
      "21   7              John Aalberg   M  31.0   183.0    72.0   United States   \n",
      "22   7              John Aalberg   M  33.0   183.0    72.0   United States   \n",
      "23   7              John Aalberg   M  33.0   183.0    72.0   United States   \n",
      "24   7              John Aalberg   M  33.0   183.0    72.0   United States   \n",
      "\n",
      "    NOC        Games  Year  Season         City                 Sport  \\\n",
      "0   CHN  1992 Summer  1992  Summer    Barcelona            Basketball   \n",
      "1   CHN  2012 Summer  2012  Summer       London                  Judo   \n",
      "2   DEN  1920 Summer  1920  Summer    Antwerpen              Football   \n",
      "3   DEN  1900 Summer  1900  Summer        Paris            Tug-Of-War   \n",
      "4   NED  1988 Winter  1988  Winter      Calgary         Speed Skating   \n",
      "5   NED  1988 Winter  1988  Winter      Calgary         Speed Skating   \n",
      "6   NED  1992 Winter  1992  Winter  Albertville         Speed Skating   \n",
      "7   NED  1992 Winter  1992  Winter  Albertville         Speed Skating   \n",
      "8   NED  1994 Winter  1994  Winter  Lillehammer         Speed Skating   \n",
      "9   NED  1994 Winter  1994  Winter  Lillehammer         Speed Skating   \n",
      "10  USA  1992 Winter  1992  Winter  Albertville  Cross Country Skiing   \n",
      "11  USA  1992 Winter  1992  Winter  Albertville  Cross Country Skiing   \n",
      "12  USA  1992 Winter  1992  Winter  Albertville  Cross Country Skiing   \n",
      "13  USA  1992 Winter  1992  Winter  Albertville  Cross Country Skiing   \n",
      "14  USA  1994 Winter  1994  Winter  Lillehammer  Cross Country Skiing   \n",
      "15  USA  1994 Winter  1994  Winter  Lillehammer  Cross Country Skiing   \n",
      "16  USA  1994 Winter  1994  Winter  Lillehammer  Cross Country Skiing   \n",
      "17  USA  1994 Winter  1994  Winter  Lillehammer  Cross Country Skiing   \n",
      "18  USA  1992 Winter  1992  Winter  Albertville  Cross Country Skiing   \n",
      "19  USA  1992 Winter  1992  Winter  Albertville  Cross Country Skiing   \n",
      "20  USA  1992 Winter  1992  Winter  Albertville  Cross Country Skiing   \n",
      "21  USA  1992 Winter  1992  Winter  Albertville  Cross Country Skiing   \n",
      "22  USA  1994 Winter  1994  Winter  Lillehammer  Cross Country Skiing   \n",
      "23  USA  1994 Winter  1994  Winter  Lillehammer  Cross Country Skiing   \n",
      "24  USA  1994 Winter  1994  Winter  Lillehammer  Cross Country Skiing   \n",
      "\n",
      "                                                Event Medal  \n",
      "0                         Basketball Men's Basketball   NaN  \n",
      "1                        Judo Men's Extra-Lightweight   NaN  \n",
      "2                             Football Men's Football   NaN  \n",
      "3                         Tug-Of-War Men's Tug-Of-War  Gold  \n",
      "4                    Speed Skating Women's 500 metres   NaN  \n",
      "5                  Speed Skating Women's 1,000 metres   NaN  \n",
      "6                    Speed Skating Women's 500 metres   NaN  \n",
      "7                  Speed Skating Women's 1,000 metres   NaN  \n",
      "8                    Speed Skating Women's 500 metres   NaN  \n",
      "9                  Speed Skating Women's 1,000 metres   NaN  \n",
      "10           Cross Country Skiing Men's 10 kilometres   NaN  \n",
      "11           Cross Country Skiing Men's 50 kilometres   NaN  \n",
      "12  Cross Country Skiing Men's 10/15 kilometres Pu...   NaN  \n",
      "13  Cross Country Skiing Men's 4 x 10 kilometres R...   NaN  \n",
      "14           Cross Country Skiing Men's 10 kilometres   NaN  \n",
      "15           Cross Country Skiing Men's 30 kilometres   NaN  \n",
      "16  Cross Country Skiing Men's 10/15 kilometres Pu...   NaN  \n",
      "17  Cross Country Skiing Men's 4 x 10 kilometres R...   NaN  \n",
      "18           Cross Country Skiing Men's 10 kilometres   NaN  \n",
      "19           Cross Country Skiing Men's 50 kilometres   NaN  \n",
      "20  Cross Country Skiing Men's 10/15 kilometres Pu...   NaN  \n",
      "21  Cross Country Skiing Men's 4 x 10 kilometres R...   NaN  \n",
      "22           Cross Country Skiing Men's 10 kilometres   NaN  \n",
      "23           Cross Country Skiing Men's 30 kilometres   NaN  \n",
      "24  Cross Country Skiing Men's 10/15 kilometres Pu...   NaN  \n"
     ]
    }
   ],
   "source": [
    "# 12) Slicer les lignes de 0 à 25 du dataframe au moyen du iloc\n",
    "display(df.iloc[0:25])\n"
   ]
  },
  {
   "cell_type": "code",
   "execution_count": null,
   "metadata": {},
   "outputs": [
    {
     "name": "stdout",
     "output_type": "stream",
     "text": [
      "            ID                               Name Sex   Age  Height  Weight  \\\n",
      "2            3                Gunnar Nielsen Aaby   M  24.0     NaN     NaN   \n",
      "105         37                 Ann Kristin Aarnes   F  23.0   182.0    64.0   \n",
      "116         41                           Rolf Aas   M  28.0     NaN     NaN   \n",
      "157         61                   Stefan Abadzhiev   M  26.0   175.0    72.0   \n",
      "178         76         Jouan Patrice Abanda Etong   M  22.0   185.0    82.0   \n",
      "...        ...                                ...  ..   ...     ...     ...   \n",
      "270810  135438               Manuel Ziga Fernndez   M  20.0   172.0    69.0   \n",
      "270843  135455                    Vjekoslav upani   M  19.0     NaN     NaN   \n",
      "270901  135476                  Emily Jane Zurrer   F  21.0   179.0    69.0   \n",
      "270982  135504  Viktor Oleksandrovych Zviahintsev   M  25.0   178.0    79.0   \n",
      "271107  135566         James Francis \"Jim\" Zylker   M  21.0   175.0    75.0   \n",
      "\n",
      "                 Team  NOC        Games  Year  Season       City     Sport  \\\n",
      "2             Denmark  DEN  1920 Summer  1920  Summer  Antwerpen  Football   \n",
      "105            Norway  NOR  1996 Summer  1996  Summer    Atlanta  Football   \n",
      "116            Norway  NOR  1920 Summer  1920  Summer  Antwerpen  Football   \n",
      "157          Bulgaria  BUL  1960 Summer  1960  Summer       Roma  Football   \n",
      "178          Cameroon  CMR  2000 Summer  2000  Summer     Sydney  Football   \n",
      "...               ...  ...          ...   ...     ...        ...       ...   \n",
      "270810          Spain  ESP  1980 Summer  1980  Summer     Moskva  Football   \n",
      "270843     Yugoslavia  YUG  1920 Summer  1920  Summer  Antwerpen  Football   \n",
      "270901         Canada  CAN  2008 Summer  2008  Summer    Beijing  Football   \n",
      "270982   Soviet Union  URS  1976 Summer  1976  Summer   Montreal  Football   \n",
      "271107  United States  USA  1972 Summer  1972  Summer     Munich  Football   \n",
      "\n",
      "                            Event   Medal  \n",
      "2         Football Men's Football     NaN  \n",
      "105     Football Women's Football  Bronze  \n",
      "116       Football Men's Football     NaN  \n",
      "157       Football Men's Football     NaN  \n",
      "178       Football Men's Football    Gold  \n",
      "...                           ...     ...  \n",
      "270810    Football Men's Football     NaN  \n",
      "270843    Football Men's Football     NaN  \n",
      "270901  Football Women's Football     NaN  \n",
      "270982    Football Men's Football  Bronze  \n",
      "271107    Football Men's Football     NaN  \n",
      "\n",
      "[6745 rows x 15 columns]\n",
      "            ID                               Name Sex   Age  Height  Weight  \\\n",
      "2            3                Gunnar Nielsen Aaby   M  24.0     NaN     NaN   \n",
      "105         37                 Ann Kristin Aarnes   F  23.0   182.0    64.0   \n",
      "116         41                           Rolf Aas   M  28.0     NaN     NaN   \n",
      "157         61                   Stefan Abadzhiev   M  26.0   175.0    72.0   \n",
      "178         76         Jouan Patrice Abanda Etong   M  22.0   185.0    82.0   \n",
      "...        ...                                ...  ..   ...     ...     ...   \n",
      "270810  135438               Manuel Ziga Fernndez   M  20.0   172.0    69.0   \n",
      "270843  135455                    Vjekoslav upani   M  19.0     NaN     NaN   \n",
      "270901  135476                  Emily Jane Zurrer   F  21.0   179.0    69.0   \n",
      "270982  135504  Viktor Oleksandrovych Zviahintsev   M  25.0   178.0    79.0   \n",
      "271107  135566         James Francis \"Jim\" Zylker   M  21.0   175.0    75.0   \n",
      "\n",
      "                 Team  NOC        Games  Year  Season       City     Sport  \\\n",
      "2             Denmark  DEN  1920 Summer  1920  Summer  Antwerpen  Football   \n",
      "105            Norway  NOR  1996 Summer  1996  Summer    Atlanta  Football   \n",
      "116            Norway  NOR  1920 Summer  1920  Summer  Antwerpen  Football   \n",
      "157          Bulgaria  BUL  1960 Summer  1960  Summer       Roma  Football   \n",
      "178          Cameroon  CMR  2000 Summer  2000  Summer     Sydney  Football   \n",
      "...               ...  ...          ...   ...     ...        ...       ...   \n",
      "270810          Spain  ESP  1980 Summer  1980  Summer     Moskva  Football   \n",
      "270843     Yugoslavia  YUG  1920 Summer  1920  Summer  Antwerpen  Football   \n",
      "270901         Canada  CAN  2008 Summer  2008  Summer    Beijing  Football   \n",
      "270982   Soviet Union  URS  1976 Summer  1976  Summer   Montreal  Football   \n",
      "271107  United States  USA  1972 Summer  1972  Summer     Munich  Football   \n",
      "\n",
      "                            Event   Medal  \n",
      "2         Football Men's Football     NaN  \n",
      "105     Football Women's Football  Bronze  \n",
      "116       Football Men's Football     NaN  \n",
      "157       Football Men's Football     NaN  \n",
      "178       Football Men's Football    Gold  \n",
      "...                           ...     ...  \n",
      "270810    Football Men's Football     NaN  \n",
      "270843    Football Men's Football     NaN  \n",
      "270901  Football Women's Football     NaN  \n",
      "270982    Football Men's Football  Bronze  \n",
      "271107    Football Men's Football     NaN  \n",
      "\n",
      "[6745 rows x 15 columns]\n"
     ]
    }
   ],
   "source": [
    "# 13) Filtrer la discipline Football de 2 manières différentes\n",
    "display(df[df[\"Sport\"] == \"Football\"])\n",
    "display(df.query('Sport == \"Football\"'))\n"
   ]
  },
  {
   "cell_type": "code",
   "execution_count": null,
   "metadata": {},
   "outputs": [],
   "source": [
    "# 14) Filtrer le dataframe sur la saison Summer et stocker les lignes dans une nouvelle variable appelée « ete »\n",
    "ete = df[df[\"Season\"] == \"Summer\"]\n",
    "\n",
    "# 15) Filtrer le dataframe sur la saison Winter et stocker les lignes dans une nouvelle variable appelée « hiver »\n",
    "hiver = df[df[\"Season\"] == \"Winter\"]\n"
   ]
  },
  {
   "cell_type": "code",
   "execution_count": null,
   "metadata": {},
   "outputs": [
    {
     "name": "stdout",
     "output_type": "stream",
     "text": [
      "['Basketball' 'Judo' 'Football' 'Tug-Of-War' 'Speed Skating'\n",
      " 'Cross Country Skiing' 'Athletics' 'Ice Hockey' 'Swimming' 'Badminton'\n",
      " 'Sailing' 'Biathlon' 'Gymnastics' 'Art Competitions' 'Alpine Skiing'\n",
      " 'Handball' 'Weightlifting' 'Wrestling' 'Luge' 'Water Polo' 'Hockey'\n",
      " 'Rowing' 'Bobsleigh' 'Fencing' 'Equestrianism' 'Shooting' 'Boxing'\n",
      " 'Taekwondo' 'Cycling' 'Diving' 'Canoeing' 'Tennis' 'Modern Pentathlon'\n",
      " 'Figure Skating' 'Golf' 'Softball' 'Archery' 'Volleyball'\n",
      " 'Synchronized Swimming' 'Table Tennis' 'Nordic Combined' 'Baseball'\n",
      " 'Rhythmic Gymnastics' 'Freestyle Skiing' 'Rugby Sevens' 'Trampolining'\n",
      " 'Beach Volleyball' 'Triathlon' 'Ski Jumping' 'Curling' 'Snowboarding'\n",
      " 'Rugby' 'Short Track Speed Skating' 'Skeleton' 'Lacrosse' 'Polo'\n",
      " 'Cricket' 'Racquets' 'Motorboating' 'Military Ski Patrol' 'Croquet'\n",
      " 'Jeu De Paume' 'Roque' 'Alpinism' 'Basque Pelota' 'Aeronautics']\n"
     ]
    }
   ],
   "source": [
    "# 16) Afficher de manière unique tous les sports\n",
    "display(df[\"Sport\"].unique())\n"
   ]
  },
  {
   "cell_type": "code",
   "execution_count": 19,
   "metadata": {},
   "outputs": [],
   "source": [
    "# 17) Filtrer les lignes pour récupérer les athlètes ayant dans leur nom « Owens » ou « Jesse » et stocker cela dans une nouvelle variable\n",
    "owens_jesse = df[df[\"Name\"].str.contains(\"Owens|Jesse\", case=False, na=False)]\n"
   ]
  },
  {
   "cell_type": "code",
   "execution_count": null,
   "metadata": {},
   "outputs": [
    {
     "name": "stdout",
     "output_type": "stream",
     "text": [
      "Event\n",
      "Water Polo Men's Water Polo               4\n",
      "Gymnastics Men's Rings                    3\n",
      "Gymnastics Men's Parallel Bars            3\n",
      "Gymnastics Men's Floor Exercise           3\n",
      "Gymnastics Men's Individual All-Around    3\n",
      "                                         ..\n",
      "Athletics Men's 110 metres Hurdles        1\n",
      "Alpine Skiing Women's Downhill            1\n",
      "Alpine Skiing Women's Super G             1\n",
      "Alpine Skiing Women's Giant Slalom        1\n",
      "Badminton Women's Singles                 1\n",
      "Name: count, Length: 69, dtype: int64\n"
     ]
    }
   ],
   "source": [
    "# 18) Compter les occurrences de la colonne Event de Owens, Jesse\n",
    "display(owens_jesse[\"Event\"].value_counts())\n"
   ]
  },
  {
   "cell_type": "code",
   "execution_count": null,
   "metadata": {},
   "outputs": [
    {
     "name": "stdout",
     "output_type": "stream",
     "text": [
      "Sex\n",
      "M    196594\n",
      "F     74522\n",
      "Name: count, dtype: int64\n"
     ]
    }
   ],
   "source": [
    "# 19) Compter y a-t-il de femme est d’homme dans le dataframe\n",
    "display(df[\"Sex\"].value_counts())\n"
   ]
  },
  {
   "cell_type": "code",
   "execution_count": null,
   "metadata": {},
   "outputs": [
    {
     "name": "stdout",
     "output_type": "stream",
     "text": [
      "ID                                        71691\n",
      "Name                         Dimitrios Loundras\n",
      "Sex                                           M\n",
      "Age                                        10.0\n",
      "Height                                      NaN\n",
      "Weight                                      NaN\n",
      "Team              Ethnikos Gymnastikos Syllogos\n",
      "NOC                                         GRE\n",
      "Games                               1896 Summer\n",
      "Year                                       1896\n",
      "Season                                   Summer\n",
      "City                                     Athina\n",
      "Sport                                Gymnastics\n",
      "Event     Gymnastics Men's Parallel Bars, Teams\n",
      "Medal                                    Bronze\n",
      "Name: 142882, dtype: object\n"
     ]
    }
   ],
   "source": [
    "# 20) Quel est l’athlète le plus jeune\n",
    "display(df.loc[df[\"Age\"].idxmin()])\n"
   ]
  },
  {
   "cell_type": "code",
   "execution_count": null,
   "metadata": {},
   "outputs": [
    {
     "data": {
      "text/plain": [
       "ID                                             128719\n",
       "Name                           John Quincy Adams Ward\n",
       "Sex                                                 M\n",
       "Age                                              97.0\n",
       "Height                                            NaN\n",
       "Weight                                            NaN\n",
       "Team                                    United States\n",
       "NOC                                               USA\n",
       "Games                                     1928 Summer\n",
       "Year                                             1928\n",
       "Season                                         Summer\n",
       "City                                        Amsterdam\n",
       "Sport                                Art Competitions\n",
       "Event     Art Competitions Mixed Sculpturing, Statues\n",
       "Medal                                             NaN\n",
       "Name: 257054, dtype: object"
      ]
     },
     "metadata": {},
     "output_type": "display_data"
    }
   ],
   "source": [
    "# 21) Quel est l’athlète le plus vieux\n",
    "display(df.loc[df[\"Age\"].idxmax()])\n"
   ]
  },
  {
   "cell_type": "code",
   "execution_count": 28,
   "metadata": {},
   "outputs": [
    {
     "data": {
      "text/html": [
       "<div>\n",
       "<style scoped>\n",
       "    .dataframe tbody tr th:only-of-type {\n",
       "        vertical-align: middle;\n",
       "    }\n",
       "\n",
       "    .dataframe tbody tr th {\n",
       "        vertical-align: top;\n",
       "    }\n",
       "\n",
       "    .dataframe thead th {\n",
       "        text-align: right;\n",
       "    }\n",
       "</style>\n",
       "<table border=\"1\" class=\"dataframe\">\n",
       "  <thead>\n",
       "    <tr style=\"text-align: right;\">\n",
       "      <th></th>\n",
       "      <th>ID</th>\n",
       "      <th>Name</th>\n",
       "      <th>Sex</th>\n",
       "      <th>Age</th>\n",
       "      <th>Height</th>\n",
       "      <th>Weight</th>\n",
       "      <th>Team</th>\n",
       "      <th>NOC</th>\n",
       "      <th>Games</th>\n",
       "      <th>Year</th>\n",
       "      <th>Season</th>\n",
       "      <th>City</th>\n",
       "      <th>Sport</th>\n",
       "      <th>Event</th>\n",
       "      <th>Medal</th>\n",
       "    </tr>\n",
       "  </thead>\n",
       "  <tbody>\n",
       "    <tr>\n",
       "      <th>31409</th>\n",
       "      <td>16152</td>\n",
       "      <td>Alexander Alan Budikusuma Wiratama</td>\n",
       "      <td>M</td>\n",
       "      <td>24.0</td>\n",
       "      <td>178.0</td>\n",
       "      <td>71.0</td>\n",
       "      <td>Indonesia</td>\n",
       "      <td>INA</td>\n",
       "      <td>1992 Summer</td>\n",
       "      <td>1992</td>\n",
       "      <td>Summer</td>\n",
       "      <td>Barcelona</td>\n",
       "      <td>Badminton</td>\n",
       "      <td>Badminton Men's Singles</td>\n",
       "      <td>Gold</td>\n",
       "    </tr>\n",
       "    <tr>\n",
       "      <th>13855</th>\n",
       "      <td>7504</td>\n",
       "      <td>Bang Su-Hyeon</td>\n",
       "      <td>F</td>\n",
       "      <td>23.0</td>\n",
       "      <td>NaN</td>\n",
       "      <td>NaN</td>\n",
       "      <td>South Korea</td>\n",
       "      <td>KOR</td>\n",
       "      <td>1996 Summer</td>\n",
       "      <td>1996</td>\n",
       "      <td>Summer</td>\n",
       "      <td>Atlanta</td>\n",
       "      <td>Badminton</td>\n",
       "      <td>Badminton Women's Singles</td>\n",
       "      <td>Gold</td>\n",
       "    </tr>\n",
       "    <tr>\n",
       "      <th>149622</th>\n",
       "      <td>75045</td>\n",
       "      <td>Carolina Mara Marn Marn</td>\n",
       "      <td>F</td>\n",
       "      <td>23.0</td>\n",
       "      <td>172.0</td>\n",
       "      <td>65.0</td>\n",
       "      <td>Spain</td>\n",
       "      <td>ESP</td>\n",
       "      <td>2016 Summer</td>\n",
       "      <td>2016</td>\n",
       "      <td>Summer</td>\n",
       "      <td>Rio de Janeiro</td>\n",
       "      <td>Badminton</td>\n",
       "      <td>Badminton Women's Singles</td>\n",
       "      <td>Gold</td>\n",
       "    </tr>\n",
       "    <tr>\n",
       "      <th>39337</th>\n",
       "      <td>20238</td>\n",
       "      <td>Chen Long</td>\n",
       "      <td>M</td>\n",
       "      <td>27.0</td>\n",
       "      <td>188.0</td>\n",
       "      <td>81.0</td>\n",
       "      <td>China</td>\n",
       "      <td>CHN</td>\n",
       "      <td>2016 Summer</td>\n",
       "      <td>2016</td>\n",
       "      <td>Summer</td>\n",
       "      <td>Rio de Janeiro</td>\n",
       "      <td>Badminton</td>\n",
       "      <td>Badminton Men's Singles</td>\n",
       "      <td>Gold</td>\n",
       "    </tr>\n",
       "    <tr>\n",
       "      <th>81604</th>\n",
       "      <td>41427</td>\n",
       "      <td>Gong Zhichao</td>\n",
       "      <td>F</td>\n",
       "      <td>23.0</td>\n",
       "      <td>163.0</td>\n",
       "      <td>52.0</td>\n",
       "      <td>China</td>\n",
       "      <td>CHN</td>\n",
       "      <td>2000 Summer</td>\n",
       "      <td>2000</td>\n",
       "      <td>Summer</td>\n",
       "      <td>Sydney</td>\n",
       "      <td>Badminton</td>\n",
       "      <td>Badminton Women's Singles</td>\n",
       "      <td>Gold</td>\n",
       "    </tr>\n",
       "  </tbody>\n",
       "</table>\n",
       "</div>"
      ],
      "text/plain": [
       "           ID                                Name Sex   Age  Height  Weight  \\\n",
       "31409   16152  Alexander Alan Budikusuma Wiratama   M  24.0   178.0    71.0   \n",
       "13855    7504                       Bang Su-Hyeon   F  23.0     NaN     NaN   \n",
       "149622  75045             Carolina Mara Marn Marn   F  23.0   172.0    65.0   \n",
       "39337   20238                           Chen Long   M  27.0   188.0    81.0   \n",
       "81604   41427                        Gong Zhichao   F  23.0   163.0    52.0   \n",
       "\n",
       "               Team  NOC        Games  Year  Season            City  \\\n",
       "31409     Indonesia  INA  1992 Summer  1992  Summer       Barcelona   \n",
       "13855   South Korea  KOR  1996 Summer  1996  Summer         Atlanta   \n",
       "149622        Spain  ESP  2016 Summer  2016  Summer  Rio de Janeiro   \n",
       "39337         China  CHN  2016 Summer  2016  Summer  Rio de Janeiro   \n",
       "81604         China  CHN  2000 Summer  2000  Summer          Sydney   \n",
       "\n",
       "            Sport                      Event Medal  \n",
       "31409   Badminton    Badminton Men's Singles  Gold  \n",
       "13855   Badminton  Badminton Women's Singles  Gold  \n",
       "149622  Badminton  Badminton Women's Singles  Gold  \n",
       "39337   Badminton    Badminton Men's Singles  Gold  \n",
       "81604   Badminton  Badminton Women's Singles  Gold  "
      ]
     },
     "metadata": {},
     "output_type": "display_data"
    }
   ],
   "source": [
    "# 22) Quels sont les joueurs ayant gagné des médailles d’Or en badminton simple au cours des années. Trier le résultat par ordre alphabétique sur le nom des joueurs.\n",
    "badminton_gold = df[\n",
    "    (df[\"Sport\"] == \"Badminton\")\n",
    "    & (df[\"Medal\"] == \"Gold\")\n",
    "    & (df[\"Event\"].str.contains(\"Singles\"))\n",
    "]\n",
    "display(badminton_gold.sort_values(by=\"Name\").head(5))\n"
   ]
  },
  {
   "cell_type": "code",
   "execution_count": 31,
   "metadata": {},
   "outputs": [
    {
     "data": {
      "text/plain": [
       "NOC\n",
       "USA    9096\n",
       "CAN    5960\n",
       "GER    5688\n",
       "Name: count, dtype: int64"
      ]
     },
     "metadata": {},
     "output_type": "display_data"
    }
   ],
   "source": [
    "# 23) Quels sont les 3 pays ayant gagné le plus de médailles de 1984 à 2016\n",
    "medals_1984_2016 = df[(df[\"Year\"] >= 1984) & (df[\"Year\"] <= 2016)]\n",
    "display(medals_1984_2016[\"NOC\"].value_counts().head(3))\n"
   ]
  },
  {
   "cell_type": "code",
   "execution_count": 33,
   "metadata": {},
   "outputs": [
    {
     "data": {
      "text/plain": [
       "Sex\n",
       "M    7465\n",
       "F    6223\n",
       "Name: count, dtype: int64"
      ]
     },
     "metadata": {},
     "output_type": "display_data"
    }
   ],
   "source": [
    "# 24) Combien y a-t-il d’homme et de femme ayant participé aux Jeux olympiques d’été en 2016\n",
    "summer_2016 = df[(df[\"Season\"] == \"Summer\") & (df[\"Year\"] == 2016)]\n",
    "display(summer_2016[\"Sex\"].value_counts())\n"
   ]
  },
  {
   "cell_type": "code",
   "execution_count": 34,
   "metadata": {},
   "outputs": [
    {
     "data": {
      "text/plain": [
       "468"
      ]
     },
     "metadata": {},
     "output_type": "display_data"
    }
   ],
   "source": [
    "# 25) Afficher le nombre de médailles pour la Belgique\n",
    "display(df[df[\"NOC\"] == \"BEL\"][\"Medal\"].count())\n"
   ]
  },
  {
   "cell_type": "code",
   "execution_count": 35,
   "metadata": {},
   "outputs": [
    {
     "data": {
      "text/plain": [
       "array(['Archery', 'Fencing', 'Football', 'Figure Skating',\n",
       "       'Equestrianism', 'Sailing', 'Art Competitions', 'Weightlifting',\n",
       "       'Cycling', 'Swimming', 'Boxing', 'Athletics', 'Tennis', 'Shooting',\n",
       "       'Judo'], dtype=object)"
      ]
     },
     "metadata": {},
     "output_type": "display_data"
    }
   ],
   "source": [
    "# 26) Quels sont les sports pour lesquels la Belgique a des médailles d’Or\n",
    "belgium_gold_sports = df[(df[\"NOC\"] == \"BEL\") & (df[\"Medal\"] == \"Gold\")]\n",
    "display(belgium_gold_sports[\"Sport\"].unique())\n"
   ]
  },
  {
   "cell_type": "code",
   "execution_count": 36,
   "metadata": {},
   "outputs": [
    {
     "data": {
      "text/plain": [
       "Year\n",
       "1920    518\n",
       "1928    286\n",
       "1924    266\n",
       "1936    242\n",
       "1948    201\n",
       "Name: count, dtype: int64"
      ]
     },
     "metadata": {},
     "output_type": "display_data"
    }
   ],
   "source": [
    "# 27) Quelles sont les années où la Belgique a remporté le plus de médailles\n",
    "belgium_medals = df[df[\"NOC\"] == \"BEL\"]\n",
    "display(belgium_medals[\"Year\"].value_counts().head())\n"
   ]
  },
  {
   "cell_type": "code",
   "execution_count": null,
   "metadata": {},
   "outputs": [
    {
     "data": {
      "text/html": [
       "<div>\n",
       "<style scoped>\n",
       "    .dataframe tbody tr th:only-of-type {\n",
       "        vertical-align: middle;\n",
       "    }\n",
       "\n",
       "    .dataframe tbody tr th {\n",
       "        vertical-align: top;\n",
       "    }\n",
       "\n",
       "    .dataframe thead th {\n",
       "        text-align: right;\n",
       "    }\n",
       "</style>\n",
       "<table border=\"1\" class=\"dataframe\">\n",
       "  <thead>\n",
       "    <tr style=\"text-align: right;\">\n",
       "      <th></th>\n",
       "      <th>Year</th>\n",
       "      <th>Event</th>\n",
       "      <th>Name</th>\n",
       "      <th>NOC</th>\n",
       "    </tr>\n",
       "  </thead>\n",
       "  <tbody>\n",
       "    <tr>\n",
       "      <th>1527</th>\n",
       "      <td>2008</td>\n",
       "      <td>Athletics Women's Shot Put</td>\n",
       "      <td>Valerie Kasanita Adams-Vili (-Price)</td>\n",
       "      <td>NZL</td>\n",
       "    </tr>\n",
       "    <tr>\n",
       "      <th>1528</th>\n",
       "      <td>2012</td>\n",
       "      <td>Athletics Women's Shot Put</td>\n",
       "      <td>Valerie Kasanita Adams-Vili (-Price)</td>\n",
       "      <td>NZL</td>\n",
       "    </tr>\n",
       "    <tr>\n",
       "      <th>2815</th>\n",
       "      <td>1996</td>\n",
       "      <td>Athletics Women's Long Jump</td>\n",
       "      <td>Chioma Ajunwa (-Opara)</td>\n",
       "      <td>NGR</td>\n",
       "    </tr>\n",
       "    <tr>\n",
       "      <th>3020</th>\n",
       "      <td>2016</td>\n",
       "      <td>Athletics Women's 4 x 100 metres Relay</td>\n",
       "      <td>Morolake Akinosun</td>\n",
       "      <td>USA</td>\n",
       "    </tr>\n",
       "    <tr>\n",
       "      <th>6764</th>\n",
       "      <td>2000</td>\n",
       "      <td>Athletics Women's 4 x 400 metres Relay</td>\n",
       "      <td>Andrea Arlene Anderson (-Bolder)</td>\n",
       "      <td>USA</td>\n",
       "    </tr>\n",
       "    <tr>\n",
       "      <th>...</th>\n",
       "      <td>...</td>\n",
       "      <td>...</td>\n",
       "      <td>...</td>\n",
       "      <td>...</td>\n",
       "    </tr>\n",
       "    <tr>\n",
       "      <th>268293</th>\n",
       "      <td>1972</td>\n",
       "      <td>Athletics Women's 400 metres</td>\n",
       "      <td>Monika Zehrt (-Landgraf)</td>\n",
       "      <td>GDR</td>\n",
       "    </tr>\n",
       "    <tr>\n",
       "      <th>268294</th>\n",
       "      <td>1972</td>\n",
       "      <td>Athletics Women's 4 x 400 metres Relay</td>\n",
       "      <td>Monika Zehrt (-Landgraf)</td>\n",
       "      <td>GDR</td>\n",
       "    </tr>\n",
       "    <tr>\n",
       "      <th>270104</th>\n",
       "      <td>1980</td>\n",
       "      <td>Athletics Women's 4 x 400 metres Relay</td>\n",
       "      <td>Nina Anatolivna Ziuskova</td>\n",
       "      <td>URS</td>\n",
       "    </tr>\n",
       "    <tr>\n",
       "      <th>270970</th>\n",
       "      <td>2000</td>\n",
       "      <td>Athletics Women's Discus Throw</td>\n",
       "      <td>Ellina Aleksandrovna Zvereva (Kisheyeva-)</td>\n",
       "      <td>BLR</td>\n",
       "    </tr>\n",
       "    <tr>\n",
       "      <th>271076</th>\n",
       "      <td>1952</td>\n",
       "      <td>Athletics Women's Shot Put</td>\n",
       "      <td>Galina Ivanovna Zybina (-Fyodorova)</td>\n",
       "      <td>URS</td>\n",
       "    </tr>\n",
       "  </tbody>\n",
       "</table>\n",
       "<p>428 rows × 4 columns</p>\n",
       "</div>"
      ],
      "text/plain": [
       "        Year                                   Event  \\\n",
       "1527    2008              Athletics Women's Shot Put   \n",
       "1528    2012              Athletics Women's Shot Put   \n",
       "2815    1996             Athletics Women's Long Jump   \n",
       "3020    2016  Athletics Women's 4 x 100 metres Relay   \n",
       "6764    2000  Athletics Women's 4 x 400 metres Relay   \n",
       "...      ...                                     ...   \n",
       "268293  1972            Athletics Women's 400 metres   \n",
       "268294  1972  Athletics Women's 4 x 400 metres Relay   \n",
       "270104  1980  Athletics Women's 4 x 400 metres Relay   \n",
       "270970  2000          Athletics Women's Discus Throw   \n",
       "271076  1952              Athletics Women's Shot Put   \n",
       "\n",
       "                                             Name  NOC  \n",
       "1527         Valerie Kasanita Adams-Vili (-Price)  NZL  \n",
       "1528         Valerie Kasanita Adams-Vili (-Price)  NZL  \n",
       "2815                       Chioma Ajunwa (-Opara)  NGR  \n",
       "3020                            Morolake Akinosun  USA  \n",
       "6764             Andrea Arlene Anderson (-Bolder)  USA  \n",
       "...                                           ...  ...  \n",
       "268293                   Monika Zehrt (-Landgraf)  GDR  \n",
       "268294                   Monika Zehrt (-Landgraf)  GDR  \n",
       "270104                   Nina Anatolivna Ziuskova  URS  \n",
       "270970  Ellina Aleksandrovna Zvereva (Kisheyeva-)  BLR  \n",
       "271076        Galina Ivanovna Zybina (-Fyodorova)  URS  \n",
       "\n",
       "[428 rows x 4 columns]"
      ]
     },
     "metadata": {},
     "output_type": "display_data"
    }
   ],
   "source": [
    "# 28) Afficher les médaillés d’Or féminin en Athlétisme. Afficher le résultat Year, Event, Name, et Pays\n",
    "female_athletics_gold = df[\n",
    "    (df[\"Sex\"] == \"F\") & (df[\"Sport\"] == \"Athletics\") & (df[\"Medal\"] == \"Gold\")\n",
    "]\n",
    "display(female_athletics_gold[[\"Year\", \"Event\", \"Name\", \"NOC\"]])\n"
   ]
  },
  {
   "cell_type": "code",
   "execution_count": 39,
   "metadata": {},
   "outputs": [
    {
     "data": {
      "text/plain": [
       "Year\n",
       "1896     9\n",
       "1900    20\n",
       "1904    18\n",
       "1906    13\n",
       "1908    24\n",
       "1912    17\n",
       "1920    25\n",
       "1924    30\n",
       "1928    25\n",
       "1932    25\n",
       "1936    32\n",
       "1948    29\n",
       "1952    27\n",
       "1956    27\n",
       "1960    27\n",
       "1964    31\n",
       "1968    30\n",
       "1972    33\n",
       "1976    33\n",
       "1980    33\n",
       "1984    35\n",
       "1988    37\n",
       "1992    41\n",
       "1994    12\n",
       "1996    31\n",
       "1998    14\n",
       "2000    34\n",
       "2002    15\n",
       "2004    34\n",
       "2006    15\n",
       "2008    34\n",
       "2010    15\n",
       "2012    32\n",
       "2014    15\n",
       "2016    34\n",
       "Name: Sport, dtype: int64"
      ]
     },
     "metadata": {},
     "output_type": "display_data"
    }
   ],
   "source": [
    "# 29) Combien y a-t-il de sport par année\n",
    "display(df.groupby(\"Year\")[\"Sport\"].nunique())\n"
   ]
  },
  {
   "cell_type": "code",
   "execution_count": 40,
   "metadata": {},
   "outputs": [
    {
     "data": {
      "text/plain": [
       "NOC\n",
       "USA    18853\n",
       "FRA    12758\n",
       "GBR    12256\n",
       "ITA    10715\n",
       "GER     9830\n",
       "CAN     9733\n",
       "JPN     8444\n",
       "SWE     8339\n",
       "AUS     7638\n",
       "HUN     6607\n",
       "POL     6207\n",
       "SUI     6150\n",
       "NED     5839\n",
       "URS     5685\n",
       "FIN     5467\n",
       "Name: count, dtype: int64"
      ]
     },
     "metadata": {},
     "output_type": "display_data"
    }
   ],
   "source": [
    "# 30) Quel est le top 15 des pays ayant le plus de médailles (toutes médailles confondues)\n",
    "display(df[\"NOC\"].value_counts().head(15))\n"
   ]
  },
  {
   "cell_type": "code",
   "execution_count": 41,
   "metadata": {},
   "outputs": [
    {
     "data": {
      "text/plain": [
       "Sport             NOC\n",
       "Aeronautics       SUI      1\n",
       "Alpine Skiing     AUT    556\n",
       "Alpinism          GBR     12\n",
       "Archery           USA    175\n",
       "Art Competitions  USA    562\n",
       "                        ... \n",
       "Tug-Of-War        GBR     40\n",
       "Volleyball        BRA    285\n",
       "Water Polo        USA    317\n",
       "Weightlifting     USA    153\n",
       "Wrestling         USA    383\n",
       "Name: count, Length: 66, dtype: int64"
      ]
     },
     "metadata": {},
     "output_type": "display_data"
    }
   ],
   "source": [
    "# 31) Quels sont les pays gagnant les plus médaillés par sport distinct\n",
    "display(df.groupby(\"Sport\")[\"NOC\"].value_counts().groupby(level=0).head(1))\n"
   ]
  },
  {
   "cell_type": "code",
   "execution_count": 42,
   "metadata": {},
   "outputs": [
    {
     "name": "stderr",
     "output_type": "stream",
     "text": [
      "C:\\Users\\thoma\\AppData\\Local\\Temp\\ipykernel_11976\\3211762200.py:3: DeprecationWarning: DataFrameGroupBy.apply operated on the grouping columns. This behavior is deprecated, and in a future version of pandas the grouping columns will be excluded from the operation. Either pass `include_groups=False` to exclude the groupings or explicitly select the grouping columns after groupby to silence this warning.\n",
      "  efficiency = cold_war.groupby(\"NOC\").apply(\n"
     ]
    },
    {
     "data": {
      "text/plain": [
       "NOC\n",
       "URS    0.850782\n",
       "GDR    0.741150\n",
       "USA    0.512160\n",
       "PAK    0.502392\n",
       "HUN    0.497979\n",
       "dtype: float64"
      ]
     },
     "metadata": {},
     "output_type": "display_data"
    }
   ],
   "source": [
    "# 32) Quels étaient les pays les plus efficaces durant la guerre froide de 1952 à 1988 (i.e. le pays avec le plus de médailles par nombre d’athlètes envoyés)\n",
    "cold_war = df[(df[\"Year\"] >= 1952) & (df[\"Year\"] <= 1988)]\n",
    "efficiency = cold_war.groupby(\"NOC\").apply(\n",
    "    lambda x: x[\"Medal\"].count() / x[\"Name\"].nunique()\n",
    ")\n",
    "display(efficiency.sort_values(ascending=False).head())\n"
   ]
  }
 ],
 "metadata": {
  "kernelspec": {
   "display_name": "Python 3",
   "language": "python",
   "name": "python3"
  },
  "language_info": {
   "codemirror_mode": {
    "name": "ipython",
    "version": 3
   },
   "file_extension": ".py",
   "mimetype": "text/x-python",
   "name": "python",
   "nbconvert_exporter": "python",
   "pygments_lexer": "ipython3",
   "version": "3.12.2"
  }
 },
 "nbformat": 4,
 "nbformat_minor": 2
}
