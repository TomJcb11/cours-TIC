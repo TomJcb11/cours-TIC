{
 "cells": [
  {
   "cell_type": "markdown",
   "id": "5d02a7be",
   "metadata": {},
   "source": [
    "# Exo Matplotlib/Seaborn avec JO-dataset\n",
    "\n",
    "0. __Pour chaque graphique, ajouter un titre qui contient les axes/colonnes utilisé pour le graphique__ \n",
    "    - __attention:__ pour chaque graphique, il faudra appiquer une transformation sur le data pour qu'il soit adapté à la construction des graphiques demandé <br><br>\n",
    "\n",
    "  \n",
    "1. __Faire un (line-)plot qui montre:__<br>\n",
    "    - le nombre uniques de sports par année\n",
    "    - placer des points comme marqueurs\n",
    "    - changer le style de ligne en pointillé\n",
    "<br><br>\n",
    "\n",
    "2. __Faire un graphique composé qui montre:__<br>\n",
    "    - le nombre uniques de sports par année (voir 1.)\n",
    "    - avec une décomposition par genre homme-femme, indiqué dans une légende\n",
    "    - changer les couleurs en 'cyan' et 'magenta'\n",
    "    - appliquer un 'alpha' de '0.5'\n",
    "    - changer la légende de position: en bas à gauche\n",
    "<br><br>\n",
    "3. __Faire un bar-plot qui montre:__<br>\n",
    "    - le top 10 des noms \n",
    "    - qui ont participés aux plus de sports différents, \n",
    "    - trié par: nombre de sports différents, nombre de médailles\n",
    "    - changer l'orientation des labels sur l'axe-x ('xticks')\n",
    "    - changer le nom de l'axe-x: 'top 10' ('xlabel')\n",
    "<br><br>\n",
    "\n",
    "4. __Faire un pie-plot qui montre les info de 'Carl Schuhmann':__<br>\n",
    "\n",
    "    - le nombre de médailles (confondues) pour chaque sport\n",
    "    - avec le type de sport pour lequel cet athlète a le plus de medailles, mis en évidence\n",
    "<br><br>\n",
    "\n",
    "5. __Faire un histogramme qui montre:__<br>\n",
    "    - l'age\n",
    "    - par tranche d'age de 3 années\n",
    "<br><br>\n",
    "\n",
    "6. __Faire graphique composé d' histogrammes qui montre:__ <br>\n",
    "    - la taille (height)\n",
    "    - par tranche de 4 cm\n",
    "    - decomposé par homme-femme\n",
    "    - avec un alpha = 0.6"
   ]
  },
  {
   "cell_type": "code",
   "execution_count": null,
   "id": "ae71a7dd",
   "metadata": {},
   "outputs": [],
   "source": []
  }
 ],
 "metadata": {
  "kernelspec": {
   "display_name": "Python 3 (ipykernel)",
   "language": "python",
   "name": "python3"
  },
  "language_info": {
   "codemirror_mode": {
    "name": "ipython",
    "version": 3
   },
   "file_extension": ".py",
   "mimetype": "text/x-python",
   "name": "python",
   "nbconvert_exporter": "python",
   "pygments_lexer": "ipython3",
   "version": "3.11.9"
  }
 },
 "nbformat": 4,
 "nbformat_minor": 5
}
