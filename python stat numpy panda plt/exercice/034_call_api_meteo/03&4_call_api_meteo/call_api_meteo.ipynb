{
 "cells": [
  {
   "cell_type": "markdown",
   "id": "0afe8cbd-3ff9-4226-8786-b229933e32a1",
   "metadata": {},
   "source": [
    "# Exercice:\n",
    "\n",
    "- fetch the meteo prevision (7days) (theory)\n",
    "- for all communes of brussels (via open database of Wallonia: odbw)\n",
    "    - https://www.odwb.be/api/records/1.0/search/?dataset=code-postaux-belge&q=&facet=column_1&facet=column_2"
   ]
  },
  {
   "cell_type": "code",
   "execution_count": null,
   "id": "775a997a-8644-4fa7-aadd-ffd59a3fef36",
   "metadata": {},
   "outputs": [],
   "source": [
    "import pandas as pd\n",
    "import numpy as np\n",
    "import requests as req\n"
   ]
  },
  {
   "cell_type": "code",
   "execution_count": 39,
   "id": "a8c57c16",
   "metadata": {},
   "outputs": [],
   "source": [
    "api_url = \"https://www.odwb.be/api/records/1.0/search/?dataset=code-postaux-belge&q=&facet=column_1&facet=column_2\"\n",
    "meteo_api = url = (\n",
    "    \"https://api.open-meteo.com/v1/forecast?latitude=52.52&longitude=13.41&hourly=temperature_2m\"\n",
    ")\n"
   ]
  },
  {
   "cell_type": "code",
   "execution_count": 40,
   "id": "41de9895",
   "metadata": {},
   "outputs": [
    {
     "name": "stdout",
     "output_type": "stream",
     "text": [
      "200\n"
     ]
    },
    {
     "data": {
      "text/html": [
       "<div>\n",
       "<style scoped>\n",
       "    .dataframe tbody tr th:only-of-type {\n",
       "        vertical-align: middle;\n",
       "    }\n",
       "\n",
       "    .dataframe tbody tr th {\n",
       "        vertical-align: top;\n",
       "    }\n",
       "\n",
       "    .dataframe thead th {\n",
       "        text-align: right;\n",
       "    }\n",
       "</style>\n",
       "<table border=\"1\" class=\"dataframe\">\n",
       "  <thead>\n",
       "    <tr style=\"text-align: right;\">\n",
       "      <th></th>\n",
       "      <th>latitude</th>\n",
       "      <th>longitude</th>\n",
       "      <th>hourly.time</th>\n",
       "      <th>hourly.temperature_2m</th>\n",
       "    </tr>\n",
       "  </thead>\n",
       "  <tbody>\n",
       "    <tr>\n",
       "      <th>0</th>\n",
       "      <td>52.52</td>\n",
       "      <td>13.419998</td>\n",
       "      <td>2025-02-07T00:00</td>\n",
       "      <td>3.6</td>\n",
       "    </tr>\n",
       "    <tr>\n",
       "      <th>0</th>\n",
       "      <td>52.52</td>\n",
       "      <td>13.419998</td>\n",
       "      <td>2025-02-07T01:00</td>\n",
       "      <td>3.4</td>\n",
       "    </tr>\n",
       "    <tr>\n",
       "      <th>0</th>\n",
       "      <td>52.52</td>\n",
       "      <td>13.419998</td>\n",
       "      <td>2025-02-07T02:00</td>\n",
       "      <td>2.9</td>\n",
       "    </tr>\n",
       "    <tr>\n",
       "      <th>0</th>\n",
       "      <td>52.52</td>\n",
       "      <td>13.419998</td>\n",
       "      <td>2025-02-07T03:00</td>\n",
       "      <td>2.4</td>\n",
       "    </tr>\n",
       "    <tr>\n",
       "      <th>0</th>\n",
       "      <td>52.52</td>\n",
       "      <td>13.419998</td>\n",
       "      <td>2025-02-07T04:00</td>\n",
       "      <td>2.0</td>\n",
       "    </tr>\n",
       "  </tbody>\n",
       "</table>\n",
       "</div>"
      ],
      "text/plain": [
       "   latitude  longitude       hourly.time hourly.temperature_2m\n",
       "0     52.52  13.419998  2025-02-07T00:00                   3.6\n",
       "0     52.52  13.419998  2025-02-07T01:00                   3.4\n",
       "0     52.52  13.419998  2025-02-07T02:00                   2.9\n",
       "0     52.52  13.419998  2025-02-07T03:00                   2.4\n",
       "0     52.52  13.419998  2025-02-07T04:00                   2.0"
      ]
     },
     "metadata": {},
     "output_type": "display_data"
    }
   ],
   "source": [
    "try:\n",
    "    response = req.get(meteo_api)\n",
    "    print(response.status_code)\n",
    "    json_df = pd.json_normalize(response.json())\n",
    "    json_df_exploded = json_df.copy()\n",
    "    json_df_exploded = json_df_exploded.explode(\n",
    "        column=[\"hourly.time\", \"hourly.temperature_2m\"]\n",
    "    )\n",
    "    json_df_exploded = json_df_exploded[\n",
    "        [\"latitude\", \"longitude\", \"hourly.time\", \"hourly.temperature_2m\"]\n",
    "    ]\n",
    "\n",
    "except Exception as e:\n",
    "    print(e)\n",
    "    print(\"Error during the request\")\n",
    "\n",
    "display(json_df_exploded.head())\n"
   ]
  },
  {
   "cell_type": "code",
   "execution_count": null,
   "id": "07c006b9",
   "metadata": {},
   "outputs": [],
   "source": []
  }
 ],
 "metadata": {
  "kernelspec": {
   "display_name": "Python 3",
   "language": "python",
   "name": "python3"
  },
  "language_info": {
   "codemirror_mode": {
    "name": "ipython",
    "version": 3
   },
   "file_extension": ".py",
   "mimetype": "text/x-python",
   "name": "python",
   "nbconvert_exporter": "python",
   "pygments_lexer": "ipython3",
   "version": "3.12.2"
  }
 },
 "nbformat": 4,
 "nbformat_minor": 5
}
