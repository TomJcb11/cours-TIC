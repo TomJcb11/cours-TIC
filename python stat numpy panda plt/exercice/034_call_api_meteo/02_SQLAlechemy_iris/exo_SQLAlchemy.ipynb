{
 "cells": [
  {
   "cell_type": "markdown",
   "id": "083ecb15-74a0-49c9-8b6f-2954980f82cc",
   "metadata": {},
   "source": [
    "# Exercice SQLAlchemy\n",
    "- create database \"from_python_DB\" via SSMS\n",
    "- create tables \"iris_nopandas\" and \"iris_pandas\"\n",
    "- insert iris data (from seaborn) into those tables:\n",
    "  1. manual CRUD into \"iris_nopandas\"\n",
    "  2. via pandas into \"iris_pandas\"\n",
    "- select all data from iris table from \"iris_pandas\" in both ways:\n",
    "  1. into a pyhton list (no pandas) \n",
    "  2. into a dataframe (via pandas)"
   ]
  },
  {
   "cell_type": "code",
   "execution_count": 1,
   "id": "9ec12594-3b36-4195-8e17-95799d28324a",
   "metadata": {},
   "outputs": [
    {
     "data": {
      "text/html": [
       "<div>\n",
       "<style scoped>\n",
       "    .dataframe tbody tr th:only-of-type {\n",
       "        vertical-align: middle;\n",
       "    }\n",
       "\n",
       "    .dataframe tbody tr th {\n",
       "        vertical-align: top;\n",
       "    }\n",
       "\n",
       "    .dataframe thead th {\n",
       "        text-align: right;\n",
       "    }\n",
       "</style>\n",
       "<table border=\"1\" class=\"dataframe\">\n",
       "  <thead>\n",
       "    <tr style=\"text-align: right;\">\n",
       "      <th></th>\n",
       "      <th>sepal_length</th>\n",
       "      <th>sepal_width</th>\n",
       "      <th>petal_length</th>\n",
       "      <th>petal_width</th>\n",
       "      <th>species</th>\n",
       "    </tr>\n",
       "  </thead>\n",
       "  <tbody>\n",
       "    <tr>\n",
       "      <th>0</th>\n",
       "      <td>5.1</td>\n",
       "      <td>3.5</td>\n",
       "      <td>1.4</td>\n",
       "      <td>0.2</td>\n",
       "      <td>setosa</td>\n",
       "    </tr>\n",
       "    <tr>\n",
       "      <th>1</th>\n",
       "      <td>4.9</td>\n",
       "      <td>3.0</td>\n",
       "      <td>1.4</td>\n",
       "      <td>0.2</td>\n",
       "      <td>setosa</td>\n",
       "    </tr>\n",
       "    <tr>\n",
       "      <th>2</th>\n",
       "      <td>4.7</td>\n",
       "      <td>3.2</td>\n",
       "      <td>1.3</td>\n",
       "      <td>0.2</td>\n",
       "      <td>setosa</td>\n",
       "    </tr>\n",
       "    <tr>\n",
       "      <th>3</th>\n",
       "      <td>4.6</td>\n",
       "      <td>3.1</td>\n",
       "      <td>1.5</td>\n",
       "      <td>0.2</td>\n",
       "      <td>setosa</td>\n",
       "    </tr>\n",
       "    <tr>\n",
       "      <th>4</th>\n",
       "      <td>5.0</td>\n",
       "      <td>3.6</td>\n",
       "      <td>1.4</td>\n",
       "      <td>0.2</td>\n",
       "      <td>setosa</td>\n",
       "    </tr>\n",
       "  </tbody>\n",
       "</table>\n",
       "</div>"
      ],
      "text/plain": [
       "   sepal_length  sepal_width  petal_length  petal_width species\n",
       "0           5.1          3.5           1.4          0.2  setosa\n",
       "1           4.9          3.0           1.4          0.2  setosa\n",
       "2           4.7          3.2           1.3          0.2  setosa\n",
       "3           4.6          3.1           1.5          0.2  setosa\n",
       "4           5.0          3.6           1.4          0.2  setosa"
      ]
     },
     "execution_count": 1,
     "metadata": {},
     "output_type": "execute_result"
    }
   ],
   "source": [
    "from seaborn import load_dataset\n",
    "\n",
    "iris = load_dataset(\"iris\")\n",
    "iris.head()"
   ]
  },
  {
   "cell_type": "markdown",
   "id": "2fc11785",
   "metadata": {},
   "source": [
    "# Some mandatory imports"
   ]
  },
  {
   "cell_type": "code",
   "execution_count": null,
   "id": "6c048ff9-74ed-4982-ae17-e80e0905e473",
   "metadata": {},
   "outputs": [],
   "source": [
    "import pandas as pd\n",
    "import numpy as np\n",
    "import pyodbc\n",
    "from sqlalchemy import create_engine, text"
   ]
  },
  {
   "cell_type": "markdown",
   "id": "d84d9680",
   "metadata": {},
   "source": [
    "# Connecting Database "
   ]
  },
  {
   "cell_type": "code",
   "execution_count": null,
   "id": "a7738811",
   "metadata": {},
   "outputs": [
    {
     "name": "stdout",
     "output_type": "stream",
     "text": [
      "Connexion réussie : Microsoft SQL Server 2022 (RTM) - 16.0.1000.6 (X64) \n",
      "\tOct  8 2022 05:58:25 \n",
      "\tCopyright (C) 2022 Microsoft Corporation\n",
      "\tDeveloper Edition (64-bit) on Windows 10 Pro 10.0 <X64> (Build 22631: ) (Hypervisor)\n",
      "\n"
     ]
    }
   ],
   "source": [
    "### ====== VARIABLES ====== ###\n",
    "dbms = \"mssql+pyodbc\"\n",
    "driver = \"ODBC Driver 17 for SQL Server\"\n",
    "server = r\"PORTABLE_TOM\\DATAVIZ\"\n",
    "database = \"from_python_DB\"\n",
    "\n",
    "\n",
    "try:\n",
    "    # Connexion à SQL Server\n",
    "    conn = pyodbc.connect(\n",
    "        f\"DRIVER={{{driver}}};SERVER={server};DATABASE={database};Trusted_Connection=yes;\"\n",
    "    )\n",
    "    cursor = conn.cursor()\n",
    "\n",
    "    # Exécuter une requête simple pour tester\n",
    "    cursor.execute(\"SELECT @@VERSION\")\n",
    "    row = cursor.fetchone()\n",
    "\n",
    "    print(\"Connexion réussie :\", row[0])\n",
    "\n",
    "except Exception as e:\n",
    "    print(\"Erreur de connexion :\", e)\n",
    "\n",
    "\n",
    "con_string_trusted_windows_connection = (\n",
    "    f\"{dbms}://{server}/{database}?trusted_connection=yes&driver={driver}\"\n",
    ")\n",
    "\n",
    "### fully configured connection\n",
    "engine = create_engine(con_string_trusted_windows_connection)"
   ]
  },
  {
   "cell_type": "markdown",
   "id": "5cbee150",
   "metadata": {},
   "source": [
    "# Using engine"
   ]
  },
  {
   "cell_type": "code",
   "execution_count": null,
   "id": "8ada9493",
   "metadata": {},
   "outputs": [
    {
     "name": "stdout",
     "output_type": "stream",
     "text": [
      "[]\n",
      "[('Hello World',)]\n"
     ]
    }
   ],
   "source": [
    "open_connection = engine.connect()\n",
    "\n",
    "result_query = open_connection.execute(text(\"\"\"SELECT 'Hello World'\"\"\"))\n",
    "### result_query = reference/temporary value\n",
    "### \"text\"-function required for SQL alchemy: when feeding text-based queries, alternatives= SQLAlchemy-object\n",
    "res = (list(result_query)).copy()  ## independent copy\n",
    "\n",
    "open_connection.close()  ### need to close the file/connection when done\n",
    "print(list(result_query))  ### connection closed, now referenced to empty value\n",
    "print(res)  ### copied values, stayed"
   ]
  },
  {
   "cell_type": "markdown",
   "id": "e45efd08",
   "metadata": {},
   "source": [
    "Now lets create some database configurations, creating tables:\n",
    "-  iris_nopandas \n",
    "-  iris_pandas"
   ]
  },
  {
   "cell_type": "code",
   "execution_count": null,
   "id": "a64c037e",
   "metadata": {},
   "outputs": [],
   "source": [
    "CREATE_TABLE_NO_PANDAS = \"\"\"\n",
    "    CREATE TABLE iris_nopandas (\n",
    "        id INT IDENTITY(1,1) PRIMARY KEY,\n",
    "        sepal_length FLOAT,\n",
    "        sepal_width FLOAT,\n",
    "        petal_length FLOAT,\n",
    "        petal_width FLOAT,\n",
    "        species VARCHAR(50)\n",
    ")\n",
    "\"\"\"\n",
    "\n",
    "CREATE_TABLE_PANDAS = \"\"\"\n",
    "    CREATE TABLE iris_pandas (\n",
    "        id INT IDENTITY(1,1) PRIMARY KEY,\n",
    "        sepal_length FLOAT,\n",
    "        sepal_width FLOAT,\n",
    "        petal_length FLOAT,\n",
    "        petal_width FLOAT,\n",
    "        species VARCHAR(50)\n",
    ")\n",
    "\"\"\"\n",
    "DROP_TABLE = \"DROP TABLE iris_pandas\"\n",
    "DROP_TABLE_NOPANDAS = \"DROP TABLE iris_nopandas\""
   ]
  },
  {
   "cell_type": "code",
   "execution_count": null,
   "id": "7c9d742a",
   "metadata": {},
   "outputs": [
    {
     "name": "stdout",
     "output_type": "stream",
     "text": [
      "Tables created successfully\n"
     ]
    }
   ],
   "source": [
    "with engine.connect() as con:\n",
    "    try:\n",
    "        con.execute(text(DROP_TABLE))\n",
    "        con.execute(text(DROP_TABLE_NOPANDAS))\n",
    "        con.execute(text(CREATE_TABLE_NO_PANDAS))\n",
    "        con.execute(text(CREATE_TABLE_PANDAS))\n",
    "        print(\"Tables created successfully\")\n",
    "    except Exception as e:\n",
    "        print(\"Error creating tables:\", e)\n",
    "    finally:\n",
    "        con.commit()"
   ]
  },
  {
   "cell_type": "markdown",
   "id": "44b57ef2",
   "metadata": {},
   "source": [
    "# Insert iris data into (no_)panda table"
   ]
  },
  {
   "cell_type": "code",
   "execution_count": null,
   "id": "403f485e",
   "metadata": {},
   "outputs": [
    {
     "name": "stdout",
     "output_type": "stream",
     "text": [
      "Data inserted successfully\n"
     ]
    }
   ],
   "source": [
    "block_insert = \"\"\"\n",
    "                    INSERT INTO iris_pandas (sepal_length, sepal_width, petal_length, petal_width, species) VALUES \n",
    "                    (:sepal_length, :sepal_width, :petal_length, :petal_width, :species)\n",
    "                \"\"\"\n",
    "\n",
    "list_of_dictionaries = iris.to_dict(\"records\")\n",
    "\n",
    "with engine.connect() as conn:\n",
    "    ### block insert\n",
    "    try:\n",
    "        conn.execute(text(block_insert), list_of_dictionaries)\n",
    "        print(\"Data inserted successfully\")\n",
    "    except Exception as e:\n",
    "        print(\"Error inserting data:\", e)\n",
    "    finally:\n",
    "        conn.commit()"
   ]
  },
  {
   "cell_type": "markdown",
   "id": "960c1efd",
   "metadata": {},
   "source": [
    "- select all data from iris table from \"iris_pandas\" in both ways:\n",
    "  1. into a pyhton list (no pandas) \n",
    "  2. into a dataframe (via pandas)"
   ]
  },
  {
   "cell_type": "markdown",
   "id": "55613ad2",
   "metadata": {},
   "source": [
    "First using no_pandas"
   ]
  },
  {
   "cell_type": "code",
   "execution_count": null,
   "id": "d1a3a090",
   "metadata": {},
   "outputs": [
    {
     "name": "stdout",
     "output_type": "stream",
     "text": [
      "[]\n"
     ]
    }
   ],
   "source": [
    "with engine.connect() as conn:\n",
    "    try:\n",
    "        result = conn.execute(text(\"SELECT * FROM iris_nopandas\"))\n",
    "        res = list(result).copy()\n",
    "    except Exception as e:\n",
    "        print(\"Error fetching data:\", e)\n",
    "    finally:\n",
    "        conn.commit()\n",
    "print(res)"
   ]
  },
  {
   "cell_type": "markdown",
   "id": "495fb9a7",
   "metadata": {},
   "source": [
    "# Now using pandas"
   ]
  },
  {
   "cell_type": "code",
   "execution_count": null,
   "id": "c26f8e65",
   "metadata": {},
   "outputs": [
    {
     "data": {
      "text/html": [
       "<div>\n",
       "<style scoped>\n",
       "    .dataframe tbody tr th:only-of-type {\n",
       "        vertical-align: middle;\n",
       "    }\n",
       "\n",
       "    .dataframe tbody tr th {\n",
       "        vertical-align: top;\n",
       "    }\n",
       "\n",
       "    .dataframe thead th {\n",
       "        text-align: right;\n",
       "    }\n",
       "</style>\n",
       "<table border=\"1\" class=\"dataframe\">\n",
       "  <thead>\n",
       "    <tr style=\"text-align: right;\">\n",
       "      <th></th>\n",
       "      <th>id</th>\n",
       "      <th>sepal_length</th>\n",
       "      <th>sepal_width</th>\n",
       "      <th>petal_length</th>\n",
       "      <th>petal_width</th>\n",
       "      <th>species</th>\n",
       "    </tr>\n",
       "  </thead>\n",
       "  <tbody>\n",
       "    <tr>\n",
       "      <th>0</th>\n",
       "      <td>1</td>\n",
       "      <td>5.1</td>\n",
       "      <td>3.5</td>\n",
       "      <td>1.4</td>\n",
       "      <td>0.2</td>\n",
       "      <td>setosa</td>\n",
       "    </tr>\n",
       "    <tr>\n",
       "      <th>1</th>\n",
       "      <td>2</td>\n",
       "      <td>4.9</td>\n",
       "      <td>3.0</td>\n",
       "      <td>1.4</td>\n",
       "      <td>0.2</td>\n",
       "      <td>setosa</td>\n",
       "    </tr>\n",
       "    <tr>\n",
       "      <th>2</th>\n",
       "      <td>3</td>\n",
       "      <td>4.7</td>\n",
       "      <td>3.2</td>\n",
       "      <td>1.3</td>\n",
       "      <td>0.2</td>\n",
       "      <td>setosa</td>\n",
       "    </tr>\n",
       "    <tr>\n",
       "      <th>3</th>\n",
       "      <td>4</td>\n",
       "      <td>4.6</td>\n",
       "      <td>3.1</td>\n",
       "      <td>1.5</td>\n",
       "      <td>0.2</td>\n",
       "      <td>setosa</td>\n",
       "    </tr>\n",
       "    <tr>\n",
       "      <th>4</th>\n",
       "      <td>5</td>\n",
       "      <td>5.0</td>\n",
       "      <td>3.6</td>\n",
       "      <td>1.4</td>\n",
       "      <td>0.2</td>\n",
       "      <td>setosa</td>\n",
       "    </tr>\n",
       "  </tbody>\n",
       "</table>\n",
       "</div>"
      ],
      "text/plain": [
       "   id  sepal_length  sepal_width  petal_length  petal_width species\n",
       "0   1           5.1          3.5           1.4          0.2  setosa\n",
       "1   2           4.9          3.0           1.4          0.2  setosa\n",
       "2   3           4.7          3.2           1.3          0.2  setosa\n",
       "3   4           4.6          3.1           1.5          0.2  setosa\n",
       "4   5           5.0          3.6           1.4          0.2  setosa"
      ]
     },
     "metadata": {},
     "output_type": "display_data"
    }
   ],
   "source": [
    "with engine.connect() as conn:\n",
    "    try:\n",
    "        res2 = pd.read_sql_table(\"iris_pandas\", conn)\n",
    "\n",
    "    except Exception as e:\n",
    "        print(\"Error fetching data:\", e)\n",
    "    finally:\n",
    "        conn.commit()\n",
    "display(res2.head(5))"
   ]
  }
 ],
 "metadata": {
  "kernelspec": {
   "display_name": "Python 3",
   "language": "python",
   "name": "python3"
  },
  "language_info": {
   "codemirror_mode": {
    "name": "ipython",
    "version": 3
   },
   "file_extension": ".py",
   "mimetype": "text/x-python",
   "name": "python",
   "nbconvert_exporter": "python",
   "pygments_lexer": "ipython3",
   "version": "3.12.2"
  }
 },
 "nbformat": 4,
 "nbformat_minor": 5
}
