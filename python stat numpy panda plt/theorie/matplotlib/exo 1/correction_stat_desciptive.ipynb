{
 "cells": [
  {
   "cell_type": "markdown",
   "id": "607b2e98-8afe-438c-a906-c1b9bb1dc35a",
   "metadata": {},
   "source": [
    "# Exercices statistiques descriptives\n",
    "\n",
    "à calculer en algorithme python (natif, depuis zéro) (ou dans excel si vous n'avez pas vu python):\n",
    "- pour chaque colonne, quel est le type de variable statistique de celle-ci ?\n",
    "- calculer les mesures de tendence centrale (appropriés) pour chaque colonne\n",
    "- calculer les mesures de dispersions (appropriés) pour chaque colonne\n",
    "- calculer les corrélations (de pearson) pour les colonnes appropriés\n",
    "- calculer pour chaque colonne qualitative (ou combinaison de ceux-ci):\n",
    "    - effectifs\n",
    "    - fréquences\n",
    "    - fréquences conjointes\n",
    "    - fréquences conditionnelles\n",
    "\n",
    "Ensuite, la même chose avec numpy et/ou pandas (si vous avez vu ces outils-là)\n",
    "\n",
    "\n",
    "## exo 1: notes\n",
    "- Données: \"notes_v2.csv\"\n",
    "- colonnes:\n",
    "    - index: identifiant d'un étudiant\n",
    "    - math: le score de mathématique de l'étudiant\n",
    "    - eng: le score d'anglais de l'étudiant\n",
    "    - gender: le genre de l'étudiant : {M:Homme,F:Femme}\n",
    "    - group: l'orientation scolaire de l'étudiant: 'langues' vs 'sciences'\n",
    "\n",
    "## exo 2: gb_notes\n",
    "- Données: \"gb_notes_v2.csv\"\n",
    "- les changement vs exo1:\n",
    "    - les données sont un group-by\n",
    "    - la colonne 'index' ne représente plus un étudiant\n",
    "    - la colonne 'count' reprend le nombre d'étudiant dans cette catégorie \n",
    "\n"
   ]
  },
  {
   "cell_type": "code",
   "execution_count": 1,
   "id": "4d23c4a4-152d-42f9-bb95-2823a550e544",
   "metadata": {},
   "outputs": [],
   "source": [
    "import pandas as pd"
   ]
  },
  {
   "cell_type": "code",
   "execution_count": 32,
   "id": "5d1c00eb-1565-4b64-b553-d64aa20b394e",
   "metadata": {},
   "outputs": [
    {
     "data": {
      "text/plain": [
       "dict_keys(['index', 'math', 'eng', 'group', 'gender'])"
      ]
     },
     "execution_count": 32,
     "metadata": {},
     "output_type": "execute_result"
    }
   ],
   "source": [
    "dict_donnees = pd.read_csv('notes_v2.csv').to_dict(orient='list')\n",
    "dict_donnees.keys()"
   ]
  },
  {
   "cell_type": "code",
   "execution_count": 33,
   "id": "7a20b74a-7236-453a-b254-c777511f5f8c",
   "metadata": {},
   "outputs": [
    {
     "data": {
      "text/plain": [
       "[5.2, 4.6, 5.4, 4.7, 7.6, 4.4, 6.0, 4.7, 6.0, 8.6]"
      ]
     },
     "execution_count": 33,
     "metadata": {},
     "output_type": "execute_result"
    }
   ],
   "source": [
    "dict_donnees[\"math\"][:10]"
   ]
  },
  {
   "cell_type": "markdown",
   "id": "743a00b6-901e-4411-94ee-c0e52ccd545f",
   "metadata": {},
   "source": [
    "types de variables:\n",
    "- index: identifiant d'un étudiant: qualitatif nominal\n",
    "    - centre : mode\n",
    "- math: le score de mathématique de l'étudiant: quantitatif continu\n",
    "    - centre : moyenne, mediane\n",
    "    - dispersion: écart-type, mad, IQR, ampl\n",
    "- eng: le score d'anglais de l'étudiant: quantitatif continu\n",
    "    - centre : moyenne, mediane\n",
    "    - dispersion: écart-type, mad, IQR ,ampl\n",
    "- gender: le genre de l'étudiant : {M:Homme,F:Femme}: qualitatif nominal\n",
    "    - centre : mode\n",
    "- group: l'orientation scolaire de l'étudiant: 'langues' vs 'sciences': qualitatif nominal\n",
    "    - centre : mode\n"
   ]
  },
  {
   "cell_type": "code",
   "execution_count": 4,
   "id": "2d5b26b1-db8a-4cf3-a231-e376a1079b74",
   "metadata": {},
   "outputs": [],
   "source": [
    "quanti_continu = [\"math\",\"eng\"]\n",
    "quali_nominal = [\"index\",\"gender\",\"group\"]"
   ]
  },
  {
   "cell_type": "markdown",
   "id": "e7748f54-cd93-4410-a9d6-ef4553768777",
   "metadata": {},
   "source": [
    "### creation des fonctions univarié"
   ]
  },
  {
   "cell_type": "code",
   "execution_count": 5,
   "id": "a2b4b853-40fd-4160-bb1c-333eae5b4ba7",
   "metadata": {},
   "outputs": [],
   "source": [
    "def give_moy(X):\n",
    "    res = 0\n",
    "    len_ = len(X)\n",
    "    for x in X:\n",
    "        res+=x\n",
    "    return res/len_\n",
    "\n",
    "def give_median(X):\n",
    "    X_sorted = X.copy()\n",
    "    X_sorted.sort()\n",
    "    len_ = len(X)\n",
    "    is_odd = len_%2\n",
    "    if is_odd:\n",
    "        return X_sorted[int(len_//2)]\n",
    "    else:\n",
    "        return 0.5*(X_sorted[int(len_//2)-1] +  X_sorted[int(len_//2)])\n"
   ]
  },
  {
   "cell_type": "code",
   "execution_count": 26,
   "id": "b06568d4-8291-438e-9c2c-dbd868176c0a",
   "metadata": {},
   "outputs": [
    {
     "name": "stdout",
     "output_type": "stream",
     "text": [
      "1.25\n",
      "1.0\n"
     ]
    }
   ],
   "source": [
    "L = [1,1,1,2]#,2,2,3,3,3]\n",
    "print(give_moy(L))\n",
    "print(give_median(L))"
   ]
  },
  {
   "cell_type": "code",
   "execution_count": 7,
   "id": "e1a71daa-dbbb-4199-91af-172373068e7a",
   "metadata": {},
   "outputs": [],
   "source": [
    "def count(X):\n",
    "    d = {}\n",
    "    for x in X:\n",
    "        if x in d.keys():\n",
    "            d[x] +=1\n",
    "        else:\n",
    "            d[x]=1\n",
    "    return d"
   ]
  },
  {
   "cell_type": "code",
   "execution_count": 8,
   "id": "ab900d44-bde2-4141-9c98-ec8df3bd8773",
   "metadata": {},
   "outputs": [
    {
     "data": {
      "text/plain": [
       "{1: 2, 2: 3, 3: 3}"
      ]
     },
     "execution_count": 8,
     "metadata": {},
     "output_type": "execute_result"
    }
   ],
   "source": [
    "count(L)"
   ]
  },
  {
   "cell_type": "code",
   "execution_count": 9,
   "id": "c0737782-a67a-45d0-9fdb-8bb96c4d1d1d",
   "metadata": {},
   "outputs": [],
   "source": [
    "def give_mode(X):\n",
    "    C = count(X)\n",
    "    n_best = -1\n",
    "    x_best = None\n",
    "    for x,n in C.items():\n",
    "        if n_best<n:\n",
    "            x_best=x\n",
    "            n_best=n\n",
    "        else:\n",
    "            continue\n",
    "    return x_best"
   ]
  },
  {
   "cell_type": "code",
   "execution_count": 10,
   "id": "14a55e41-be9b-4fef-842b-49cd5e877752",
   "metadata": {},
   "outputs": [],
   "source": [
    "def mode_list(X):\n",
    "    C = count(X)\n",
    "    n_best = -1\n",
    "    x_best = []\n",
    "    \n",
    "    for x,n in C.items():\n",
    "        if n_best<n:\n",
    "            x_best = [x]\n",
    "            n_best=n\n",
    "        elif n_best==n:\n",
    "            x_best.append(x)\n",
    "        else:\n",
    "            continue\n",
    "    return x_best"
   ]
  },
  {
   "cell_type": "code",
   "execution_count": 11,
   "id": "96cb7709-e002-4437-8554-08974fe5d2a9",
   "metadata": {},
   "outputs": [
    {
     "data": {
      "text/plain": [
       "{1: 2, 2: 3, 3: 3}"
      ]
     },
     "execution_count": 11,
     "metadata": {},
     "output_type": "execute_result"
    }
   ],
   "source": [
    "count(L)"
   ]
  },
  {
   "cell_type": "code",
   "execution_count": 12,
   "id": "1c21eae8-cbe0-4317-aa90-a2591dbfdb79",
   "metadata": {},
   "outputs": [
    {
     "data": {
      "text/plain": [
       "2"
      ]
     },
     "execution_count": 12,
     "metadata": {},
     "output_type": "execute_result"
    }
   ],
   "source": [
    "give_mode(L)"
   ]
  },
  {
   "cell_type": "code",
   "execution_count": 13,
   "id": "fc2d205d-63b7-4a3d-8a68-488f9dd6198d",
   "metadata": {},
   "outputs": [
    {
     "data": {
      "text/plain": [
       "[2, 3]"
      ]
     },
     "execution_count": 13,
     "metadata": {},
     "output_type": "execute_result"
    }
   ],
   "source": [
    "mode_list(L)"
   ]
  },
  {
   "cell_type": "code",
   "execution_count": 14,
   "id": "3aa0a134-5a61-449a-9839-6a1a7d0e0513",
   "metadata": {},
   "outputs": [],
   "source": [
    "def give_ampl(X):\n",
    "    return max(X)-min(X)"
   ]
  },
  {
   "cell_type": "code",
   "execution_count": 15,
   "id": "08a95189-3cca-40e2-8652-27f8d0d00c52",
   "metadata": {},
   "outputs": [],
   "source": [
    "def give_mad(X):\n",
    "    m = give_moy(X)\n",
    "    res = 0\n",
    "    len_ = len(X)\n",
    "    for x in X:\n",
    "        res += abs(x-m)\n",
    "    return res/len_"
   ]
  },
  {
   "cell_type": "code",
   "execution_count": 16,
   "id": "05fe5909-adc5-4956-b580-37324df13f68",
   "metadata": {},
   "outputs": [],
   "source": [
    "def var(X, bessel_correct=0):\n",
    "    m= give_moy(X)\n",
    "    len_ = len(X)\n",
    "    res = 0\n",
    "    for x in X:\n",
    "        res += (x-m)*(x-m)\n",
    "    return res/(len_-bessel_correct)"
   ]
  },
  {
   "cell_type": "code",
   "execution_count": 17,
   "id": "b40f1ec0-e978-4d18-bc6d-a467bc0d9e89",
   "metadata": {},
   "outputs": [],
   "source": [
    "import math\n",
    "def give_std(X,bessel_correct=0):\n",
    "    return math.sqrt(var(X,bessel_correct))"
   ]
  },
  {
   "cell_type": "code",
   "execution_count": 18,
   "id": "2fdb24fa-9636-451a-bae8-74d74f554123",
   "metadata": {},
   "outputs": [],
   "source": [
    "def give_Q1(X):\n",
    "    X_sorted = X.copy()\n",
    "    X_sorted.sort()\n",
    "    len_ = len(X)\n",
    "    pos_Q1 = int(len_//4)\n",
    "    return X_sorted[pos_Q1]\n",
    "\n",
    "def give_Q3(X):\n",
    "    X_sorted = X.copy()\n",
    "    X_sorted.sort()\n",
    "    len_ = len(X)\n",
    "    pos_Q3 = int((3*len_)//4)\n",
    "    return X_sorted[pos_Q3]"
   ]
  },
  {
   "cell_type": "code",
   "execution_count": 19,
   "id": "d5a2a3aa-231d-4a93-a146-f2fc81b43db3",
   "metadata": {},
   "outputs": [
    {
     "data": {
      "text/plain": [
       "(2, 3)"
      ]
     },
     "execution_count": 19,
     "metadata": {},
     "output_type": "execute_result"
    }
   ],
   "source": [
    "give_Q1(L),give_Q3(L)"
   ]
  },
  {
   "cell_type": "code",
   "execution_count": 20,
   "id": "910540fb-2597-4a5e-8e7e-d77a8f2c7257",
   "metadata": {},
   "outputs": [],
   "source": [
    "def give_IQR(X):\n",
    "    q1 = give_Q1(X)\n",
    "    q3 = give_Q3(X)\n",
    "    return q3-q1"
   ]
  },
  {
   "cell_type": "code",
   "execution_count": null,
   "id": "fc70205c-0fef-458e-b080-b1127bd5ba14",
   "metadata": {},
   "outputs": [],
   "source": []
  },
  {
   "cell_type": "code",
   "execution_count": 34,
   "id": "6f5468bf-4db4-4625-a261-8997040456cb",
   "metadata": {},
   "outputs": [
    {
     "data": {
      "text/plain": [
       "{'math': {'moy': 6.539999999999994,\n",
       "  'med': 6.4,\n",
       "  'std': 1.4738249556850378,\n",
       "  'mad': 1.21516,\n",
       "  'iqr': 2.1999999999999993,\n",
       "  'ampl': 7.7},\n",
       " 'eng': {'moy': 6.672400000000001,\n",
       "  'med': 6.8,\n",
       "  'std': 1.536892397014183,\n",
       "  'mad': 1.2716008,\n",
       "  'iqr': 2.3,\n",
       "  'ampl': 8.8},\n",
       " 'index': {'mode': 0},\n",
       " 'gender': {'mode': 'F'},\n",
       " 'group': {'mode': 'lang'}}"
      ]
     },
     "metadata": {},
     "output_type": "display_data"
    }
   ],
   "source": [
    "\n",
    "d = {}\n",
    "\n",
    "for col in quanti_continu:\n",
    "    d[col] =  {}    \n",
    "    d[col][\"moy\"] = give_moy(dict_donnees[col])\n",
    "    d[col][\"med\"] = give_median(dict_donnees[col])\n",
    "    d[col][\"std\"] = give_std(dict_donnees[col])\n",
    "    d[col][\"mad\"] = give_mad(dict_donnees[col])\n",
    "    d[col][\"iqr\"] = give_IQR(dict_donnees[col])\n",
    "    d[col][\"ampl\"] = give_ampl(dict_donnees[col])\n",
    "\n",
    "\n",
    "for col in quali_nominal:\n",
    "    d[col] = {}\n",
    "    d[col][\"mode\"] = give_mode(dict_donnees[col])\n",
    "\n",
    "display(d)\n"
   ]
  },
  {
   "cell_type": "code",
   "execution_count": 35,
   "id": "99fa3745-ff86-401e-a43d-f143ede47389",
   "metadata": {},
   "outputs": [
    {
     "data": {
      "text/plain": [
       "index    499.5000\n",
       "math       6.5400\n",
       "eng        6.6724\n",
       "dtype: float64"
      ]
     },
     "execution_count": 35,
     "metadata": {},
     "output_type": "execute_result"
    }
   ],
   "source": [
    "df = pd.read_csv('notes_v2.csv')\n",
    "df.mean(numeric_only=True)"
   ]
  },
  {
   "cell_type": "code",
   "execution_count": 36,
   "id": "6fcbeca2-5255-4f33-bbfd-033d084fe653",
   "metadata": {},
   "outputs": [
    {
     "data": {
      "text/plain": [
       "index    499.5\n",
       "math       6.4\n",
       "eng        6.8\n",
       "dtype: float64"
      ]
     },
     "execution_count": 36,
     "metadata": {},
     "output_type": "execute_result"
    }
   ],
   "source": [
    "df.median(numeric_only=True)"
   ]
  },
  {
   "cell_type": "markdown",
   "id": "0639184f-ee6f-42f5-8047-08d87cda938e",
   "metadata": {},
   "source": [
    "### creation fonction bivarié"
   ]
  },
  {
   "cell_type": "code",
   "execution_count": 22,
   "id": "1ecb101f-f7a6-4433-aaf4-1176c555141b",
   "metadata": {},
   "outputs": [],
   "source": [
    "def cov(X,Y,bessel_correct=0):\n",
    "    len_ = len(X)\n",
    "    if len(Y)!=len_:\n",
    "        return \"error\"\n",
    "\n",
    "    m_x = give_moy(X)\n",
    "    m_y = give_moy(Y)\n",
    "    \n",
    "    res = 0\n",
    "    for i in range(len_):\n",
    "        x = X[i]\n",
    "        y = Y[i]\n",
    "        res += (x-m_x)*(y-m_y)\n",
    "    return res/(len_-bessel_correct)\n",
    "\n",
    "\n",
    "def corr(X,Y,bessel_correct=0):\n",
    "    covar = cov(X,Y,bessel_correct)\n",
    "    std_x = give_std(X,bessel_correct)\n",
    "    std_y = give_std(Y,bessel_correct)\n",
    "    return covar/(std_x*std_y)\n",
    "    "
   ]
  },
  {
   "cell_type": "code",
   "execution_count": 37,
   "id": "db7633c2-201a-475e-83a7-88a0f70e541a",
   "metadata": {},
   "outputs": [
    {
     "data": {
      "text/plain": [
       "-0.33945189185898006"
      ]
     },
     "execution_count": 37,
     "metadata": {},
     "output_type": "execute_result"
    }
   ],
   "source": [
    "corr(dict_donnees[\"math\"],dict_donnees[\"eng\"])"
   ]
  },
  {
   "cell_type": "code",
   "execution_count": null,
   "id": "0cf4685b-c7ca-44eb-ae95-36c9791145f4",
   "metadata": {},
   "outputs": [],
   "source": []
  }
 ],
 "metadata": {
  "kernelspec": {
   "display_name": "Python 3 (ipykernel)",
   "language": "python",
   "name": "python3"
  },
  "language_info": {
   "codemirror_mode": {
    "name": "ipython",
    "version": 3
   },
   "file_extension": ".py",
   "mimetype": "text/x-python",
   "name": "python",
   "nbconvert_exporter": "python",
   "pygments_lexer": "ipython3",
   "version": "3.11.11"
  }
 },
 "nbformat": 4,
 "nbformat_minor": 5
}
