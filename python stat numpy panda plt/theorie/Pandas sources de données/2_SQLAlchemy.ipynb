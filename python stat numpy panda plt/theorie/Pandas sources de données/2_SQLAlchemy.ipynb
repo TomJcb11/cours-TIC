{
 "cells": [
  {
   "cell_type": "markdown",
   "id": "3662e542-e14e-4e73-a241-ac85d6672554",
   "metadata": {},
   "source": [
    "# SQLAlchemy\n",
    "TL;DR:\n",
    "is python library with\n",
    "- Python-SQL toolkit (SQLAlchemy core):\n",
    "    - connection + CRUD (create_read_update_delete) from python to SQL\n",
    "\n",
    "- SQLAlchemy ORM : object relational mapping :\n",
    "    - CRUD of databases from python-code with no SQL queries/syntax, only python objects\n"
   ]
  },
  {
   "cell_type": "markdown",
   "id": "3cce41a5-7d1e-40f1-b14f-bef2692e65b3",
   "metadata": {},
   "source": [
    "# SQLAlchemy - core"
   ]
  },
  {
   "cell_type": "code",
   "execution_count": 1,
   "id": "91fbc45d-8109-43a4-b3bd-1288607d0596",
   "metadata": {},
   "outputs": [],
   "source": [
    "import pandas as pd\n",
    "import numpy as np\n",
    "\n",
    "import pyodbc  ## python -odbc : connection module for T-SQL with python (=\"driver\")\n",
    "\n",
    "from sqlalchemy import (\n",
    "    create_engine,  ## create a connection\n",
    "    text,  ## translate string/text into SQL-query via sqlalchemy\n",
    ")"
   ]
  },
  {
   "cell_type": "code",
   "execution_count": 2,
   "id": "5f261d64-0305-4453-90c0-05542fd9c175",
   "metadata": {},
   "outputs": [],
   "source": [
    "# import json ## translate json into python dictionaries and vice-versa\n",
    "\n",
    "# ### context manager\n",
    "# with open('usrpass.json','r') as jf:\n",
    "#     ## my username and password are stored in json, so i don't have to show it to you !\n",
    "#     user_pass = json.load(jf)\n"
   ]
  },
  {
   "cell_type": "markdown",
   "id": "250271bf-8e26-4991-9481-3d8f647686a5",
   "metadata": {},
   "source": [
    "# connection to T-SQL server + database"
   ]
  },
  {
   "cell_type": "code",
   "execution_count": 3,
   "id": "6ab680ed-662f-4d12-8a16-2b0f0550eb4b",
   "metadata": {},
   "outputs": [
    {
     "name": "stdout",
     "output_type": "stream",
     "text": [
      "Connexion réussie : Microsoft SQL Server 2022 (RTM) - 16.0.1000.6 (X64) \n",
      "\tOct  8 2022 05:58:25 \n",
      "\tCopyright (C) 2022 Microsoft Corporation\n",
      "\tDeveloper Edition (64-bit) on Windows 10 Pro 10.0 <X64> (Build 22631: ) (Hypervisor)\n",
      "\n"
     ]
    }
   ],
   "source": [
    "### ====== VARIABLES ====== ###\n",
    "dbms = \"mssql+pyodbc\"\n",
    "driver = \"ODBC Driver 17 for SQL Server\"\n",
    "server = r\"PORTABLE_TOM\\DATAVIZ\"\n",
    "database = \"DBSLIDE\"\n",
    "\n",
    "\n",
    "try:\n",
    "    # Connexion à SQL Server\n",
    "    conn = pyodbc.connect(\n",
    "        f\"DRIVER={{{driver}}};SERVER={server};DATABASE={database};Trusted_Connection=yes;\"\n",
    "    )\n",
    "    cursor = conn.cursor()\n",
    "\n",
    "    # Exécuter une requête simple pour tester\n",
    "    cursor.execute(\"SELECT @@VERSION\")\n",
    "    row = cursor.fetchone()\n",
    "\n",
    "    print(\"Connexion réussie :\", row[0])\n",
    "\n",
    "except Exception as e:\n",
    "    print(\"Erreur de connexion :\", e)\n",
    "\n",
    "\n",
    "con_string_trusted_windows_connection = (\n",
    "    f\"{dbms}://{server}/{database}?trusted_connection=yes&driver={driver}\"\n",
    ")\n",
    "\n",
    "### fully configured connection\n",
    "engine = create_engine(con_string_trusted_windows_connection)"
   ]
  },
  {
   "cell_type": "markdown",
   "id": "41f6b3bf-9303-42a5-865b-0efd21c14764",
   "metadata": {},
   "source": [
    "## testing the connection"
   ]
  },
  {
   "cell_type": "code",
   "execution_count": 4,
   "id": "59034510-98f7-4ab4-84c2-19a5cb9f8be4",
   "metadata": {},
   "outputs": [
    {
     "name": "stdout",
     "output_type": "stream",
     "text": [
      "[]\n",
      "[('Hello World',)]\n"
     ]
    }
   ],
   "source": [
    "open_connection = engine.connect()\n",
    "\n",
    "result_query = open_connection.execute(text(\"\"\"SELECT 'Hello World'\"\"\"))\n",
    "### result_query = reference/temporary value\n",
    "### \"text\"-function required for SQL alchemy: when feeding text-based queries, alternatives= SQLAlchemy-object\n",
    "res = (list(result_query)).copy()  ## independent copy\n",
    "\n",
    "open_connection.close()  ### need to close the file/connection when done\n",
    "print(list(result_query))  ### connection closed, now referenced to empty value\n",
    "print(res)  ### copied values, stayed"
   ]
  },
  {
   "cell_type": "code",
   "execution_count": 5,
   "id": "32851f80-7cea-461c-86f6-95e8b5e9f18f",
   "metadata": {},
   "outputs": [
    {
     "name": "stdout",
     "output_type": "stream",
     "text": [
      "[('Hello World 2',)]\n"
     ]
    }
   ],
   "source": [
    "with (\n",
    "    engine.connect() as myconn\n",
    "):  ## PYTHON: automatic closing of files and connections via \"with .. as .. :\"\n",
    "    result_query = myconn.execute(text(\"\"\"SELECT 'Hello World 2'\"\"\"))\n",
    "    res = (list(result_query)).copy()\n",
    "\n",
    "print(res)"
   ]
  },
  {
   "cell_type": "markdown",
   "id": "92a82e77-2934-49c2-a6a4-08e87c03a0b8",
   "metadata": {},
   "source": [
    "## no pandas : manual create,read,update,delete"
   ]
  },
  {
   "cell_type": "code",
   "execution_count": 6,
   "id": "2b09b99e-826b-49f0-b225-6fdec20f7c75",
   "metadata": {},
   "outputs": [],
   "source": [
    "### valid SQL syntax\n",
    "create_table = \"\"\"\n",
    "                    CREATE TABLE my_python_table\n",
    "                    (\n",
    "                        id INT IDENTITY PRIMARY KEY,\n",
    "                        val VARCHAR(50),\n",
    "                    )\n",
    "                \"\"\"\n",
    "insert_query = \"\"\"\n",
    "                    INSERT INTO my_python_table (val) VALUES\n",
    "                     ('a')\n",
    "                    ,('b')\n",
    "                    ,('c')\n",
    "                \"\"\"\n",
    "\n",
    "select_query = \"\"\"\n",
    "                    SELECT * FROM my_python_table\n",
    "                \"\"\"\n",
    "\n",
    "drop_table = \"\"\"\n",
    "                    DROP TABLE my_python_table\n",
    "                \"\"\""
   ]
  },
  {
   "cell_type": "code",
   "execution_count": 7,
   "id": "9dab6cf3-b3c1-471c-8f1f-1efccc752317",
   "metadata": {},
   "outputs": [
    {
     "name": "stdout",
     "output_type": "stream",
     "text": [
      "--------------------------------------------------\n",
      "[(1, 'a'), (2, 'b'), (3, 'c'), (4, 'a'), (5, 'b'), (6, 'c')]\n"
     ]
    }
   ],
   "source": [
    "with engine.connect() as myconn:\n",
    "    try:\n",
    "        myconn.execute(text(drop_table))\n",
    "    except:\n",
    "        pass\n",
    "\n",
    "    ### create table\n",
    "    myconn.execute(text(create_table))\n",
    "\n",
    "    ### bunch of inserts\n",
    "    myconn.execute(text(insert_query))\n",
    "    myconn.execute(text(insert_query))\n",
    "\n",
    "    ### select data\n",
    "    result_query = myconn.execute(text(select_query))\n",
    "    res = (list(result_query)).copy()\n",
    "\n",
    "    ### finalize transaction (default=rollback)\n",
    "    myconn.commit()\n",
    "print(\"-\" * 50)\n",
    "print(res)"
   ]
  },
  {
   "cell_type": "code",
   "execution_count": 8,
   "id": "50320c21-5a19-46bc-b451-56db09cb5118",
   "metadata": {},
   "outputs": [
    {
     "name": "stdout",
     "output_type": "stream",
     "text": [
      "--------------------------------------------------\n",
      "[(1, 'a'), (2, 'b'), (3, 'c'), (4, 'a'), (5, 'b'), (6, 'c'), (7, 'a'), (8, 'z'), (9, 'e'), (10, 'r'), (11, 't'), (12, 'y')]\n"
     ]
    }
   ],
   "source": [
    "list_of_dictionaries = [\n",
    "    {\"key\": \"a\"},\n",
    "    {\"key\": \"z\"},\n",
    "    {\"key\": \"e\"},\n",
    "    {\"key\": \"r\"},\n",
    "    {\"key\": \"t\"},\n",
    "    {\"key\": \"y\", \"unused_column\": np.nan},\n",
    "]\n",
    "### can be list,tupple;\n",
    "\n",
    "\n",
    "block_insert = \"\"\"\n",
    "                    INSERT INTO my_python_table (val) VALUES \n",
    "                    (:key\n",
    "                    )\n",
    "                \"\"\"\n",
    "### \":key\" the result/value from \"dictionary[key]\"\n",
    "\n",
    "\n",
    "with engine.connect() as myconn:\n",
    "    ### block insert\n",
    "    myconn.execute(text(block_insert), list_of_dictionaries)\n",
    "\n",
    "    ### select data\n",
    "    result_query = myconn.execute(text(select_query))\n",
    "    res = (list(result_query)).copy()\n",
    "\n",
    "    ### drop table\n",
    "    myconn.execute(text(drop_table))\n",
    "\n",
    "    ### finalize transaction (default=rollback)\n",
    "    # myconn.rollback()\n",
    "\n",
    "print(\"-\" * 50)\n",
    "print(res)"
   ]
  },
  {
   "cell_type": "code",
   "execution_count": 9,
   "id": "8aaf3f37-03cc-4684-8746-990284d98d12",
   "metadata": {},
   "outputs": [
    {
     "name": "stdout",
     "output_type": "stream",
     "text": [
      "[(1, 'a'), (2, 'b'), (3, 'c'), (4, 'a'), (5, 'b'), (6, 'c')]\n"
     ]
    }
   ],
   "source": [
    "### previous insert and drop tables have been undone when rollback :\n",
    "\n",
    "with engine.connect() as myconn:\n",
    "    ### select data\n",
    "    result_query = myconn.execute(text(select_query))\n",
    "    res = (list(result_query)).copy()\n",
    "\n",
    "print(res)"
   ]
  },
  {
   "cell_type": "markdown",
   "id": "c5eda4ea-f89c-4558-b22f-7e6f209e4e91",
   "metadata": {},
   "source": [
    "## with pandas "
   ]
  },
  {
   "cell_type": "code",
   "execution_count": 12,
   "id": "171a93d2-be28-49cf-9eca-5ccb7ad77cad",
   "metadata": {},
   "outputs": [
    {
     "data": {
      "text/html": [
       "<div>\n",
       "<style scoped>\n",
       "    .dataframe tbody tr th:only-of-type {\n",
       "        vertical-align: middle;\n",
       "    }\n",
       "\n",
       "    .dataframe tbody tr th {\n",
       "        vertical-align: top;\n",
       "    }\n",
       "\n",
       "    .dataframe thead th {\n",
       "        text-align: right;\n",
       "    }\n",
       "</style>\n",
       "<table border=\"1\" class=\"dataframe\">\n",
       "  <thead>\n",
       "    <tr style=\"text-align: right;\">\n",
       "      <th></th>\n",
       "      <th>index</th>\n",
       "      <th>id</th>\n",
       "      <th>val</th>\n",
       "    </tr>\n",
       "  </thead>\n",
       "  <tbody>\n",
       "    <tr>\n",
       "      <th>0</th>\n",
       "      <td>0</td>\n",
       "      <td>1</td>\n",
       "      <td>a</td>\n",
       "    </tr>\n",
       "    <tr>\n",
       "      <th>1</th>\n",
       "      <td>1</td>\n",
       "      <td>2</td>\n",
       "      <td>b</td>\n",
       "    </tr>\n",
       "    <tr>\n",
       "      <th>2</th>\n",
       "      <td>2</td>\n",
       "      <td>3</td>\n",
       "      <td>a</td>\n",
       "    </tr>\n",
       "  </tbody>\n",
       "</table>\n",
       "</div>"
      ],
      "text/plain": [
       "   index  id val\n",
       "0      0   1   a\n",
       "1      1   2   b\n",
       "2      2   3   a"
      ]
     },
     "metadata": {},
     "output_type": "display_data"
    },
    {
     "data": {
      "text/html": [
       "<div>\n",
       "<style scoped>\n",
       "    .dataframe tbody tr th:only-of-type {\n",
       "        vertical-align: middle;\n",
       "    }\n",
       "\n",
       "    .dataframe tbody tr th {\n",
       "        vertical-align: top;\n",
       "    }\n",
       "\n",
       "    .dataframe thead th {\n",
       "        text-align: right;\n",
       "    }\n",
       "</style>\n",
       "<table border=\"1\" class=\"dataframe\">\n",
       "  <thead>\n",
       "    <tr style=\"text-align: right;\">\n",
       "      <th></th>\n",
       "      <th>student_id</th>\n",
       "      <th>first_name</th>\n",
       "      <th>last_name</th>\n",
       "      <th>birth_date</th>\n",
       "      <th>login</th>\n",
       "      <th>section_id</th>\n",
       "      <th>year_result</th>\n",
       "      <th>course_id</th>\n",
       "    </tr>\n",
       "  </thead>\n",
       "  <tbody>\n",
       "    <tr>\n",
       "      <th>0</th>\n",
       "      <td>1</td>\n",
       "      <td>Georges</td>\n",
       "      <td>Lucas</td>\n",
       "      <td>1944-05-17</td>\n",
       "      <td>glucas</td>\n",
       "      <td>1320</td>\n",
       "      <td>10</td>\n",
       "      <td>EG2210</td>\n",
       "    </tr>\n",
       "    <tr>\n",
       "      <th>1</th>\n",
       "      <td>2</td>\n",
       "      <td>Clint</td>\n",
       "      <td>Eastwood</td>\n",
       "      <td>1930-05-31</td>\n",
       "      <td>ceastwoo</td>\n",
       "      <td>1010</td>\n",
       "      <td>4</td>\n",
       "      <td>EG2210</td>\n",
       "    </tr>\n",
       "    <tr>\n",
       "      <th>2</th>\n",
       "      <td>3</td>\n",
       "      <td>Sean</td>\n",
       "      <td>Connery</td>\n",
       "      <td>1930-08-25</td>\n",
       "      <td>sconnery</td>\n",
       "      <td>1020</td>\n",
       "      <td>12</td>\n",
       "      <td>EG2110</td>\n",
       "    </tr>\n",
       "  </tbody>\n",
       "</table>\n",
       "</div>"
      ],
      "text/plain": [
       "   student_id first_name last_name birth_date     login  section_id  \\\n",
       "0           1    Georges     Lucas 1944-05-17    glucas        1320   \n",
       "1           2      Clint  Eastwood 1930-05-31  ceastwoo        1010   \n",
       "2           3       Sean   Connery 1930-08-25  sconnery        1020   \n",
       "\n",
       "   year_result course_id  \n",
       "0           10    EG2210  \n",
       "1            4    EG2210  \n",
       "2           12    EG2110  "
      ]
     },
     "metadata": {},
     "output_type": "display_data"
    }
   ],
   "source": [
    "df = pd.DataFrame(data={\"id\": [1, 2, 3], \"val\": list(\"aba\")})\n",
    "with engine.connect() as con:\n",
    "    ### create/replace table\n",
    "    df.to_sql(name=\"my_df\", con=con, if_exists=\"replace\", index=True)\n",
    "\n",
    "    ### read table\n",
    "    df_from_sql = pd.read_sql_table(table_name=\"my_df\", con=con)\n",
    "\n",
    "    ### read query\n",
    "    df_from_sql_2 = pd.read_sql_query(sql=\"SELECT * FROM student\", con=con)\n",
    "\n",
    "\n",
    "display(df_from_sql)\n",
    "display(df_from_sql_2.head(3))"
   ]
  },
  {
   "cell_type": "code",
   "execution_count": 11,
   "id": "57224991-f128-4f73-95a5-782391854b18",
   "metadata": {},
   "outputs": [
    {
     "name": "stdout",
     "output_type": "stream",
     "text": [
      "This result object does not return rows. It has been closed automatically.\n",
      "Table my_df not found\n"
     ]
    }
   ],
   "source": [
    "with engine.connect() as con:\n",
    "    ### BAD PRACTICE: DON'T DO THIS !!!\n",
    "    try:\n",
    "        pd.read_sql_query(sql=\"DROP TABLE my_df\", con=con)\n",
    "        ### executed but return error: use sql alchemy to modify , NOT PANDAS !\n",
    "        ### this query doesn't return a row (no select)\n",
    "    except Exception as e:\n",
    "        print(e)\n",
    "\n",
    "    try:\n",
    "        df_from_sql = pd.read_sql_table(table_name=\"my_df\", con=con)\n",
    "        ### table dropped from above\n",
    "    except Exception as e:\n",
    "        print(e)"
   ]
  }
 ],
 "metadata": {
  "kernelspec": {
   "display_name": "Python 3",
   "language": "python",
   "name": "python3"
  },
  "language_info": {
   "codemirror_mode": {
    "name": "ipython",
    "version": 3
   },
   "file_extension": ".py",
   "mimetype": "text/x-python",
   "name": "python",
   "nbconvert_exporter": "python",
   "pygments_lexer": "ipython3",
   "version": "3.12.2"
  }
 },
 "nbformat": 4,
 "nbformat_minor": 5
}
