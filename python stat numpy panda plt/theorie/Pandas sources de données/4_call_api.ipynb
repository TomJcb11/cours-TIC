{
 "cells": [
  {
   "cell_type": "markdown",
   "id": "39ba4385-489b-4989-a58c-dcb07fad439f",
   "metadata": {},
   "source": [
    "# Call api\n",
    "API = Application Programming Interface\n",
    "\n",
    "-> standard communication gate between 2 programs (internet and/or local)"
   ]
  },
  {
   "cell_type": "code",
   "execution_count": null,
   "id": "dc19cf95-227e-4fe3-bf10-89ded7a7bf21",
   "metadata": {},
   "outputs": [],
   "source": [
    "### example:\n",
    "### doc url: https://open-meteo.com/\n",
    "### here : max 10_000 call per IP address, because it's free: don't be abusive\n",
    "\n",
    "\n",
    "### built url from documentation:\n",
    "### try in browser -->> return json\n",
    "url = \"https://api.open-meteo.com/v1/forecast?latitude=52.52&longitude=13.41&hourly=temperature_2m\"\n",
    "\n",
    "\n",
    "### the values associated to \"latitude\" and \"longitude\" are parameters => changeable with for loop !"
   ]
  },
  {
   "cell_type": "code",
   "execution_count": null,
   "id": "8c26b595-58ed-4745-8070-638b60bd136e",
   "metadata": {},
   "outputs": [],
   "source": [
    "import numpy as np\n",
    "import pandas as pd\n",
    "\n",
    "# import json\n",
    "import requests as req  ## status/connection to web"
   ]
  },
  {
   "cell_type": "code",
   "execution_count": null,
   "id": "0a820c8b-a158-4e53-8cc4-146df279fb0a",
   "metadata": {},
   "outputs": [
    {
     "name": "stdout",
     "output_type": "stream",
     "text": [
      "200\n"
     ]
    }
   ],
   "source": [
    "### test connection to internet\n",
    "\n",
    "response = req.get(url)\n",
    "print(response.status_code)  ## 200 = OK"
   ]
  },
  {
   "cell_type": "code",
   "execution_count": 5,
   "id": "e715ca9f-3059-4c16-974e-e6d3545d17ff",
   "metadata": {},
   "outputs": [
    {
     "data": {
      "text/plain": [
       "dict"
      ]
     },
     "execution_count": 5,
     "metadata": {},
     "output_type": "execute_result"
    }
   ],
   "source": [
    "type(response.json())"
   ]
  },
  {
   "cell_type": "code",
   "execution_count": 6,
   "id": "4c52e347-f998-4381-9b9f-41b835884248",
   "metadata": {},
   "outputs": [
    {
     "data": {
      "text/html": [
       "<div>\n",
       "<style scoped>\n",
       "    .dataframe tbody tr th:only-of-type {\n",
       "        vertical-align: middle;\n",
       "    }\n",
       "\n",
       "    .dataframe tbody tr th {\n",
       "        vertical-align: top;\n",
       "    }\n",
       "\n",
       "    .dataframe thead th {\n",
       "        text-align: right;\n",
       "    }\n",
       "</style>\n",
       "<table border=\"1\" class=\"dataframe\">\n",
       "  <thead>\n",
       "    <tr style=\"text-align: right;\">\n",
       "      <th></th>\n",
       "      <th>latitude</th>\n",
       "      <th>longitude</th>\n",
       "      <th>generationtime_ms</th>\n",
       "      <th>utc_offset_seconds</th>\n",
       "      <th>timezone</th>\n",
       "      <th>timezone_abbreviation</th>\n",
       "      <th>elevation</th>\n",
       "      <th>hourly_units.time</th>\n",
       "      <th>hourly_units.temperature_2m</th>\n",
       "      <th>hourly.time</th>\n",
       "      <th>hourly.temperature_2m</th>\n",
       "    </tr>\n",
       "  </thead>\n",
       "  <tbody>\n",
       "    <tr>\n",
       "      <th>0</th>\n",
       "      <td>52.52</td>\n",
       "      <td>13.419998</td>\n",
       "      <td>0.039577</td>\n",
       "      <td>0</td>\n",
       "      <td>GMT</td>\n",
       "      <td>GMT</td>\n",
       "      <td>38.0</td>\n",
       "      <td>iso8601</td>\n",
       "      <td>°C</td>\n",
       "      <td>[2025-02-05T00:00, 2025-02-05T01:00, 2025-02-0...</td>\n",
       "      <td>[-2.3, -2.7, -3.0, -2.8, -2.9, -2.8, -2.6, -1....</td>\n",
       "    </tr>\n",
       "  </tbody>\n",
       "</table>\n",
       "</div>"
      ],
      "text/plain": [
       "   latitude  longitude  generationtime_ms  utc_offset_seconds timezone  \\\n",
       "0     52.52  13.419998           0.039577                   0      GMT   \n",
       "\n",
       "  timezone_abbreviation  elevation hourly_units.time  \\\n",
       "0                   GMT       38.0           iso8601   \n",
       "\n",
       "  hourly_units.temperature_2m  \\\n",
       "0                          °C   \n",
       "\n",
       "                                         hourly.time  \\\n",
       "0  [2025-02-05T00:00, 2025-02-05T01:00, 2025-02-0...   \n",
       "\n",
       "                               hourly.temperature_2m  \n",
       "0  [-2.3, -2.7, -3.0, -2.8, -2.9, -2.8, -2.6, -1....  "
      ]
     },
     "execution_count": 6,
     "metadata": {},
     "output_type": "execute_result"
    }
   ],
   "source": [
    "json_df = pd.json_normalize(response.json())\n",
    "json_df"
   ]
  },
  {
   "cell_type": "code",
   "execution_count": 7,
   "id": "ae0cc2aa-fa90-44d2-9b28-9b426e7f2a9d",
   "metadata": {},
   "outputs": [
    {
     "data": {
      "text/html": [
       "<div>\n",
       "<style scoped>\n",
       "    .dataframe tbody tr th:only-of-type {\n",
       "        vertical-align: middle;\n",
       "    }\n",
       "\n",
       "    .dataframe tbody tr th {\n",
       "        vertical-align: top;\n",
       "    }\n",
       "\n",
       "    .dataframe thead th {\n",
       "        text-align: right;\n",
       "    }\n",
       "</style>\n",
       "<table border=\"1\" class=\"dataframe\">\n",
       "  <thead>\n",
       "    <tr style=\"text-align: right;\">\n",
       "      <th></th>\n",
       "      <th>hourly.time</th>\n",
       "      <th>hourly.temperature_2m</th>\n",
       "    </tr>\n",
       "  </thead>\n",
       "  <tbody>\n",
       "    <tr>\n",
       "      <th>0</th>\n",
       "      <td>[2025-02-05T00:00, 2025-02-05T01:00, 2025-02-0...</td>\n",
       "      <td>[-2.3, -2.7, -3.0, -2.8, -2.9, -2.8, -2.6, -1....</td>\n",
       "    </tr>\n",
       "  </tbody>\n",
       "</table>\n",
       "</div>"
      ],
      "text/plain": [
       "                                         hourly.time  \\\n",
       "0  [2025-02-05T00:00, 2025-02-05T01:00, 2025-02-0...   \n",
       "\n",
       "                               hourly.temperature_2m  \n",
       "0  [-2.3, -2.7, -3.0, -2.8, -2.9, -2.8, -2.6, -1....  "
      ]
     },
     "execution_count": 7,
     "metadata": {},
     "output_type": "execute_result"
    }
   ],
   "source": [
    "json_df[[\"hourly.time\", \"hourly.temperature_2m\"]]"
   ]
  },
  {
   "cell_type": "code",
   "execution_count": null,
   "id": "337a81f9-cc3d-438c-a7d2-c7537e0c1e76",
   "metadata": {},
   "outputs": [
    {
     "data": {
      "text/html": [
       "<div>\n",
       "<style scoped>\n",
       "    .dataframe tbody tr th:only-of-type {\n",
       "        vertical-align: middle;\n",
       "    }\n",
       "\n",
       "    .dataframe tbody tr th {\n",
       "        vertical-align: top;\n",
       "    }\n",
       "\n",
       "    .dataframe thead th {\n",
       "        text-align: right;\n",
       "    }\n",
       "</style>\n",
       "<table border=\"1\" class=\"dataframe\">\n",
       "  <thead>\n",
       "    <tr style=\"text-align: right;\">\n",
       "      <th></th>\n",
       "      <th>latitude</th>\n",
       "      <th>longitude</th>\n",
       "      <th>hourly.time</th>\n",
       "      <th>hourly.temperature_2m</th>\n",
       "    </tr>\n",
       "  </thead>\n",
       "  <tbody>\n",
       "    <tr>\n",
       "      <th>0</th>\n",
       "      <td>52.52</td>\n",
       "      <td>13.419998</td>\n",
       "      <td>2025-02-05T00:00</td>\n",
       "      <td>-2.3</td>\n",
       "    </tr>\n",
       "    <tr>\n",
       "      <th>0</th>\n",
       "      <td>52.52</td>\n",
       "      <td>13.419998</td>\n",
       "      <td>2025-02-05T01:00</td>\n",
       "      <td>-2.7</td>\n",
       "    </tr>\n",
       "    <tr>\n",
       "      <th>0</th>\n",
       "      <td>52.52</td>\n",
       "      <td>13.419998</td>\n",
       "      <td>2025-02-05T02:00</td>\n",
       "      <td>-3.0</td>\n",
       "    </tr>\n",
       "    <tr>\n",
       "      <th>0</th>\n",
       "      <td>52.52</td>\n",
       "      <td>13.419998</td>\n",
       "      <td>2025-02-05T03:00</td>\n",
       "      <td>-2.8</td>\n",
       "    </tr>\n",
       "    <tr>\n",
       "      <th>0</th>\n",
       "      <td>52.52</td>\n",
       "      <td>13.419998</td>\n",
       "      <td>2025-02-05T04:00</td>\n",
       "      <td>-2.9</td>\n",
       "    </tr>\n",
       "  </tbody>\n",
       "</table>\n",
       "</div>"
      ],
      "text/plain": [
       "   latitude  longitude       hourly.time hourly.temperature_2m\n",
       "0     52.52  13.419998  2025-02-05T00:00                  -2.3\n",
       "0     52.52  13.419998  2025-02-05T01:00                  -2.7\n",
       "0     52.52  13.419998  2025-02-05T02:00                  -3.0\n",
       "0     52.52  13.419998  2025-02-05T03:00                  -2.8\n",
       "0     52.52  13.419998  2025-02-05T04:00                  -2.9"
      ]
     },
     "execution_count": 8,
     "metadata": {},
     "output_type": "execute_result"
    }
   ],
   "source": [
    "### see function explode from pandas:\n",
    "### explode columns {hourly.time , hourly.temperature_2m} at the same time:\n",
    "### meaning:  first elem  of \"hourly.time\" with first elem of \"hourly.temperature_2m\"\n",
    "\n",
    "data = json_df[\n",
    "    [\"latitude\", \"longitude\", \"hourly.time\", \"hourly.temperature_2m\"]\n",
    "].explode(column=[\"hourly.time\", \"hourly.temperature_2m\"])\n",
    "data.head(5)"
   ]
  },
  {
   "cell_type": "code",
   "execution_count": null,
   "id": "7da08d71-9d7b-442b-9775-f64d6b7ba95a",
   "metadata": {},
   "outputs": [
    {
     "data": {
      "text/html": [
       "<div>\n",
       "<style scoped>\n",
       "    .dataframe tbody tr th:only-of-type {\n",
       "        vertical-align: middle;\n",
       "    }\n",
       "\n",
       "    .dataframe tbody tr th {\n",
       "        vertical-align: top;\n",
       "    }\n",
       "\n",
       "    .dataframe thead th {\n",
       "        text-align: right;\n",
       "    }\n",
       "</style>\n",
       "<table border=\"1\" class=\"dataframe\">\n",
       "  <thead>\n",
       "    <tr style=\"text-align: right;\">\n",
       "      <th></th>\n",
       "      <th>latitude</th>\n",
       "      <th>longitude</th>\n",
       "      <th>hourly.time</th>\n",
       "      <th>hourly.temperature_2m</th>\n",
       "    </tr>\n",
       "  </thead>\n",
       "  <tbody>\n",
       "    <tr>\n",
       "      <th>0</th>\n",
       "      <td>52.52</td>\n",
       "      <td>13.419998</td>\n",
       "      <td>2025-02-05T00:00</td>\n",
       "      <td>[-2.3, -2.7, -3.0, -2.8, -2.9, -2.8, -2.6, -1....</td>\n",
       "    </tr>\n",
       "    <tr>\n",
       "      <th>0</th>\n",
       "      <td>52.52</td>\n",
       "      <td>13.419998</td>\n",
       "      <td>2025-02-05T01:00</td>\n",
       "      <td>[-2.3, -2.7, -3.0, -2.8, -2.9, -2.8, -2.6, -1....</td>\n",
       "    </tr>\n",
       "    <tr>\n",
       "      <th>0</th>\n",
       "      <td>52.52</td>\n",
       "      <td>13.419998</td>\n",
       "      <td>2025-02-05T02:00</td>\n",
       "      <td>[-2.3, -2.7, -3.0, -2.8, -2.9, -2.8, -2.6, -1....</td>\n",
       "    </tr>\n",
       "    <tr>\n",
       "      <th>0</th>\n",
       "      <td>52.52</td>\n",
       "      <td>13.419998</td>\n",
       "      <td>2025-02-05T03:00</td>\n",
       "      <td>[-2.3, -2.7, -3.0, -2.8, -2.9, -2.8, -2.6, -1....</td>\n",
       "    </tr>\n",
       "    <tr>\n",
       "      <th>0</th>\n",
       "      <td>52.52</td>\n",
       "      <td>13.419998</td>\n",
       "      <td>2025-02-05T04:00</td>\n",
       "      <td>[-2.3, -2.7, -3.0, -2.8, -2.9, -2.8, -2.6, -1....</td>\n",
       "    </tr>\n",
       "  </tbody>\n",
       "</table>\n",
       "</div>"
      ],
      "text/plain": [
       "   latitude  longitude       hourly.time  \\\n",
       "0     52.52  13.419998  2025-02-05T00:00   \n",
       "0     52.52  13.419998  2025-02-05T01:00   \n",
       "0     52.52  13.419998  2025-02-05T02:00   \n",
       "0     52.52  13.419998  2025-02-05T03:00   \n",
       "0     52.52  13.419998  2025-02-05T04:00   \n",
       "\n",
       "                               hourly.temperature_2m  \n",
       "0  [-2.3, -2.7, -3.0, -2.8, -2.9, -2.8, -2.6, -1....  \n",
       "0  [-2.3, -2.7, -3.0, -2.8, -2.9, -2.8, -2.6, -1....  \n",
       "0  [-2.3, -2.7, -3.0, -2.8, -2.9, -2.8, -2.6, -1....  \n",
       "0  [-2.3, -2.7, -3.0, -2.8, -2.9, -2.8, -2.6, -1....  \n",
       "0  [-2.3, -2.7, -3.0, -2.8, -2.9, -2.8, -2.6, -1....  "
      ]
     },
     "execution_count": 9,
     "metadata": {},
     "output_type": "execute_result"
    }
   ],
   "source": [
    "### not good (with this data):\n",
    "### here: no joined extraction of list\n",
    "data_1 = json_df[\n",
    "    [\"latitude\", \"longitude\", \"hourly.time\", \"hourly.temperature_2m\"]\n",
    "].explode(column=[\"hourly.time\"])  # .explode(column=[\"hourly.temperature_2m\"])\n",
    "data_1.head()"
   ]
  }
 ],
 "metadata": {
  "kernelspec": {
   "display_name": "base",
   "language": "python",
   "name": "python3"
  },
  "language_info": {
   "codemirror_mode": {
    "name": "ipython",
    "version": 3
   },
   "file_extension": ".py",
   "mimetype": "text/x-python",
   "name": "python",
   "nbconvert_exporter": "python",
   "pygments_lexer": "ipython3",
   "version": "3.12.7"
  }
 },
 "nbformat": 4,
 "nbformat_minor": 5
}
