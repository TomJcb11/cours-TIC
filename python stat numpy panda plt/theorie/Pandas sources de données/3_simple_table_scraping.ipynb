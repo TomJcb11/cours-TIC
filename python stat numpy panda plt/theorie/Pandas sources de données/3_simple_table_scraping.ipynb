{
 "cells": [
  {
   "cell_type": "code",
   "execution_count": 1,
   "id": "76a65145-bafd-4e24-8566-ef79602f8fd7",
   "metadata": {},
   "outputs": [],
   "source": [
    "import numpy as np\n",
    "import pandas as pd"
   ]
  },
  {
   "cell_type": "code",
   "execution_count": null,
   "id": "c25eae67-e12d-4f7d-afca-2ab753e4a010",
   "metadata": {},
   "outputs": [],
   "source": [
    "url = \"https://en.wikipedia.org/wiki/List_of_countries_by_GDP_(PPP)_per_capita\"\n",
    "\n",
    "LIST_OF_DF = pd.read_html(url)  ## require internet connection"
   ]
  },
  {
   "cell_type": "code",
   "execution_count": null,
   "id": "5cb87106-f920-4f7d-aba7-34447cd5d627",
   "metadata": {},
   "outputs": [
    {
     "data": {
      "text/plain": [
       "(list, 10)"
      ]
     },
     "execution_count": 3,
     "metadata": {},
     "output_type": "execute_result"
    }
   ],
   "source": [
    "type(LIST_OF_DF), len(LIST_OF_DF)"
   ]
  },
  {
   "cell_type": "code",
   "execution_count": 4,
   "id": "72429500-fdc2-45c7-be24-8550a49b2cd5",
   "metadata": {},
   "outputs": [
    {
     "data": {
      "text/html": [
       "<div>\n",
       "<style scoped>\n",
       "    .dataframe tbody tr th:only-of-type {\n",
       "        vertical-align: middle;\n",
       "    }\n",
       "\n",
       "    .dataframe tbody tr th {\n",
       "        vertical-align: top;\n",
       "    }\n",
       "\n",
       "    .dataframe thead th {\n",
       "        text-align: right;\n",
       "    }\n",
       "</style>\n",
       "<table border=\"1\" class=\"dataframe\">\n",
       "  <thead>\n",
       "    <tr style=\"text-align: right;\">\n",
       "      <th></th>\n",
       "      <th>0</th>\n",
       "      <th>1</th>\n",
       "    </tr>\n",
       "  </thead>\n",
       "  <tbody>\n",
       "    <tr>\n",
       "      <th>0</th>\n",
       "      <td>NaN</td>\n",
       "      <td>This article needs to be updated. Please help ...</td>\n",
       "    </tr>\n",
       "  </tbody>\n",
       "</table>\n",
       "</div>"
      ],
      "text/plain": [
       "    0                                                  1\n",
       "0 NaN  This article needs to be updated. Please help ..."
      ]
     },
     "execution_count": 4,
     "metadata": {},
     "output_type": "execute_result"
    }
   ],
   "source": [
    "LIST_OF_DF[0]"
   ]
  },
  {
   "cell_type": "code",
   "execution_count": 5,
   "id": "552d54b9-3cd4-45bf-9274-8528520d6b9d",
   "metadata": {},
   "outputs": [
    {
     "data": {
      "text/html": [
       "<div>\n",
       "<style scoped>\n",
       "    .dataframe tbody tr th:only-of-type {\n",
       "        vertical-align: middle;\n",
       "    }\n",
       "\n",
       "    .dataframe tbody tr th {\n",
       "        vertical-align: top;\n",
       "    }\n",
       "\n",
       "    .dataframe thead th {\n",
       "        text-align: right;\n",
       "    }\n",
       "</style>\n",
       "<table border=\"1\" class=\"dataframe\">\n",
       "  <thead>\n",
       "    <tr style=\"text-align: right;\">\n",
       "      <th></th>\n",
       "      <th>0</th>\n",
       "      <th>1</th>\n",
       "      <th>2</th>\n",
       "    </tr>\n",
       "  </thead>\n",
       "  <tbody>\n",
       "    <tr>\n",
       "      <th>0</th>\n",
       "      <td>&gt;$60,000 $50,000 – $60,000 $40,000 – $50,000 $...</td>\n",
       "      <td>$20,000 – $30,000 $10,000 – $20,000 $5,000 – $...</td>\n",
       "      <td>$1,000 – $2,500 &lt;$1,000 No data</td>\n",
       "    </tr>\n",
       "  </tbody>\n",
       "</table>\n",
       "</div>"
      ],
      "text/plain": [
       "                                                   0  \\\n",
       "0  >$60,000 $50,000 – $60,000 $40,000 – $50,000 $...   \n",
       "\n",
       "                                                   1  \\\n",
       "0  $20,000 – $30,000 $10,000 – $20,000 $5,000 – $...   \n",
       "\n",
       "                                 2  \n",
       "0  $1,000 – $2,500 <$1,000 No data  "
      ]
     },
     "execution_count": 5,
     "metadata": {},
     "output_type": "execute_result"
    }
   ],
   "source": [
    "LIST_OF_DF[1]"
   ]
  },
  {
   "cell_type": "code",
   "execution_count": 7,
   "id": "e0ad8fde-21c7-428b-88cb-fd3e1dcc9dfc",
   "metadata": {},
   "outputs": [],
   "source": [
    "my_table = LIST_OF_DF[1]"
   ]
  },
  {
   "cell_type": "code",
   "execution_count": 6,
   "id": "493e44e2-a200-465f-8de6-83a7291be57c",
   "metadata": {},
   "outputs": [
    {
     "data": {
      "text/plain": [
       "MultiIndex([('Country/Territory', 'Country/Territory'),\n",
       "            (        'IMF[5][6]',        'Projection'),\n",
       "            (        'IMF[5][6]',              'Year'),\n",
       "            (    'World Bank[7]',          'Estimate'),\n",
       "            (    'World Bank[7]',              'Year'),\n",
       "            (    'CIA[8][9][10]',          'Estimate'),\n",
       "            (    'CIA[8][9][10]',              'Year')],\n",
       "           )"
      ]
     },
     "execution_count": 6,
     "metadata": {},
     "output_type": "execute_result"
    }
   ],
   "source": [
    "my_table.columns"
   ]
  },
  {
   "cell_type": "code",
   "execution_count": null,
   "id": "9b54b8a1-05ef-4d16-bead-b2b6a556dced",
   "metadata": {},
   "outputs": [],
   "source": []
  }
 ],
 "metadata": {
  "kernelspec": {
   "display_name": "base",
   "language": "python",
   "name": "python3"
  },
  "language_info": {
   "codemirror_mode": {
    "name": "ipython",
    "version": 3
   },
   "file_extension": ".py",
   "mimetype": "text/x-python",
   "name": "python",
   "nbconvert_exporter": "python",
   "pygments_lexer": "ipython3",
   "version": "3.12.7"
  }
 },
 "nbformat": 4,
 "nbformat_minor": 5
}
