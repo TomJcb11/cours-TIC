{
 "cells": [
  {
   "cell_type": "markdown",
   "metadata": {},
   "source": [
    "# Validation Tools - Practice HR 🏢👨‍👨‍👧‍👦\n",
    "\n",
    "\n",
    "### Step 1\n",
    "*Import Libraries*\n",
    "You need to work with :\n",
    "+ Numpy\n",
    "+ Pandas\n",
    "+ Matplotlib\n",
    "+ Seaborn\n"
   ]
  },
  {
   "cell_type": "code",
   "execution_count": 20,
   "metadata": {},
   "outputs": [],
   "source": [
    "# Import Libraries\n",
    "# Put Your Code Below ...\n",
    "\n"
   ]
  },
  {
   "cell_type": "markdown",
   "metadata": {},
   "source": [
    "### Step 2 \n",
    "**Get Datas**<br>\n",
    "Your Datas are stored in a CSV files *HR_comma_sep.csv'*\n",
    "- Import your data in a variable name **hr_df** for your datasets\n",
    "- Display 3 first observations"
   ]
  },
  {
   "cell_type": "code",
   "execution_count": 21,
   "metadata": {},
   "outputs": [
    {
     "data": {
      "text/html": [
       "<div>\n",
       "<style scoped>\n",
       "    .dataframe tbody tr th:only-of-type {\n",
       "        vertical-align: middle;\n",
       "    }\n",
       "\n",
       "    .dataframe tbody tr th {\n",
       "        vertical-align: top;\n",
       "    }\n",
       "\n",
       "    .dataframe thead th {\n",
       "        text-align: right;\n",
       "    }\n",
       "</style>\n",
       "<table border=\"1\" class=\"dataframe\">\n",
       "  <thead>\n",
       "    <tr style=\"text-align: right;\">\n",
       "      <th></th>\n",
       "      <th>satisfaction_level</th>\n",
       "      <th>last_evaluation</th>\n",
       "      <th>number_project</th>\n",
       "      <th>average_montly_hours</th>\n",
       "      <th>time_spend_company</th>\n",
       "      <th>Work_accident</th>\n",
       "      <th>left</th>\n",
       "      <th>promotion_last_5years</th>\n",
       "      <th>Department</th>\n",
       "      <th>salary</th>\n",
       "    </tr>\n",
       "  </thead>\n",
       "  <tbody>\n",
       "    <tr>\n",
       "      <th>0</th>\n",
       "      <td>0.38</td>\n",
       "      <td>0.53</td>\n",
       "      <td>2</td>\n",
       "      <td>157</td>\n",
       "      <td>3</td>\n",
       "      <td>0</td>\n",
       "      <td>1</td>\n",
       "      <td>0</td>\n",
       "      <td>sales</td>\n",
       "      <td>low</td>\n",
       "    </tr>\n",
       "    <tr>\n",
       "      <th>1</th>\n",
       "      <td>0.80</td>\n",
       "      <td>0.86</td>\n",
       "      <td>5</td>\n",
       "      <td>262</td>\n",
       "      <td>6</td>\n",
       "      <td>0</td>\n",
       "      <td>1</td>\n",
       "      <td>0</td>\n",
       "      <td>sales</td>\n",
       "      <td>medium</td>\n",
       "    </tr>\n",
       "    <tr>\n",
       "      <th>2</th>\n",
       "      <td>0.11</td>\n",
       "      <td>0.88</td>\n",
       "      <td>7</td>\n",
       "      <td>272</td>\n",
       "      <td>4</td>\n",
       "      <td>0</td>\n",
       "      <td>1</td>\n",
       "      <td>0</td>\n",
       "      <td>sales</td>\n",
       "      <td>medium</td>\n",
       "    </tr>\n",
       "  </tbody>\n",
       "</table>\n",
       "</div>"
      ],
      "text/plain": [
       "   satisfaction_level  last_evaluation  number_project  average_montly_hours  \\\n",
       "0                0.38             0.53               2                   157   \n",
       "1                0.80             0.86               5                   262   \n",
       "2                0.11             0.88               7                   272   \n",
       "\n",
       "   time_spend_company  Work_accident  left  promotion_last_5years Department  \\\n",
       "0                   3              0     1                      0      sales   \n",
       "1                   6              0     1                      0      sales   \n",
       "2                   4              0     1                      0      sales   \n",
       "\n",
       "   salary  \n",
       "0     low  \n",
       "1  medium  \n",
       "2  medium  "
      ]
     },
     "execution_count": 21,
     "metadata": {},
     "output_type": "execute_result"
    }
   ],
   "source": [
    "# Put Your Code Below ...\n"
   ]
  },
  {
   "cell_type": "markdown",
   "metadata": {},
   "source": [
    "## EDA\n",
    "**Missing Values**\n",
    "## Step 3.a\n",
    "Per columns how much data are missing ?"
   ]
  },
  {
   "cell_type": "code",
   "execution_count": 22,
   "metadata": {},
   "outputs": [
    {
     "data": {
      "text/plain": [
       "satisfaction_level       0\n",
       "last_evaluation          0\n",
       "number_project           0\n",
       "average_montly_hours     0\n",
       "time_spend_company       0\n",
       "Work_accident            0\n",
       "left                     0\n",
       "promotion_last_5years    0\n",
       "Department               0\n",
       "salary                   0\n",
       "dtype: int64"
      ]
     },
     "execution_count": 22,
     "metadata": {},
     "output_type": "execute_result"
    }
   ],
   "source": [
    "# Put Your Code Below ...\n"
   ]
  },
  {
   "cell_type": "markdown",
   "metadata": {},
   "source": [
    "### Step 3.b\n",
    "#### Q. With Seaborn could you visualize it ?"
   ]
  },
  {
   "cell_type": "code",
   "execution_count": 23,
   "metadata": {},
   "outputs": [
    {
     "data": {
      "text/plain": [
       "<Axes: >"
      ]
     },
     "execution_count": 23,
     "metadata": {},
     "output_type": "execute_result"
    },
    {
     "data": {
      "image/png": "[encoded data removed]",
      "text/plain": [
       "<Figure size 640x480 with 2 Axes>"
      ]
     },
     "metadata": {},
     "output_type": "display_data"
    }
   ],
   "source": [
    "# Put Your Code Below ...\n",
    "# cmap : ocean, white, gray, etc...\n"
   ]
  },
  {
   "cell_type": "markdown",
   "metadata": {},
   "source": [
    "### Step 4.a\n",
    "#### Q. How many employees are in hr_df ?"
   ]
  },
  {
   "cell_type": "code",
   "execution_count": 29,
   "metadata": {},
   "outputs": [
    {
     "data": {
      "text/plain": [
       "'There are 14999 employees'"
      ]
     },
     "execution_count": 29,
     "metadata": {},
     "output_type": "execute_result"
    }
   ],
   "source": [
    "# Complete the Code Below ...\n",
    "f\"There are {...} employees\""
   ]
  },
  {
   "cell_type": "markdown",
   "metadata": {},
   "source": [
    "### Step 4.b\n",
    "#### Q. How many employees left company ?"
   ]
  },
  {
   "cell_type": "code",
   "execution_count": 30,
   "metadata": {},
   "outputs": [
    {
     "data": {
      "text/plain": [
       "array([1, 0])"
      ]
     },
     "execution_count": 30,
     "metadata": {},
     "output_type": "execute_result"
    }
   ],
   "source": [
    "# Put Your Code Below ...\n",
    "# To Answer that question. \n",
    "# First of all what column gives you that information and how is it categorized\n",
    "# Put Your Code Below ...\n"
   ]
  },
  {
   "cell_type": "code",
   "execution_count": 31,
   "metadata": {},
   "outputs": [
    {
     "name": "stdout",
     "output_type": "stream",
     "text": [
      "3571 left the company\n"
     ]
    }
   ],
   "source": [
    "# Put a filter mask on that column , put the result in a variable called left\n",
    "# The format a string to display the answer below, replace \"...\" by your code then uncomment\n",
    "# Put Your Code Below ...\n",
    "left =...\n",
    "\n",
    "# print(f'{left.shape[0]} left the company')"
   ]
  },
  {
   "cell_type": "code",
   "execution_count": 32,
   "metadata": {},
   "outputs": [
    {
     "name": "stdout",
     "output_type": "stream",
     "text": [
      "11428 remained in the company\n"
     ]
    }
   ],
   "source": [
    "# Do the same thing for the retained employees...\n",
    "retained = ...\n",
    "\n",
    "# print(f'{retained.shape[0]} remained in the company')"
   ]
  },
  {
   "cell_type": "markdown",
   "metadata": {},
   "source": [
    "### Step 5\n",
    "**Categoricals Vs Numericals**\n",
    "\n",
    "### Step 5.a\n",
    "#### Q. Using a mask display numericals columns"
   ]
  },
  {
   "cell_type": "code",
   "execution_count": 41,
   "metadata": {},
   "outputs": [
    {
     "data": {
      "text/plain": [
       "satisfaction_level        True\n",
       "last_evaluation           True\n",
       "number_project            True\n",
       "average_montly_hours      True\n",
       "time_spend_company        True\n",
       "Work_accident             True\n",
       "left                      True\n",
       "promotion_last_5years     True\n",
       "Department               False\n",
       "salary                   False\n",
       "dtype: bool"
      ]
     },
     "execution_count": 41,
     "metadata": {},
     "output_type": "execute_result"
    }
   ],
   "source": [
    "# Create a variable name mask\n",
    "mask = hr_df.dtypes!='object'\n",
    "mask"
   ]
  },
  {
   "cell_type": "markdown",
   "metadata": {},
   "source": [
    "### Step 5.b\n",
    "#### Q. Display the subset of hr_df dataFrame, with only numericals columns \n",
    "Hints: Use the mask and loc<br> \n",
    "show only the 5 first lines."
   ]
  },
  {
   "cell_type": "code",
   "execution_count": 50,
   "metadata": {},
   "outputs": [
    {
     "data": {
      "text/html": [
       "<div>\n",
       "<style scoped>\n",
       "    .dataframe tbody tr th:only-of-type {\n",
       "        vertical-align: middle;\n",
       "    }\n",
       "\n",
       "    .dataframe tbody tr th {\n",
       "        vertical-align: top;\n",
       "    }\n",
       "\n",
       "    .dataframe thead th {\n",
       "        text-align: right;\n",
       "    }\n",
       "</style>\n",
       "<table border=\"1\" class=\"dataframe\">\n",
       "  <thead>\n",
       "    <tr style=\"text-align: right;\">\n",
       "      <th></th>\n",
       "      <th>satisfaction_level</th>\n",
       "      <th>last_evaluation</th>\n",
       "      <th>number_project</th>\n",
       "      <th>average_montly_hours</th>\n",
       "      <th>time_spend_company</th>\n",
       "      <th>Work_accident</th>\n",
       "      <th>left</th>\n",
       "      <th>promotion_last_5years</th>\n",
       "    </tr>\n",
       "  </thead>\n",
       "  <tbody>\n",
       "    <tr>\n",
       "      <th>0</th>\n",
       "      <td>0.38</td>\n",
       "      <td>0.53</td>\n",
       "      <td>2</td>\n",
       "      <td>157</td>\n",
       "      <td>3</td>\n",
       "      <td>0</td>\n",
       "      <td>1</td>\n",
       "      <td>0</td>\n",
       "    </tr>\n",
       "    <tr>\n",
       "      <th>1</th>\n",
       "      <td>0.80</td>\n",
       "      <td>0.86</td>\n",
       "      <td>5</td>\n",
       "      <td>262</td>\n",
       "      <td>6</td>\n",
       "      <td>0</td>\n",
       "      <td>1</td>\n",
       "      <td>0</td>\n",
       "    </tr>\n",
       "    <tr>\n",
       "      <th>2</th>\n",
       "      <td>0.11</td>\n",
       "      <td>0.88</td>\n",
       "      <td>7</td>\n",
       "      <td>272</td>\n",
       "      <td>4</td>\n",
       "      <td>0</td>\n",
       "      <td>1</td>\n",
       "      <td>0</td>\n",
       "    </tr>\n",
       "    <tr>\n",
       "      <th>3</th>\n",
       "      <td>0.72</td>\n",
       "      <td>0.87</td>\n",
       "      <td>5</td>\n",
       "      <td>223</td>\n",
       "      <td>5</td>\n",
       "      <td>0</td>\n",
       "      <td>1</td>\n",
       "      <td>0</td>\n",
       "    </tr>\n",
       "    <tr>\n",
       "      <th>4</th>\n",
       "      <td>0.37</td>\n",
       "      <td>0.52</td>\n",
       "      <td>2</td>\n",
       "      <td>159</td>\n",
       "      <td>3</td>\n",
       "      <td>0</td>\n",
       "      <td>1</td>\n",
       "      <td>0</td>\n",
       "    </tr>\n",
       "  </tbody>\n",
       "</table>\n",
       "</div>"
      ],
      "text/plain": [
       "   satisfaction_level  last_evaluation  number_project  average_montly_hours  \\\n",
       "0                0.38             0.53               2                   157   \n",
       "1                0.80             0.86               5                   262   \n",
       "2                0.11             0.88               7                   272   \n",
       "3                0.72             0.87               5                   223   \n",
       "4                0.37             0.52               2                   159   \n",
       "\n",
       "   time_spend_company  Work_accident  left  promotion_last_5years  \n",
       "0                   3              0     1                      0  \n",
       "1                   6              0     1                      0  \n",
       "2                   4              0     1                      0  \n",
       "3                   5              0     1                      0  \n",
       "4                   3              0     1                      0  "
      ]
     },
     "execution_count": 50,
     "metadata": {},
     "output_type": "execute_result"
    }
   ],
   "source": [
    "# Put your code below ...\n"
   ]
  },
  {
   "cell_type": "markdown",
   "metadata": {},
   "source": [
    "### Step 6\n",
    "**Grouping by left**\n",
    "#### Q. How much the others parameters influence the target [ left]?"
   ]
  },
  {
   "cell_type": "code",
   "execution_count": 34,
   "metadata": {},
   "outputs": [
    {
     "data": {
      "text/html": [
       "<div>\n",
       "<style scoped>\n",
       "    .dataframe tbody tr th:only-of-type {\n",
       "        vertical-align: middle;\n",
       "    }\n",
       "\n",
       "    .dataframe tbody tr th {\n",
       "        vertical-align: top;\n",
       "    }\n",
       "\n",
       "    .dataframe thead th {\n",
       "        text-align: right;\n",
       "    }\n",
       "</style>\n",
       "<table border=\"1\" class=\"dataframe\">\n",
       "  <thead>\n",
       "    <tr style=\"text-align: right;\">\n",
       "      <th></th>\n",
       "      <th>satisfaction_level</th>\n",
       "      <th>last_evaluation</th>\n",
       "      <th>number_project</th>\n",
       "      <th>average_montly_hours</th>\n",
       "      <th>time_spend_company</th>\n",
       "      <th>Work_accident</th>\n",
       "      <th>promotion_last_5years</th>\n",
       "    </tr>\n",
       "    <tr>\n",
       "      <th>left</th>\n",
       "      <th></th>\n",
       "      <th></th>\n",
       "      <th></th>\n",
       "      <th></th>\n",
       "      <th></th>\n",
       "      <th></th>\n",
       "      <th></th>\n",
       "    </tr>\n",
       "  </thead>\n",
       "  <tbody>\n",
       "    <tr>\n",
       "      <th>0</th>\n",
       "      <td>0.666810</td>\n",
       "      <td>0.715473</td>\n",
       "      <td>3.786664</td>\n",
       "      <td>199.060203</td>\n",
       "      <td>3.380032</td>\n",
       "      <td>0.175009</td>\n",
       "      <td>0.026251</td>\n",
       "    </tr>\n",
       "    <tr>\n",
       "      <th>1</th>\n",
       "      <td>0.440098</td>\n",
       "      <td>0.718113</td>\n",
       "      <td>3.855503</td>\n",
       "      <td>207.419210</td>\n",
       "      <td>3.876505</td>\n",
       "      <td>0.047326</td>\n",
       "      <td>0.005321</td>\n",
       "    </tr>\n",
       "  </tbody>\n",
       "</table>\n",
       "</div>"
      ],
      "text/plain": [
       "      satisfaction_level  last_evaluation  number_project  \\\n",
       "left                                                        \n",
       "0               0.666810         0.715473        3.786664   \n",
       "1               0.440098         0.718113        3.855503   \n",
       "\n",
       "      average_montly_hours  time_spend_company  Work_accident  \\\n",
       "left                                                            \n",
       "0               199.060203            3.380032       0.175009   \n",
       "1               207.419210            3.876505       0.047326   \n",
       "\n",
       "      promotion_last_5years  \n",
       "left                         \n",
       "0                  0.026251  \n",
       "1                  0.005321  "
      ]
     },
     "execution_count": 34,
     "metadata": {},
     "output_type": "execute_result"
    }
   ],
   "source": [
    "# Create a group by left , display mean of all columns\n",
    "grp_left = ...\n",
    "grp_left"
   ]
  },
  {
   "cell_type": "markdown",
   "metadata": {},
   "source": [
    "### Step 7\n",
    "#### Q. using grp_left and matplotlib display the visual below, based on satisfaction_level column.\n"
   ]
  },
  {
   "cell_type": "code",
   "execution_count": 51,
   "metadata": {},
   "outputs": [
    {
     "data": {
      "text/plain": [
       "<Axes: xlabel='left'>"
      ]
     },
     "execution_count": 51,
     "metadata": {},
     "output_type": "execute_result"
    },
    {
     "data": {
      "image/png": "[encoded data removed]",
      "text/plain": [
       "<Figure size 640x480 with 1 Axes>"
      ]
     },
     "metadata": {},
     "output_type": "display_data"
    }
   ],
   "source": [
    "# Put your code below ...\n"
   ]
  },
  {
   "cell_type": "markdown",
   "metadata": {},
   "source": [
    "### Step 8\n",
    "#### Q. What are your conclusions ?\n",
    "##### Put your conclusions based on **grp_left** and **the visual** above\n",
    "----------------------------------------------------------------\n",
    ">Conclusions:\n",
    ">- ................................................................\n",
    ">- ................................................................\n"
   ]
  },
  {
   "cell_type": "markdown",
   "metadata": {},
   "source": [
    "### Step 9:a \n",
    "#### Q Create a Frequencies Tables using pd.crosstab, and column salary and left of the hr_df \n",
    "Put the result in a variable named **sal_left_df**"
   ]
  },
  {
   "cell_type": "code",
   "execution_count": 52,
   "metadata": {},
   "outputs": [
    {
     "data": {
      "text/html": [
       "<div>\n",
       "<style scoped>\n",
       "    .dataframe tbody tr th:only-of-type {\n",
       "        vertical-align: middle;\n",
       "    }\n",
       "\n",
       "    .dataframe tbody tr th {\n",
       "        vertical-align: top;\n",
       "    }\n",
       "\n",
       "    .dataframe thead th {\n",
       "        text-align: right;\n",
       "    }\n",
       "</style>\n",
       "<table border=\"1\" class=\"dataframe\">\n",
       "  <thead>\n",
       "    <tr style=\"text-align: right;\">\n",
       "      <th></th>\n",
       "      <th>left</th>\n",
       "      <th>stayed</th>\n",
       "    </tr>\n",
       "    <tr>\n",
       "      <th>salary</th>\n",
       "      <th></th>\n",
       "      <th></th>\n",
       "    </tr>\n",
       "  </thead>\n",
       "  <tbody>\n",
       "    <tr>\n",
       "      <th>high</th>\n",
       "      <td>1155</td>\n",
       "      <td>82</td>\n",
       "    </tr>\n",
       "    <tr>\n",
       "      <th>low</th>\n",
       "      <td>5144</td>\n",
       "      <td>2172</td>\n",
       "    </tr>\n",
       "    <tr>\n",
       "      <th>medium</th>\n",
       "      <td>5129</td>\n",
       "      <td>1317</td>\n",
       "    </tr>\n",
       "  </tbody>\n",
       "</table>\n",
       "</div>"
      ],
      "text/plain": [
       "        left  stayed\n",
       "salary              \n",
       "high    1155      82\n",
       "low     5144    2172\n",
       "medium  5129    1317"
      ]
     },
     "execution_count": 52,
     "metadata": {},
     "output_type": "execute_result"
    }
   ],
   "source": [
    "# Put your code below\n",
    "sal_left_df = ...\n",
    "\n",
    "# rename created columns in ['left', 'stayed']\n",
    "# Put your code below\n",
    "# ...\n",
    "\n",
    "# then display\n",
    "sal_left_df\n"
   ]
  },
  {
   "cell_type": "markdown",
   "metadata": {},
   "source": [
    "### Step 9:b\n",
    "#### Q. Use matplotlib or seaborn to display the frequencies table"
   ]
  },
  {
   "cell_type": "code",
   "execution_count": 53,
   "metadata": {},
   "outputs": [
    {
     "data": {
      "text/plain": [
       "<Axes: xlabel='salary'>"
      ]
     },
     "execution_count": 53,
     "metadata": {},
     "output_type": "execute_result"
    },
    {
     "data": {
      "image/png": "[encoded data removed]",
      "text/plain": [
       "<Figure size 640x480 with 1 Axes>"
      ]
     },
     "metadata": {},
     "output_type": "display_data"
    }
   ],
   "source": [
    "# Put your code below\n"
   ]
  },
  {
   "cell_type": "markdown",
   "metadata": {},
   "source": [
    "### Step 10\n",
    "#### Q. Do you do in one line all step you did above to display frequency table based on columns **left** and **Departement**"
   ]
  },
  {
   "cell_type": "code",
   "execution_count": 54,
   "metadata": {},
   "outputs": [
    {
     "data": {
      "text/plain": [
       "<Axes: xlabel='Department'>"
      ]
     },
     "execution_count": 54,
     "metadata": {},
     "output_type": "execute_result"
    },
    {
     "data": {
      "image/png": "[encoded data removed]",
      "text/plain": [
       "<Figure size 640x480 with 1 Axes>"
      ]
     },
     "metadata": {},
     "output_type": "display_data"
    }
   ],
   "source": [
    "# Put your code below ...\n"
   ]
  },
  {
   "cell_type": "markdown",
   "metadata": {},
   "source": [
    "**Correlation**\n",
    "### Step 11.a\n",
    "#### Q. Display the correlation table in a DataFrame"
   ]
  },
  {
   "cell_type": "code",
   "execution_count": 56,
   "metadata": {},
   "outputs": [
    {
     "data": {
      "text/html": [
       "<div>\n",
       "<style scoped>\n",
       "    .dataframe tbody tr th:only-of-type {\n",
       "        vertical-align: middle;\n",
       "    }\n",
       "\n",
       "    .dataframe tbody tr th {\n",
       "        vertical-align: top;\n",
       "    }\n",
       "\n",
       "    .dataframe thead th {\n",
       "        text-align: right;\n",
       "    }\n",
       "</style>\n",
       "<table border=\"1\" class=\"dataframe\">\n",
       "  <thead>\n",
       "    <tr style=\"text-align: right;\">\n",
       "      <th></th>\n",
       "      <th>satisfaction_level</th>\n",
       "      <th>last_evaluation</th>\n",
       "      <th>number_project</th>\n",
       "      <th>average_montly_hours</th>\n",
       "      <th>time_spend_company</th>\n",
       "      <th>Work_accident</th>\n",
       "      <th>left</th>\n",
       "      <th>promotion_last_5years</th>\n",
       "    </tr>\n",
       "  </thead>\n",
       "  <tbody>\n",
       "    <tr>\n",
       "      <th>satisfaction_level</th>\n",
       "      <td>1.000000</td>\n",
       "      <td>0.105021</td>\n",
       "      <td>-0.142970</td>\n",
       "      <td>-0.020048</td>\n",
       "      <td>-0.100866</td>\n",
       "      <td>0.058697</td>\n",
       "      <td>-0.388375</td>\n",
       "      <td>0.025605</td>\n",
       "    </tr>\n",
       "    <tr>\n",
       "      <th>last_evaluation</th>\n",
       "      <td>0.105021</td>\n",
       "      <td>1.000000</td>\n",
       "      <td>0.349333</td>\n",
       "      <td>0.339742</td>\n",
       "      <td>0.131591</td>\n",
       "      <td>-0.007104</td>\n",
       "      <td>0.006567</td>\n",
       "      <td>-0.008684</td>\n",
       "    </tr>\n",
       "    <tr>\n",
       "      <th>number_project</th>\n",
       "      <td>-0.142970</td>\n",
       "      <td>0.349333</td>\n",
       "      <td>1.000000</td>\n",
       "      <td>0.417211</td>\n",
       "      <td>0.196786</td>\n",
       "      <td>-0.004741</td>\n",
       "      <td>0.023787</td>\n",
       "      <td>-0.006064</td>\n",
       "    </tr>\n",
       "    <tr>\n",
       "      <th>average_montly_hours</th>\n",
       "      <td>-0.020048</td>\n",
       "      <td>0.339742</td>\n",
       "      <td>0.417211</td>\n",
       "      <td>1.000000</td>\n",
       "      <td>0.127755</td>\n",
       "      <td>-0.010143</td>\n",
       "      <td>0.071287</td>\n",
       "      <td>-0.003544</td>\n",
       "    </tr>\n",
       "    <tr>\n",
       "      <th>time_spend_company</th>\n",
       "      <td>-0.100866</td>\n",
       "      <td>0.131591</td>\n",
       "      <td>0.196786</td>\n",
       "      <td>0.127755</td>\n",
       "      <td>1.000000</td>\n",
       "      <td>0.002120</td>\n",
       "      <td>0.144822</td>\n",
       "      <td>0.067433</td>\n",
       "    </tr>\n",
       "    <tr>\n",
       "      <th>Work_accident</th>\n",
       "      <td>0.058697</td>\n",
       "      <td>-0.007104</td>\n",
       "      <td>-0.004741</td>\n",
       "      <td>-0.010143</td>\n",
       "      <td>0.002120</td>\n",
       "      <td>1.000000</td>\n",
       "      <td>-0.154622</td>\n",
       "      <td>0.039245</td>\n",
       "    </tr>\n",
       "    <tr>\n",
       "      <th>left</th>\n",
       "      <td>-0.388375</td>\n",
       "      <td>0.006567</td>\n",
       "      <td>0.023787</td>\n",
       "      <td>0.071287</td>\n",
       "      <td>0.144822</td>\n",
       "      <td>-0.154622</td>\n",
       "      <td>1.000000</td>\n",
       "      <td>-0.061788</td>\n",
       "    </tr>\n",
       "    <tr>\n",
       "      <th>promotion_last_5years</th>\n",
       "      <td>0.025605</td>\n",
       "      <td>-0.008684</td>\n",
       "      <td>-0.006064</td>\n",
       "      <td>-0.003544</td>\n",
       "      <td>0.067433</td>\n",
       "      <td>0.039245</td>\n",
       "      <td>-0.061788</td>\n",
       "      <td>1.000000</td>\n",
       "    </tr>\n",
       "  </tbody>\n",
       "</table>\n",
       "</div>"
      ],
      "text/plain": [
       "                       satisfaction_level  last_evaluation  number_project  \\\n",
       "satisfaction_level               1.000000         0.105021       -0.142970   \n",
       "last_evaluation                  0.105021         1.000000        0.349333   \n",
       "number_project                  -0.142970         0.349333        1.000000   \n",
       "average_montly_hours            -0.020048         0.339742        0.417211   \n",
       "time_spend_company              -0.100866         0.131591        0.196786   \n",
       "Work_accident                    0.058697        -0.007104       -0.004741   \n",
       "left                            -0.388375         0.006567        0.023787   \n",
       "promotion_last_5years            0.025605        -0.008684       -0.006064   \n",
       "\n",
       "                       average_montly_hours  time_spend_company  \\\n",
       "satisfaction_level                -0.020048           -0.100866   \n",
       "last_evaluation                    0.339742            0.131591   \n",
       "number_project                     0.417211            0.196786   \n",
       "average_montly_hours               1.000000            0.127755   \n",
       "time_spend_company                 0.127755            1.000000   \n",
       "Work_accident                     -0.010143            0.002120   \n",
       "left                               0.071287            0.144822   \n",
       "promotion_last_5years             -0.003544            0.067433   \n",
       "\n",
       "                       Work_accident      left  promotion_last_5years  \n",
       "satisfaction_level          0.058697 -0.388375               0.025605  \n",
       "last_evaluation            -0.007104  0.006567              -0.008684  \n",
       "number_project             -0.004741  0.023787              -0.006064  \n",
       "average_montly_hours       -0.010143  0.071287              -0.003544  \n",
       "time_spend_company          0.002120  0.144822               0.067433  \n",
       "Work_accident               1.000000 -0.154622               0.039245  \n",
       "left                       -0.154622  1.000000              -0.061788  \n",
       "promotion_last_5years       0.039245 -0.061788               1.000000  "
      ]
     },
     "execution_count": 56,
     "metadata": {},
     "output_type": "execute_result"
    }
   ],
   "source": [
    "# Put your code below ...\n"
   ]
  },
  {
   "cell_type": "markdown",
   "metadata": {},
   "source": [
    "### Step 11.b\n",
    "#### Now use seaborn.heatmap"
   ]
  },
  {
   "cell_type": "code",
   "execution_count": 58,
   "metadata": {},
   "outputs": [
    {
     "data": {
      "text/plain": [
       "<Axes: >"
      ]
     },
     "execution_count": 58,
     "metadata": {},
     "output_type": "execute_result"
    },
    {
     "data": {
      "image/png": "[encoded data removed]",
      "text/plain": [
       "<Figure size 640x480 with 2 Axes>"
      ]
     },
     "metadata": {},
     "output_type": "display_data"
    }
   ],
   "source": [
    "# Puts your code below\n"
   ]
  },
  {
   "cell_type": "markdown",
   "metadata": {},
   "source": [
    "---\n",
    "### To Make our Pratice easier we will choose to keep:\n",
    "\n",
    "\n",
    "0. Satisfaction level\n",
    "1. Average monthly hours\n",
    "2. Promotion last 5 y\n",
    "3. Salary\n",
    "4. Departement"
   ]
  },
  {
   "cell_type": "code",
   "execution_count": 60,
   "metadata": {},
   "outputs": [
    {
     "data": {
      "text/html": [
       "<div>\n",
       "<style scoped>\n",
       "    .dataframe tbody tr th:only-of-type {\n",
       "        vertical-align: middle;\n",
       "    }\n",
       "\n",
       "    .dataframe tbody tr th {\n",
       "        vertical-align: top;\n",
       "    }\n",
       "\n",
       "    .dataframe thead th {\n",
       "        text-align: right;\n",
       "    }\n",
       "</style>\n",
       "<table border=\"1\" class=\"dataframe\">\n",
       "  <thead>\n",
       "    <tr style=\"text-align: right;\">\n",
       "      <th></th>\n",
       "      <th>satisfaction_level</th>\n",
       "      <th>average_montly_hours</th>\n",
       "      <th>promotion_last_5years</th>\n",
       "      <th>Department</th>\n",
       "      <th>salary</th>\n",
       "      <th>left</th>\n",
       "    </tr>\n",
       "  </thead>\n",
       "  <tbody>\n",
       "    <tr>\n",
       "      <th>0</th>\n",
       "      <td>0.38</td>\n",
       "      <td>157</td>\n",
       "      <td>0</td>\n",
       "      <td>sales</td>\n",
       "      <td>low</td>\n",
       "      <td>1</td>\n",
       "    </tr>\n",
       "    <tr>\n",
       "      <th>1</th>\n",
       "      <td>0.80</td>\n",
       "      <td>262</td>\n",
       "      <td>0</td>\n",
       "      <td>sales</td>\n",
       "      <td>medium</td>\n",
       "      <td>1</td>\n",
       "    </tr>\n",
       "    <tr>\n",
       "      <th>2</th>\n",
       "      <td>0.11</td>\n",
       "      <td>272</td>\n",
       "      <td>0</td>\n",
       "      <td>sales</td>\n",
       "      <td>medium</td>\n",
       "      <td>1</td>\n",
       "    </tr>\n",
       "    <tr>\n",
       "      <th>3</th>\n",
       "      <td>0.72</td>\n",
       "      <td>223</td>\n",
       "      <td>0</td>\n",
       "      <td>sales</td>\n",
       "      <td>low</td>\n",
       "      <td>1</td>\n",
       "    </tr>\n",
       "    <tr>\n",
       "      <th>4</th>\n",
       "      <td>0.37</td>\n",
       "      <td>159</td>\n",
       "      <td>0</td>\n",
       "      <td>sales</td>\n",
       "      <td>low</td>\n",
       "      <td>1</td>\n",
       "    </tr>\n",
       "  </tbody>\n",
       "</table>\n",
       "</div>"
      ],
      "text/plain": [
       "   satisfaction_level  average_montly_hours  promotion_last_5years Department  \\\n",
       "0                0.38                   157                      0      sales   \n",
       "1                0.80                   262                      0      sales   \n",
       "2                0.11                   272                      0      sales   \n",
       "3                0.72                   223                      0      sales   \n",
       "4                0.37                   159                      0      sales   \n",
       "\n",
       "   salary  left  \n",
       "0     low     1  \n",
       "1  medium     1  \n",
       "2  medium     1  \n",
       "3     low     1  \n",
       "4     low     1  "
      ]
     },
     "execution_count": 60,
     "metadata": {},
     "output_type": "execute_result"
    }
   ],
   "source": [
    "# Create a df variable for it\n",
    "# remplace\n",
    "df = ... \n",
    "df.head()"
   ]
  },
  {
   "cell_type": "markdown",
   "metadata": {},
   "source": [
    "### Step 12 Preprocessing of datas\n",
    "#### Q. what 'object'columns are ? use a oneliner\n",
    "*Categorical Variables*\n",
    "\n",
    "onliner: a python code of in one line only."
   ]
  },
  {
   "cell_type": "code",
   "execution_count": null,
   "metadata": {},
   "outputs": [
    {
     "data": {
      "text/plain": [
       "Index(['Department', 'salary'], dtype='object')"
      ]
     },
     "execution_count": 19,
     "metadata": {},
     "output_type": "execute_result"
    }
   ],
   "source": [
    "# Put your code in place of the ...\n",
    "df.columns[...]"
   ]
  },
  {
   "cell_type": "code",
   "execution_count": 61,
   "metadata": {},
   "outputs": [],
   "source": [
    "# Put the result of the code above to create a categoricals variable\n",
    "categoricals = ..."
   ]
  },
  {
   "cell_type": "code",
   "execution_count": 62,
   "metadata": {},
   "outputs": [
    {
     "data": {
      "text/html": [
       "<div>\n",
       "<style scoped>\n",
       "    .dataframe tbody tr th:only-of-type {\n",
       "        vertical-align: middle;\n",
       "    }\n",
       "\n",
       "    .dataframe tbody tr th {\n",
       "        vertical-align: top;\n",
       "    }\n",
       "\n",
       "    .dataframe thead th {\n",
       "        text-align: right;\n",
       "    }\n",
       "</style>\n",
       "<table border=\"1\" class=\"dataframe\">\n",
       "  <thead>\n",
       "    <tr style=\"text-align: right;\">\n",
       "      <th></th>\n",
       "      <th>satisfaction_level</th>\n",
       "      <th>average_montly_hours</th>\n",
       "      <th>promotion_last_5years</th>\n",
       "      <th>left</th>\n",
       "      <th>Department_RandD</th>\n",
       "      <th>Department_accounting</th>\n",
       "      <th>Department_hr</th>\n",
       "      <th>Department_management</th>\n",
       "      <th>Department_marketing</th>\n",
       "      <th>Department_product_mng</th>\n",
       "      <th>Department_sales</th>\n",
       "      <th>Department_support</th>\n",
       "      <th>Department_technical</th>\n",
       "      <th>salary_low</th>\n",
       "      <th>salary_medium</th>\n",
       "    </tr>\n",
       "  </thead>\n",
       "  <tbody>\n",
       "    <tr>\n",
       "      <th>0</th>\n",
       "      <td>0.38</td>\n",
       "      <td>157</td>\n",
       "      <td>0</td>\n",
       "      <td>1</td>\n",
       "      <td>False</td>\n",
       "      <td>False</td>\n",
       "      <td>False</td>\n",
       "      <td>False</td>\n",
       "      <td>False</td>\n",
       "      <td>False</td>\n",
       "      <td>True</td>\n",
       "      <td>False</td>\n",
       "      <td>False</td>\n",
       "      <td>True</td>\n",
       "      <td>False</td>\n",
       "    </tr>\n",
       "    <tr>\n",
       "      <th>1</th>\n",
       "      <td>0.80</td>\n",
       "      <td>262</td>\n",
       "      <td>0</td>\n",
       "      <td>1</td>\n",
       "      <td>False</td>\n",
       "      <td>False</td>\n",
       "      <td>False</td>\n",
       "      <td>False</td>\n",
       "      <td>False</td>\n",
       "      <td>False</td>\n",
       "      <td>True</td>\n",
       "      <td>False</td>\n",
       "      <td>False</td>\n",
       "      <td>False</td>\n",
       "      <td>True</td>\n",
       "    </tr>\n",
       "    <tr>\n",
       "      <th>2</th>\n",
       "      <td>0.11</td>\n",
       "      <td>272</td>\n",
       "      <td>0</td>\n",
       "      <td>1</td>\n",
       "      <td>False</td>\n",
       "      <td>False</td>\n",
       "      <td>False</td>\n",
       "      <td>False</td>\n",
       "      <td>False</td>\n",
       "      <td>False</td>\n",
       "      <td>True</td>\n",
       "      <td>False</td>\n",
       "      <td>False</td>\n",
       "      <td>False</td>\n",
       "      <td>True</td>\n",
       "    </tr>\n",
       "    <tr>\n",
       "      <th>3</th>\n",
       "      <td>0.72</td>\n",
       "      <td>223</td>\n",
       "      <td>0</td>\n",
       "      <td>1</td>\n",
       "      <td>False</td>\n",
       "      <td>False</td>\n",
       "      <td>False</td>\n",
       "      <td>False</td>\n",
       "      <td>False</td>\n",
       "      <td>False</td>\n",
       "      <td>True</td>\n",
       "      <td>False</td>\n",
       "      <td>False</td>\n",
       "      <td>True</td>\n",
       "      <td>False</td>\n",
       "    </tr>\n",
       "    <tr>\n",
       "      <th>4</th>\n",
       "      <td>0.37</td>\n",
       "      <td>159</td>\n",
       "      <td>0</td>\n",
       "      <td>1</td>\n",
       "      <td>False</td>\n",
       "      <td>False</td>\n",
       "      <td>False</td>\n",
       "      <td>False</td>\n",
       "      <td>False</td>\n",
       "      <td>False</td>\n",
       "      <td>True</td>\n",
       "      <td>False</td>\n",
       "      <td>False</td>\n",
       "      <td>True</td>\n",
       "      <td>False</td>\n",
       "    </tr>\n",
       "    <tr>\n",
       "      <th>...</th>\n",
       "      <td>...</td>\n",
       "      <td>...</td>\n",
       "      <td>...</td>\n",
       "      <td>...</td>\n",
       "      <td>...</td>\n",
       "      <td>...</td>\n",
       "      <td>...</td>\n",
       "      <td>...</td>\n",
       "      <td>...</td>\n",
       "      <td>...</td>\n",
       "      <td>...</td>\n",
       "      <td>...</td>\n",
       "      <td>...</td>\n",
       "      <td>...</td>\n",
       "      <td>...</td>\n",
       "    </tr>\n",
       "    <tr>\n",
       "      <th>14994</th>\n",
       "      <td>0.40</td>\n",
       "      <td>151</td>\n",
       "      <td>0</td>\n",
       "      <td>1</td>\n",
       "      <td>False</td>\n",
       "      <td>False</td>\n",
       "      <td>False</td>\n",
       "      <td>False</td>\n",
       "      <td>False</td>\n",
       "      <td>False</td>\n",
       "      <td>False</td>\n",
       "      <td>True</td>\n",
       "      <td>False</td>\n",
       "      <td>True</td>\n",
       "      <td>False</td>\n",
       "    </tr>\n",
       "    <tr>\n",
       "      <th>14995</th>\n",
       "      <td>0.37</td>\n",
       "      <td>160</td>\n",
       "      <td>0</td>\n",
       "      <td>1</td>\n",
       "      <td>False</td>\n",
       "      <td>False</td>\n",
       "      <td>False</td>\n",
       "      <td>False</td>\n",
       "      <td>False</td>\n",
       "      <td>False</td>\n",
       "      <td>False</td>\n",
       "      <td>True</td>\n",
       "      <td>False</td>\n",
       "      <td>True</td>\n",
       "      <td>False</td>\n",
       "    </tr>\n",
       "    <tr>\n",
       "      <th>14996</th>\n",
       "      <td>0.37</td>\n",
       "      <td>143</td>\n",
       "      <td>0</td>\n",
       "      <td>1</td>\n",
       "      <td>False</td>\n",
       "      <td>False</td>\n",
       "      <td>False</td>\n",
       "      <td>False</td>\n",
       "      <td>False</td>\n",
       "      <td>False</td>\n",
       "      <td>False</td>\n",
       "      <td>True</td>\n",
       "      <td>False</td>\n",
       "      <td>True</td>\n",
       "      <td>False</td>\n",
       "    </tr>\n",
       "    <tr>\n",
       "      <th>14997</th>\n",
       "      <td>0.11</td>\n",
       "      <td>280</td>\n",
       "      <td>0</td>\n",
       "      <td>1</td>\n",
       "      <td>False</td>\n",
       "      <td>False</td>\n",
       "      <td>False</td>\n",
       "      <td>False</td>\n",
       "      <td>False</td>\n",
       "      <td>False</td>\n",
       "      <td>False</td>\n",
       "      <td>True</td>\n",
       "      <td>False</td>\n",
       "      <td>True</td>\n",
       "      <td>False</td>\n",
       "    </tr>\n",
       "    <tr>\n",
       "      <th>14998</th>\n",
       "      <td>0.37</td>\n",
       "      <td>158</td>\n",
       "      <td>0</td>\n",
       "      <td>1</td>\n",
       "      <td>False</td>\n",
       "      <td>False</td>\n",
       "      <td>False</td>\n",
       "      <td>False</td>\n",
       "      <td>False</td>\n",
       "      <td>False</td>\n",
       "      <td>False</td>\n",
       "      <td>True</td>\n",
       "      <td>False</td>\n",
       "      <td>True</td>\n",
       "      <td>False</td>\n",
       "    </tr>\n",
       "  </tbody>\n",
       "</table>\n",
       "<p>14999 rows × 15 columns</p>\n",
       "</div>"
      ],
      "text/plain": [
       "       satisfaction_level  average_montly_hours  promotion_last_5years  left  \\\n",
       "0                    0.38                   157                      0     1   \n",
       "1                    0.80                   262                      0     1   \n",
       "2                    0.11                   272                      0     1   \n",
       "3                    0.72                   223                      0     1   \n",
       "4                    0.37                   159                      0     1   \n",
       "...                   ...                   ...                    ...   ...   \n",
       "14994                0.40                   151                      0     1   \n",
       "14995                0.37                   160                      0     1   \n",
       "14996                0.37                   143                      0     1   \n",
       "14997                0.11                   280                      0     1   \n",
       "14998                0.37                   158                      0     1   \n",
       "\n",
       "       Department_RandD  Department_accounting  Department_hr  \\\n",
       "0                 False                  False          False   \n",
       "1                 False                  False          False   \n",
       "2                 False                  False          False   \n",
       "3                 False                  False          False   \n",
       "4                 False                  False          False   \n",
       "...                 ...                    ...            ...   \n",
       "14994             False                  False          False   \n",
       "14995             False                  False          False   \n",
       "14996             False                  False          False   \n",
       "14997             False                  False          False   \n",
       "14998             False                  False          False   \n",
       "\n",
       "       Department_management  Department_marketing  Department_product_mng  \\\n",
       "0                      False                 False                   False   \n",
       "1                      False                 False                   False   \n",
       "2                      False                 False                   False   \n",
       "3                      False                 False                   False   \n",
       "4                      False                 False                   False   \n",
       "...                      ...                   ...                     ...   \n",
       "14994                  False                 False                   False   \n",
       "14995                  False                 False                   False   \n",
       "14996                  False                 False                   False   \n",
       "14997                  False                 False                   False   \n",
       "14998                  False                 False                   False   \n",
       "\n",
       "       Department_sales  Department_support  Department_technical  salary_low  \\\n",
       "0                  True               False                 False        True   \n",
       "1                  True               False                 False       False   \n",
       "2                  True               False                 False       False   \n",
       "3                  True               False                 False        True   \n",
       "4                  True               False                 False        True   \n",
       "...                 ...                 ...                   ...         ...   \n",
       "14994             False                True                 False        True   \n",
       "14995             False                True                 False        True   \n",
       "14996             False                True                 False        True   \n",
       "14997             False                True                 False        True   \n",
       "14998             False                True                 False        True   \n",
       "\n",
       "       salary_medium  \n",
       "0              False  \n",
       "1               True  \n",
       "2               True  \n",
       "3              False  \n",
       "4              False  \n",
       "...              ...  \n",
       "14994          False  \n",
       "14995          False  \n",
       "14996          False  \n",
       "14997          False  \n",
       "14998          False  \n",
       "\n",
       "[14999 rows x 15 columns]"
      ]
     },
     "execution_count": 62,
     "metadata": {},
     "output_type": "execute_result"
    }
   ],
   "source": [
    "# Execute the code below\n",
    "pd.get_dummies(df, categoricals, drop_first= True)"
   ]
  },
  {
   "cell_type": "code",
   "execution_count": 69,
   "metadata": {},
   "outputs": [
    {
     "name": "stderr",
     "output_type": "stream",
     "text": [
      "C:\\Users\\didie\\AppData\\Local\\Temp\\ipykernel_41480\\266874372.py:3: FutureWarning: Downcasting behavior in `replace` is deprecated and will be removed in a future version. To retain the old behavior, explicitly call `result.infer_objects(copy=False)`. To opt-in to the future behavior, set `pd.set_option('future.no_silent_downcasting', True)`\n",
      "  df.salary = df.salary.replace(\n",
      "C:\\Users\\didie\\AppData\\Local\\Temp\\ipykernel_41480\\266874372.py:3: SettingWithCopyWarning: \n",
      "A value is trying to be set on a copy of a slice from a DataFrame.\n",
      "Try using .loc[row_indexer,col_indexer] = value instead\n",
      "\n",
      "See the caveats in the documentation: https://pandas.pydata.org/pandas-docs/stable/user_guide/indexing.html#returning-a-view-versus-a-copy\n",
      "  df.salary = df.salary.replace(\n"
     ]
    }
   ],
   "source": [
    "# To make it easier let's do manually the salary column\n",
    "# Execute the code below\n",
    "df.salary = df.salary.replace(\n",
    "    {\n",
    "        'low': 1,\n",
    "        'medium': 2,\n",
    "        'high': 3\n",
    "    }\n",
    ")"
   ]
  },
  {
   "cell_type": "code",
   "execution_count": 70,
   "metadata": {},
   "outputs": [],
   "source": [
    "# Now let's do the Department column with pd.get_dummies\n",
    "df_with_dummies = pd.get_dummies(df, columns=['Department'], drop_first=True)"
   ]
  },
  {
   "cell_type": "code",
   "execution_count": 71,
   "metadata": {},
   "outputs": [
    {
     "data": {
      "text/plain": [
       "array([1, 2, 3])"
      ]
     },
     "execution_count": 71,
     "metadata": {},
     "output_type": "execute_result"
    }
   ],
   "source": [
    "df_with_dummies.salary.unique()"
   ]
  },
  {
   "cell_type": "markdown",
   "metadata": {},
   "source": [
    "### Features and target\n",
    "\n",
    "X & y"
   ]
  },
  {
   "cell_type": "code",
   "execution_count": 73,
   "metadata": {},
   "outputs": [],
   "source": [
    "X = df_with_dummies.drop(columns='left', axis=1)\n",
    "y = df_with_dummies.left\n"
   ]
  },
  {
   "cell_type": "code",
   "execution_count": 74,
   "metadata": {},
   "outputs": [
    {
     "data": {
      "text/html": [
       "<div>\n",
       "<style scoped>\n",
       "    .dataframe tbody tr th:only-of-type {\n",
       "        vertical-align: middle;\n",
       "    }\n",
       "\n",
       "    .dataframe tbody tr th {\n",
       "        vertical-align: top;\n",
       "    }\n",
       "\n",
       "    .dataframe thead th {\n",
       "        text-align: right;\n",
       "    }\n",
       "</style>\n",
       "<table border=\"1\" class=\"dataframe\">\n",
       "  <thead>\n",
       "    <tr style=\"text-align: right;\">\n",
       "      <th></th>\n",
       "      <th>satisfaction_level</th>\n",
       "      <th>average_montly_hours</th>\n",
       "      <th>promotion_last_5years</th>\n",
       "      <th>salary</th>\n",
       "      <th>Department_RandD</th>\n",
       "      <th>Department_accounting</th>\n",
       "      <th>Department_hr</th>\n",
       "      <th>Department_management</th>\n",
       "      <th>Department_marketing</th>\n",
       "      <th>Department_product_mng</th>\n",
       "      <th>Department_sales</th>\n",
       "      <th>Department_support</th>\n",
       "      <th>Department_technical</th>\n",
       "    </tr>\n",
       "  </thead>\n",
       "  <tbody>\n",
       "    <tr>\n",
       "      <th>0</th>\n",
       "      <td>0.38</td>\n",
       "      <td>157</td>\n",
       "      <td>0</td>\n",
       "      <td>1</td>\n",
       "      <td>False</td>\n",
       "      <td>False</td>\n",
       "      <td>False</td>\n",
       "      <td>False</td>\n",
       "      <td>False</td>\n",
       "      <td>False</td>\n",
       "      <td>True</td>\n",
       "      <td>False</td>\n",
       "      <td>False</td>\n",
       "    </tr>\n",
       "  </tbody>\n",
       "</table>\n",
       "</div>"
      ],
      "text/plain": [
       "   satisfaction_level  average_montly_hours  promotion_last_5years  salary  \\\n",
       "0                0.38                   157                      0       1   \n",
       "\n",
       "   Department_RandD  Department_accounting  Department_hr  \\\n",
       "0             False                  False          False   \n",
       "\n",
       "   Department_management  Department_marketing  Department_product_mng  \\\n",
       "0                  False                 False                   False   \n",
       "\n",
       "   Department_sales  Department_support  Department_technical  \n",
       "0              True               False                 False  "
      ]
     },
     "execution_count": 74,
     "metadata": {},
     "output_type": "execute_result"
    }
   ],
   "source": [
    "X.head(1)"
   ]
  },
  {
   "cell_type": "markdown",
   "metadata": {},
   "source": [
    "## Validation Tools\n",
    "\n",
    "### Step 13\n",
    "\n",
    "#### 1. Train Test Split"
   ]
  },
  {
   "cell_type": "code",
   "execution_count": 75,
   "metadata": {},
   "outputs": [],
   "source": [
    "# 1. Import Train Test Split from sklearn\n",
    "\n",
    "# Split Datas\n"
   ]
  },
  {
   "cell_type": "code",
   "execution_count": 77,
   "metadata": {},
   "outputs": [
    {
     "data": {
      "text/plain": [
       "(3000, 13)"
      ]
     },
     "execution_count": 77,
     "metadata": {},
     "output_type": "execute_result"
    }
   ],
   "source": [
    "X_test.shape"
   ]
  },
  {
   "cell_type": "code",
   "execution_count": 78,
   "metadata": {},
   "outputs": [
    {
     "data": {
      "text/plain": [
       "(3000,)"
      ]
     },
     "execution_count": 78,
     "metadata": {},
     "output_type": "execute_result"
    }
   ],
   "source": [
    "y_test.shape"
   ]
  },
  {
   "cell_type": "markdown",
   "metadata": {},
   "source": [
    "## Estimators --> \n",
    "*Entrainement des Modeles[Algo]*\n",
    "\n",
    "### Step 15\n",
    "\n",
    "Complete all algorithms below and display the accuracy metric.<br>\n",
    "List of algorithms:\n",
    "+ SVC\n",
    "+ KNN\n",
    "+ Decision Tree\n",
    "+ Random Forrest\n",
    "\n",
    "### SVM"
   ]
  },
  {
   "cell_type": "code",
   "execution_count": null,
   "metadata": {},
   "outputs": [],
   "source": [
    "Import the accuracy metric\n",
    "from sklearn.metrics import ..."
   ]
  },
  {
   "cell_type": "code",
   "execution_count": 79,
   "metadata": {},
   "outputs": [
    {
     "name": "stdout",
     "output_type": "stream",
     "text": [
      "Précision: 0.7566666666666667\n"
     ]
    }
   ],
   "source": [
    "# Complete all algorithms below and display the accuracy metric\n",
    "from sklearn.svm import SVC\n",
    "# Initialized et fit SVM Classifier with kernel='poly' put it in variable named svm_classifier\n",
    "\n",
    "# Make your prediction on the Test Set Then store them in y_pred\n",
    "y_pred = ...\n",
    "\n",
    "# compute the accuracy then display it\n",
    "accuracy_score = ...\n",
    "print(\"Précision:\", accuracy_score)"
   ]
  },
  {
   "cell_type": "markdown",
   "metadata": {},
   "source": [
    "### KNeighbors Classifier"
   ]
  },
  {
   "cell_type": "code",
   "execution_count": 80,
   "metadata": {},
   "outputs": [
    {
     "data": {
      "text/plain": [
       "0.8393333333333334"
      ]
     },
     "execution_count": 80,
     "metadata": {},
     "output_type": "execute_result"
    }
   ],
   "source": [
    "# KNeighbors Classifier\n",
    "from ... import ...\n",
    "\n",
    "# In one line create an instance of KNeighborsClassifier then fit it.\n",
    "KNN = ...\n",
    "\n",
    "\n",
    "# Below display the score\n"
   ]
  },
  {
   "cell_type": "markdown",
   "metadata": {},
   "source": [
    "### Decision Tree"
   ]
  },
  {
   "cell_type": "code",
   "execution_count": 81,
   "metadata": {},
   "outputs": [
    {
     "name": "stdout",
     "output_type": "stream",
     "text": [
      "Précision (Arbre de Décision): 0.9423333333333334\n"
     ]
    }
   ],
   "source": [
    "# Complete all algorithms below and display the accuracy metric\n",
    "from sklearn.tree import DecisionTreeClassifier\n",
    "\n",
    "# Initialiser et entraîner le classifieur d'arbres de décision\n",
    "dt_classifier = ...\n",
    "dt_classifier.fit(..., ...)\n",
    "\n",
    "# Prédire les étiquettes pour l'ensemble de test\n",
    "y_pred_dt = ...\n",
    "\n",
    "# Calculer la précision\n",
    "précision_dt = accuracy_score(y_test, y_pred_dt)\n",
    "print(\"Précision (Arbre de Décision):\", précision_dt)"
   ]
  },
  {
   "cell_type": "markdown",
   "metadata": {},
   "source": [
    "### Random Forrest"
   ]
  },
  {
   "cell_type": "code",
   "execution_count": 82,
   "metadata": {},
   "outputs": [
    {
     "name": "stdout",
     "output_type": "stream",
     "text": [
      "Précision (Forêt Aléatoire): 0.9553333333333334\n"
     ]
    }
   ],
   "source": [
    "# Complete all algorithms below and display the accuracy metric\n",
    "# Random Forrest \n",
    "from sklearn.... import ...\n",
    "\n",
    "# Initialized and fit Random Forrest put it in variable named rf_classifier\n",
    "rf_classifier = # Create an instance of random forest\n",
    "# Train this instance\n",
    "\n",
    "\n",
    "# Make your prediction on the Test Set Then store them in y_pred\n",
    "y_pred_rf = ...\n",
    "\n",
    "# compute the accuracy then display it\n",
    "accuracy_rf = accuracy_score(y_test, y_pred_rf)\n",
    "print(\"Précision (Forêt Aléatoire):\", accuracy_rf)\n"
   ]
  },
  {
   "cell_type": "code",
   "execution_count": 125,
   "metadata": {},
   "outputs": [
    {
     "name": "stdout",
     "output_type": "stream",
     "text": [
      "Précision (Regression logistique): 0.7743333333333333\n"
     ]
    }
   ],
   "source": [
    "# Complete all algorithms below and display the accuracy metric\n",
    "# Logistic Regression\n",
    "from sklearn.linear_model import LogisticRegression\n",
    "\n",
    "# Initialized et fit logistic regression put it in variable named lg_classifier with max_iter between 250 and\n",
    "lg_classifier = LogisticRegression(max_iter=10000)# Create an instance of logistic regression\n",
    "# Train this instance\n",
    "lg_classifier.fit(X_train, y_train)\n",
    "\n",
    "# Make your prediction on the Test Set Then store them in y_pred\n",
    "y_pred_rf = lg_classifier.predict(X_test)\n",
    "\n",
    "# compute the accuracy then display it\n",
    "accuracy_rf = accuracy_score(y_test, y_pred_rf)\n",
    "print(\"Précision (Regression logistique):\", accuracy_rf)"
   ]
  },
  {
   "cell_type": "markdown",
   "metadata": {},
   "source": [
    "#### 2. Cross Validation \n",
    "\n",
    "Le but de la validation croisée (CV) et spécifiquement de cross_val_score en apprentissage automatique est d'**évaluer les performances d'un modèle et d'estimer son erreur de généralisation**.\n",
    "<img src=\"./Cross_validation.png\">\n",
    "**Cross Val Knn**"
   ]
  },
  {
   "cell_type": "markdown",
   "metadata": {},
   "source": [
    "#### Step 16\n",
    "\n",
    "### Question: Cross Validation for KNN\n",
    "\n",
    "You need to evaluate the performance of a K-Nearest Neighbors (KNN) classifier on a given dataset using cross-validation to find the optimal number of neighbors (`n_neighbors`). Your task is to observe how the validation accuracy score changes as the number of neighbors increases.\n",
    "\n",
    "**Instructions:**\n",
    "\n",
    "1. **Import the necessary libraries**:\n",
    "   - Import the `cross_val_score` function from `sklearn.model_selection`.\n",
    "   - Use `matplotlib.pyplot` to visualize the validation accuracy scores.\n",
    "\n",
    "2. **Initialize an empty list**:\n",
    "   - Create an empty list called `val_score` to store the mean validation accuracy scores for each value of `n_neighbors`.\n",
    "\n",
    "3. **Loop through a range of `n_neighbors` values**:\n",
    "   - Write a loop that iterates over a range of integers from 1 to 99.\n",
    "   - Inside the loop, for each value of `k`, perform the following steps:\n",
    "     - Create an instance of `KNeighborsClassifier` with `n_neighbors` set to `k`.\n",
    "     - Use `cross_val_score` with 5-fold cross-validation (`cv=5`) to calculate the accuracy score of the KNN classifier on the training data (`X_train`, `y_train`).\n",
    "     - Compute the mean of the cross-validation scores and append it to the `val_score` list.\n",
    "\n",
    "4. **Plot the results**:\n",
    "   - After the loop completes, plot the validation accuracy scores stored in `val_score` as a function of the number of neighbors.\n",
    "   - The x-axis should represent the number of neighbors (`n_neighbors`), and the y-axis should represent the validation accuracy score (`score`).\n",
    "\n",
    "5. **Code Structure**:\n",
    "   - Ensure that the code follows the above order and that the plot correctly displays the variation of validation accuracy with the number of neighbors.\n",
    "\n",
    "**Write the complete Python code based on the instructions provided.**"
   ]
  },
  {
   "cell_type": "code",
   "execution_count": 83,
   "metadata": {},
   "outputs": [
    {
     "data": {
      "image/png": "[encoded data removed]",
      "text/plain": [
       "<Figure size 640x480 with 1 Axes>"
      ]
     },
     "metadata": {},
     "output_type": "display_data"
    }
   ],
   "source": [
    "# For KNN\n",
    "# Import cross_val_score from model_selection\n",
    "\n",
    "\n",
    "# Initialize the list named val_score\n",
    "\n",
    "# Complete The for loop (follow instruction step 3.)\n",
    "for k in range(1, 100):\n",
    "    \n",
    "\n",
    "\n",
    "# Plot\n",
    "plt.plot(...)"
   ]
  },
  {
   "cell_type": "markdown",
   "metadata": {},
   "source": [
    "### Cross Val for Decision Tree"
   ]
  },
  {
   "cell_type": "code",
   "execution_count": 84,
   "metadata": {},
   "outputs": [
    {
     "data": {
      "image/png": "[encoded data removed]",
      "text/plain": [
       "<Figure size 640x480 with 1 Axes>"
      ]
     },
     "metadata": {},
     "output_type": "display_data"
    }
   ],
   "source": [
    "# Do the same thing for a DecisionTree \n",
    "# Decision Tree\n",
    "val_scores = ...\n",
    "\n",
    "# for loop\n",
    "\n",
    "\n",
    "# Plot\n"
   ]
  },
  {
   "cell_type": "markdown",
   "metadata": {},
   "source": [
    "#### 3. Validation Curve\n",
    "- Évalue l'impact des hyperparamètres sur la performance du modèle.\n",
    "- Un modèle trop complexe peut entraîner un overfitting, tandis qu'un modèle trop simple peut entraîner un underfitting."
   ]
  },
  {
   "cell_type": "markdown",
   "metadata": {},
   "source": [
    "#### Step 17.a\n",
    "\n",
    "### Question: Validation Curve for KNN\n",
    "\n",
    "You are tasked with evaluating the performance of a K-Nearest Neighbors (KNN) classifier on a given dataset using a validation curve to determine the optimal number of neighbors (`n_neighbors`). The objective is to observe how the training and validation accuracy scores change as the number of neighbors increases.\n",
    "\n",
    "**Instructions:**\n",
    "\n",
    "1. **Import the necessary libraries**:\n",
    "   - Use `numpy` for generating a range of possible values for the `n_neighbors` parameter.\n",
    "   - Use `matplotlib.pyplot` for visualizing the validation curve.\n",
    "   - Import the `KNeighborsClassifier` from `sklearn.neighbors` and `validation_curve` from `sklearn.model_selection`.\n",
    "\n",
    "2. **Set up the KNN classifier**:\n",
    "   - Initialize a `KNeighborsClassifier` instance and store it in a variable `KNN_`.\n",
    "\n",
    "3. **Generate a range of `n_neighbors` values**:\n",
    "   - Create a variable `k` that contains an array of integers from 1 to 100 using `numpy`.\n",
    "\n",
    "4. **Calculate the validation curve**:\n",
    "   - Use the `validation_curve` function to evaluate the training and validation scores of the KNN classifier over the range of `n_neighbors` values. \n",
    "   - Set `param_name` to `\"n_neighbors\"`, and `param_range` to the array `k`.\n",
    "   - Use 5-fold cross-validation (`cv=5`) and set `scoring` to `'accuracy'`.\n",
    "\n",
    "5. **Plot the results**:\n",
    "   - Plot the mean training scores and mean validation scores as a function of `n_neighbors`.\n",
    "   - Label the x-axis as `'n_neighbors'` and the y-axis as `'score'`.\n",
    "   - Include a legend to differentiate between the training and validation scores.\n",
    "\n",
    "6. **Code Structure**:\n",
    "   - Write the code such that it follows the order mentioned above and ensure that the plots display the validation curve correctly.\n",
    "\n",
    "**Write the complete Python code based on the instructions provided.**"
   ]
  },
  {
   "cell_type": "code",
   "execution_count": null,
   "metadata": {},
   "outputs": [
    {
     "data": {
      "text/plain": [
       "<matplotlib.legend.Legend at 0x1eae33ff5e0>"
      ]
     },
     "execution_count": 85,
     "metadata": {},
     "output_type": "execute_result"
    },
    {
     "data": {
      "image/png": "[encoded data removed]",
      "text/plain": [
       "<Figure size 640x480 with 1 Axes>"
      ]
     },
     "metadata": {},
     "output_type": "display_data"
    }
   ],
   "source": [
    "# Complete than uncomment\n",
    "# from ... import ...\n",
    "\n",
    "# KNN_ = ...\n",
    "# k = ...\n",
    "\n",
    "\n",
    "# train_score, val_score = ...\n",
    "\n",
    "# plt.plot(..., ..., label=\"train score\")\n",
    "# plt.plot(..., ..., label=\"val score\")\n",
    "\n",
    "# plt.xlabel('max_iter')\n",
    "# plt.ylabel('score')\n",
    "# plt.legend()"
   ]
  },
  {
   "cell_type": "markdown",
   "metadata": {},
   "source": [
    "#### Step 17.b\n",
    "### Validation curve for Decision Tree"
   ]
  },
  {
   "cell_type": "code",
   "execution_count": null,
   "metadata": {},
   "outputs": [
    {
     "data": {
      "text/plain": [
       "<matplotlib.legend.Legend at 0x1eae3445790>"
      ]
     },
     "execution_count": 86,
     "metadata": {},
     "output_type": "execute_result"
    },
    {
     "data": {
      "image/png": "[encoded data removed]",
      "text/plain": [
       "<Figure size 640x480 with 1 Axes>"
      ]
     },
     "metadata": {},
     "output_type": "display_data"
    }
   ],
   "source": [
    "# Same process\n",
    "# DTree_ = ...\n",
    "# k = ...\n",
    "\n",
    "\n",
    "# train_score, val_score = ...\n",
    "# )\n",
    "\n",
    "# plt.plot(..., ..., label=\"train score\")\n",
    "# plt.plot(..., ..., label=\"val score\")\n",
    "\n",
    "# plt.xlabel('max_depth')\n",
    "# plt.ylabel('score')\n",
    "# plt.legend()"
   ]
  },
  {
   "cell_type": "markdown",
   "metadata": {},
   "source": [
    "#### 4. Learning Curve"
   ]
  },
  {
   "cell_type": "markdown",
   "metadata": {},
   "source": [
    "\n",
    "#### Step 18.a\n",
    "### Question: Learning Curve for KNN\n",
    "\n",
    "You are tasked with analyzing the learning behavior of a K-Nearest Neighbors (KNN) classifier on a given dataset. Your goal is to generate learning curves that show how the model's performance changes as the training size increases. This will help you understand if your model suffers from high variance (overfitting) or high bias (underfitting).\n",
    "\n",
    "**Instructions:**\n",
    "\n",
    "1. **Import the necessary libraries**:\n",
    "   - Import the `learning_curve` function from `sklearn.model_selection`.\n",
    "   - Use `matplotlib.pyplot` for plotting.\n",
    "\n",
    "2. **Set up the KNN classifier**:\n",
    "   - Define a KNN classifier instance named `KNN`.\n",
    "\n",
    "3. **Generate the learning curve**:\n",
    "   - Use the `learning_curve` function to generate training and validation scores.\n",
    "   - Pass the following parameters to `learning_curve`:\n",
    "     - `KNN`: The KNN classifier instance.\n",
    "     - `X_train` and `y_train`: The training data and labels.\n",
    "     - `train_sizes`: Specify an array of training sizes using `np.linspace(.2, 1.0, num=5)`. This will create 5 training sizes ranging from 20% to 100% of the training data.\n",
    "     - `cv=5`: Use 5-fold cross-validation.\n",
    "\n",
    "4. **Plot the learning curves**:\n",
    "   - Plot the mean training scores against the number of training samples (`N`).\n",
    "   - Plot the mean validation scores against the number of training samples (`N`).\n",
    "   - Add labels to the x-axis (`train_size`) and y-axis (`score`).\n",
    "   - Add a legend to differentiate between the training and validation scores.\n",
    "\n",
    "5. **Code Structure**:\n",
    "   - Ensure the code is written according to the above instructions and produces a clear plot showing how the training and validation scores change as the training size increases.\n",
    "\n",
    "**Write the complete Python code based on the instructions provided.**"
   ]
  },
  {
   "cell_type": "code",
   "execution_count": null,
   "metadata": {},
   "outputs": [
    {
     "data": {
      "text/plain": [
       "<matplotlib.legend.Legend at 0x1eae66bff10>"
      ]
     },
     "execution_count": 87,
     "metadata": {},
     "output_type": "execute_result"
    },
    {
     "data": {
      "image/png": "[encoded data removed]",
      "text/plain": [
       "<Figure size 640x480 with 1 Axes>"
      ]
     },
     "metadata": {},
     "output_type": "display_data"
    }
   ],
   "source": [
    "# Complete the code based on the instructions provided\n",
    "# from ... import ...\n",
    "\n",
    "# N, train_score, val_score = ...\n",
    "\n",
    "# plt.plot(N, ..., label=\"Train score\")\n",
    "# plt.plot(N, ..., label=\"Val score\")\n",
    "\n",
    "\n",
    "# plt.xlabel(\"train_size\")\n",
    "# plt.ylabel(\"score\")\n",
    "\n",
    "# plt.legend()# "
   ]
  },
  {
   "cell_type": "markdown",
   "metadata": {},
   "source": [
    "#### Step 18.b\n",
    "### Learning Curve for DTree"
   ]
  },
  {
   "cell_type": "code",
   "execution_count": null,
   "metadata": {},
   "outputs": [
    {
     "data": {
      "text/plain": [
       "<matplotlib.legend.Legend at 0x1eae65a8fd0>"
      ]
     },
     "execution_count": 88,
     "metadata": {},
     "output_type": "execute_result"
    },
    {
     "data": {
      "image/png": "[encoded data removed]",
      "text/plain": [
       "<Figure size 640x480 with 1 Axes>"
      ]
     },
     "metadata": {},
     "output_type": "display_data"
    }
   ],
   "source": [
    "# Complete the code based on the instructions provided \n",
    "\n",
    "# N, train_score, val_score = ...\n",
    "\n",
    "# plt.plot(..., ..., label=\"Train score\")\n",
    "# plt.plot(..., ..., label=\"Val score\")\n",
    "\n",
    "\n",
    "# plt.xlabel(\"train_size\")\n",
    "# plt.ylabel(\"score\")\n",
    "\n",
    "# plt.legend()"
   ]
  },
  {
   "cell_type": "markdown",
   "metadata": {},
   "source": [
    "#### 5 Confusion Matrix\n",
    "\n",
    "La matrice de confusion est un outil crucial pour évaluer la performance des modèles de classification. Elle permet de visualiser non seulement l'exactitude des prédictions mais aussi la nature des erreurs commises, fournissant ainsi une base pour des métriques d'évaluation plus détaillées et informatives.\n",
    "\n",
    "For this step you will use models:\n",
    "- `svm_classifier`\n",
    "- `dt_classifier`\n",
    "- `rf_classifier`\n",
    "Created in Step 15\n",
    "\n",
    "#### Step 19.a\n",
    "\n",
    "### Question: Confusion Matrix for SVC \n",
    "\n",
    "You have trained a Support Vector Machine (SVM) classifier on a dataset and now need to evaluate its performance on a test set. To do this, you want to create a confusion matrix that compares the actual labels of the test dataset with the labels predicted by the SVM classifier. Additionally, you will visualize this confusion matrix using a heatmap to gain better insights into the classifier's performance.\n",
    "\n",
    "**Instructions:**\n",
    "\n",
    "1. **Import necessary libraries**:\n",
    "   - Import the `confusion_matrix` function from `sklearn.metrics`.\n",
    "   - Import `seaborn` as `sns` for creating the heatmap.\n",
    "   - Optionally, use `matplotlib.pyplot` for displaying the plot if necessary.\n",
    "\n",
    "2. **Predict the test labels**:\n",
    "   - Use the `svm_classifier.predict` method to predict labels for `X_test`, and store the results in `predicted_labels`.\n",
    "\n",
    "3. **Compute the confusion matrix**:\n",
    "   - Use the `confusion_matrix` function to compute the confusion matrix, passing the actual test labels (`y_test`) and the predicted labels (`predicted_labels`) as arguments.\n",
    "\n",
    "4. **Display the confusion matrix**:\n",
    "   - Use the `display` function to print out the raw confusion matrix.\n",
    "\n",
    "5. **Visualize the confusion matrix**:\n",
    "   - Use `seaborn.heatmap` to create a heatmap of the confusion matrix.\n",
    "   - Use the `sns.dark_palette(\"#79C\")` for the color map (`cmap`).\n",
    "   - Set the `annot=True` argument to display the numbers within each cell of the heatmap.\n",
    "\n",
    "6. **Code Structure**:\n",
    "   - Ensure that the code follows the above instructions and that it outputs a heatmap showing the confusion matrix for the test dataset.\n",
    "\n",
    "**Write the complete Python code based on the instructions provided.**"
   ]
  },
  {
   "cell_type": "code",
   "execution_count": null,
   "metadata": {},
   "outputs": [
    {
     "data": {
      "text/plain": [
       "array([[2270,    0],\n",
       "       [ 730,    0]], dtype=int64)"
      ]
     },
     "metadata": {},
     "output_type": "display_data"
    },
    {
     "data": {
      "text/plain": [
       "<AxesSubplot:>"
      ]
     },
     "execution_count": 89,
     "metadata": {},
     "output_type": "execute_result"
    },
    {
     "data": {
      "image/png": "[encoded data removed]",
      "text/plain": [
       "<Figure size 640x480 with 2 Axes>"
      ]
     },
     "metadata": {},
     "output_type": "display_data"
    }
   ],
   "source": [
    "# Complete the Python code based on the instructions provided then uncomment \n",
    "# from sklearn.metrics import confusion_matrix, classification_report\n",
    "\n",
    "\n",
    "# predicted_labels = ...\n",
    "# display(\n",
    "#     confusion_matrix(\n",
    "#         ...,\n",
    "#         ...\n",
    "#     ))\n",
    "\n",
    "# cm = confusion_matrix(\n",
    "#         ...,\n",
    "#         ...\n",
    "# )\n",
    "\n",
    "# sns.heatmap(..., cmap=..., annot=...)"
   ]
  },
  {
   "cell_type": "markdown",
   "metadata": {},
   "source": [
    "#### Matrice de Confusion Random Forrest"
   ]
  },
  {
   "cell_type": "code",
   "execution_count": null,
   "metadata": {},
   "outputs": [
    {
     "data": {
      "text/plain": [
       "array([[2198,   72],\n",
       "       [  62,  668]], dtype=int64)"
      ]
     },
     "metadata": {},
     "output_type": "display_data"
    },
    {
     "data": {
      "text/plain": [
       "<AxesSubplot:>"
      ]
     },
     "execution_count": 90,
     "metadata": {},
     "output_type": "execute_result"
    },
    {
     "data": {
      "image/png": "[encoded data removed]",
      "text/plain": [
       "<Figure size 640x480 with 2 Axes>"
      ]
     },
     "metadata": {},
     "output_type": "display_data"
    }
   ],
   "source": [
    "# Same instructions as above now use rf_classifier\n",
    "\n",
    "# predicted_labels = ...\n",
    "# display(\n",
    "#     confusion_matrix(\n",
    "#         ...,\n",
    "#         ...\n",
    "#     ))\n",
    "\n",
    "# cm = confusion_matrix(\n",
    "#         ...,\n",
    "#         ...\n",
    "# )\n",
    "\n",
    "# sns.heatmap(..., cmap=..., annot=...)"
   ]
  },
  {
   "cell_type": "markdown",
   "metadata": {},
   "source": [
    "#### Matrice de Confusion Decision Tree"
   ]
  },
  {
   "cell_type": "code",
   "execution_count": null,
   "metadata": {},
   "outputs": [
    {
     "data": {
      "text/plain": [
       "array([[2159,  111],\n",
       "       [  60,  670]], dtype=int64)"
      ]
     },
     "metadata": {},
     "output_type": "display_data"
    },
    {
     "data": {
      "text/plain": [
       "<AxesSubplot:>"
      ]
     },
     "execution_count": 91,
     "metadata": {},
     "output_type": "execute_result"
    },
    {
     "data": {
      "image/png": "[encoded data removed]",
      "text/plain": [
       "<Figure size 640x480 with 2 Axes>"
      ]
     },
     "metadata": {},
     "output_type": "display_data"
    }
   ],
   "source": [
    "# Same instructions as above now use dt_classifier\n",
    "\n",
    "# predicted_labels = ...\n",
    "# display(\n",
    "#     confusion_matrix(\n",
    "#         ...,\n",
    "#         ...\n",
    "#     ))\n",
    "\n",
    "# cm = confusion_matrix(\n",
    "#         ...,\n",
    "#         ...\n",
    "# )\n",
    "\n",
    "# sns.heatmap(..., cmap=..., annot=...)"
   ]
  },
  {
   "cell_type": "markdown",
   "metadata": {},
   "source": [
    "*These lines below explaine how to save a model in a file named best_model.pkl*<br>\n",
    "`pkl` for pickel"
   ]
  },
  {
   "cell_type": "code",
   "execution_count": null,
   "metadata": {},
   "outputs": [
    {
     "data": {
      "text/plain": [
       "['./models/best_model.pkl']"
      ]
     },
     "execution_count": 99,
     "metadata": {},
     "output_type": "execute_result"
    }
   ],
   "source": [
    "import joblib\n",
    "\n",
    "joblib.dump(rf_classifier,\"./models/best_model.pkl\")"
   ]
  },
  {
   "cell_type": "markdown",
   "metadata": {},
   "source": [
    "#### 6. GridSearchCV\n",
    "\n",
    "Here we want you to understand how to build a gridCV for many estimators. Follow along the code."
   ]
  },
  {
   "cell_type": "code",
   "execution_count": 143,
   "metadata": {},
   "outputs": [],
   "source": [
    "from sklearn.model_selection import GridSearchCV\n",
    "\n",
    "\n",
    "# KNN, Log, Tree instance of classifier are already in place\n",
    "\n",
    "# We need to set hyperparameters for each classifier\n",
    "param_grid_knn = {\n",
    "    \n",
    "    'classifier__n_neighbors': np.arange(2,12),\n",
    "    'classifier__leaf_size': [20, 30, 40],\n",
    "    'classifier__p': [1,2] , # 1 Manhattan, 2 Euclidean\n",
    "}\n",
    "\n",
    "\n",
    "param_grid_tree = {\n",
    "    'classifier__max_depth': [5, 10, 20],\n",
    "    'classifier__min_samples_split': [2, 5, 10],\n",
    "    'classifier__min_samples_leaf': [1, 2, 3]\n",
    "}\n",
    "\n",
    "# Define hyperparameters for Logistic Regression\n",
    "param_grid_log = [{\n",
    "    'classifier__C': [0.01, 0.1, 1, 10, 100],\n",
    "    'classifier__penalty': ['l1', 'l2'],\n",
    "    # You can add more solvers like 'lbfgs'\n",
    "    'classifier__solver': ['liblinear', 'saga'],\n",
    "    'classifier__max_iter': [100, 200, 300]\n",
    "    },\n",
    "                  {\n",
    "    'classifier__penalty': ['elasticnet'],\n",
    "    'classifier__solver': ['saga'],\n",
    "    'classifier__l1_ratio': [0.5]  # l1_ratio is only used with 'elasticnet'\n",
    "    }]\n",
    "\n",
    "param_grids = [\n",
    "    param_grid_knn,\n",
    "    param_grid_tree,\n",
    "    param_grid_log\n",
    "]"
   ]
  },
  {
   "cell_type": "markdown",
   "metadata": {},
   "source": [
    "### Infos about Hyperparameters\n",
    "\n",
    "### 1. K-Nearest Neighbors (KNN) Hyperparameters\n",
    "\n",
    "The K-Nearest Neighbors algorithm is a simple and intuitive method that classifies data points based on the labels of their nearest neighbors. The primary hyperparameters you can tune are:\n",
    "\n",
    "1. **`n_neighbors`**:\n",
    "    - **What it is**: This is the number of neighbors (k) to consider when making a classification. \n",
    "    - **How it works**: The algorithm finds the `k` nearest neighbors of a given data point and assigns the majority class of these neighbors to the data point.\n",
    "    - **Typical Values**: Small values of `k` (like 1 or 3) can lead to models that are sensitive to noise (overfitting). Larger values smooth out the decision boundary but may lead to underfitting.\n",
    "    - **In the Grid**: \n",
    "      ```python\n",
    "      'classifier__n_neighbors': np.arange(2, 12)\n",
    "      ```\n",
    "\n",
    "2. **`leaf_size`**:\n",
    "    - **What it is**: This controls the size of the leaf in the tree structure used to speed up neighbor searches. \n",
    "    - **How it works**: A smaller `leaf_size` results in a more complex tree, which might increase the speed of querying at the cost of more memory. A larger `leaf_size` reduces the complexity and can reduce overfitting.\n",
    "    - **Typical Values**: Common values range from 20 to 40.\n",
    "    - **In the Grid**:\n",
    "      ```python\n",
    "      'classifier__leaf_size': [20, 30, 40]\n",
    "      ```\n",
    "\n",
    "3. **`p`**:\n",
    "    - **What it is**: The power parameter for the Minkowski distance metric, which generalizes Euclidean (`p=2`) and Manhattan (`p=1`) distances.\n",
    "    - **How it works**: \n",
    "        - `p=1` corresponds to Manhattan distance (L1 norm).\n",
    "        - `p=2` corresponds to Euclidean distance (L2 norm).\n",
    "        - Larger values of `p` can be used for different distance metrics, but are less common.\n",
    "    - **Typical Values**: Usually set to 1 or 2.\n",
    "    - **In the Grid**:\n",
    "      ```python\n",
    "      'classifier__p': [1, 2]\n",
    "      ```\n",
    "\n",
    "### 2. Decision Tree Classifier Hyperparameters\n",
    "\n",
    "A Decision Tree is a model that splits data based on feature thresholds to predict outcomes. The key hyperparameters include:\n",
    "\n",
    "1. **`max_depth`**:\n",
    "    - **What it is**: This is the maximum depth of the tree, i.e., the longest path from the root node to a leaf.\n",
    "    - **How it works**: \n",
    "        - **Shallow trees** (low `max_depth`) may underfit the data by not capturing enough detail.\n",
    "        - **Deep trees** (high `max_depth`) might capture too much detail, leading to overfitting.\n",
    "    - **Typical Values**: The depth can be tuned based on your data size and complexity, commonly between 5 and 20.\n",
    "    - **In the Grid**:\n",
    "      ```python\n",
    "      'classifier__max_depth': [5, 10, 20]\n",
    "      ```\n",
    "\n",
    "2. **`min_samples_split`**:\n",
    "    - **What it is**: This specifies the minimum number of samples required to split an internal node.\n",
    "    - **How it works**: \n",
    "        - **Smaller values** allow the tree to split more often, leading to a more complex model (possible overfitting).\n",
    "        - **Larger values** prevent splitting too frequently, which can reduce model complexity (less overfitting).\n",
    "    - **Typical Values**: Commonly set between 2 and 10.\n",
    "    - **In the Grid**:\n",
    "      ```python\n",
    "      'classifier__min_samples_split': [2, 5, 10]\n",
    "      ```\n",
    "\n",
    "3. **`min_samples_leaf`**:\n",
    "    - **What it is**: This specifies the minimum number of samples that a leaf node must have after a split.\n",
    "    - **How it works**: \n",
    "        - **Smaller values** allow smaller leaves, which can capture more details but may lead to overfitting.\n",
    "        - **Larger values** ensure that leaf nodes have more data, which can reduce overfitting by smoothing the decision rules.\n",
    "    - **Typical Values**: Common values are between 1 and 3.\n",
    "    - **In the Grid**:\n",
    "      ```python\n",
    "      'classifier__min_samples_leaf': [1, 2, 3]\n",
    "      ```\n",
    "\n",
    "### 3. Logistic Regression Hyperparameters:\n",
    ">- **C**: The regularization parameter C helps control overfitting. A smaller C means stronger regularization.\n",
    ">- **penalty**: Specifies the norm of the penalty; 'l1' and 'l2' are the most commonly used.\n",
    ">- **solver**: Different solvers handle optimization differently and work better for different types of data. liblinear is good for small datasets and saga works well with elasticnet penalty.\n",
    ">- **max_iter**: The maximum number of iterations the solver will take. Increasing this might help convergence.\n",
    "\n",
    "\n",
    "### Combining All Parameter Grids\n",
    "\n",
    "After defining these hyperparameters, your `param_grids` list for all classifiers would look like this:\n",
    "\n",
    "```python\n",
    "param_grids = [\n",
    "    param_grid_knn,\n",
    "    param_grid_tree,\n",
    "    param_grid_log\n",
    "]\n",
    "```\n",
    "\n",
    "Each grid corresponds to one of your classifiers: KNN, Decision Tree, and Logistic Regression. The `GridSearchCV` will iterate through all possible combinations of these hyperparameters to find the best set that maximizes the accuracy (or other chosen metric) on your validation set.\n",
    "\n",
    "This structured approach helps ensure that your model is well-tuned to your data without underfitting or overfitting.\n"
   ]
  },
  {
   "cell_type": "code",
   "execution_count": 144,
   "metadata": {},
   "outputs": [],
   "source": [
    "from sklearn.pipeline import Pipeline\n",
    "\n",
    "# Define your classifiers\n",
    "knn_pipe = Pipeline([('classifier', KNN)])\n",
    "tree_pipe = Pipeline([('classifier', dt_classifier)])\n",
    "log_pipe = Pipeline([('classifier', lg_classifier)]\n",
    "                    )  # Added Logistic Regression\n",
    "\n",
    "# Combine all pipelines into a list\n",
    "pipelines = [\n",
    "    knn_pipe,\n",
    "    tree_pipe,\n",
    "    log_pipe  # Include Logistic Regression pipeline\n",
    "]"
   ]
  },
  {
   "cell_type": "code",
   "execution_count": 145,
   "metadata": {},
   "outputs": [],
   "source": [
    "# GridSearch\n",
    "# Initialize an empty dictionary to store the results of the GridSearch for each model\n",
    "results = {}\n",
    "\n",
    "# Loop through each pipeline and its corresponding parameter grid\n",
    "for pipe, (estimator, param_grid) in enumerate(zip(pipelines, param_grids)):\n",
    "\n",
    "    # Initialize GridSearchCV with the following parameters:\n",
    "    # - estimator: the current pipeline (which contains the classifier)\n",
    "    # - param_grid: the hyperparameters to be searched\n",
    "    # - cv=5: 5-fold cross-validation\n",
    "    # - n_jobs=-1: use all available cores for parallel processing\n",
    "    # - scoring=\"accuracy\": use accuracy as the evaluation metric\n",
    "    grid_search = GridSearchCV(\n",
    "        estimator, param_grid, cv=5, n_jobs=-1, scoring=\"accuracy\", error_score='raise')\n",
    "\n",
    "    # Fit the GridSearch model using the training data\n",
    "    grid_search.fit(X_train, y_train)\n",
    "\n",
    "    # Store the results in the 'results' dictionary using a unique key that includes:\n",
    "    # - the index of the pipeline in the list (pipe)\n",
    "    # - the name of the classifier (e.g., 'KNeighborsClassifier', 'DecisionTreeClassifier')\n",
    "    # The grid_search object is stored as the value associated with this key.\n",
    "    results[f'{pipe}_{estimator.named_steps[\"classifier\"].__class__.__name__}'] = grid_search"
   ]
  },
  {
   "cell_type": "code",
   "execution_count": 146,
   "metadata": {},
   "outputs": [
    {
     "name": "stdout",
     "output_type": "stream",
     "text": [
      "Best parameters for 0_KNeighborsClassifier: {'classifier__leaf_size': 20, 'classifier__n_neighbors': np.int64(2), 'classifier__p': 1}\n",
      "Best score for 0_KNeighborsClassifier: 0.886\n",
      "Best parameters for 1_DecisionTreeClassifier: {'classifier__max_depth': 20, 'classifier__min_samples_leaf': 1, 'classifier__min_samples_split': 2}\n",
      "Best score for 1_DecisionTreeClassifier: 0.9283333333333333\n",
      "Best parameters for 2_LogisticRegression: {'classifier__C': 0.01, 'classifier__max_iter': 300, 'classifier__penalty': 'l1', 'classifier__solver': 'liblinear'}\n",
      "Best score for 2_LogisticRegression: 0.8026666666666666\n",
      "Best score for 0_KNeighborsClassifier: 0.886\n",
      "Best parameters for 1_DecisionTreeClassifier: {'classifier__max_depth': 20, 'classifier__min_samples_leaf': 1, 'classifier__min_samples_split': 2}\n",
      "Best score for 1_DecisionTreeClassifier: 0.9283333333333333\n",
      "Best parameters for 2_LogisticRegression: {'classifier__C': 0.01, 'classifier__max_iter': 300, 'classifier__penalty': 'l1', 'classifier__solver': 'liblinear'}\n",
      "Best score for 2_LogisticRegression: 0.8026666666666666\n"
     ]
    }
   ],
   "source": [
    "# Accessing the results for each classifier\n",
    "\n",
    "# Iterate over each item in the results dictionary\n",
    "# The dictionary contains the grid search results for each classifier\n",
    "for name, result in results.items():\n",
    "\n",
    "    # Print the best hyperparameters found for the current classifier\n",
    "    # 'name' is the key in the dictionary which corresponds to the classifier name\n",
    "    # 'result' is the GridSearchCV object containing the search results\n",
    "    print(f\"Best parameters for {name}: {result.best_params_}\")\n",
    "\n",
    "    # Evaluate the best model on the test set\n",
    "    # result.score(X_test, y_test) computes the accuracy of the model with the best parameters on the test data\n",
    "    print(f\"Best score for {name}: {result.score(X_test, y_test)}\")"
   ]
  },
  {
   "cell_type": "code",
   "execution_count": 147,
   "metadata": {},
   "outputs": [
    {
     "data": {
      "text/plain": [
       "{'0_KNeighborsClassifier': GridSearchCV(cv=5, error_score='raise',\n",
       "              estimator=Pipeline(steps=[('classifier', KNeighborsClassifier())]),\n",
       "              n_jobs=-1,\n",
       "              param_grid={'classifier__leaf_size': [20, 30, 40],\n",
       "                          'classifier__n_neighbors': array([ 2,  3,  4,  5,  6,  7,  8,  9, 10, 11]),\n",
       "                          'classifier__p': [1, 2]},\n",
       "              scoring='accuracy'),\n",
       " '1_DecisionTreeClassifier': GridSearchCV(cv=5, error_score='raise',\n",
       "              estimator=Pipeline(steps=[('classifier',\n",
       "                                         DecisionTreeClassifier())]),\n",
       "              n_jobs=-1,\n",
       "              param_grid={'classifier__max_depth': [5, 10, 20],\n",
       "                          'classifier__min_samples_leaf': [1, 2, 3],\n",
       "                          'classifier__min_samples_split': [2, 5, 10]},\n",
       "              scoring='accuracy'),\n",
       " '2_LogisticRegression': GridSearchCV(cv=5, error_score='raise',\n",
       "              estimator=Pipeline(steps=[('classifier',\n",
       "                                         LogisticRegression(max_iter=10000))]),\n",
       "              n_jobs=-1,\n",
       "              param_grid=[{'classifier__C': [0.01, 0.1, 1, 10, 100],\n",
       "                           'classifier__max_iter': [100, 200, 300],\n",
       "                           'classifier__penalty': ['l1', 'l2'],\n",
       "                           'classifier__solver': ['liblinear', 'saga']},\n",
       "                          {'classifier__l1_ratio': [0.5],\n",
       "                           'classifier__penalty': ['elasticnet'],\n",
       "                           'classifier__solver': ['saga']}],\n",
       "              scoring='accuracy')}"
      ]
     },
     "execution_count": 147,
     "metadata": {},
     "output_type": "execute_result"
    }
   ],
   "source": [
    "results"
   ]
  },
  {
   "cell_type": "markdown",
   "metadata": {},
   "source": [
    "dt_classifier being the best classifier let's access this estimator"
   ]
  },
  {
   "cell_type": "code",
   "execution_count": 148,
   "metadata": {},
   "outputs": [
    {
     "data": {
      "text/html": [
       "<style>#sk-container-id-3 {\n",
       "  /* Definition of color scheme common for light and dark mode */\n",
       "  --sklearn-color-text: black;\n",
       "  --sklearn-color-line: gray;\n",
       "  /* Definition of color scheme for unfitted estimators */\n",
       "  --sklearn-color-unfitted-level-0: #fff5e6;\n",
       "  --sklearn-color-unfitted-level-1: #f6e4d2;\n",
       "  --sklearn-color-unfitted-level-2: #ffe0b3;\n",
       "  --sklearn-color-unfitted-level-3: chocolate;\n",
       "  /* Definition of color scheme for fitted estimators */\n",
       "  --sklearn-color-fitted-level-0: #f0f8ff;\n",
       "  --sklearn-color-fitted-level-1: #d4ebff;\n",
       "  --sklearn-color-fitted-level-2: #b3dbfd;\n",
       "  --sklearn-color-fitted-level-3: cornflowerblue;\n",
       "\n",
       "  /* Specific color for light theme */\n",
       "  --sklearn-color-text-on-default-background: var(--sg-text-color, var(--theme-code-foreground, var(--jp-content-font-color1, black)));\n",
       "  --sklearn-color-background: var(--sg-background-color, var(--theme-background, var(--jp-layout-color0, white)));\n",
       "  --sklearn-color-border-box: var(--sg-text-color, var(--theme-code-foreground, var(--jp-content-font-color1, black)));\n",
       "  --sklearn-color-icon: #696969;\n",
       "\n",
       "  @media (prefers-color-scheme: dark) {\n",
       "    /* Redefinition of color scheme for dark theme */\n",
       "    --sklearn-color-text-on-default-background: var(--sg-text-color, var(--theme-code-foreground, var(--jp-content-font-color1, white)));\n",
       "    --sklearn-color-background: var(--sg-background-color, var(--theme-background, var(--jp-layout-color0, #111)));\n",
       "    --sklearn-color-border-box: var(--sg-text-color, var(--theme-code-foreground, var(--jp-content-font-color1, white)));\n",
       "    --sklearn-color-icon: #878787;\n",
       "  }\n",
       "}\n",
       "\n",
       "#sk-container-id-3 {\n",
       "  color: var(--sklearn-color-text);\n",
       "}\n",
       "\n",
       "#sk-container-id-3 pre {\n",
       "  padding: 0;\n",
       "}\n",
       "\n",
       "#sk-container-id-3 input.sk-hidden--visually {\n",
       "  border: 0;\n",
       "  clip: rect(1px 1px 1px 1px);\n",
       "  clip: rect(1px, 1px, 1px, 1px);\n",
       "  height: 1px;\n",
       "  margin: -1px;\n",
       "  overflow: hidden;\n",
       "  padding: 0;\n",
       "  position: absolute;\n",
       "  width: 1px;\n",
       "}\n",
       "\n",
       "#sk-container-id-3 div.sk-dashed-wrapped {\n",
       "  border: 1px dashed var(--sklearn-color-line);\n",
       "  margin: 0 0.4em 0.5em 0.4em;\n",
       "  box-sizing: border-box;\n",
       "  padding-bottom: 0.4em;\n",
       "  background-color: var(--sklearn-color-background);\n",
       "}\n",
       "\n",
       "#sk-container-id-3 div.sk-container {\n",
       "  /* jupyter's `normalize.less` sets `[hidden] { display: none; }`\n",
       "     but bootstrap.min.css set `[hidden] { display: none !important; }`\n",
       "     so we also need the `!important` here to be able to override the\n",
       "     default hidden behavior on the sphinx rendered scikit-learn.org.\n",
       "     See: https://github.com/scikit-learn/scikit-learn/issues/21755 */\n",
       "  display: inline-block !important;\n",
       "  position: relative;\n",
       "}\n",
       "\n",
       "#sk-container-id-3 div.sk-text-repr-fallback {\n",
       "  display: none;\n",
       "}\n",
       "\n",
       "div.sk-parallel-item,\n",
       "div.sk-serial,\n",
       "div.sk-item {\n",
       "  /* draw centered vertical line to link estimators */\n",
       "  background-image: linear-gradient(var(--sklearn-color-text-on-default-background), var(--sklearn-color-text-on-default-background));\n",
       "  background-size: 2px 100%;\n",
       "  background-repeat: no-repeat;\n",
       "  background-position: center center;\n",
       "}\n",
       "\n",
       "/* Parallel-specific style estimator block */\n",
       "\n",
       "#sk-container-id-3 div.sk-parallel-item::after {\n",
       "  content: \"\";\n",
       "  width: 100%;\n",
       "  border-bottom: 2px solid var(--sklearn-color-text-on-default-background);\n",
       "  flex-grow: 1;\n",
       "}\n",
       "\n",
       "#sk-container-id-3 div.sk-parallel {\n",
       "  display: flex;\n",
       "  align-items: stretch;\n",
       "  justify-content: center;\n",
       "  background-color: var(--sklearn-color-background);\n",
       "  position: relative;\n",
       "}\n",
       "\n",
       "#sk-container-id-3 div.sk-parallel-item {\n",
       "  display: flex;\n",
       "  flex-direction: column;\n",
       "}\n",
       "\n",
       "#sk-container-id-3 div.sk-parallel-item:first-child::after {\n",
       "  align-self: flex-end;\n",
       "  width: 50%;\n",
       "}\n",
       "\n",
       "#sk-container-id-3 div.sk-parallel-item:last-child::after {\n",
       "  align-self: flex-start;\n",
       "  width: 50%;\n",
       "}\n",
       "\n",
       "#sk-container-id-3 div.sk-parallel-item:only-child::after {\n",
       "  width: 0;\n",
       "}\n",
       "\n",
       "/* Serial-specific style estimator block */\n",
       "\n",
       "#sk-container-id-3 div.sk-serial {\n",
       "  display: flex;\n",
       "  flex-direction: column;\n",
       "  align-items: center;\n",
       "  background-color: var(--sklearn-color-background);\n",
       "  padding-right: 1em;\n",
       "  padding-left: 1em;\n",
       "}\n",
       "\n",
       "\n",
       "/* Toggleable style: style used for estimator/Pipeline/ColumnTransformer box that is\n",
       "clickable and can be expanded/collapsed.\n",
       "- Pipeline and ColumnTransformer use this feature and define the default style\n",
       "- Estimators will overwrite some part of the style using the `sk-estimator` class\n",
       "*/\n",
       "\n",
       "/* Pipeline and ColumnTransformer style (default) */\n",
       "\n",
       "#sk-container-id-3 div.sk-toggleable {\n",
       "  /* Default theme specific background. It is overwritten whether we have a\n",
       "  specific estimator or a Pipeline/ColumnTransformer */\n",
       "  background-color: var(--sklearn-color-background);\n",
       "}\n",
       "\n",
       "/* Toggleable label */\n",
       "#sk-container-id-3 label.sk-toggleable__label {\n",
       "  cursor: pointer;\n",
       "  display: block;\n",
       "  width: 100%;\n",
       "  margin-bottom: 0;\n",
       "  padding: 0.5em;\n",
       "  box-sizing: border-box;\n",
       "  text-align: center;\n",
       "}\n",
       "\n",
       "#sk-container-id-3 label.sk-toggleable__label-arrow:before {\n",
       "  /* Arrow on the left of the label */\n",
       "  content: \"▸\";\n",
       "  float: left;\n",
       "  margin-right: 0.25em;\n",
       "  color: var(--sklearn-color-icon);\n",
       "}\n",
       "\n",
       "#sk-container-id-3 label.sk-toggleable__label-arrow:hover:before {\n",
       "  color: var(--sklearn-color-text);\n",
       "}\n",
       "\n",
       "/* Toggleable content - dropdown */\n",
       "\n",
       "#sk-container-id-3 div.sk-toggleable__content {\n",
       "  max-height: 0;\n",
       "  max-width: 0;\n",
       "  overflow: hidden;\n",
       "  text-align: left;\n",
       "  /* unfitted */\n",
       "  background-color: var(--sklearn-color-unfitted-level-0);\n",
       "}\n",
       "\n",
       "#sk-container-id-3 div.sk-toggleable__content.fitted {\n",
       "  /* fitted */\n",
       "  background-color: var(--sklearn-color-fitted-level-0);\n",
       "}\n",
       "\n",
       "#sk-container-id-3 div.sk-toggleable__content pre {\n",
       "  margin: 0.2em;\n",
       "  border-radius: 0.25em;\n",
       "  color: var(--sklearn-color-text);\n",
       "  /* unfitted */\n",
       "  background-color: var(--sklearn-color-unfitted-level-0);\n",
       "}\n",
       "\n",
       "#sk-container-id-3 div.sk-toggleable__content.fitted pre {\n",
       "  /* unfitted */\n",
       "  background-color: var(--sklearn-color-fitted-level-0);\n",
       "}\n",
       "\n",
       "#sk-container-id-3 input.sk-toggleable__control:checked~div.sk-toggleable__content {\n",
       "  /* Expand drop-down */\n",
       "  max-height: 200px;\n",
       "  max-width: 100%;\n",
       "  overflow: auto;\n",
       "}\n",
       "\n",
       "#sk-container-id-3 input.sk-toggleable__control:checked~label.sk-toggleable__label-arrow:before {\n",
       "  content: \"▾\";\n",
       "}\n",
       "\n",
       "/* Pipeline/ColumnTransformer-specific style */\n",
       "\n",
       "#sk-container-id-3 div.sk-label input.sk-toggleable__control:checked~label.sk-toggleable__label {\n",
       "  color: var(--sklearn-color-text);\n",
       "  background-color: var(--sklearn-color-unfitted-level-2);\n",
       "}\n",
       "\n",
       "#sk-container-id-3 div.sk-label.fitted input.sk-toggleable__control:checked~label.sk-toggleable__label {\n",
       "  background-color: var(--sklearn-color-fitted-level-2);\n",
       "}\n",
       "\n",
       "/* Estimator-specific style */\n",
       "\n",
       "/* Colorize estimator box */\n",
       "#sk-container-id-3 div.sk-estimator input.sk-toggleable__control:checked~label.sk-toggleable__label {\n",
       "  /* unfitted */\n",
       "  background-color: var(--sklearn-color-unfitted-level-2);\n",
       "}\n",
       "\n",
       "#sk-container-id-3 div.sk-estimator.fitted input.sk-toggleable__control:checked~label.sk-toggleable__label {\n",
       "  /* fitted */\n",
       "  background-color: var(--sklearn-color-fitted-level-2);\n",
       "}\n",
       "\n",
       "#sk-container-id-3 div.sk-label label.sk-toggleable__label,\n",
       "#sk-container-id-3 div.sk-label label {\n",
       "  /* The background is the default theme color */\n",
       "  color: var(--sklearn-color-text-on-default-background);\n",
       "}\n",
       "\n",
       "/* On hover, darken the color of the background */\n",
       "#sk-container-id-3 div.sk-label:hover label.sk-toggleable__label {\n",
       "  color: var(--sklearn-color-text);\n",
       "  background-color: var(--sklearn-color-unfitted-level-2);\n",
       "}\n",
       "\n",
       "/* Label box, darken color on hover, fitted */\n",
       "#sk-container-id-3 div.sk-label.fitted:hover label.sk-toggleable__label.fitted {\n",
       "  color: var(--sklearn-color-text);\n",
       "  background-color: var(--sklearn-color-fitted-level-2);\n",
       "}\n",
       "\n",
       "/* Estimator label */\n",
       "\n",
       "#sk-container-id-3 div.sk-label label {\n",
       "  font-family: monospace;\n",
       "  font-weight: bold;\n",
       "  display: inline-block;\n",
       "  line-height: 1.2em;\n",
       "}\n",
       "\n",
       "#sk-container-id-3 div.sk-label-container {\n",
       "  text-align: center;\n",
       "}\n",
       "\n",
       "/* Estimator-specific */\n",
       "#sk-container-id-3 div.sk-estimator {\n",
       "  font-family: monospace;\n",
       "  border: 1px dotted var(--sklearn-color-border-box);\n",
       "  border-radius: 0.25em;\n",
       "  box-sizing: border-box;\n",
       "  margin-bottom: 0.5em;\n",
       "  /* unfitted */\n",
       "  background-color: var(--sklearn-color-unfitted-level-0);\n",
       "}\n",
       "\n",
       "#sk-container-id-3 div.sk-estimator.fitted {\n",
       "  /* fitted */\n",
       "  background-color: var(--sklearn-color-fitted-level-0);\n",
       "}\n",
       "\n",
       "/* on hover */\n",
       "#sk-container-id-3 div.sk-estimator:hover {\n",
       "  /* unfitted */\n",
       "  background-color: var(--sklearn-color-unfitted-level-2);\n",
       "}\n",
       "\n",
       "#sk-container-id-3 div.sk-estimator.fitted:hover {\n",
       "  /* fitted */\n",
       "  background-color: var(--sklearn-color-fitted-level-2);\n",
       "}\n",
       "\n",
       "/* Specification for estimator info (e.g. \"i\" and \"?\") */\n",
       "\n",
       "/* Common style for \"i\" and \"?\" */\n",
       "\n",
       ".sk-estimator-doc-link,\n",
       "a:link.sk-estimator-doc-link,\n",
       "a:visited.sk-estimator-doc-link {\n",
       "  float: right;\n",
       "  font-size: smaller;\n",
       "  line-height: 1em;\n",
       "  font-family: monospace;\n",
       "  background-color: var(--sklearn-color-background);\n",
       "  border-radius: 1em;\n",
       "  height: 1em;\n",
       "  width: 1em;\n",
       "  text-decoration: none !important;\n",
       "  margin-left: 1ex;\n",
       "  /* unfitted */\n",
       "  border: var(--sklearn-color-unfitted-level-1) 1pt solid;\n",
       "  color: var(--sklearn-color-unfitted-level-1);\n",
       "}\n",
       "\n",
       ".sk-estimator-doc-link.fitted,\n",
       "a:link.sk-estimator-doc-link.fitted,\n",
       "a:visited.sk-estimator-doc-link.fitted {\n",
       "  /* fitted */\n",
       "  border: var(--sklearn-color-fitted-level-1) 1pt solid;\n",
       "  color: var(--sklearn-color-fitted-level-1);\n",
       "}\n",
       "\n",
       "/* On hover */\n",
       "div.sk-estimator:hover .sk-estimator-doc-link:hover,\n",
       ".sk-estimator-doc-link:hover,\n",
       "div.sk-label-container:hover .sk-estimator-doc-link:hover,\n",
       ".sk-estimator-doc-link:hover {\n",
       "  /* unfitted */\n",
       "  background-color: var(--sklearn-color-unfitted-level-3);\n",
       "  color: var(--sklearn-color-background);\n",
       "  text-decoration: none;\n",
       "}\n",
       "\n",
       "div.sk-estimator.fitted:hover .sk-estimator-doc-link.fitted:hover,\n",
       ".sk-estimator-doc-link.fitted:hover,\n",
       "div.sk-label-container:hover .sk-estimator-doc-link.fitted:hover,\n",
       ".sk-estimator-doc-link.fitted:hover {\n",
       "  /* fitted */\n",
       "  background-color: var(--sklearn-color-fitted-level-3);\n",
       "  color: var(--sklearn-color-background);\n",
       "  text-decoration: none;\n",
       "}\n",
       "\n",
       "/* Span, style for the box shown on hovering the info icon */\n",
       ".sk-estimator-doc-link span {\n",
       "  display: none;\n",
       "  z-index: 9999;\n",
       "  position: relative;\n",
       "  font-weight: normal;\n",
       "  right: .2ex;\n",
       "  padding: .5ex;\n",
       "  margin: .5ex;\n",
       "  width: min-content;\n",
       "  min-width: 20ex;\n",
       "  max-width: 50ex;\n",
       "  color: var(--sklearn-color-text);\n",
       "  box-shadow: 2pt 2pt 4pt #999;\n",
       "  /* unfitted */\n",
       "  background: var(--sklearn-color-unfitted-level-0);\n",
       "  border: .5pt solid var(--sklearn-color-unfitted-level-3);\n",
       "}\n",
       "\n",
       ".sk-estimator-doc-link.fitted span {\n",
       "  /* fitted */\n",
       "  background: var(--sklearn-color-fitted-level-0);\n",
       "  border: var(--sklearn-color-fitted-level-3);\n",
       "}\n",
       "\n",
       ".sk-estimator-doc-link:hover span {\n",
       "  display: block;\n",
       "}\n",
       "\n",
       "/* \"?\"-specific style due to the `<a>` HTML tag */\n",
       "\n",
       "#sk-container-id-3 a.estimator_doc_link {\n",
       "  float: right;\n",
       "  font-size: 1rem;\n",
       "  line-height: 1em;\n",
       "  font-family: monospace;\n",
       "  background-color: var(--sklearn-color-background);\n",
       "  border-radius: 1rem;\n",
       "  height: 1rem;\n",
       "  width: 1rem;\n",
       "  text-decoration: none;\n",
       "  /* unfitted */\n",
       "  color: var(--sklearn-color-unfitted-level-1);\n",
       "  border: var(--sklearn-color-unfitted-level-1) 1pt solid;\n",
       "}\n",
       "\n",
       "#sk-container-id-3 a.estimator_doc_link.fitted {\n",
       "  /* fitted */\n",
       "  border: var(--sklearn-color-fitted-level-1) 1pt solid;\n",
       "  color: var(--sklearn-color-fitted-level-1);\n",
       "}\n",
       "\n",
       "/* On hover */\n",
       "#sk-container-id-3 a.estimator_doc_link:hover {\n",
       "  /* unfitted */\n",
       "  background-color: var(--sklearn-color-unfitted-level-3);\n",
       "  color: var(--sklearn-color-background);\n",
       "  text-decoration: none;\n",
       "}\n",
       "\n",
       "#sk-container-id-3 a.estimator_doc_link.fitted:hover {\n",
       "  /* fitted */\n",
       "  background-color: var(--sklearn-color-fitted-level-3);\n",
       "}\n",
       "</style><div id=\"sk-container-id-3\" class=\"sk-top-container\"><div class=\"sk-text-repr-fallback\"><pre>Pipeline(steps=[(&#x27;classifier&#x27;, DecisionTreeClassifier(max_depth=20))])</pre><b>In a Jupyter environment, please rerun this cell to show the HTML representation or trust the notebook. <br />On GitHub, the HTML representation is unable to render, please try loading this page with nbviewer.org.</b></div><div class=\"sk-container\" hidden><div class=\"sk-item sk-dashed-wrapped\"><div class=\"sk-label-container\"><div class=\"sk-label fitted sk-toggleable\"><input class=\"sk-toggleable__control sk-hidden--visually\" id=\"sk-estimator-id-5\" type=\"checkbox\" ><label for=\"sk-estimator-id-5\" class=\"sk-toggleable__label fitted sk-toggleable__label-arrow fitted\">&nbsp;&nbsp;Pipeline<a class=\"sk-estimator-doc-link fitted\" rel=\"noreferrer\" target=\"_blank\" href=\"https://scikit-learn.org/1.5/modules/generated/sklearn.pipeline.Pipeline.html\">?<span>Documentation for Pipeline</span></a><span class=\"sk-estimator-doc-link fitted\">i<span>Fitted</span></span></label><div class=\"sk-toggleable__content fitted\"><pre>Pipeline(steps=[(&#x27;classifier&#x27;, DecisionTreeClassifier(max_depth=20))])</pre></div> </div></div><div class=\"sk-serial\"><div class=\"sk-item\"><div class=\"sk-estimator fitted sk-toggleable\"><input class=\"sk-toggleable__control sk-hidden--visually\" id=\"sk-estimator-id-6\" type=\"checkbox\" ><label for=\"sk-estimator-id-6\" class=\"sk-toggleable__label fitted sk-toggleable__label-arrow fitted\">&nbsp;DecisionTreeClassifier<a class=\"sk-estimator-doc-link fitted\" rel=\"noreferrer\" target=\"_blank\" href=\"https://scikit-learn.org/1.5/modules/generated/sklearn.tree.DecisionTreeClassifier.html\">?<span>Documentation for DecisionTreeClassifier</span></a></label><div class=\"sk-toggleable__content fitted\"><pre>DecisionTreeClassifier(max_depth=20)</pre></div> </div></div></div></div></div></div>"
      ],
      "text/plain": [
       "Pipeline(steps=[('classifier', DecisionTreeClassifier(max_depth=20))])"
      ]
     },
     "execution_count": 148,
     "metadata": {},
     "output_type": "execute_result"
    }
   ],
   "source": [
    "results['1_DecisionTreeClassifier'].best_estimator_"
   ]
  },
  {
   "cell_type": "code",
   "execution_count": 149,
   "metadata": {},
   "outputs": [],
   "source": [
    "best_model = results['1_DecisionTreeClassifier'].best_estimator_"
   ]
  },
  {
   "cell_type": "code",
   "execution_count": null,
   "metadata": {},
   "outputs": [
    {
     "data": {
      "text/plain": [
       "['dt_model.pkl']"
      ]
     },
     "execution_count": 167,
     "metadata": {},
     "output_type": "execute_result"
    }
   ],
   "source": [
    "import joblib\n",
    "\n",
    "joblib.dump(best_model, \"dt_model.pkl\") # how we save a model in a file."
   ]
  },
  {
   "cell_type": "code",
   "execution_count": 150,
   "metadata": {},
   "outputs": [
    {
     "name": "stderr",
     "output_type": "stream",
     "text": [
      "C:\\Users\\didie\\AppData\\Local\\Temp\\ipykernel_41480\\4126549916.py:19: FutureWarning: The behavior of DataFrame concatenation with empty or all-NA entries is deprecated. In a future version, this will no longer exclude empty or all-NA columns when determining the result dtypes. To retain the old behavior, exclude the relevant entries before the concat operation.\n",
      "  result_df = pd.concat([result_df, new_line], ignore_index=True)\n"
     ]
    }
   ],
   "source": [
    "# Initialize the result DataFrame with columns\n",
    "result_df = pd.DataFrame(\n",
    "    columns=[\"Classifier\", \"Best Parameters\", \"Best Score\"])\n",
    "\n",
    "# Loop through the results dictionary and extract the necessary information\n",
    "for name, result in results.items():\n",
    "    classifier = name.split(\"_\")[1]\n",
    "    best_params = result.best_params_\n",
    "    best_accuracy = result.best_score_\n",
    "\n",
    "    # Create a DataFrame for the new row\n",
    "    new_line = pd.DataFrame({\n",
    "        \"Classifier\": [classifier],\n",
    "        \"Best Parameters\": [best_params],\n",
    "        \"Best Score\": [best_accuracy]\n",
    "    })\n",
    "\n",
    "    # Concatenate the new row to result_df\n",
    "    result_df = pd.concat([result_df, new_line], ignore_index=True)"
   ]
  },
  {
   "cell_type": "code",
   "execution_count": 151,
   "metadata": {},
   "outputs": [
    {
     "data": {
      "text/html": [
       "<div>\n",
       "<style scoped>\n",
       "    .dataframe tbody tr th:only-of-type {\n",
       "        vertical-align: middle;\n",
       "    }\n",
       "\n",
       "    .dataframe tbody tr th {\n",
       "        vertical-align: top;\n",
       "    }\n",
       "\n",
       "    .dataframe thead th {\n",
       "        text-align: right;\n",
       "    }\n",
       "</style>\n",
       "<table border=\"1\" class=\"dataframe\">\n",
       "  <thead>\n",
       "    <tr style=\"text-align: right;\">\n",
       "      <th></th>\n",
       "      <th>Classifier</th>\n",
       "      <th>Best Parameters</th>\n",
       "      <th>Best Score</th>\n",
       "    </tr>\n",
       "  </thead>\n",
       "  <tbody>\n",
       "    <tr>\n",
       "      <th>0</th>\n",
       "      <td>KNeighborsClassifier</td>\n",
       "      <td>{'classifier__leaf_size': 20, 'classifier__n_n...</td>\n",
       "      <td>0.858321</td>\n",
       "    </tr>\n",
       "    <tr>\n",
       "      <th>1</th>\n",
       "      <td>DecisionTreeClassifier</td>\n",
       "      <td>{'classifier__max_depth': 20, 'classifier__min...</td>\n",
       "      <td>0.917160</td>\n",
       "    </tr>\n",
       "    <tr>\n",
       "      <th>2</th>\n",
       "      <td>LogisticRegression</td>\n",
       "      <td>{'classifier__C': 0.01, 'classifier__max_iter'...</td>\n",
       "      <td>0.804984</td>\n",
       "    </tr>\n",
       "  </tbody>\n",
       "</table>\n",
       "</div>"
      ],
      "text/plain": [
       "               Classifier                                    Best Parameters  \\\n",
       "0    KNeighborsClassifier  {'classifier__leaf_size': 20, 'classifier__n_n...   \n",
       "1  DecisionTreeClassifier  {'classifier__max_depth': 20, 'classifier__min...   \n",
       "2      LogisticRegression  {'classifier__C': 0.01, 'classifier__max_iter'...   \n",
       "\n",
       "   Best Score  \n",
       "0    0.858321  \n",
       "1    0.917160  \n",
       "2    0.804984  "
      ]
     },
     "metadata": {},
     "output_type": "display_data"
    }
   ],
   "source": [
    "display(result_df)"
   ]
  },
  {
   "cell_type": "markdown",
   "metadata": {},
   "source": [
    "### Bonus infos \n",
    "*Complementary infos* **nothing to do with the pratice exercise**!!!!!<br>\n",
    "**Goal** : How to view any **Grid Search as a DataFrame**\n",
    "\n",
    "#### Example\n",
    "We are going to use the datasets iris in order to show case all models trained by our grid on one estimator"
   ]
  },
  {
   "cell_type": "code",
   "execution_count": null,
   "metadata": {},
   "outputs": [
    {
     "data": {
      "text/html": [
       "<div>\n",
       "<style scoped>\n",
       "    .dataframe tbody tr th:only-of-type {\n",
       "        vertical-align: middle;\n",
       "    }\n",
       "\n",
       "    .dataframe tbody tr th {\n",
       "        vertical-align: top;\n",
       "    }\n",
       "\n",
       "    .dataframe thead th {\n",
       "        text-align: right;\n",
       "    }\n",
       "</style>\n",
       "<table border=\"1\" class=\"dataframe\">\n",
       "  <thead>\n",
       "    <tr style=\"text-align: right;\">\n",
       "      <th></th>\n",
       "      <th>mean_fit_time</th>\n",
       "      <th>std_fit_time</th>\n",
       "      <th>mean_score_time</th>\n",
       "      <th>std_score_time</th>\n",
       "      <th>param_max_depth</th>\n",
       "      <th>param_min_samples_split</th>\n",
       "      <th>param_n_estimators</th>\n",
       "      <th>params</th>\n",
       "      <th>split0_test_score</th>\n",
       "      <th>split1_test_score</th>\n",
       "      <th>split2_test_score</th>\n",
       "      <th>split3_test_score</th>\n",
       "      <th>split4_test_score</th>\n",
       "      <th>mean_test_score</th>\n",
       "      <th>std_test_score</th>\n",
       "      <th>rank_test_score</th>\n",
       "    </tr>\n",
       "  </thead>\n",
       "  <tbody>\n",
       "    <tr>\n",
       "      <th>0</th>\n",
       "      <td>0.071507</td>\n",
       "      <td>0.015515</td>\n",
       "      <td>0.006622</td>\n",
       "      <td>0.003849</td>\n",
       "      <td>None</td>\n",
       "      <td>2</td>\n",
       "      <td>50</td>\n",
       "      <td>{'max_depth': None, 'min_samples_split': 2, 'n...</td>\n",
       "      <td>0.966667</td>\n",
       "      <td>0.966667</td>\n",
       "      <td>0.933333</td>\n",
       "      <td>0.966667</td>\n",
       "      <td>1.0</td>\n",
       "      <td>0.966667</td>\n",
       "      <td>0.021082</td>\n",
       "      <td>1</td>\n",
       "    </tr>\n",
       "    <tr>\n",
       "      <th>1</th>\n",
       "      <td>0.102410</td>\n",
       "      <td>0.002734</td>\n",
       "      <td>0.008818</td>\n",
       "      <td>0.000412</td>\n",
       "      <td>None</td>\n",
       "      <td>2</td>\n",
       "      <td>100</td>\n",
       "      <td>{'max_depth': None, 'min_samples_split': 2, 'n...</td>\n",
       "      <td>0.966667</td>\n",
       "      <td>0.966667</td>\n",
       "      <td>0.933333</td>\n",
       "      <td>0.933333</td>\n",
       "      <td>1.0</td>\n",
       "      <td>0.960000</td>\n",
       "      <td>0.024944</td>\n",
       "      <td>10</td>\n",
       "    </tr>\n",
       "    <tr>\n",
       "      <th>2</th>\n",
       "      <td>0.171370</td>\n",
       "      <td>0.014950</td>\n",
       "      <td>0.015200</td>\n",
       "      <td>0.004383</td>\n",
       "      <td>None</td>\n",
       "      <td>2</td>\n",
       "      <td>150</td>\n",
       "      <td>{'max_depth': None, 'min_samples_split': 2, 'n...</td>\n",
       "      <td>0.966667</td>\n",
       "      <td>0.966667</td>\n",
       "      <td>0.933333</td>\n",
       "      <td>0.966667</td>\n",
       "      <td>1.0</td>\n",
       "      <td>0.966667</td>\n",
       "      <td>0.021082</td>\n",
       "      <td>1</td>\n",
       "    </tr>\n",
       "    <tr>\n",
       "      <th>3</th>\n",
       "      <td>0.056406</td>\n",
       "      <td>0.001031</td>\n",
       "      <td>0.004401</td>\n",
       "      <td>0.000493</td>\n",
       "      <td>None</td>\n",
       "      <td>5</td>\n",
       "      <td>50</td>\n",
       "      <td>{'max_depth': None, 'min_samples_split': 5, 'n...</td>\n",
       "      <td>0.966667</td>\n",
       "      <td>0.966667</td>\n",
       "      <td>0.933333</td>\n",
       "      <td>0.933333</td>\n",
       "      <td>1.0</td>\n",
       "      <td>0.960000</td>\n",
       "      <td>0.024944</td>\n",
       "      <td>10</td>\n",
       "    </tr>\n",
       "    <tr>\n",
       "      <th>4</th>\n",
       "      <td>0.116504</td>\n",
       "      <td>0.004602</td>\n",
       "      <td>0.008607</td>\n",
       "      <td>0.000495</td>\n",
       "      <td>None</td>\n",
       "      <td>5</td>\n",
       "      <td>100</td>\n",
       "      <td>{'max_depth': None, 'min_samples_split': 5, 'n...</td>\n",
       "      <td>0.966667</td>\n",
       "      <td>0.966667</td>\n",
       "      <td>0.933333</td>\n",
       "      <td>0.900000</td>\n",
       "      <td>1.0</td>\n",
       "      <td>0.953333</td>\n",
       "      <td>0.033993</td>\n",
       "      <td>22</td>\n",
       "    </tr>\n",
       "    <tr>\n",
       "      <th>5</th>\n",
       "      <td>0.183533</td>\n",
       "      <td>0.004624</td>\n",
       "      <td>0.013779</td>\n",
       "      <td>0.000773</td>\n",
       "      <td>None</td>\n",
       "      <td>5</td>\n",
       "      <td>150</td>\n",
       "      <td>{'max_depth': None, 'min_samples_split': 5, 'n...</td>\n",
       "      <td>0.966667</td>\n",
       "      <td>0.966667</td>\n",
       "      <td>0.933333</td>\n",
       "      <td>0.966667</td>\n",
       "      <td>1.0</td>\n",
       "      <td>0.966667</td>\n",
       "      <td>0.021082</td>\n",
       "      <td>1</td>\n",
       "    </tr>\n",
       "    <tr>\n",
       "      <th>6</th>\n",
       "      <td>0.058408</td>\n",
       "      <td>0.001964</td>\n",
       "      <td>0.005193</td>\n",
       "      <td>0.000981</td>\n",
       "      <td>None</td>\n",
       "      <td>10</td>\n",
       "      <td>50</td>\n",
       "      <td>{'max_depth': None, 'min_samples_split': 10, '...</td>\n",
       "      <td>0.966667</td>\n",
       "      <td>0.966667</td>\n",
       "      <td>0.933333</td>\n",
       "      <td>0.966667</td>\n",
       "      <td>1.0</td>\n",
       "      <td>0.966667</td>\n",
       "      <td>0.021082</td>\n",
       "      <td>1</td>\n",
       "    </tr>\n",
       "    <tr>\n",
       "      <th>7</th>\n",
       "      <td>0.118274</td>\n",
       "      <td>0.006957</td>\n",
       "      <td>0.008925</td>\n",
       "      <td>0.000516</td>\n",
       "      <td>None</td>\n",
       "      <td>10</td>\n",
       "      <td>100</td>\n",
       "      <td>{'max_depth': None, 'min_samples_split': 10, '...</td>\n",
       "      <td>0.966667</td>\n",
       "      <td>0.966667</td>\n",
       "      <td>0.933333</td>\n",
       "      <td>0.933333</td>\n",
       "      <td>1.0</td>\n",
       "      <td>0.960000</td>\n",
       "      <td>0.024944</td>\n",
       "      <td>10</td>\n",
       "    </tr>\n",
       "    <tr>\n",
       "      <th>8</th>\n",
       "      <td>0.174686</td>\n",
       "      <td>0.013334</td>\n",
       "      <td>0.013829</td>\n",
       "      <td>0.001338</td>\n",
       "      <td>None</td>\n",
       "      <td>10</td>\n",
       "      <td>150</td>\n",
       "      <td>{'max_depth': None, 'min_samples_split': 10, '...</td>\n",
       "      <td>0.966667</td>\n",
       "      <td>0.966667</td>\n",
       "      <td>0.933333</td>\n",
       "      <td>0.933333</td>\n",
       "      <td>1.0</td>\n",
       "      <td>0.960000</td>\n",
       "      <td>0.024944</td>\n",
       "      <td>10</td>\n",
       "    </tr>\n",
       "    <tr>\n",
       "      <th>9</th>\n",
       "      <td>0.056417</td>\n",
       "      <td>0.001492</td>\n",
       "      <td>0.004792</td>\n",
       "      <td>0.000396</td>\n",
       "      <td>10</td>\n",
       "      <td>2</td>\n",
       "      <td>50</td>\n",
       "      <td>{'max_depth': 10, 'min_samples_split': 2, 'n_e...</td>\n",
       "      <td>0.966667</td>\n",
       "      <td>0.966667</td>\n",
       "      <td>0.933333</td>\n",
       "      <td>0.933333</td>\n",
       "      <td>1.0</td>\n",
       "      <td>0.960000</td>\n",
       "      <td>0.024944</td>\n",
       "      <td>10</td>\n",
       "    </tr>\n",
       "    <tr>\n",
       "      <th>10</th>\n",
       "      <td>0.102525</td>\n",
       "      <td>0.004815</td>\n",
       "      <td>0.008199</td>\n",
       "      <td>0.000400</td>\n",
       "      <td>10</td>\n",
       "      <td>2</td>\n",
       "      <td>100</td>\n",
       "      <td>{'max_depth': 10, 'min_samples_split': 2, 'n_e...</td>\n",
       "      <td>0.966667</td>\n",
       "      <td>0.966667</td>\n",
       "      <td>0.933333</td>\n",
       "      <td>0.933333</td>\n",
       "      <td>1.0</td>\n",
       "      <td>0.960000</td>\n",
       "      <td>0.024944</td>\n",
       "      <td>10</td>\n",
       "    </tr>\n",
       "    <tr>\n",
       "      <th>11</th>\n",
       "      <td>0.167277</td>\n",
       "      <td>0.004070</td>\n",
       "      <td>0.013131</td>\n",
       "      <td>0.000702</td>\n",
       "      <td>10</td>\n",
       "      <td>2</td>\n",
       "      <td>150</td>\n",
       "      <td>{'max_depth': 10, 'min_samples_split': 2, 'n_e...</td>\n",
       "      <td>0.966667</td>\n",
       "      <td>0.966667</td>\n",
       "      <td>0.933333</td>\n",
       "      <td>0.966667</td>\n",
       "      <td>1.0</td>\n",
       "      <td>0.966667</td>\n",
       "      <td>0.021082</td>\n",
       "      <td>1</td>\n",
       "    </tr>\n",
       "    <tr>\n",
       "      <th>12</th>\n",
       "      <td>0.061137</td>\n",
       "      <td>0.003384</td>\n",
       "      <td>0.004751</td>\n",
       "      <td>0.000760</td>\n",
       "      <td>10</td>\n",
       "      <td>5</td>\n",
       "      <td>50</td>\n",
       "      <td>{'max_depth': 10, 'min_samples_split': 5, 'n_e...</td>\n",
       "      <td>0.966667</td>\n",
       "      <td>0.966667</td>\n",
       "      <td>0.933333</td>\n",
       "      <td>0.933333</td>\n",
       "      <td>1.0</td>\n",
       "      <td>0.960000</td>\n",
       "      <td>0.024944</td>\n",
       "      <td>10</td>\n",
       "    </tr>\n",
       "    <tr>\n",
       "      <th>13</th>\n",
       "      <td>0.110092</td>\n",
       "      <td>0.014838</td>\n",
       "      <td>0.009008</td>\n",
       "      <td>0.001105</td>\n",
       "      <td>10</td>\n",
       "      <td>5</td>\n",
       "      <td>100</td>\n",
       "      <td>{'max_depth': 10, 'min_samples_split': 5, 'n_e...</td>\n",
       "      <td>0.966667</td>\n",
       "      <td>0.966667</td>\n",
       "      <td>0.933333</td>\n",
       "      <td>0.966667</td>\n",
       "      <td>1.0</td>\n",
       "      <td>0.966667</td>\n",
       "      <td>0.021082</td>\n",
       "      <td>1</td>\n",
       "    </tr>\n",
       "    <tr>\n",
       "      <th>14</th>\n",
       "      <td>0.157015</td>\n",
       "      <td>0.004043</td>\n",
       "      <td>0.012399</td>\n",
       "      <td>0.000489</td>\n",
       "      <td>10</td>\n",
       "      <td>5</td>\n",
       "      <td>150</td>\n",
       "      <td>{'max_depth': 10, 'min_samples_split': 5, 'n_e...</td>\n",
       "      <td>0.966667</td>\n",
       "      <td>0.966667</td>\n",
       "      <td>0.933333</td>\n",
       "      <td>0.900000</td>\n",
       "      <td>1.0</td>\n",
       "      <td>0.953333</td>\n",
       "      <td>0.033993</td>\n",
       "      <td>22</td>\n",
       "    </tr>\n",
       "    <tr>\n",
       "      <th>15</th>\n",
       "      <td>0.054838</td>\n",
       "      <td>0.003601</td>\n",
       "      <td>0.004818</td>\n",
       "      <td>0.000268</td>\n",
       "      <td>10</td>\n",
       "      <td>10</td>\n",
       "      <td>50</td>\n",
       "      <td>{'max_depth': 10, 'min_samples_split': 10, 'n_...</td>\n",
       "      <td>0.966667</td>\n",
       "      <td>0.966667</td>\n",
       "      <td>0.933333</td>\n",
       "      <td>0.900000</td>\n",
       "      <td>1.0</td>\n",
       "      <td>0.953333</td>\n",
       "      <td>0.033993</td>\n",
       "      <td>22</td>\n",
       "    </tr>\n",
       "    <tr>\n",
       "      <th>16</th>\n",
       "      <td>0.102833</td>\n",
       "      <td>0.005697</td>\n",
       "      <td>0.008654</td>\n",
       "      <td>0.000544</td>\n",
       "      <td>10</td>\n",
       "      <td>10</td>\n",
       "      <td>100</td>\n",
       "      <td>{'max_depth': 10, 'min_samples_split': 10, 'n_...</td>\n",
       "      <td>0.966667</td>\n",
       "      <td>0.966667</td>\n",
       "      <td>0.933333</td>\n",
       "      <td>0.966667</td>\n",
       "      <td>1.0</td>\n",
       "      <td>0.966667</td>\n",
       "      <td>0.021082</td>\n",
       "      <td>1</td>\n",
       "    </tr>\n",
       "    <tr>\n",
       "      <th>17</th>\n",
       "      <td>0.149965</td>\n",
       "      <td>0.002524</td>\n",
       "      <td>0.012000</td>\n",
       "      <td>0.000002</td>\n",
       "      <td>10</td>\n",
       "      <td>10</td>\n",
       "      <td>150</td>\n",
       "      <td>{'max_depth': 10, 'min_samples_split': 10, 'n_...</td>\n",
       "      <td>0.966667</td>\n",
       "      <td>0.966667</td>\n",
       "      <td>0.933333</td>\n",
       "      <td>0.900000</td>\n",
       "      <td>1.0</td>\n",
       "      <td>0.953333</td>\n",
       "      <td>0.033993</td>\n",
       "      <td>22</td>\n",
       "    </tr>\n",
       "    <tr>\n",
       "      <th>18</th>\n",
       "      <td>0.051394</td>\n",
       "      <td>0.000482</td>\n",
       "      <td>0.004599</td>\n",
       "      <td>0.000489</td>\n",
       "      <td>20</td>\n",
       "      <td>2</td>\n",
       "      <td>50</td>\n",
       "      <td>{'max_depth': 20, 'min_samples_split': 2, 'n_e...</td>\n",
       "      <td>0.966667</td>\n",
       "      <td>0.966667</td>\n",
       "      <td>0.933333</td>\n",
       "      <td>0.933333</td>\n",
       "      <td>1.0</td>\n",
       "      <td>0.960000</td>\n",
       "      <td>0.024944</td>\n",
       "      <td>10</td>\n",
       "    </tr>\n",
       "    <tr>\n",
       "      <th>19</th>\n",
       "      <td>0.101808</td>\n",
       "      <td>0.001469</td>\n",
       "      <td>0.009001</td>\n",
       "      <td>0.000632</td>\n",
       "      <td>20</td>\n",
       "      <td>2</td>\n",
       "      <td>100</td>\n",
       "      <td>{'max_depth': 20, 'min_samples_split': 2, 'n_e...</td>\n",
       "      <td>0.966667</td>\n",
       "      <td>0.966667</td>\n",
       "      <td>0.900000</td>\n",
       "      <td>0.933333</td>\n",
       "      <td>1.0</td>\n",
       "      <td>0.953333</td>\n",
       "      <td>0.033993</td>\n",
       "      <td>22</td>\n",
       "    </tr>\n",
       "    <tr>\n",
       "      <th>20</th>\n",
       "      <td>0.156136</td>\n",
       "      <td>0.005765</td>\n",
       "      <td>0.012121</td>\n",
       "      <td>0.000367</td>\n",
       "      <td>20</td>\n",
       "      <td>2</td>\n",
       "      <td>150</td>\n",
       "      <td>{'max_depth': 20, 'min_samples_split': 2, 'n_e...</td>\n",
       "      <td>0.966667</td>\n",
       "      <td>0.966667</td>\n",
       "      <td>0.933333</td>\n",
       "      <td>0.966667</td>\n",
       "      <td>1.0</td>\n",
       "      <td>0.966667</td>\n",
       "      <td>0.021082</td>\n",
       "      <td>1</td>\n",
       "    </tr>\n",
       "    <tr>\n",
       "      <th>21</th>\n",
       "      <td>0.049727</td>\n",
       "      <td>0.000392</td>\n",
       "      <td>0.004201</td>\n",
       "      <td>0.000400</td>\n",
       "      <td>20</td>\n",
       "      <td>5</td>\n",
       "      <td>50</td>\n",
       "      <td>{'max_depth': 20, 'min_samples_split': 5, 'n_e...</td>\n",
       "      <td>0.966667</td>\n",
       "      <td>0.966667</td>\n",
       "      <td>0.933333</td>\n",
       "      <td>0.933333</td>\n",
       "      <td>1.0</td>\n",
       "      <td>0.960000</td>\n",
       "      <td>0.024944</td>\n",
       "      <td>10</td>\n",
       "    </tr>\n",
       "    <tr>\n",
       "      <th>22</th>\n",
       "      <td>0.102803</td>\n",
       "      <td>0.000759</td>\n",
       "      <td>0.008399</td>\n",
       "      <td>0.000490</td>\n",
       "      <td>20</td>\n",
       "      <td>5</td>\n",
       "      <td>100</td>\n",
       "      <td>{'max_depth': 20, 'min_samples_split': 5, 'n_e...</td>\n",
       "      <td>0.966667</td>\n",
       "      <td>0.966667</td>\n",
       "      <td>0.933333</td>\n",
       "      <td>0.966667</td>\n",
       "      <td>1.0</td>\n",
       "      <td>0.966667</td>\n",
       "      <td>0.021082</td>\n",
       "      <td>1</td>\n",
       "    </tr>\n",
       "    <tr>\n",
       "      <th>23</th>\n",
       "      <td>0.157565</td>\n",
       "      <td>0.004331</td>\n",
       "      <td>0.012921</td>\n",
       "      <td>0.001104</td>\n",
       "      <td>20</td>\n",
       "      <td>5</td>\n",
       "      <td>150</td>\n",
       "      <td>{'max_depth': 20, 'min_samples_split': 5, 'n_e...</td>\n",
       "      <td>0.966667</td>\n",
       "      <td>0.966667</td>\n",
       "      <td>0.933333</td>\n",
       "      <td>0.933333</td>\n",
       "      <td>1.0</td>\n",
       "      <td>0.960000</td>\n",
       "      <td>0.024944</td>\n",
       "      <td>10</td>\n",
       "    </tr>\n",
       "    <tr>\n",
       "      <th>24</th>\n",
       "      <td>0.056646</td>\n",
       "      <td>0.001562</td>\n",
       "      <td>0.005127</td>\n",
       "      <td>0.000438</td>\n",
       "      <td>20</td>\n",
       "      <td>10</td>\n",
       "      <td>50</td>\n",
       "      <td>{'max_depth': 20, 'min_samples_split': 10, 'n_...</td>\n",
       "      <td>0.966667</td>\n",
       "      <td>0.966667</td>\n",
       "      <td>0.933333</td>\n",
       "      <td>0.933333</td>\n",
       "      <td>1.0</td>\n",
       "      <td>0.960000</td>\n",
       "      <td>0.024944</td>\n",
       "      <td>10</td>\n",
       "    </tr>\n",
       "    <tr>\n",
       "      <th>25</th>\n",
       "      <td>0.104582</td>\n",
       "      <td>0.002648</td>\n",
       "      <td>0.008199</td>\n",
       "      <td>0.000401</td>\n",
       "      <td>20</td>\n",
       "      <td>10</td>\n",
       "      <td>100</td>\n",
       "      <td>{'max_depth': 20, 'min_samples_split': 10, 'n_...</td>\n",
       "      <td>0.966667</td>\n",
       "      <td>0.966667</td>\n",
       "      <td>0.933333</td>\n",
       "      <td>0.900000</td>\n",
       "      <td>1.0</td>\n",
       "      <td>0.953333</td>\n",
       "      <td>0.033993</td>\n",
       "      <td>22</td>\n",
       "    </tr>\n",
       "    <tr>\n",
       "      <th>26</th>\n",
       "      <td>0.149444</td>\n",
       "      <td>0.001649</td>\n",
       "      <td>0.012400</td>\n",
       "      <td>0.000489</td>\n",
       "      <td>20</td>\n",
       "      <td>10</td>\n",
       "      <td>150</td>\n",
       "      <td>{'max_depth': 20, 'min_samples_split': 10, 'n_...</td>\n",
       "      <td>0.966667</td>\n",
       "      <td>0.966667</td>\n",
       "      <td>0.933333</td>\n",
       "      <td>0.933333</td>\n",
       "      <td>1.0</td>\n",
       "      <td>0.960000</td>\n",
       "      <td>0.024944</td>\n",
       "      <td>10</td>\n",
       "    </tr>\n",
       "  </tbody>\n",
       "</table>\n",
       "</div>"
      ],
      "text/plain": [
       "    mean_fit_time  std_fit_time  mean_score_time  std_score_time  \\\n",
       "0        0.071507      0.015515         0.006622        0.003849   \n",
       "1        0.102410      0.002734         0.008818        0.000412   \n",
       "2        0.171370      0.014950         0.015200        0.004383   \n",
       "3        0.056406      0.001031         0.004401        0.000493   \n",
       "4        0.116504      0.004602         0.008607        0.000495   \n",
       "5        0.183533      0.004624         0.013779        0.000773   \n",
       "6        0.058408      0.001964         0.005193        0.000981   \n",
       "7        0.118274      0.006957         0.008925        0.000516   \n",
       "8        0.174686      0.013334         0.013829        0.001338   \n",
       "9        0.056417      0.001492         0.004792        0.000396   \n",
       "10       0.102525      0.004815         0.008199        0.000400   \n",
       "11       0.167277      0.004070         0.013131        0.000702   \n",
       "12       0.061137      0.003384         0.004751        0.000760   \n",
       "13       0.110092      0.014838         0.009008        0.001105   \n",
       "14       0.157015      0.004043         0.012399        0.000489   \n",
       "15       0.054838      0.003601         0.004818        0.000268   \n",
       "16       0.102833      0.005697         0.008654        0.000544   \n",
       "17       0.149965      0.002524         0.012000        0.000002   \n",
       "18       0.051394      0.000482         0.004599        0.000489   \n",
       "19       0.101808      0.001469         0.009001        0.000632   \n",
       "20       0.156136      0.005765         0.012121        0.000367   \n",
       "21       0.049727      0.000392         0.004201        0.000400   \n",
       "22       0.102803      0.000759         0.008399        0.000490   \n",
       "23       0.157565      0.004331         0.012921        0.001104   \n",
       "24       0.056646      0.001562         0.005127        0.000438   \n",
       "25       0.104582      0.002648         0.008199        0.000401   \n",
       "26       0.149444      0.001649         0.012400        0.000489   \n",
       "\n",
       "   param_max_depth param_min_samples_split param_n_estimators  \\\n",
       "0             None                       2                 50   \n",
       "1             None                       2                100   \n",
       "2             None                       2                150   \n",
       "3             None                       5                 50   \n",
       "4             None                       5                100   \n",
       "5             None                       5                150   \n",
       "6             None                      10                 50   \n",
       "7             None                      10                100   \n",
       "8             None                      10                150   \n",
       "9               10                       2                 50   \n",
       "10              10                       2                100   \n",
       "11              10                       2                150   \n",
       "12              10                       5                 50   \n",
       "13              10                       5                100   \n",
       "14              10                       5                150   \n",
       "15              10                      10                 50   \n",
       "16              10                      10                100   \n",
       "17              10                      10                150   \n",
       "18              20                       2                 50   \n",
       "19              20                       2                100   \n",
       "20              20                       2                150   \n",
       "21              20                       5                 50   \n",
       "22              20                       5                100   \n",
       "23              20                       5                150   \n",
       "24              20                      10                 50   \n",
       "25              20                      10                100   \n",
       "26              20                      10                150   \n",
       "\n",
       "                                               params  split0_test_score  \\\n",
       "0   {'max_depth': None, 'min_samples_split': 2, 'n...           0.966667   \n",
       "1   {'max_depth': None, 'min_samples_split': 2, 'n...           0.966667   \n",
       "2   {'max_depth': None, 'min_samples_split': 2, 'n...           0.966667   \n",
       "3   {'max_depth': None, 'min_samples_split': 5, 'n...           0.966667   \n",
       "4   {'max_depth': None, 'min_samples_split': 5, 'n...           0.966667   \n",
       "5   {'max_depth': None, 'min_samples_split': 5, 'n...           0.966667   \n",
       "6   {'max_depth': None, 'min_samples_split': 10, '...           0.966667   \n",
       "7   {'max_depth': None, 'min_samples_split': 10, '...           0.966667   \n",
       "8   {'max_depth': None, 'min_samples_split': 10, '...           0.966667   \n",
       "9   {'max_depth': 10, 'min_samples_split': 2, 'n_e...           0.966667   \n",
       "10  {'max_depth': 10, 'min_samples_split': 2, 'n_e...           0.966667   \n",
       "11  {'max_depth': 10, 'min_samples_split': 2, 'n_e...           0.966667   \n",
       "12  {'max_depth': 10, 'min_samples_split': 5, 'n_e...           0.966667   \n",
       "13  {'max_depth': 10, 'min_samples_split': 5, 'n_e...           0.966667   \n",
       "14  {'max_depth': 10, 'min_samples_split': 5, 'n_e...           0.966667   \n",
       "15  {'max_depth': 10, 'min_samples_split': 10, 'n_...           0.966667   \n",
       "16  {'max_depth': 10, 'min_samples_split': 10, 'n_...           0.966667   \n",
       "17  {'max_depth': 10, 'min_samples_split': 10, 'n_...           0.966667   \n",
       "18  {'max_depth': 20, 'min_samples_split': 2, 'n_e...           0.966667   \n",
       "19  {'max_depth': 20, 'min_samples_split': 2, 'n_e...           0.966667   \n",
       "20  {'max_depth': 20, 'min_samples_split': 2, 'n_e...           0.966667   \n",
       "21  {'max_depth': 20, 'min_samples_split': 5, 'n_e...           0.966667   \n",
       "22  {'max_depth': 20, 'min_samples_split': 5, 'n_e...           0.966667   \n",
       "23  {'max_depth': 20, 'min_samples_split': 5, 'n_e...           0.966667   \n",
       "24  {'max_depth': 20, 'min_samples_split': 10, 'n_...           0.966667   \n",
       "25  {'max_depth': 20, 'min_samples_split': 10, 'n_...           0.966667   \n",
       "26  {'max_depth': 20, 'min_samples_split': 10, 'n_...           0.966667   \n",
       "\n",
       "    split1_test_score  split2_test_score  split3_test_score  \\\n",
       "0            0.966667           0.933333           0.966667   \n",
       "1            0.966667           0.933333           0.933333   \n",
       "2            0.966667           0.933333           0.966667   \n",
       "3            0.966667           0.933333           0.933333   \n",
       "4            0.966667           0.933333           0.900000   \n",
       "5            0.966667           0.933333           0.966667   \n",
       "6            0.966667           0.933333           0.966667   \n",
       "7            0.966667           0.933333           0.933333   \n",
       "8            0.966667           0.933333           0.933333   \n",
       "9            0.966667           0.933333           0.933333   \n",
       "10           0.966667           0.933333           0.933333   \n",
       "11           0.966667           0.933333           0.966667   \n",
       "12           0.966667           0.933333           0.933333   \n",
       "13           0.966667           0.933333           0.966667   \n",
       "14           0.966667           0.933333           0.900000   \n",
       "15           0.966667           0.933333           0.900000   \n",
       "16           0.966667           0.933333           0.966667   \n",
       "17           0.966667           0.933333           0.900000   \n",
       "18           0.966667           0.933333           0.933333   \n",
       "19           0.966667           0.900000           0.933333   \n",
       "20           0.966667           0.933333           0.966667   \n",
       "21           0.966667           0.933333           0.933333   \n",
       "22           0.966667           0.933333           0.966667   \n",
       "23           0.966667           0.933333           0.933333   \n",
       "24           0.966667           0.933333           0.933333   \n",
       "25           0.966667           0.933333           0.900000   \n",
       "26           0.966667           0.933333           0.933333   \n",
       "\n",
       "    split4_test_score  mean_test_score  std_test_score  rank_test_score  \n",
       "0                 1.0         0.966667        0.021082                1  \n",
       "1                 1.0         0.960000        0.024944               10  \n",
       "2                 1.0         0.966667        0.021082                1  \n",
       "3                 1.0         0.960000        0.024944               10  \n",
       "4                 1.0         0.953333        0.033993               22  \n",
       "5                 1.0         0.966667        0.021082                1  \n",
       "6                 1.0         0.966667        0.021082                1  \n",
       "7                 1.0         0.960000        0.024944               10  \n",
       "8                 1.0         0.960000        0.024944               10  \n",
       "9                 1.0         0.960000        0.024944               10  \n",
       "10                1.0         0.960000        0.024944               10  \n",
       "11                1.0         0.966667        0.021082                1  \n",
       "12                1.0         0.960000        0.024944               10  \n",
       "13                1.0         0.966667        0.021082                1  \n",
       "14                1.0         0.953333        0.033993               22  \n",
       "15                1.0         0.953333        0.033993               22  \n",
       "16                1.0         0.966667        0.021082                1  \n",
       "17                1.0         0.953333        0.033993               22  \n",
       "18                1.0         0.960000        0.024944               10  \n",
       "19                1.0         0.953333        0.033993               22  \n",
       "20                1.0         0.966667        0.021082                1  \n",
       "21                1.0         0.960000        0.024944               10  \n",
       "22                1.0         0.966667        0.021082                1  \n",
       "23                1.0         0.960000        0.024944               10  \n",
       "24                1.0         0.960000        0.024944               10  \n",
       "25                1.0         0.953333        0.033993               22  \n",
       "26                1.0         0.960000        0.024944               10  "
      ]
     },
     "execution_count": 2,
     "metadata": {},
     "output_type": "execute_result"
    }
   ],
   "source": [
    "import pandas as pd\n",
    "from sklearn.model_selection import GridSearchCV\n",
    "from sklearn.ensemble import RandomForestClassifier\n",
    "from sklearn.datasets import load_iris\n",
    "\n",
    "# Load the Iris dataset for illustration purposes\n",
    "iris = load_iris()\n",
    "X, y = iris.data, iris.target\n",
    "\n",
    "# Define the parameter grid\n",
    "param_grid = {\n",
    "    'n_estimators': [50, 100, 150],\n",
    "    'max_depth': [None, 10, 20],\n",
    "    'min_samples_split': [2, 5, 10],\n",
    "}\n",
    "\n",
    "# Create a Random Forest classifier\n",
    "rf_classifier = RandomForestClassifier()\n",
    "\n",
    "# Create the GridSearchCV object\n",
    "grid_search = GridSearchCV(rf_classifier, param_grid, cv=5, scoring='accuracy')\n",
    "\n",
    "# Fit the grid search to the data\n",
    "grid_search.fit(X, y)\n",
    "\n",
    "# Convert the results to a Pandas DataFrame\n",
    "results_df = pd.DataFrame(grid_search.cv_results_)\n",
    "\n",
    "# Display the DataFrame\n",
    "results_df\n"
   ]
  },
  {
   "cell_type": "markdown",
   "metadata": {},
   "source": [
    "In Summary:<br> Let's go through the columns typically found in the `cv_results_` of a scikit-learn grid search:\n",
    "\n",
    "1. **mean_fit_time:** Average time (in seconds) taken by each estimator to fit on the training data across all folds.\n",
    "\n",
    "2. **std_fit_time:** Standard deviation of the fit time.\n",
    "\n",
    "3. **mean_score_time:** Average time (in seconds) taken by each estimator to predict on the test set for each fold.\n",
    "\n",
    "4. **std_score_time:** Standard deviation of the score time.\n",
    "\n",
    "5. **param_max_depth:** The maximum depth of the trees in the random forest, as specified in the grid search.\n",
    "\n",
    "6. **param_min_samples_split:** The minimum number of samples required to split an internal node in the random forest.\n",
    "\n",
    "7. **param_n_estimators:** The number of trees in the random forest.\n",
    "\n",
    "8. **params:** A dictionary of parameter combinations tested during the grid search.\n",
    "\n",
    "9. **split0_test_score, split1_test_score, ..., splitK_test_score:** Test scores for each fold of the cross-validation. K represents the number of folds.\n",
    "\n",
    "10. **mean_test_score:** Average test score across all folds.\n",
    "\n",
    "11. **std_test_score:** Standard deviation of the test scores.\n",
    "\n",
    "12. **rank_test_score:** The rank of the model based on the mean test score. Lower values indicate better-performing models.\n",
    "\n",
    "These values provide insights into how the model's performance varies with different hyperparameter combinations and across different folds of the cross-validation process. The `rank_test_score` is particularly useful for identifying the best-performing model."
   ]
  },
  {
   "cell_type": "markdown",
   "metadata": {},
   "source": [
    "#### 7 Classification Report\n",
    "Le Classification Report fournit une vue détaillée des performances du modèle pour chaque classe, ce qui est crucial pour comprendre comment le modèle se comporte dans des scénarios multi-classes ou déséquilibrés. Il aide également à identifier les forces et les faiblesses du modèle dans la classification des différentes catégories.\n",
    "\n",
    "### Step 20\n",
    "Building classification reports for the best models of the three estimators (KNN, Decision Tree, and Logistic Regression) after performing a grid search\n",
    "\n",
    "#### Step 1: Import Required Libraries\n",
    "\n",
    "Before anything, ensure that you have imported all the necessary libraries. Write the necessary import statements for generating classification reports using classification_report from sklearn.metrics.\n"
   ]
  },
  {
   "cell_type": "code",
   "execution_count": 113,
   "metadata": {},
   "outputs": [],
   "source": [
    "from sklearn.... import ..."
   ]
  },
  {
   "cell_type": "markdown",
   "metadata": {},
   "source": [
    "#### Step 2: Extract the Best Model for Each Estimator\n",
    "\n",
    "After performing the grid search, the best models (with the best hyperparameters) are stored in the results dictionary.<br>\n",
    "Extract the best model for each estimator and store them in separate variables (best_knn, best_tree, best_log)."
   ]
  },
  {
   "cell_type": "code",
   "execution_count": 116,
   "metadata": {},
   "outputs": [],
   "source": [
    "best_knn = ...\n",
    "best_tree = ...\n",
    "best_log = ..."
   ]
  },
  {
   "cell_type": "markdown",
   "metadata": {},
   "source": [
    "#### Step 3: Make Predictions on the Test Set\n",
    "\n",
    "Use the best models extracted in the previous step to make predictions on the test set (X_test).<br>\n",
    "Store these predictions in variables (y_pred_knn, y_pred_tree, y_pred_log)."
   ]
  },
  {
   "cell_type": "code",
   "execution_count": 117,
   "metadata": {},
   "outputs": [],
   "source": [
    "y_pred_knn = ...\n",
    "y_pred_tree = ...\n",
    "y_pred_log = ..."
   ]
  },
  {
   "cell_type": "markdown",
   "metadata": {},
   "source": [
    "#### Step 4: Generate Classification Reports\n",
    "\n",
    "For each of the best models, generate a classification report by comparing the predictions with the actual test labels (y_test).<br>\n",
    "Use the classification_report function and display the output."
   ]
  },
  {
   "cell_type": "code",
   "execution_count": 118,
   "metadata": {},
   "outputs": [
    {
     "name": "stdout",
     "output_type": "stream",
     "text": [
      "Classification Report for KNN:\n",
      "              precision    recall  f1-score   support\n",
      "\n",
      "           0       0.90      0.95      0.93      2270\n",
      "           1       0.82      0.68      0.74       730\n",
      "\n",
      "    accuracy                           0.89      3000\n",
      "   macro avg       0.86      0.82      0.84      3000\n",
      "weighted avg       0.88      0.89      0.88      3000\n",
      "\n",
      "Classification Report for Decision Tree:\n",
      "              precision    recall  f1-score   support\n",
      "\n",
      "           0       0.96      0.94      0.95      2270\n",
      "           1       0.83      0.88      0.85       730\n",
      "\n",
      "    accuracy                           0.93      3000\n",
      "   macro avg       0.90      0.91      0.90      3000\n",
      "weighted avg       0.93      0.93      0.93      3000\n",
      "\n",
      "Classification Report for Logistic Regression:\n",
      "              precision    recall  f1-score   support\n",
      "\n",
      "           0       0.80      0.98      0.88      2270\n",
      "           1       0.79      0.26      0.39       730\n",
      "\n",
      "    accuracy                           0.80      3000\n",
      "   macro avg       0.80      0.62      0.64      3000\n",
      "weighted avg       0.80      0.80      0.76      3000\n",
      "\n"
     ]
    }
   ],
   "source": [
    "print(\"Classification Report for KNN:\")\n",
    "print(classification_report(y_test, y_pred_knn))\n",
    "\n",
    "print(\"Classification Report for Decision Tree:\")\n",
    "print(classification_report(y_test, y_pred_tree))\n",
    "\n",
    "print(\"Classification Report for Logistic Regression:\")\n",
    "print(classification_report(y_test, y_pred_log))"
   ]
  },
  {
   "cell_type": "markdown",
   "metadata": {},
   "source": [
    "<iframe src='//gifs.com/embed/superheros-with-killer-dance-moves-viralhog-vozp7X' frameborder='0' scrolling='no' width='640px' height='360px' style='-webkit-backface-visibility: hidden;-webkit-transform: scale(1);' ></iframe>\n",
    "\n",
    ">*\"Success is the sum of small efforts, repeated day in and day out.\"*<br>\n",
    ">— Robert Collier"
   ]
  }
 ],
 "metadata": {
  "kernelspec": {
   "display_name": "base",
   "language": "python",
   "name": "python3"
  },
  "language_info": {
   "codemirror_mode": {
    "name": "ipython",
    "version": 3
   },
   "file_extension": ".py",
   "mimetype": "text/x-python",
   "name": "python",
   "nbconvert_exporter": "python",
   "pygments_lexer": "ipython3",
   "version": "3.11.9"
  }
 },
 "nbformat": 4,
 "nbformat_minor": 2
}
