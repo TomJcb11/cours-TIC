{
 "cells": [
  {
   "cell_type": "code",
   "execution_count": 1,
   "metadata": {},
   "outputs": [],
   "source": [
    "from sklearn.datasets import load_iris\n",
    "from tree import DecisionTreeClassifier\n",
    "\n",
    "\n",
    "data = load_iris()"
   ]
  },
  {
   "cell_type": "code",
   "execution_count": 2,
   "metadata": {},
   "outputs": [
    {
     "data": {
      "text/plain": [
       "array([0, 0, 0, 0, 0, 0, 0, 0, 0, 0, 0, 0, 0, 0, 0, 0, 0, 0, 0, 0, 0, 0,\n",
       "       0, 0, 0, 0, 0, 0, 0, 0, 0, 0, 0, 0, 0, 0, 0, 0, 0, 0, 0, 0, 0, 0,\n",
       "       0, 0, 0, 0, 0, 0, 1, 1, 1, 1, 1, 1, 1, 1, 1, 1, 1, 1, 1, 1, 1, 1,\n",
       "       1, 1, 1, 1, 1, 1, 1, 1, 1, 1, 1, 1, 1, 1, 1, 1, 1, 1, 1, 1, 1, 1,\n",
       "       1, 1, 1, 1, 1, 1, 1, 1, 1, 1, 1, 1, 2, 2, 2, 2, 2, 2, 2, 2, 2, 2,\n",
       "       2, 2, 2, 2, 2, 2, 2, 2, 2, 2, 2, 2, 2, 2, 2, 2, 2, 2, 2, 2, 2, 2,\n",
       "       2, 2, 2, 2, 2, 2, 2, 2, 2, 2, 2, 2, 2, 2, 2, 2, 2, 2])"
      ]
     },
     "execution_count": 2,
     "metadata": {},
     "output_type": "execute_result"
    }
   ],
   "source": [
    "data.target"
   ]
  },
  {
   "cell_type": "code",
   "execution_count": 3,
   "metadata": {},
   "outputs": [],
   "source": [
    "tree = DecisionTreeClassifier()"
   ]
  },
  {
   "cell_type": "code",
   "execution_count": 4,
   "metadata": {},
   "outputs": [],
   "source": [
    "tree.fit(data.data, data.target)"
   ]
  },
  {
   "cell_type": "code",
   "execution_count": 5,
   "metadata": {},
   "outputs": [
    {
     "data": {
      "text/plain": [
       "{'features': 3,\n",
       " 'value': 2.2,\n",
       " 'left_node': 2,\n",
       " 'right_node': {'features': 0,\n",
       "  'value': 4.6,\n",
       "  'left_node': {'features': 1,\n",
       "   'value': 2.8,\n",
       "   'left_node': {'features': 0,\n",
       "    'value': 5.1,\n",
       "    'left_node': {'features': 3,\n",
       "     'value': 0.2,\n",
       "     'left_node': {'features': 1,\n",
       "      'value': 3.0,\n",
       "      'left_node': {'features': 0,\n",
       "       'value': 7.2,\n",
       "       'left_node': 2,\n",
       "       'right_node': {'features': 3,\n",
       "        'value': 1.8,\n",
       "        'left_node': 2,\n",
       "        'right_node': {'features': 0,\n",
       "         'value': 5.7,\n",
       "         'left_node': {'features': 3,\n",
       "          'value': 1.4,\n",
       "          'left_node': {'features': 0,\n",
       "           'value': 6.0,\n",
       "           'left_node': {'features': 1,\n",
       "            'value': 3.1,\n",
       "            'left_node': {'features': 3,\n",
       "             'value': 1.6,\n",
       "             'left_node': 2,\n",
       "             'right_node': 1},\n",
       "            'right_node': {'features': 0,\n",
       "             'value': 6.4,\n",
       "             'left_node': 1,\n",
       "             'right_node': 2}},\n",
       "           'right_node': 1},\n",
       "          'right_node': 1},\n",
       "         'right_node': 0}}},\n",
       "      'right_node': {'features': 3,\n",
       "       'value': 1.5,\n",
       "       'left_node': {'features': 2,\n",
       "        'value': 5.8,\n",
       "        'left_node': 2,\n",
       "        'right_node': {'features': 2,\n",
       "         'value': 5.5,\n",
       "         'left_node': 2,\n",
       "         'right_node': {'features': 3,\n",
       "          'value': 1.8,\n",
       "          'left_node': 2,\n",
       "          'right_node': {'features': 2,\n",
       "           'value': 5.1,\n",
       "           'left_node': 2,\n",
       "           'right_node': {'features': 3,\n",
       "            'value': 1.8,\n",
       "            'left_node': None,\n",
       "            'right_node': {'features': 0,\n",
       "             'value': 6.7,\n",
       "             'left_node': None,\n",
       "             'right_node': {'features': 2,\n",
       "              'value': 5.1,\n",
       "              'left_node': None,\n",
       "              'right_node': {'features': 1,\n",
       "               'value': 3.0,\n",
       "               'left_node': None,\n",
       "               'right_node': {'features': 2,\n",
       "                'value': 5.0,\n",
       "                'left_node': 2,\n",
       "                'right_node': {'features': 0,\n",
       "                 'value': 6.0,\n",
       "                 'left_node': {'features': 3,\n",
       "                  'value': 1.8,\n",
       "                  'left_node': None,\n",
       "                  'right_node': {'features': 2,\n",
       "                   'value': 4.9,\n",
       "                   'left_node': 1,\n",
       "                   'right_node': 2}},\n",
       "                 'right_node': 2}}}}}}}}}},\n",
       "       'right_node': 1}},\n",
       "     'right_node': 0},\n",
       "    'right_node': 0},\n",
       "   'right_node': {'features': 3,\n",
       "    'value': 1.9,\n",
       "    'left_node': 2,\n",
       "    'right_node': {'features': 3,\n",
       "     'value': 1.2,\n",
       "     'left_node': {'features': 1,\n",
       "      'value': 2.7,\n",
       "      'left_node': {'features': 0,\n",
       "       'value': 6.1,\n",
       "       'left_node': {'features': 2,\n",
       "        'value': 6.1,\n",
       "        'left_node': None,\n",
       "        'right_node': {'features': 0,\n",
       "         'value': 6.8,\n",
       "         'left_node': 2,\n",
       "         'right_node': {'features': 2,\n",
       "          'value': 4.8,\n",
       "          'left_node': 2,\n",
       "          'right_node': {'features': 0,\n",
       "           'value': 6.2,\n",
       "           'left_node': 1,\n",
       "           'right_node': 2}}}},\n",
       "       'right_node': 1},\n",
       "      'right_node': {'features': 1,\n",
       "       'value': 2.7,\n",
       "       'left_node': None,\n",
       "       'right_node': {'features': 2,\n",
       "        'value': 5.0,\n",
       "        'left_node': {'features': 0,\n",
       "         'value': 5.8,\n",
       "         'left_node': {'features': 3,\n",
       "          'value': 1.9,\n",
       "          'left_node': None,\n",
       "          'right_node': {'features': 0,\n",
       "           'value': 6.0,\n",
       "           'left_node': 2,\n",
       "           'right_node': 1}},\n",
       "         'right_node': 2},\n",
       "        'right_node': {'features': 2,\n",
       "         'value': 4.2,\n",
       "         'left_node': {'features': 1,\n",
       "          'value': 2.5,\n",
       "          'left_node': 2,\n",
       "          'right_node': {'features': 0,\n",
       "           'value': 4.9,\n",
       "           'left_node': {'features': 2,\n",
       "            'value': 4.4,\n",
       "            'left_node': {'features': 0,\n",
       "             'value': 6.3,\n",
       "             'left_node': None,\n",
       "             'right_node': {'features': 1,\n",
       "              'value': 2.2,\n",
       "              'left_node': {'features': 2,\n",
       "               'value': 4.9,\n",
       "               'left_node': 2,\n",
       "               'right_node': 1},\n",
       "              'right_node': {'features': 0,\n",
       "               'value': 6.0,\n",
       "               'left_node': 1,\n",
       "               'right_node': 2}}},\n",
       "            'right_node': 1},\n",
       "           'right_node': 2}},\n",
       "         'right_node': 1}}}},\n",
       "     'right_node': 1}}},\n",
       "  'right_node': 0}}"
      ]
     },
     "execution_count": 5,
     "metadata": {},
     "output_type": "execute_result"
    }
   ],
   "source": [
    "tree.tree"
   ]
  },
  {
   "cell_type": "code",
   "execution_count": 6,
   "metadata": {},
   "outputs": [],
   "source": [
    "prediction = tree.predict(data.data)"
   ]
  },
  {
   "cell_type": "code",
   "execution_count": 7,
   "metadata": {},
   "outputs": [
    {
     "data": {
      "text/plain": [
       "array([0., 0., 0., 0., 0., 0., 0., 0., 0., 0., 0., 0., 0., 0., 0., 0., 0.,\n",
       "       0., 0., 0., 0., 0., 0., 0., 0., 0., 0., 0., 0., 0., 0., 0., 0., 0.,\n",
       "       0., 0., 0., 0., 0., 0., 0., 0., 0., 0., 0., 0., 0., 0., 0., 0., 1.,\n",
       "       1., 1., 1., 1., 1., 1., 1., 1., 1., 1., 1., 1., 1., 1., 1., 1., 1.,\n",
       "       1., 1., 1., 1., 1., 1., 1., 1., 1., 1., 1., 1., 1., 1., 1., 1., 1.,\n",
       "       1., 1., 1., 1., 1., 1., 1., 1., 1., 1., 1., 1., 1., 1., 1., 2., 2.,\n",
       "       2., 2., 2., 2., 2., 2., 2., 2., 2., 2., 2., 2., 2., 2., 2., 2., 2.,\n",
       "       2., 2., 2., 2., 2., 2., 2., 2., 2., 2., 2., 2., 2., 2., 2., 2., 2.,\n",
       "       2., 2., 2., 2., 2., 2., 2., 2., 2., 2., 2., 2., 2., 2.])"
      ]
     },
     "execution_count": 7,
     "metadata": {},
     "output_type": "execute_result"
    }
   ],
   "source": [
    "prediction"
   ]
  },
  {
   "cell_type": "code",
   "execution_count": 8,
   "metadata": {},
   "outputs": [
    {
     "data": {
      "text/plain": [
       "array([0, 0, 0, 0, 0, 0, 0, 0, 0, 0, 0, 0, 0, 0, 0, 0, 0, 0, 0, 0, 0, 0,\n",
       "       0, 0, 0, 0, 0, 0, 0, 0, 0, 0, 0, 0, 0, 0, 0, 0, 0, 0, 0, 0, 0, 0,\n",
       "       0, 0, 0, 0, 0, 0, 1, 1, 1, 1, 1, 1, 1, 1, 1, 1, 1, 1, 1, 1, 1, 1,\n",
       "       1, 1, 1, 1, 1, 1, 1, 1, 1, 1, 1, 1, 1, 1, 1, 1, 1, 1, 1, 1, 1, 1,\n",
       "       1, 1, 1, 1, 1, 1, 1, 1, 1, 1, 1, 1, 2, 2, 2, 2, 2, 2, 2, 2, 2, 2,\n",
       "       2, 2, 2, 2, 2, 2, 2, 2, 2, 2, 2, 2, 2, 2, 2, 2, 2, 2, 2, 2, 2, 2,\n",
       "       2, 2, 2, 2, 2, 2, 2, 2, 2, 2, 2, 2, 2, 2, 2, 2, 2, 2])"
      ]
     },
     "execution_count": 8,
     "metadata": {},
     "output_type": "execute_result"
    }
   ],
   "source": [
    "data.target"
   ]
  },
  {
   "cell_type": "code",
   "execution_count": 9,
   "metadata": {},
   "outputs": [
    {
     "data": {
      "text/plain": [
       "array([ True,  True,  True,  True,  True,  True,  True,  True,  True,\n",
       "        True,  True,  True,  True,  True,  True,  True,  True,  True,\n",
       "        True,  True,  True,  True,  True,  True,  True,  True,  True,\n",
       "        True,  True,  True,  True,  True,  True,  True,  True,  True,\n",
       "        True,  True,  True,  True,  True,  True,  True,  True,  True,\n",
       "        True,  True,  True,  True,  True,  True,  True,  True,  True,\n",
       "        True,  True,  True,  True,  True,  True,  True,  True,  True,\n",
       "        True,  True,  True,  True,  True,  True,  True,  True,  True,\n",
       "        True,  True,  True,  True,  True,  True,  True,  True,  True,\n",
       "        True,  True,  True,  True,  True,  True,  True,  True,  True,\n",
       "        True,  True,  True,  True,  True,  True,  True,  True,  True,\n",
       "        True,  True,  True,  True,  True,  True,  True,  True,  True,\n",
       "        True,  True,  True,  True,  True,  True,  True,  True,  True,\n",
       "        True,  True,  True,  True,  True,  True,  True,  True,  True,\n",
       "        True,  True,  True,  True,  True,  True,  True,  True,  True,\n",
       "        True,  True,  True,  True,  True,  True,  True,  True,  True,\n",
       "        True,  True,  True,  True,  True,  True])"
      ]
     },
     "execution_count": 9,
     "metadata": {},
     "output_type": "execute_result"
    }
   ],
   "source": [
    "data.target == prediction"
   ]
  }
 ],
 "metadata": {
  "kernelspec": {
   "display_name": "Python 3",
   "language": "python",
   "name": "python3"
  },
  "language_info": {
   "codemirror_mode": {
    "name": "ipython",
    "version": 3
   },
   "file_extension": ".py",
   "mimetype": "text/x-python",
   "name": "python",
   "nbconvert_exporter": "python",
   "pygments_lexer": "ipython3",
   "version": "3.12.2"
  }
 },
 "nbformat": 4,
 "nbformat_minor": 2
}
