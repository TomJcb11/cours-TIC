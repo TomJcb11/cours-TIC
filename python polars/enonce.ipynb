{
 "cells": [
  {
   "cell_type": "markdown",
   "metadata": {},
   "source": [
    "# Exercices Polars\n",
    "\n",
    "La série suivante d'exercices doit vous permettre de maîtriser les rudiments de Polars. Elle présupose que vous ayez déjà les bases avec Pandas et SQL.\n",
    "\n",
    "Toutes les fonctions et méthodes nécessaires à cette série n'ont bien évidemment été pas abordées durant la session théorique et ces exercices vous forceront à trouver des pistes de solution dans la [documentation](https://www.pola.rs/) officielle.\n",
    "\n",
    "Soyez curieux et n'hésitez pas à aller plus loin que les énoncés et à analyser plus en profondeur le dataset proposé.\n",
    "\n",
    "**Conseil:** Si des exercices vous résistent, fragmentez votre problème en petits morceaux. N'hésitez pas à lister les différentes étapes nécessaire à l'élaboration des exercices avant de vous lancer dans le code.\n",
    "\n",
    "<br>"
   ]
  },
  {
   "cell_type": "code",
   "execution_count": null,
   "metadata": {},
   "outputs": [],
   "source": [
    "import polars as pl"
   ]
  },
  {
   "cell_type": "code",
   "execution_count": null,
   "metadata": {},
   "outputs": [],
   "source": [
    "path = \"./data/NYPD_complaints_all.csv\"\n"
   ]
  },
  {
   "cell_type": "code",
   "execution_count": null,
   "metadata": {},
   "outputs": [],
   "source": [
    "# dataset= pl.read_csv(f\"{path}\")"
   ]
  },
  {
   "cell_type": "code",
   "execution_count": null,
   "metadata": {},
   "outputs": [],
   "source": [
    "dataset = pl.scan_csv(f\"{path}\", infer_schema_length=10000)"
   ]
  },
  {
   "cell_type": "markdown",
   "metadata": {},
   "source": [
    "#### 1 Procurez-vous le fichier [ici](https://data.cityofnewyork.us/Public-Safety/NYPD-Complaint-Data-Historic/qgea-i56i) et affichez les 5 premières lignes\n",
    "\n",
    "**Conseil:** avant d'aller plus loin, prenez le temps de lire les informations présentes afin de bien comprendre les données avec lesquelles vous travaillerez.\n",
    "\n",
    "<br>"
   ]
  },
  {
   "cell_type": "code",
   "execution_count": 97,
   "metadata": {},
   "outputs": [
    {
     "data": {
      "text/html": [
       "<div><style>\n",
       ".dataframe > thead > tr,\n",
       ".dataframe > tbody > tr {\n",
       "  text-align: right;\n",
       "  white-space: pre-wrap;\n",
       "}\n",
       "</style>\n",
       "<small>shape: (5, 35)</small><table border=\"1\" class=\"dataframe\"><thead><tr><th>CMPLNT_NUM</th><th>CMPLNT_FR_DT</th><th>CMPLNT_FR_TM</th><th>CMPLNT_TO_DT</th><th>CMPLNT_TO_TM</th><th>ADDR_PCT_CD</th><th>RPT_DT</th><th>KY_CD</th><th>OFNS_DESC</th><th>PD_CD</th><th>PD_DESC</th><th>CRM_ATPT_CPTD_CD</th><th>LAW_CAT_CD</th><th>BORO_NM</th><th>LOC_OF_OCCUR_DESC</th><th>PREM_TYP_DESC</th><th>JURIS_DESC</th><th>JURISDICTION_CODE</th><th>PARKS_NM</th><th>HADEVELOPT</th><th>HOUSING_PSA</th><th>X_COORD_CD</th><th>Y_COORD_CD</th><th>SUSP_AGE_GROUP</th><th>SUSP_RACE</th><th>SUSP_SEX</th><th>TRANSIT_DISTRICT</th><th>Latitude</th><th>Longitude</th><th>Lat_Lon</th><th>PATROL_BORO</th><th>STATION_NAME</th><th>VIC_AGE_GROUP</th><th>VIC_RACE</th><th>VIC_SEX</th></tr><tr><td>str</td><td>str</td><td>str</td><td>str</td><td>str</td><td>i64</td><td>str</td><td>i64</td><td>str</td><td>i64</td><td>str</td><td>str</td><td>str</td><td>str</td><td>str</td><td>str</td><td>str</td><td>i64</td><td>str</td><td>str</td><td>str</td><td>i64</td><td>i64</td><td>str</td><td>str</td><td>str</td><td>i64</td><td>f64</td><td>f64</td><td>str</td><td>str</td><td>str</td><td>str</td><td>str</td><td>str</td></tr></thead><tbody><tr><td>&quot;10600119&quot;</td><td>&quot;01/01/2002&quot;</td><td>&quot;11:00:00&quot;</td><td>&quot;02/25/2006&quot;</td><td>&quot;11:00:00&quot;</td><td>null</td><td>&quot;03/06/2006&quot;</td><td>104</td><td>&quot;RAPE&quot;</td><td>157</td><td>&quot;RAPE 1&quot;</td><td>&quot;COMPLETED&quot;</td><td>&quot;FELONY&quot;</td><td>&quot;MANHATTAN&quot;</td><td>&quot;(null)&quot;</td><td>&quot;(null)&quot;</td><td>&quot;N.Y. POLICE DEPT&quot;</td><td>0</td><td>&quot;(null)&quot;</td><td>&quot;(null)&quot;</td><td>&quot;(null)&quot;</td><td>null</td><td>null</td><td>&quot;45-64&quot;</td><td>&quot;WHITE&quot;</td><td>&quot;M&quot;</td><td>null</td><td>null</td><td>null</td><td>null</td><td>&quot;(null)&quot;</td><td>&quot;(null)&quot;</td><td>&quot;18-24&quot;</td><td>&quot;WHITE&quot;</td><td>&quot;F&quot;</td></tr><tr><td>&quot;11052575&quot;</td><td>&quot;04/22/2005&quot;</td><td>&quot;02:00:00&quot;</td><td>null</td><td>&quot;(null)&quot;</td><td>null</td><td>&quot;04/22/2006&quot;</td><td>110</td><td>&quot;GRAND LARCENY OF MOTOR VEHICLE&quot;</td><td>441</td><td>&quot;LARCENY,GRAND OF AUTO&quot;</td><td>&quot;COMPLETED&quot;</td><td>&quot;FELONY&quot;</td><td>&quot;BRONX&quot;</td><td>&quot;(null)&quot;</td><td>&quot;(null)&quot;</td><td>&quot;N.Y. POLICE DEPT&quot;</td><td>0</td><td>&quot;(null)&quot;</td><td>&quot;(null)&quot;</td><td>&quot;(null)&quot;</td><td>null</td><td>null</td><td>&quot;(null)&quot;</td><td>&quot;(null)&quot;</td><td>&quot;(null)&quot;</td><td>null</td><td>null</td><td>null</td><td>null</td><td>&quot;(null)&quot;</td><td>&quot;(null)&quot;</td><td>&quot;25-44&quot;</td><td>&quot;BLACK&quot;</td><td>&quot;M&quot;</td></tr><tr><td>&quot;10832306&quot;</td><td>&quot;07/11/2005&quot;</td><td>&quot;20:00:00&quot;</td><td>&quot;03/29/2006&quot;</td><td>&quot;12:00:00&quot;</td><td>null</td><td>&quot;03/29/2006&quot;</td><td>353</td><td>&quot;UNAUTHORIZED USE OF A VEHICLE&quot;</td><td>462</td><td>&quot;UNAUTHORIZED USE VEHICLE 3&quot;</td><td>&quot;COMPLETED&quot;</td><td>&quot;MISDEMEANOR&quot;</td><td>&quot;BROOKLYN&quot;</td><td>&quot;(null)&quot;</td><td>&quot;(null)&quot;</td><td>&quot;N.Y. POLICE DEPT&quot;</td><td>0</td><td>&quot;(null)&quot;</td><td>&quot;(null)&quot;</td><td>&quot;(null)&quot;</td><td>null</td><td>null</td><td>&quot;(null)&quot;</td><td>&quot;WHITE&quot;</td><td>&quot;M&quot;</td><td>null</td><td>null</td><td>null</td><td>null</td><td>&quot;(null)&quot;</td><td>&quot;(null)&quot;</td><td>&quot;45-64&quot;</td><td>&quot;WHITE&quot;</td><td>&quot;M&quot;</td></tr><tr><td>&quot;10107192&quot;</td><td>&quot;10/19/2005&quot;</td><td>&quot;20:30:00&quot;</td><td>null</td><td>&quot;(null)&quot;</td><td>null</td><td>&quot;01/13/2006&quot;</td><td>126</td><td>&quot;MISCELLANEOUS PENAL LAW&quot;</td><td>461</td><td>&quot;UNAUTHORIZED USE VEHICLE 2&quot;</td><td>&quot;COMPLETED&quot;</td><td>&quot;FELONY&quot;</td><td>&quot;BRONX&quot;</td><td>&quot;(null)&quot;</td><td>&quot;(null)&quot;</td><td>&quot;N.Y. POLICE DEPT&quot;</td><td>0</td><td>&quot;(null)&quot;</td><td>&quot;(null)&quot;</td><td>&quot;(null)&quot;</td><td>null</td><td>null</td><td>&quot;(null)&quot;</td><td>&quot;BLACK&quot;</td><td>&quot;F&quot;</td><td>null</td><td>null</td><td>null</td><td>null</td><td>&quot;(null)&quot;</td><td>&quot;(null)&quot;</td><td>&quot;25-44&quot;</td><td>&quot;BLACK&quot;</td><td>&quot;F&quot;</td></tr><tr><td>&quot;23893731&quot;</td><td>&quot;12/04/2005&quot;</td><td>&quot;09:00:00&quot;</td><td>&quot;08/09/2006&quot;</td><td>&quot;17:00:00&quot;</td><td>null</td><td>&quot;08/09/2006&quot;</td><td>109</td><td>&quot;GRAND LARCENY&quot;</td><td>405</td><td>&quot;LARCENY,GRAND BY THEFT OF CRED…</td><td>&quot;COMPLETED&quot;</td><td>&quot;FELONY&quot;</td><td>&quot;BRONX&quot;</td><td>&quot;(null)&quot;</td><td>&quot;(null)&quot;</td><td>&quot;N.Y. POLICE DEPT&quot;</td><td>0</td><td>&quot;(null)&quot;</td><td>&quot;(null)&quot;</td><td>&quot;(null)&quot;</td><td>null</td><td>null</td><td>&quot;(null)&quot;</td><td>&quot;(null)&quot;</td><td>&quot;(null)&quot;</td><td>null</td><td>null</td><td>null</td><td>null</td><td>&quot;(null)&quot;</td><td>&quot;(null)&quot;</td><td>&quot;25-44&quot;</td><td>&quot;WHITE&quot;</td><td>&quot;F&quot;</td></tr></tbody></table></div>"
      ],
      "text/plain": [
       "shape: (5, 35)\n",
       "┌────────────┬────────────┬───────────┬───────────┬───┬───────────┬───────────┬──────────┬─────────┐\n",
       "│ CMPLNT_NUM ┆ CMPLNT_FR_ ┆ CMPLNT_FR ┆ CMPLNT_TO ┆ … ┆ STATION_N ┆ VIC_AGE_G ┆ VIC_RACE ┆ VIC_SEX │\n",
       "│ ---        ┆ DT         ┆ _TM       ┆ _DT       ┆   ┆ AME       ┆ ROUP      ┆ ---      ┆ ---     │\n",
       "│ str        ┆ ---        ┆ ---       ┆ ---       ┆   ┆ ---       ┆ ---       ┆ str      ┆ str     │\n",
       "│            ┆ str        ┆ str       ┆ str       ┆   ┆ str       ┆ str       ┆          ┆         │\n",
       "╞════════════╪════════════╪═══════════╪═══════════╪═══╪═══════════╪═══════════╪══════════╪═════════╡\n",
       "│ 10600119   ┆ 01/01/2002 ┆ 11:00:00  ┆ 02/25/200 ┆ … ┆ (null)    ┆ 18-24     ┆ WHITE    ┆ F       │\n",
       "│            ┆            ┆           ┆ 6         ┆   ┆           ┆           ┆          ┆         │\n",
       "│ 11052575   ┆ 04/22/2005 ┆ 02:00:00  ┆ null      ┆ … ┆ (null)    ┆ 25-44     ┆ BLACK    ┆ M       │\n",
       "│ 10832306   ┆ 07/11/2005 ┆ 20:00:00  ┆ 03/29/200 ┆ … ┆ (null)    ┆ 45-64     ┆ WHITE    ┆ M       │\n",
       "│            ┆            ┆           ┆ 6         ┆   ┆           ┆           ┆          ┆         │\n",
       "│ 10107192   ┆ 10/19/2005 ┆ 20:30:00  ┆ null      ┆ … ┆ (null)    ┆ 25-44     ┆ BLACK    ┆ F       │\n",
       "│ 23893731   ┆ 12/04/2005 ┆ 09:00:00  ┆ 08/09/200 ┆ … ┆ (null)    ┆ 25-44     ┆ WHITE    ┆ F       │\n",
       "│            ┆            ┆           ┆ 6         ┆   ┆           ┆           ┆          ┆         │\n",
       "└────────────┴────────────┴───────────┴───────────┴───┴───────────┴───────────┴──────────┴─────────┘"
      ]
     },
     "execution_count": 97,
     "metadata": {},
     "output_type": "execute_result"
    }
   ],
   "source": [
    "dataset.collect().head(5)"
   ]
  },
  {
   "cell_type": "markdown",
   "metadata": {},
   "source": [
    "#### 2 Affichez le nombre de lignes, de colonnes, le schéma ainsi que le poids total du fichier en mémoire\n",
    "\n",
    "<br>"
   ]
  },
  {
   "cell_type": "code",
   "execution_count": 98,
   "metadata": {},
   "outputs": [
    {
     "data": {
      "text/html": [
       "<div><style>\n",
       ".dataframe > thead > tr,\n",
       ".dataframe > tbody > tr {\n",
       "  text-align: right;\n",
       "  white-space: pre-wrap;\n",
       "}\n",
       "</style>\n",
       "<small>shape: (1, 1)</small><table border=\"1\" class=\"dataframe\"><thead><tr><th>len</th></tr><tr><td>u32</td></tr></thead><tbody><tr><td>8353049</td></tr></tbody></table></div>"
      ],
      "text/plain": [
       "shape: (1, 1)\n",
       "┌─────────┐\n",
       "│ len     │\n",
       "│ ---     │\n",
       "│ u32     │\n",
       "╞═════════╡\n",
       "│ 8353049 │\n",
       "└─────────┘"
      ]
     },
     "execution_count": 98,
     "metadata": {},
     "output_type": "execute_result"
    }
   ],
   "source": [
    "dataset.select(pl.len()).collect()"
   ]
  },
  {
   "cell_type": "code",
   "execution_count": null,
   "metadata": {},
   "outputs": [
    {
     "data": {
      "text/plain": [
       "2.669890225864947"
      ]
     },
     "execution_count": 102,
     "metadata": {},
     "output_type": "execute_result"
    }
   ],
   "source": [
    "import os\n",
    "\n",
    "# os.path.getsize(path) # taille sur le disque\n",
    "\n",
    "dataset.collect().estimated_size((\"gb\"))  # taille en mémoire\n"
   ]
  },
  {
   "cell_type": "markdown",
   "metadata": {},
   "source": [
    "#### 3 Affichez le nombre et la proportion de valeurs manquantes par colonne et pour le dataset au complet\n",
    "\n",
    "<br>"
   ]
  },
  {
   "cell_type": "code",
   "execution_count": 111,
   "metadata": {},
   "outputs": [
    {
     "data": {
      "text/html": [
       "<div><style>\n",
       ".dataframe > thead > tr,\n",
       ".dataframe > tbody > tr {\n",
       "  text-align: right;\n",
       "  white-space: pre-wrap;\n",
       "}\n",
       "</style>\n",
       "<small>shape: (9, 36)</small><table border=\"1\" class=\"dataframe\"><thead><tr><th>statistic</th><th>CMPLNT_NUM</th><th>CMPLNT_FR_DT</th><th>CMPLNT_FR_TM</th><th>CMPLNT_TO_DT</th><th>CMPLNT_TO_TM</th><th>ADDR_PCT_CD</th><th>RPT_DT</th><th>KY_CD</th><th>OFNS_DESC</th><th>PD_CD</th><th>PD_DESC</th><th>CRM_ATPT_CPTD_CD</th><th>LAW_CAT_CD</th><th>BORO_NM</th><th>LOC_OF_OCCUR_DESC</th><th>PREM_TYP_DESC</th><th>JURIS_DESC</th><th>JURISDICTION_CODE</th><th>PARKS_NM</th><th>HADEVELOPT</th><th>HOUSING_PSA</th><th>X_COORD_CD</th><th>Y_COORD_CD</th><th>SUSP_AGE_GROUP</th><th>SUSP_RACE</th><th>SUSP_SEX</th><th>TRANSIT_DISTRICT</th><th>Latitude</th><th>Longitude</th><th>Lat_Lon</th><th>PATROL_BORO</th><th>STATION_NAME</th><th>VIC_AGE_GROUP</th><th>VIC_RACE</th><th>VIC_SEX</th></tr><tr><td>str</td><td>str</td><td>str</td><td>str</td><td>str</td><td>str</td><td>f64</td><td>str</td><td>f64</td><td>str</td><td>f64</td><td>str</td><td>str</td><td>str</td><td>str</td><td>str</td><td>str</td><td>str</td><td>f64</td><td>str</td><td>str</td><td>str</td><td>f64</td><td>f64</td><td>str</td><td>str</td><td>str</td><td>f64</td><td>f64</td><td>f64</td><td>str</td><td>str</td><td>str</td><td>str</td><td>str</td><td>str</td></tr></thead><tbody><tr><td>&quot;count&quot;</td><td>&quot;8353049&quot;</td><td>&quot;8352394&quot;</td><td>&quot;8353049&quot;</td><td>&quot;6574688&quot;</td><td>&quot;8353049&quot;</td><td>8.352636e6</td><td>&quot;8353049&quot;</td><td>8.353049e6</td><td>&quot;8353049&quot;</td><td>8.351269e6</td><td>&quot;8353049&quot;</td><td>&quot;8353049&quot;</td><td>&quot;8353049&quot;</td><td>&quot;8353049&quot;</td><td>&quot;8352815&quot;</td><td>&quot;8353049&quot;</td><td>&quot;8353049&quot;</td><td>8.353049e6</td><td>&quot;8353049&quot;</td><td>&quot;8353049&quot;</td><td>&quot;8353049&quot;</td><td>8.352663e6</td><td>8.352663e6</td><td>&quot;8353049&quot;</td><td>&quot;8353049&quot;</td><td>&quot;8353049&quot;</td><td>183308.0</td><td>8.352663e6</td><td>8.352663e6</td><td>&quot;8352663&quot;</td><td>&quot;8353049&quot;</td><td>&quot;8353049&quot;</td><td>&quot;8353049&quot;</td><td>&quot;8353049&quot;</td><td>&quot;8353049&quot;</td></tr><tr><td>&quot;null_count&quot;</td><td>&quot;0&quot;</td><td>&quot;655&quot;</td><td>&quot;0&quot;</td><td>&quot;1778361&quot;</td><td>&quot;0&quot;</td><td>413.0</td><td>&quot;0&quot;</td><td>0.0</td><td>&quot;0&quot;</td><td>1780.0</td><td>&quot;0&quot;</td><td>&quot;0&quot;</td><td>&quot;0&quot;</td><td>&quot;0&quot;</td><td>&quot;234&quot;</td><td>&quot;0&quot;</td><td>&quot;0&quot;</td><td>0.0</td><td>&quot;0&quot;</td><td>&quot;0&quot;</td><td>&quot;0&quot;</td><td>386.0</td><td>386.0</td><td>&quot;0&quot;</td><td>&quot;0&quot;</td><td>&quot;0&quot;</td><td>8.169741e6</td><td>386.0</td><td>386.0</td><td>&quot;386&quot;</td><td>&quot;0&quot;</td><td>&quot;0&quot;</td><td>&quot;0&quot;</td><td>&quot;0&quot;</td><td>&quot;0&quot;</td></tr><tr><td>&quot;mean&quot;</td><td>null</td><td>null</td><td>null</td><td>null</td><td>null</td><td>63.32741</td><td>null</td><td>297.197791</td><td>null</td><td>412.060782</td><td>null</td><td>null</td><td>null</td><td>null</td><td>null</td><td>null</td><td>null</td><td>0.693954</td><td>null</td><td>null</td><td>null</td><td>1.0047e6</td><td>207381.966755</td><td>null</td><td>null</td><td>null</td><td>13.671962</td><td>40.735845</td><td>-73.926023</td><td>null</td><td>null</td><td>null</td><td>null</td><td>null</td><td>null</td></tr><tr><td>&quot;std&quot;</td><td>null</td><td>null</td><td>null</td><td>null</td><td>null</td><td>34.563849</td><td>null</td><td>151.666023</td><td>null</td><td>217.507331</td><td>null</td><td>null</td><td>null</td><td>null</td><td>null</td><td>null</td><td>null</td><td>6.567014</td><td>null</td><td>null</td><td>null</td><td>21290.979667</td><td>29955.666999</td><td>null</td><td>null</td><td>null</td><td>12.498478</td><td>0.083423</td><td>0.080925</td><td>null</td><td>null</td><td>null</td><td>null</td><td>null</td><td>null</td></tr><tr><td>&quot;min&quot;</td><td>&quot;10006319&quot;</td><td>&quot;01/01/1948&quot;</td><td>&quot;(null)&quot;</td><td>&quot;01/01/1967&quot;</td><td>&quot;(null)&quot;</td><td>1.0</td><td>&quot;01/01/2006&quot;</td><td>101.0</td><td>&quot;(null)&quot;</td><td>100.0</td><td>&quot;(null)&quot;</td><td>&quot;(null)&quot;</td><td>&quot;FELONY&quot;</td><td>&quot;(null)&quot;</td><td>&quot;(null)&quot;</td><td>&quot;(null)&quot;</td><td>&quot;AMTRACK&quot;</td><td>0.0</td><td>&quot;&quot;UNCLE&quot; VITO E. MARANZANO GLEN…</td><td>&quot;(null)&quot;</td><td>&quot;(null)&quot;</td><td>0.0</td><td>0.0</td><td>&quot;(null)&quot;</td><td>&quot;(null)&quot;</td><td>&quot;(null)&quot;</td><td>1.0</td><td>0.0</td><td>-74.254741</td><td>&quot;(0.0, 0.0)&quot;</td><td>&quot;(null)&quot;</td><td>&quot;(null)&quot;</td><td>&quot;(null)&quot;</td><td>&quot;(null)&quot;</td><td>&quot;(null)&quot;</td></tr><tr><td>&quot;25%&quot;</td><td>null</td><td>null</td><td>null</td><td>null</td><td>null</td><td>40.0</td><td>null</td><td>117.0</td><td>null</td><td>254.0</td><td>null</td><td>null</td><td>null</td><td>null</td><td>null</td><td>null</td><td>null</td><td>0.0</td><td>null</td><td>null</td><td>null</td><td>991549.0</td><td>185018.0</td><td>null</td><td>null</td><td>null</td><td>3.0</td><td>40.674496</td><td>-73.973705</td><td>null</td><td>null</td><td>null</td><td>null</td><td>null</td><td>null</td></tr><tr><td>&quot;50%&quot;</td><td>null</td><td>null</td><td>null</td><td>null</td><td>null</td><td>63.0</td><td>null</td><td>341.0</td><td>null</td><td>361.0</td><td>null</td><td>null</td><td>null</td><td>null</td><td>null</td><td>null</td><td>null</td><td>0.0</td><td>null</td><td>null</td><td>null</td><td>1.003509e6</td><td>205330.0</td><td>null</td><td>null</td><td>null</td><td>11.0</td><td>40.730113</td><td>-73.930571</td><td>null</td><td>null</td><td>null</td><td>null</td><td>null</td><td>null</td></tr><tr><td>&quot;75%&quot;</td><td>null</td><td>null</td><td>null</td><td>null</td><td>null</td><td>94.0</td><td>null</td><td>351.0</td><td>null</td><td>637.0</td><td>null</td><td>null</td><td>null</td><td>null</td><td>null</td><td>null</td><td>null</td><td>0.0</td><td>null</td><td>null</td><td>null</td><td>1.017036e6</td><td>234516.0</td><td>null</td><td>null</td><td>null</td><td>30.0</td><td>40.810352</td><td>-73.881811</td><td>null</td><td>null</td><td>null</td><td>null</td><td>null</td><td>null</td></tr><tr><td>&quot;max&quot;</td><td>&quot;9e+07&quot;</td><td>&quot;12/31/2022&quot;</td><td>&quot;23:59:00&quot;</td><td>&quot;12/31/2022&quot;</td><td>&quot;23:59:00&quot;</td><td>123.0</td><td>&quot;12/31/2022&quot;</td><td>881.0</td><td>&quot;VEHICLE AND TRAFFIC LAWS&quot;</td><td>975.0</td><td>&quot;WEAPONS,PROHIBITED USE IMITATI&quot;</td><td>&quot;COMPLETED&quot;</td><td>&quot;VIOLATION&quot;</td><td>&quot;STATEN ISLAND&quot;</td><td>&quot;REAR OF&quot;</td><td>&quot;VIDEO STORE&quot;</td><td>&quot;U.S. PARK POLICE&quot;</td><td>97.0</td><td>&quot;ZION TRIANGLE&quot;</td><td>&quot;WOODSIDE&quot;</td><td>&quot;9993&quot;</td><td>1.067306e6</td><td>271819.0</td><td>&quot;UNKNOWN&quot;</td><td>&quot;WHITE HISPANIC&quot;</td><td>&quot;U&quot;</td><td>34.0</td><td>40.912714</td><td>0.0</td><td>&quot;(40.912714, -73.902522)&quot;</td><td>&quot;PATROL BORO STATEN ISLAND&quot;</td><td>&quot;ZEREGA AVENUE&quot;</td><td>&quot;UNKNOWN&quot;</td><td>&quot;WHITE HISPANIC&quot;</td><td>&quot;U&quot;</td></tr></tbody></table></div>"
      ],
      "text/plain": [
       "shape: (9, 36)\n",
       "┌────────────┬───────────┬───────────┬───────────┬───┬───────────┬───────────┬───────────┬─────────┐\n",
       "│ statistic  ┆ CMPLNT_NU ┆ CMPLNT_FR ┆ CMPLNT_FR ┆ … ┆ STATION_N ┆ VIC_AGE_G ┆ VIC_RACE  ┆ VIC_SEX │\n",
       "│ ---        ┆ M         ┆ _DT       ┆ _TM       ┆   ┆ AME       ┆ ROUP      ┆ ---       ┆ ---     │\n",
       "│ str        ┆ ---       ┆ ---       ┆ ---       ┆   ┆ ---       ┆ ---       ┆ str       ┆ str     │\n",
       "│            ┆ str       ┆ str       ┆ str       ┆   ┆ str       ┆ str       ┆           ┆         │\n",
       "╞════════════╪═══════════╪═══════════╪═══════════╪═══╪═══════════╪═══════════╪═══════════╪═════════╡\n",
       "│ count      ┆ 8353049   ┆ 8352394   ┆ 8353049   ┆ … ┆ 8353049   ┆ 8353049   ┆ 8353049   ┆ 8353049 │\n",
       "│ null_count ┆ 0         ┆ 655       ┆ 0         ┆ … ┆ 0         ┆ 0         ┆ 0         ┆ 0       │\n",
       "│ mean       ┆ null      ┆ null      ┆ null      ┆ … ┆ null      ┆ null      ┆ null      ┆ null    │\n",
       "│ std        ┆ null      ┆ null      ┆ null      ┆ … ┆ null      ┆ null      ┆ null      ┆ null    │\n",
       "│ min        ┆ 10006319  ┆ 01/01/194 ┆ (null)    ┆ … ┆ (null)    ┆ (null)    ┆ (null)    ┆ (null)  │\n",
       "│            ┆           ┆ 8         ┆           ┆   ┆           ┆           ┆           ┆         │\n",
       "│ 25%        ┆ null      ┆ null      ┆ null      ┆ … ┆ null      ┆ null      ┆ null      ┆ null    │\n",
       "│ 50%        ┆ null      ┆ null      ┆ null      ┆ … ┆ null      ┆ null      ┆ null      ┆ null    │\n",
       "│ 75%        ┆ null      ┆ null      ┆ null      ┆ … ┆ null      ┆ null      ┆ null      ┆ null    │\n",
       "│ max        ┆ 9e+07     ┆ 12/31/202 ┆ 23:59:00  ┆ … ┆ ZEREGA    ┆ UNKNOWN   ┆ WHITE     ┆ U       │\n",
       "│            ┆           ┆ 2         ┆           ┆   ┆ AVENUE    ┆           ┆ HISPANIC  ┆         │\n",
       "└────────────┴───────────┴───────────┴───────────┴───┴───────────┴───────────┴───────────┴─────────┘"
      ]
     },
     "execution_count": 111,
     "metadata": {},
     "output_type": "execute_result"
    }
   ],
   "source": [
    "dataset.describe()"
   ]
  },
  {
   "cell_type": "markdown",
   "metadata": {},
   "source": [
    "#### 4 Pour vous simplifier la vie avec le reste des exercices, mettez en minuscule le nom des colonnes\n",
    "\n",
    "#### 4.1 Pensez également à convertir les colonnes qui devraient être en DateTime et éventuellement à regrouper les parties Date et Time\n",
    "\n",
    "#### 4.2 Retirez les colonnes 'cmplnt_fr_tm' et 'cmplnt_to_tm' puisque vous avez tout regroupé dans une seule et même colonne\n",
    "\n",
    "<br>"
   ]
  },
  {
   "cell_type": "code",
   "execution_count": 121,
   "metadata": {},
   "outputs": [],
   "source": [
    "dataset = dataset.rename(lambda column_name: column_name.replace(\" \", \"_\").lower())"
   ]
  },
  {
   "cell_type": "code",
   "execution_count": 122,
   "metadata": {},
   "outputs": [
    {
     "data": {
      "text/html": [
       "<div><style>\n",
       ".dataframe > thead > tr,\n",
       ".dataframe > tbody > tr {\n",
       "  text-align: right;\n",
       "  white-space: pre-wrap;\n",
       "}\n",
       "</style>\n",
       "<small>shape: (1, 35)</small><table border=\"1\" class=\"dataframe\"><thead><tr><th>cmplnt_num</th><th>cmplnt_fr_dt</th><th>cmplnt_fr_tm</th><th>cmplnt_to_dt</th><th>cmplnt_to_tm</th><th>addr_pct_cd</th><th>rpt_dt</th><th>ky_cd</th><th>ofns_desc</th><th>pd_cd</th><th>pd_desc</th><th>crm_atpt_cptd_cd</th><th>law_cat_cd</th><th>boro_nm</th><th>loc_of_occur_desc</th><th>prem_typ_desc</th><th>juris_desc</th><th>jurisdiction_code</th><th>parks_nm</th><th>hadevelopt</th><th>housing_psa</th><th>x_coord_cd</th><th>y_coord_cd</th><th>susp_age_group</th><th>susp_race</th><th>susp_sex</th><th>transit_district</th><th>latitude</th><th>longitude</th><th>lat_lon</th><th>patrol_boro</th><th>station_name</th><th>vic_age_group</th><th>vic_race</th><th>vic_sex</th></tr><tr><td>str</td><td>str</td><td>str</td><td>str</td><td>str</td><td>i64</td><td>str</td><td>i64</td><td>str</td><td>i64</td><td>str</td><td>str</td><td>str</td><td>str</td><td>str</td><td>str</td><td>str</td><td>i64</td><td>str</td><td>str</td><td>str</td><td>i64</td><td>i64</td><td>str</td><td>str</td><td>str</td><td>i64</td><td>f64</td><td>f64</td><td>str</td><td>str</td><td>str</td><td>str</td><td>str</td><td>str</td></tr></thead><tbody><tr><td>&quot;10600119&quot;</td><td>&quot;01/01/2002&quot;</td><td>&quot;11:00:00&quot;</td><td>&quot;02/25/2006&quot;</td><td>&quot;11:00:00&quot;</td><td>null</td><td>&quot;03/06/2006&quot;</td><td>104</td><td>&quot;RAPE&quot;</td><td>157</td><td>&quot;RAPE 1&quot;</td><td>&quot;COMPLETED&quot;</td><td>&quot;FELONY&quot;</td><td>&quot;MANHATTAN&quot;</td><td>&quot;(null)&quot;</td><td>&quot;(null)&quot;</td><td>&quot;N.Y. POLICE DEPT&quot;</td><td>0</td><td>&quot;(null)&quot;</td><td>&quot;(null)&quot;</td><td>&quot;(null)&quot;</td><td>null</td><td>null</td><td>&quot;45-64&quot;</td><td>&quot;WHITE&quot;</td><td>&quot;M&quot;</td><td>null</td><td>null</td><td>null</td><td>null</td><td>&quot;(null)&quot;</td><td>&quot;(null)&quot;</td><td>&quot;18-24&quot;</td><td>&quot;WHITE&quot;</td><td>&quot;F&quot;</td></tr></tbody></table></div>"
      ],
      "text/plain": [
       "shape: (1, 35)\n",
       "┌────────────┬────────────┬───────────┬───────────┬───┬───────────┬───────────┬──────────┬─────────┐\n",
       "│ cmplnt_num ┆ cmplnt_fr_ ┆ cmplnt_fr ┆ cmplnt_to ┆ … ┆ station_n ┆ vic_age_g ┆ vic_race ┆ vic_sex │\n",
       "│ ---        ┆ dt         ┆ _tm       ┆ _dt       ┆   ┆ ame       ┆ roup      ┆ ---      ┆ ---     │\n",
       "│ str        ┆ ---        ┆ ---       ┆ ---       ┆   ┆ ---       ┆ ---       ┆ str      ┆ str     │\n",
       "│            ┆ str        ┆ str       ┆ str       ┆   ┆ str       ┆ str       ┆          ┆         │\n",
       "╞════════════╪════════════╪═══════════╪═══════════╪═══╪═══════════╪═══════════╪══════════╪═════════╡\n",
       "│ 10600119   ┆ 01/01/2002 ┆ 11:00:00  ┆ 02/25/200 ┆ … ┆ (null)    ┆ 18-24     ┆ WHITE    ┆ F       │\n",
       "│            ┆            ┆           ┆ 6         ┆   ┆           ┆           ┆          ┆         │\n",
       "└────────────┴────────────┴───────────┴───────────┴───┴───────────┴───────────┴──────────┴─────────┘"
      ]
     },
     "execution_count": 122,
     "metadata": {},
     "output_type": "execute_result"
    }
   ],
   "source": [
    "dataset.head(1).collect()"
   ]
  },
  {
   "cell_type": "code",
   "execution_count": 91,
   "metadata": {},
   "outputs": [],
   "source": [
    "dataset = dataset.with_columns(\n",
    "    [\n",
    "        pl.col(\"cmplnt_fr_dt\").str.to_date(\"%m/%d/%Y\").alias(\"cmplnt_fr_date\"),\n",
    "        pl.col(\"cmplnt_fr_tm\").str.to_time(\"%H:%M:%S\").alias(\"cmplnt_fr_time\"),\n",
    "        pl.col(\"cmplnt_to_dt\").str.to_date(\"%m/%d/%Y\").alias(\"cmplnt_to_date\"),\n",
    "        pl.col(\"cmplnt_to_tm\").str.to_time(\"%m/%d/%Y\").alias(\"cmplnt_to_time\"),\n",
    "        pl.col(\"rpt_dt\").str.to_date(\"%m/%d/%Y\").alias(\"rpt_date\"),\n",
    "    ]\n",
    ").with_columns(\n",
    "    [\n",
    "        pl.col(\"cmplnt_fr_date\")\n",
    "        .dt.combine(pl.col(\"cmplnt_fr_time\"))\n",
    "        .alias(\"cmplnt_fr\"),\n",
    "        pl.col(\"cmplnt_to_date\")\n",
    "        .dt.combine(pl.col(\"cmplnt_to_time\"))\n",
    "        .alias(\"cmplnt_to\"),\n",
    "    ]\n",
    ")\n"
   ]
  },
  {
   "cell_type": "code",
   "execution_count": null,
   "metadata": {},
   "outputs": [
    {
     "name": "stderr",
     "output_type": "stream",
     "text": [
      "<>:6: SyntaxWarning: invalid escape sequence '\\('\n",
      "<>:6: SyntaxWarning: invalid escape sequence '\\('\n",
      "C:\\Users\\thoma\\AppData\\Local\\Temp\\ipykernel_5444\\1691803011.py:6: SyntaxWarning: invalid escape sequence '\\('\n",
      "  pl.col(\"cmplnt_fr_tm\").str.replace(\"\\(null\\)\", \"00:00:00\"),\n"
     ]
    },
    {
     "data": {
      "text/html": [
       "<div><style>\n",
       ".dataframe > thead > tr,\n",
       ".dataframe > tbody > tr {\n",
       "  text-align: right;\n",
       "  white-space: pre-wrap;\n",
       "}\n",
       "</style>\n",
       "<small>shape: (5, 34)</small><table border=\"1\" class=\"dataframe\"><thead><tr><th>cmplnt_num</th><th>cmplnt_to_dt</th><th>cmplnt_to_tm</th><th>addr_pct_cd</th><th>rpt_dt</th><th>ky_cd</th><th>ofns_desc</th><th>pd_cd</th><th>pd_desc</th><th>crm_atpt_cptd_cd</th><th>law_cat_cd</th><th>boro_nm</th><th>loc_of_occur_desc</th><th>prem_typ_desc</th><th>juris_desc</th><th>jurisdiction_code</th><th>parks_nm</th><th>hadevelopt</th><th>housing_psa</th><th>x_coord_cd</th><th>y_coord_cd</th><th>susp_age_group</th><th>susp_race</th><th>susp_sex</th><th>transit_district</th><th>latitude</th><th>longitude</th><th>lat_lon</th><th>patrol_boro</th><th>station_name</th><th>vic_age_group</th><th>vic_race</th><th>vic_sex</th><th>CMPLNT_FR_DATE</th></tr><tr><td>str</td><td>str</td><td>str</td><td>i64</td><td>str</td><td>i64</td><td>str</td><td>i64</td><td>str</td><td>str</td><td>str</td><td>str</td><td>str</td><td>str</td><td>str</td><td>i64</td><td>str</td><td>str</td><td>str</td><td>i64</td><td>i64</td><td>str</td><td>str</td><td>str</td><td>i64</td><td>f64</td><td>f64</td><td>str</td><td>str</td><td>str</td><td>str</td><td>str</td><td>str</td><td>datetime[μs]</td></tr></thead><tbody><tr><td>&quot;10600119&quot;</td><td>&quot;02/25/2006&quot;</td><td>&quot;11:00:00&quot;</td><td>null</td><td>&quot;03/06/2006&quot;</td><td>104</td><td>&quot;RAPE&quot;</td><td>157</td><td>&quot;RAPE 1&quot;</td><td>&quot;COMPLETED&quot;</td><td>&quot;FELONY&quot;</td><td>&quot;MANHATTAN&quot;</td><td>&quot;(null)&quot;</td><td>&quot;(null)&quot;</td><td>&quot;N.Y. POLICE DEPT&quot;</td><td>0</td><td>&quot;(null)&quot;</td><td>&quot;(null)&quot;</td><td>&quot;(null)&quot;</td><td>null</td><td>null</td><td>&quot;45-64&quot;</td><td>&quot;WHITE&quot;</td><td>&quot;M&quot;</td><td>null</td><td>null</td><td>null</td><td>null</td><td>&quot;(null)&quot;</td><td>&quot;(null)&quot;</td><td>&quot;18-24&quot;</td><td>&quot;WHITE&quot;</td><td>&quot;F&quot;</td><td>2002-01-01 11:00:00</td></tr><tr><td>&quot;11052575&quot;</td><td>null</td><td>&quot;(null)&quot;</td><td>null</td><td>&quot;04/22/2006&quot;</td><td>110</td><td>&quot;GRAND LARCENY OF MOTOR VEHICLE&quot;</td><td>441</td><td>&quot;LARCENY,GRAND OF AUTO&quot;</td><td>&quot;COMPLETED&quot;</td><td>&quot;FELONY&quot;</td><td>&quot;BRONX&quot;</td><td>&quot;(null)&quot;</td><td>&quot;(null)&quot;</td><td>&quot;N.Y. POLICE DEPT&quot;</td><td>0</td><td>&quot;(null)&quot;</td><td>&quot;(null)&quot;</td><td>&quot;(null)&quot;</td><td>null</td><td>null</td><td>&quot;(null)&quot;</td><td>&quot;(null)&quot;</td><td>&quot;(null)&quot;</td><td>null</td><td>null</td><td>null</td><td>null</td><td>&quot;(null)&quot;</td><td>&quot;(null)&quot;</td><td>&quot;25-44&quot;</td><td>&quot;BLACK&quot;</td><td>&quot;M&quot;</td><td>2005-04-22 02:00:00</td></tr><tr><td>&quot;10832306&quot;</td><td>&quot;03/29/2006&quot;</td><td>&quot;12:00:00&quot;</td><td>null</td><td>&quot;03/29/2006&quot;</td><td>353</td><td>&quot;UNAUTHORIZED USE OF A VEHICLE&quot;</td><td>462</td><td>&quot;UNAUTHORIZED USE VEHICLE 3&quot;</td><td>&quot;COMPLETED&quot;</td><td>&quot;MISDEMEANOR&quot;</td><td>&quot;BROOKLYN&quot;</td><td>&quot;(null)&quot;</td><td>&quot;(null)&quot;</td><td>&quot;N.Y. POLICE DEPT&quot;</td><td>0</td><td>&quot;(null)&quot;</td><td>&quot;(null)&quot;</td><td>&quot;(null)&quot;</td><td>null</td><td>null</td><td>&quot;(null)&quot;</td><td>&quot;WHITE&quot;</td><td>&quot;M&quot;</td><td>null</td><td>null</td><td>null</td><td>null</td><td>&quot;(null)&quot;</td><td>&quot;(null)&quot;</td><td>&quot;45-64&quot;</td><td>&quot;WHITE&quot;</td><td>&quot;M&quot;</td><td>2005-07-11 20:00:00</td></tr><tr><td>&quot;10107192&quot;</td><td>null</td><td>&quot;(null)&quot;</td><td>null</td><td>&quot;01/13/2006&quot;</td><td>126</td><td>&quot;MISCELLANEOUS PENAL LAW&quot;</td><td>461</td><td>&quot;UNAUTHORIZED USE VEHICLE 2&quot;</td><td>&quot;COMPLETED&quot;</td><td>&quot;FELONY&quot;</td><td>&quot;BRONX&quot;</td><td>&quot;(null)&quot;</td><td>&quot;(null)&quot;</td><td>&quot;N.Y. POLICE DEPT&quot;</td><td>0</td><td>&quot;(null)&quot;</td><td>&quot;(null)&quot;</td><td>&quot;(null)&quot;</td><td>null</td><td>null</td><td>&quot;(null)&quot;</td><td>&quot;BLACK&quot;</td><td>&quot;F&quot;</td><td>null</td><td>null</td><td>null</td><td>null</td><td>&quot;(null)&quot;</td><td>&quot;(null)&quot;</td><td>&quot;25-44&quot;</td><td>&quot;BLACK&quot;</td><td>&quot;F&quot;</td><td>2005-10-19 20:30:00</td></tr><tr><td>&quot;23893731&quot;</td><td>&quot;08/09/2006&quot;</td><td>&quot;17:00:00&quot;</td><td>null</td><td>&quot;08/09/2006&quot;</td><td>109</td><td>&quot;GRAND LARCENY&quot;</td><td>405</td><td>&quot;LARCENY,GRAND BY THEFT OF CRED…</td><td>&quot;COMPLETED&quot;</td><td>&quot;FELONY&quot;</td><td>&quot;BRONX&quot;</td><td>&quot;(null)&quot;</td><td>&quot;(null)&quot;</td><td>&quot;N.Y. POLICE DEPT&quot;</td><td>0</td><td>&quot;(null)&quot;</td><td>&quot;(null)&quot;</td><td>&quot;(null)&quot;</td><td>null</td><td>null</td><td>&quot;(null)&quot;</td><td>&quot;(null)&quot;</td><td>&quot;(null)&quot;</td><td>null</td><td>null</td><td>null</td><td>null</td><td>&quot;(null)&quot;</td><td>&quot;(null)&quot;</td><td>&quot;25-44&quot;</td><td>&quot;WHITE&quot;</td><td>&quot;F&quot;</td><td>2005-12-04 09:00:00</td></tr></tbody></table></div>"
      ],
      "text/plain": [
       "shape: (5, 34)\n",
       "┌────────────┬────────────┬───────────┬───────────┬───┬───────────┬──────────┬─────────┬───────────┐\n",
       "│ cmplnt_num ┆ cmplnt_to_ ┆ cmplnt_to ┆ addr_pct_ ┆ … ┆ vic_age_g ┆ vic_race ┆ vic_sex ┆ CMPLNT_FR │\n",
       "│ ---        ┆ dt         ┆ _tm       ┆ cd        ┆   ┆ roup      ┆ ---      ┆ ---     ┆ _DATE     │\n",
       "│ str        ┆ ---        ┆ ---       ┆ ---       ┆   ┆ ---       ┆ str      ┆ str     ┆ ---       │\n",
       "│            ┆ str        ┆ str       ┆ i64       ┆   ┆ str       ┆          ┆         ┆ datetime[ │\n",
       "│            ┆            ┆           ┆           ┆   ┆           ┆          ┆         ┆ μs]       │\n",
       "╞════════════╪════════════╪═══════════╪═══════════╪═══╪═══════════╪══════════╪═════════╪═══════════╡\n",
       "│ 10600119   ┆ 02/25/2006 ┆ 11:00:00  ┆ null      ┆ … ┆ 18-24     ┆ WHITE    ┆ F       ┆ 2002-01-0 │\n",
       "│            ┆            ┆           ┆           ┆   ┆           ┆          ┆         ┆ 1         │\n",
       "│            ┆            ┆           ┆           ┆   ┆           ┆          ┆         ┆ 11:00:00  │\n",
       "│ 11052575   ┆ null       ┆ (null)    ┆ null      ┆ … ┆ 25-44     ┆ BLACK    ┆ M       ┆ 2005-04-2 │\n",
       "│            ┆            ┆           ┆           ┆   ┆           ┆          ┆         ┆ 2         │\n",
       "│            ┆            ┆           ┆           ┆   ┆           ┆          ┆         ┆ 02:00:00  │\n",
       "│ 10832306   ┆ 03/29/2006 ┆ 12:00:00  ┆ null      ┆ … ┆ 45-64     ┆ WHITE    ┆ M       ┆ 2005-07-1 │\n",
       "│            ┆            ┆           ┆           ┆   ┆           ┆          ┆         ┆ 1         │\n",
       "│            ┆            ┆           ┆           ┆   ┆           ┆          ┆         ┆ 20:00:00  │\n",
       "│ 10107192   ┆ null       ┆ (null)    ┆ null      ┆ … ┆ 25-44     ┆ BLACK    ┆ F       ┆ 2005-10-1 │\n",
       "│            ┆            ┆           ┆           ┆   ┆           ┆          ┆         ┆ 9         │\n",
       "│            ┆            ┆           ┆           ┆   ┆           ┆          ┆         ┆ 20:30:00  │\n",
       "│ 23893731   ┆ 08/09/2006 ┆ 17:00:00  ┆ null      ┆ … ┆ 25-44     ┆ WHITE    ┆ F       ┆ 2005-12-0 │\n",
       "│            ┆            ┆           ┆           ┆   ┆           ┆          ┆         ┆ 4         │\n",
       "│            ┆            ┆           ┆           ┆   ┆           ┆          ┆         ┆ 09:00:00  │\n",
       "└────────────┴────────────┴───────────┴───────────┴───┴───────────┴──────────┴─────────┴───────────┘"
      ]
     },
     "execution_count": 127,
     "metadata": {},
     "output_type": "execute_result"
    }
   ],
   "source": [
    "dataset.with_columns(\n",
    "    CMPLNT_FR_DATE=pl.concat_str(\n",
    "        [\n",
    "            pl.col(\"cmplnt_fr_dt\"),\n",
    "            pl.lit(\" \"),\n",
    "            pl.col(\"cmplnt_fr_tm\").str.replace(\"\\(null\\)\", \"00:00:00\"),\n",
    "        ]\n",
    "    ).str.to_datetime(\"%m/%d/%Y %T\")\n",
    ").select(pl.exclude(\"cmplnt_fr_dt\", \"cmplnt_fr_tm\")).collect().head(5)\n"
   ]
  },
  {
   "cell_type": "code",
   "execution_count": 92,
   "metadata": {},
   "outputs": [
    {
     "ename": "ColumnNotFoundError",
     "evalue": "cmplnt_fr_dt\n\nResolved plan until failure:\n\n\t---> FAILED HERE RESOLVING 'slice' <---\nCsv SCAN [./data/NYPD_complaints_all.csv]\nPROJECT */35 COLUMNS",
     "output_type": "error",
     "traceback": [
      "\u001b[1;31m---------------------------------------------------------------------------\u001b[0m",
      "\u001b[1;31mColumnNotFoundError\u001b[0m                       Traceback (most recent call last)",
      "Cell \u001b[1;32mIn[92], line 1\u001b[0m\n\u001b[1;32m----> 1\u001b[0m \u001b[43mdataset\u001b[49m\u001b[38;5;241;43m.\u001b[39;49m\u001b[43mhead\u001b[49m\u001b[43m(\u001b[49m\u001b[38;5;241;43m1\u001b[39;49m\u001b[43m)\u001b[49m\u001b[38;5;241;43m.\u001b[39;49m\u001b[43mcollect\u001b[49m\u001b[43m(\u001b[49m\u001b[43m)\u001b[49m\n",
      "File \u001b[1;32mc:\\Python312\\Lib\\site-packages\\polars\\lazyframe\\frame.py:2065\u001b[0m, in \u001b[0;36mLazyFrame.collect\u001b[1;34m(self, type_coercion, _type_check, predicate_pushdown, projection_pushdown, simplify_expression, slice_pushdown, comm_subplan_elim, comm_subexpr_elim, cluster_with_columns, collapse_joins, no_optimization, streaming, engine, background, _check_order, _eager, **_kwargs)\u001b[0m\n\u001b[0;32m   2063\u001b[0m \u001b[38;5;66;03m# Only for testing purposes\u001b[39;00m\n\u001b[0;32m   2064\u001b[0m callback \u001b[38;5;241m=\u001b[39m _kwargs\u001b[38;5;241m.\u001b[39mget(\u001b[38;5;124m\"\u001b[39m\u001b[38;5;124mpost_opt_callback\u001b[39m\u001b[38;5;124m\"\u001b[39m, callback)\n\u001b[1;32m-> 2065\u001b[0m \u001b[38;5;28;01mreturn\u001b[39;00m wrap_df(\u001b[43mldf\u001b[49m\u001b[38;5;241;43m.\u001b[39;49m\u001b[43mcollect\u001b[49m\u001b[43m(\u001b[49m\u001b[43mcallback\u001b[49m\u001b[43m)\u001b[49m)\n",
      "\u001b[1;31mColumnNotFoundError\u001b[0m: cmplnt_fr_dt\n\nResolved plan until failure:\n\n\t---> FAILED HERE RESOLVING 'slice' <---\nCsv SCAN [./data/NYPD_complaints_all.csv]\nPROJECT */35 COLUMNS"
     ]
    }
   ],
   "source": [
    "dataset.head(1).collect()"
   ]
  },
  {
   "cell_type": "markdown",
   "metadata": {},
   "source": [
    "#### 5 Vérifiez si les colonnes en Int64 peuvent être converties en Int32 afin de gagner en espace mémoire\n",
    "\n",
    "<br>"
   ]
  },
  {
   "cell_type": "markdown",
   "metadata": {},
   "source": [
    "#### 6 Sauvez toutes vos modifications faites en format parquet et vérifiez le résultat\n",
    "\n",
    "<br>"
   ]
  },
  {
   "cell_type": "markdown",
   "metadata": {},
   "source": [
    "#### 7 Affichez les 5 premières lignes des colonnes 'ofns_desc' et 'pd_desc'\n",
    "\n",
    "<br>"
   ]
  },
  {
   "cell_type": "markdown",
   "metadata": {},
   "source": [
    "#### 8 Afficher le nombre d'incidents recensés pour le quartier de Manhattan\n",
    "\n",
    "<br>"
   ]
  },
  {
   "cell_type": "markdown",
   "metadata": {},
   "source": [
    "#### 9 Est-ce que des  patrouilles du quartier de Brooklyn ou du Queens peuvent intervenir à Manhattan ?\n",
    "\n",
    "<br>"
   ]
  },
  {
   "cell_type": "markdown",
   "metadata": {},
   "source": [
    "#### 10 Renseignez-vous sur la notion de precinct (colonne addr_pct_cd). Combien en comptabilisez-vous ?\n",
    "\n",
    "<br>"
   ]
  },
  {
   "cell_type": "markdown",
   "metadata": {},
   "source": [
    "#### 11 A quand remonte le dernier incident rapportant un avortement ?\n",
    "\n",
    "<br>"
   ]
  },
  {
   "cell_type": "markdown",
   "metadata": {},
   "source": [
    "#### 12  En moyenne quel est le temps écoulé entre le début d'un rapport et de sa fin ?\n",
    "\n",
    "<br>"
   ]
  },
  {
   "cell_type": "markdown",
   "metadata": {},
   "source": [
    "#### 13 Est-ce que ce temps moyen est similaire entre les différents quartiers ? Triez par ordre décroissant et afficher également le nombre d'offenses recensées.\n",
    "\n",
    "<br>"
   ]
  },
  {
   "cell_type": "markdown",
   "metadata": {},
   "source": [
    "#### 14 Affichez par année et ce depuis 2010 la somme cumulée du nombre d'offenses de catégorie *Felony*\n",
    "\n",
    "**BONUS**: Pouvez-vous constater une accélération ?\n",
    "\n",
    "<br>"
   ]
  },
  {
   "cell_type": "markdown",
   "metadata": {},
   "source": [
    "#### 15 Affichez toutes les valeurs uniques présentes dans la colonne 'ofns_desc' ainsi que leur nombre d'occurences\n",
    "\n",
    "**BONUS:** Trouvez une solution afin d'afficher le résultat dans deux colonnes distinctes et triez par ordre décroissant sur le nombre d'occurences\n",
    "\n",
    "<br>"
   ]
  },
  {
   "cell_type": "markdown",
   "metadata": {},
   "source": [
    "#### 16 Quel est le top 5 des offenses les plus recensées en 2020\n",
    "\n",
    "<br>"
   ]
  },
  {
   "cell_type": "markdown",
   "metadata": {},
   "source": [
    "#### 17 Parmi ce top 5, quels sont les tranches d'âge les plus touchées en 2020 ?\n",
    "\n",
    "<br>"
   ]
  },
  {
   "cell_type": "markdown",
   "metadata": {},
   "source": [
    "#### 18 Afficher l'évolution(en valeur absolue et en %), d'année en année, du nombre d'offenses faites aux femmes depuis 2010\n",
    "\n",
    "<br>"
   ]
  },
  {
   "cell_type": "markdown",
   "metadata": {},
   "source": [
    "#### 19 Affichez le nombre d'enregistrements par jour de la semaine(*e.g.* lundi, mardi, *etc.*) et ce pour Manhattan\n",
    "\n",
    "<br>"
   ]
  },
  {
   "cell_type": "markdown",
   "metadata": {},
   "source": [
    "#### 20 Ajoutez une colonne aux données qui doit permettre d'identifier des moments dans les journées en fonction de l'heure\n",
    "\n",
    "*e.g.*:\n",
    "- entre 22h00 et 04h59 => NIGHT\n",
    "- entre 05H00 et 18h59 => DAY\n",
    "- entre 19h00 et 21h59 => EVENING\n",
    "\n",
    "Ensuite afficher le nombre d'enregistements par période et par type d'infraction(*i.e.* law_cat_cd)\n",
    "\n",
    "<br>"
   ]
  },
  {
   "cell_type": "markdown",
   "metadata": {},
   "source": [
    "#### 21 Afin de pouvoir trier correctement le résultat de l'exercice précédent, ajoutez une colonne reprenenant le niveau de gravité:\n",
    "\n",
    "- 1: 'FELONY'\n",
    "- 2: 'MISDEMEANOR'\n",
    "- 3: 'VIOLATION'"
   ]
  },
  {
   "cell_type": "markdown",
   "metadata": {},
   "source": [
    "#### 22 Reprenez l'exercice précédent mais en ne gardant que les cinq dernières années disponnibles et en excluant les infractions les plus minimes\n",
    "\n",
    "<br>"
   ]
  },
  {
   "cell_type": "markdown",
   "metadata": {},
   "source": [
    "#### 23 Proposez un crosstab avec le nombre d'enregistrements par type d'infractions et moment de la journée\n",
    "\n",
    "Plusieurs remarques:\n",
    "- nous voudrions également avoir non pas les valeurs absolues mais les ratios. Ces ratios peuvent être calculer de trois façons:\n",
    "    - en divisant chaque cellule par la somme de sa colonne\n",
    "    - en divisant chaque cellule par la somme de sa ligne\n",
    "    - en divisant chaque cellule par le total de la matrice\n",
    "- l'exercice est plus facile à réaliser si vous passez par Pandas qui propose une solution avec crosstab. Nous voudrions que vous proposiez également une solution sans passer par Pandas.\n",
    "\n",
    "<br>"
   ]
  },
  {
   "cell_type": "markdown",
   "metadata": {},
   "source": [
    "#### 24 Identifiez les offenses qui ont connu, en moyenne, la plus grande progression sur les 10 dernières années disponnibles\n",
    "\n",
    "**Compléments d'informations**: nous voulons pour chaque offense et pour chaque année avoir son nombre d'occurences et afficher sa progression par rapport à n-1 et ensuite faire une moyenne sur ces progressions.\n",
    "\n",
    "<br>"
   ]
  },
  {
   "cell_type": "markdown",
   "metadata": {},
   "source": [
    "#### 25 Filtrez afin de ne garder que les offenses avec au minimum 1000 enregistrements\n",
    "\n",
    "##### 25.1 Affichez également le top et bottom 10\n",
    "\n",
    "<br>"
   ]
  },
  {
   "cell_type": "markdown",
   "metadata": {},
   "source": [
    "#### 26 A l'aide d'une fenêtre, identifiez les moments dans la journée et dans l'année qui répertorient le plus de plaintes\n",
    "\n",
    "<br>"
   ]
  },
  {
   "cell_type": "markdown",
   "metadata": {},
   "source": [
    "#### 26.1 Pouvez-vous constater une différence entre les différentes gravités de crimes ? Certains crimes ont-ils tendance a plus être commis à telle ou telle heure de la journée ?\n",
    "\n",
    "<br>"
   ]
  },
  {
   "cell_type": "markdown",
   "metadata": {},
   "source": [
    "#### 27 Et quelle est la période dans l'année la plus propice ?\n",
    "\n",
    "<br>"
   ]
  }
 ],
 "metadata": {
  "kernelspec": {
   "display_name": "Python 3",
   "language": "python",
   "name": "python3"
  },
  "language_info": {
   "codemirror_mode": {
    "name": "ipython",
    "version": 3
   },
   "file_extension": ".py",
   "mimetype": "text/x-python",
   "name": "python",
   "nbconvert_exporter": "python",
   "pygments_lexer": "ipython3",
   "version": "3.12.2"
  }
 },
 "nbformat": 4,
 "nbformat_minor": 2
}
