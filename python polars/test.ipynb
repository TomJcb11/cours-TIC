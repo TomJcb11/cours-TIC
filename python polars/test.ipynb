{
 "cells": [
  {
   "cell_type": "code",
   "execution_count": 92,
   "metadata": {},
   "outputs": [],
   "source": [
    "import polars as pl"
   ]
  },
  {
   "cell_type": "code",
   "execution_count": 93,
   "metadata": {},
   "outputs": [
    {
     "data": {
      "text/plain": [
       "'1.24.0'"
      ]
     },
     "execution_count": 93,
     "metadata": {},
     "output_type": "execute_result"
    }
   ],
   "source": [
    "pl.__version__"
   ]
  },
  {
   "cell_type": "code",
   "execution_count": 94,
   "metadata": {},
   "outputs": [],
   "source": [
    "data_path = \"data/2022\""
   ]
  },
  {
   "cell_type": "markdown",
   "metadata": {},
   "source": [
    "1) on défini en gros un schéma ( avec le **scan** )du futur dataframe avant de le charger en mémoire\n",
    "\n",
    "2) **collect** récupère toutes les lignes du plan chargé au dessus, on peut définir ce qu'on veut puis on charge le schéma défini\n",
    "\n",
    "3) Par défaut le **collect** récupère toutes les lignes donc on met **head(5)** pour ne charger que les 5 premières contrairement à pandas qui charge tout et n'affiche que les 5 premières"
   ]
  },
  {
   "cell_type": "code",
   "execution_count": null,
   "metadata": {},
   "outputs": [
    {
     "data": {
      "text/html": [
       "<div><style>\n",
       ".dataframe > thead > tr,\n",
       ".dataframe > tbody > tr {\n",
       "  text-align: right;\n",
       "  white-space: pre-wrap;\n",
       "}\n",
       "</style>\n",
       "<small>shape: (9, 20)</small><table border=\"1\" class=\"dataframe\"><thead><tr><th>statistic</th><th>VendorID</th><th>tpep_pickup_datetime</th><th>tpep_dropoff_datetime</th><th>passenger_count</th><th>trip_distance</th><th>RatecodeID</th><th>store_and_fwd_flag</th><th>PULocationID</th><th>DOLocationID</th><th>payment_type</th><th>fare_amount</th><th>extra</th><th>mta_tax</th><th>tip_amount</th><th>tolls_amount</th><th>improvement_surcharge</th><th>total_amount</th><th>congestion_surcharge</th><th>airport_fee</th></tr><tr><td>str</td><td>f64</td><td>str</td><td>str</td><td>f64</td><td>f64</td><td>f64</td><td>str</td><td>f64</td><td>f64</td><td>f64</td><td>f64</td><td>f64</td><td>f64</td><td>f64</td><td>f64</td><td>f64</td><td>f64</td><td>f64</td><td>f64</td></tr></thead><tbody><tr><td>&quot;count&quot;</td><td>2.463931e6</td><td>&quot;2463931&quot;</td><td>&quot;2463931&quot;</td><td>2.392428e6</td><td>2.463931e6</td><td>2.392428e6</td><td>&quot;2392428&quot;</td><td>2.463931e6</td><td>2.463931e6</td><td>2.463931e6</td><td>2.463931e6</td><td>2.463931e6</td><td>2.463931e6</td><td>2.463931e6</td><td>2.463931e6</td><td>2.463931e6</td><td>2.463931e6</td><td>2.392428e6</td><td>2.392428e6</td></tr><tr><td>&quot;null_count&quot;</td><td>0.0</td><td>&quot;0&quot;</td><td>&quot;0&quot;</td><td>71503.0</td><td>0.0</td><td>71503.0</td><td>&quot;71503&quot;</td><td>0.0</td><td>0.0</td><td>0.0</td><td>0.0</td><td>0.0</td><td>0.0</td><td>0.0</td><td>0.0</td><td>0.0</td><td>0.0</td><td>71503.0</td><td>71503.0</td></tr><tr><td>&quot;mean&quot;</td><td>1.707819</td><td>&quot;2022-01-17 01:19:51.689726&quot;</td><td>&quot;2022-01-17 01:34:04.421901&quot;</td><td>1.389453</td><td>5.372751</td><td>1.415507</td><td>null</td><td>166.076809</td><td>163.580716</td><td>1.194449</td><td>12.946484</td><td>1.00671</td><td>0.491454</td><td>2.385696</td><td>0.374977</td><td>0.296723</td><td>19.16937</td><td>2.282322</td><td>0.082499</td></tr><tr><td>&quot;std&quot;</td><td>0.502137</td><td>null</td><td>null</td><td>0.982969</td><td>547.871404</td><td>5.917573</td><td>null</td><td>65.468057</td><td>70.790159</td><td>0.500178</td><td>255.814887</td><td>1.236226</td><td>0.082916</td><td>2.830698</td><td>1.680538</td><td>0.043747</td><td>255.964089</td><td>0.743204</td><td>0.312555</td></tr><tr><td>&quot;min&quot;</td><td>1.0</td><td>&quot;2008-12-31 22:23:09&quot;</td><td>&quot;2008-12-31 23:06:56&quot;</td><td>0.0</td><td>0.0</td><td>1.0</td><td>&quot;N&quot;</td><td>1.0</td><td>1.0</td><td>0.0</td><td>-480.0</td><td>-4.5</td><td>-0.5</td><td>-125.22</td><td>-31.4</td><td>-0.3</td><td>-480.3</td><td>-2.5</td><td>-1.25</td></tr><tr><td>&quot;25%&quot;</td><td>1.0</td><td>&quot;2022-01-09 15:37:41&quot;</td><td>&quot;2022-01-09 15:50:51&quot;</td><td>1.0</td><td>1.04</td><td>1.0</td><td>null</td><td>132.0</td><td>113.0</td><td>1.0</td><td>6.5</td><td>0.0</td><td>0.5</td><td>0.72</td><td>0.0</td><td>0.3</td><td>11.3</td><td>2.5</td><td>0.0</td></tr><tr><td>&quot;50%&quot;</td><td>2.0</td><td>&quot;2022-01-17 12:11:45&quot;</td><td>&quot;2022-01-17 12:23:49&quot;</td><td>1.0</td><td>1.74</td><td>1.0</td><td>null</td><td>162.0</td><td>162.0</td><td>1.0</td><td>9.0</td><td>0.5</td><td>0.5</td><td>2.0</td><td>0.0</td><td>0.3</td><td>14.69</td><td>2.5</td><td>0.0</td></tr><tr><td>&quot;75%&quot;</td><td>2.0</td><td>&quot;2022-01-24 13:49:38&quot;</td><td>&quot;2022-01-24 14:02:51&quot;</td><td>1.0</td><td>3.13</td><td>1.0</td><td>null</td><td>234.0</td><td>236.0</td><td>1.0</td><td>14.0</td><td>2.5</td><td>0.5</td><td>3.0</td><td>0.0</td><td>0.3</td><td>20.02</td><td>2.5</td><td>0.0</td></tr><tr><td>&quot;max&quot;</td><td>6.0</td><td>&quot;2022-05-18 20:41:57&quot;</td><td>&quot;2022-05-18 20:47:45&quot;</td><td>9.0</td><td>306159.28</td><td>99.0</td><td>&quot;Y&quot;</td><td>265.0</td><td>265.0</td><td>5.0</td><td>401092.32</td><td>33.5</td><td>16.59</td><td>888.88</td><td>193.3</td><td>0.3</td><td>401095.62</td><td>2.5</td><td>1.25</td></tr></tbody></table></div>"
      ],
      "text/plain": [
       "shape: (9, 20)\n",
       "┌───────────┬───────────┬───────────┬───────────┬───┬───────────┬───────────┬───────────┬──────────┐\n",
       "│ statistic ┆ VendorID  ┆ tpep_pick ┆ tpep_drop ┆ … ┆ improveme ┆ total_amo ┆ congestio ┆ airport_ │\n",
       "│ ---       ┆ ---       ┆ up_dateti ┆ off_datet ┆   ┆ nt_surcha ┆ unt       ┆ n_surchar ┆ fee      │\n",
       "│ str       ┆ f64       ┆ me        ┆ ime       ┆   ┆ rge       ┆ ---       ┆ ge        ┆ ---      │\n",
       "│           ┆           ┆ ---       ┆ ---       ┆   ┆ ---       ┆ f64       ┆ ---       ┆ f64      │\n",
       "│           ┆           ┆ str       ┆ str       ┆   ┆ f64       ┆           ┆ f64       ┆          │\n",
       "╞═══════════╪═══════════╪═══════════╪═══════════╪═══╪═══════════╪═══════════╪═══════════╪══════════╡\n",
       "│ count     ┆ 2.463931e ┆ 2463931   ┆ 2463931   ┆ … ┆ 2.463931e ┆ 2.463931e ┆ 2.392428e ┆ 2.392428 │\n",
       "│           ┆ 6         ┆           ┆           ┆   ┆ 6         ┆ 6         ┆ 6         ┆ e6       │\n",
       "│ null_coun ┆ 0.0       ┆ 0         ┆ 0         ┆ … ┆ 0.0       ┆ 0.0       ┆ 71503.0   ┆ 71503.0  │\n",
       "│ t         ┆           ┆           ┆           ┆   ┆           ┆           ┆           ┆          │\n",
       "│ mean      ┆ 1.707819  ┆ 2022-01-1 ┆ 2022-01-1 ┆ … ┆ 0.296723  ┆ 19.16937  ┆ 2.282322  ┆ 0.082499 │\n",
       "│           ┆           ┆ 7 01:19:5 ┆ 7 01:34:0 ┆   ┆           ┆           ┆           ┆          │\n",
       "│           ┆           ┆ 1.689726  ┆ 4.421901  ┆   ┆           ┆           ┆           ┆          │\n",
       "│ std       ┆ 0.502137  ┆ null      ┆ null      ┆ … ┆ 0.043747  ┆ 255.96408 ┆ 0.743204  ┆ 0.312555 │\n",
       "│           ┆           ┆           ┆           ┆   ┆           ┆ 9         ┆           ┆          │\n",
       "│ min       ┆ 1.0       ┆ 2008-12-3 ┆ 2008-12-3 ┆ … ┆ -0.3      ┆ -480.3    ┆ -2.5      ┆ -1.25    │\n",
       "│           ┆           ┆ 1         ┆ 1         ┆   ┆           ┆           ┆           ┆          │\n",
       "│           ┆           ┆ 22:23:09  ┆ 23:06:56  ┆   ┆           ┆           ┆           ┆          │\n",
       "│ 25%       ┆ 1.0       ┆ 2022-01-0 ┆ 2022-01-0 ┆ … ┆ 0.3       ┆ 11.3      ┆ 2.5       ┆ 0.0      │\n",
       "│           ┆           ┆ 9         ┆ 9         ┆   ┆           ┆           ┆           ┆          │\n",
       "│           ┆           ┆ 15:37:41  ┆ 15:50:51  ┆   ┆           ┆           ┆           ┆          │\n",
       "│ 50%       ┆ 2.0       ┆ 2022-01-1 ┆ 2022-01-1 ┆ … ┆ 0.3       ┆ 14.69     ┆ 2.5       ┆ 0.0      │\n",
       "│           ┆           ┆ 7         ┆ 7         ┆   ┆           ┆           ┆           ┆          │\n",
       "│           ┆           ┆ 12:11:45  ┆ 12:23:49  ┆   ┆           ┆           ┆           ┆          │\n",
       "│ 75%       ┆ 2.0       ┆ 2022-01-2 ┆ 2022-01-2 ┆ … ┆ 0.3       ┆ 20.02     ┆ 2.5       ┆ 0.0      │\n",
       "│           ┆           ┆ 4         ┆ 4         ┆   ┆           ┆           ┆           ┆          │\n",
       "│           ┆           ┆ 13:49:38  ┆ 14:02:51  ┆   ┆           ┆           ┆           ┆          │\n",
       "│ max       ┆ 6.0       ┆ 2022-05-1 ┆ 2022-05-1 ┆ … ┆ 0.3       ┆ 401095.62 ┆ 2.5       ┆ 1.25     │\n",
       "│           ┆           ┆ 8         ┆ 8         ┆   ┆           ┆           ┆           ┆          │\n",
       "│           ┆           ┆ 20:41:57  ┆ 20:47:45  ┆   ┆           ┆           ┆           ┆          │\n",
       "└───────────┴───────────┴───────────┴───────────┴───┴───────────┴───────────┴───────────┴──────────┘"
      ]
     },
     "execution_count": 95,
     "metadata": {},
     "output_type": "execute_result"
    }
   ],
   "source": [
    "dataset = pl.scan_parquet(f\"{data_path}/yellow_202201.parquet\")\n",
    "dataset.describe()"
   ]
  },
  {
   "cell_type": "code",
   "execution_count": null,
   "metadata": {},
   "outputs": [
    {
     "data": {
      "text/html": [
       "<div><style>\n",
       ".dataframe > thead > tr,\n",
       ".dataframe > tbody > tr {\n",
       "  text-align: right;\n",
       "  white-space: pre-wrap;\n",
       "}\n",
       "</style>\n",
       "<small>shape: (5, 19)</small><table border=\"1\" class=\"dataframe\"><thead><tr><th>VendorID</th><th>tpep_pickup_datetime</th><th>tpep_dropoff_datetime</th><th>passenger_count</th><th>trip_distance</th><th>RatecodeID</th><th>store_and_fwd_flag</th><th>PULocationID</th><th>DOLocationID</th><th>payment_type</th><th>fare_amount</th><th>extra</th><th>mta_tax</th><th>tip_amount</th><th>tolls_amount</th><th>improvement_surcharge</th><th>total_amount</th><th>congestion_surcharge</th><th>airport_fee</th></tr><tr><td>i64</td><td>datetime[ns]</td><td>datetime[ns]</td><td>f64</td><td>f64</td><td>f64</td><td>str</td><td>i64</td><td>i64</td><td>i64</td><td>f64</td><td>f64</td><td>f64</td><td>f64</td><td>f64</td><td>f64</td><td>f64</td><td>f64</td><td>f64</td></tr></thead><tbody><tr><td>1</td><td>2022-01-01 00:35:40</td><td>2022-01-01 00:53:29</td><td>2.0</td><td>3.8</td><td>1.0</td><td>&quot;N&quot;</td><td>142</td><td>236</td><td>1</td><td>14.5</td><td>3.0</td><td>0.5</td><td>3.65</td><td>0.0</td><td>0.3</td><td>21.95</td><td>2.5</td><td>0.0</td></tr><tr><td>1</td><td>2022-01-01 00:33:43</td><td>2022-01-01 00:42:07</td><td>1.0</td><td>2.1</td><td>1.0</td><td>&quot;N&quot;</td><td>236</td><td>42</td><td>1</td><td>8.0</td><td>0.5</td><td>0.5</td><td>4.0</td><td>0.0</td><td>0.3</td><td>13.3</td><td>0.0</td><td>0.0</td></tr><tr><td>2</td><td>2022-01-01 00:53:21</td><td>2022-01-01 01:02:19</td><td>1.0</td><td>0.97</td><td>1.0</td><td>&quot;N&quot;</td><td>166</td><td>166</td><td>1</td><td>7.5</td><td>0.5</td><td>0.5</td><td>1.76</td><td>0.0</td><td>0.3</td><td>10.56</td><td>0.0</td><td>0.0</td></tr><tr><td>2</td><td>2022-01-01 00:25:21</td><td>2022-01-01 00:35:23</td><td>1.0</td><td>1.09</td><td>1.0</td><td>&quot;N&quot;</td><td>114</td><td>68</td><td>2</td><td>8.0</td><td>0.5</td><td>0.5</td><td>0.0</td><td>0.0</td><td>0.3</td><td>11.8</td><td>2.5</td><td>0.0</td></tr><tr><td>2</td><td>2022-01-01 00:36:48</td><td>2022-01-01 01:14:20</td><td>1.0</td><td>4.3</td><td>1.0</td><td>&quot;N&quot;</td><td>68</td><td>163</td><td>1</td><td>23.5</td><td>0.5</td><td>0.5</td><td>3.0</td><td>0.0</td><td>0.3</td><td>30.3</td><td>2.5</td><td>0.0</td></tr></tbody></table></div>"
      ],
      "text/plain": [
       "shape: (5, 19)\n",
       "┌──────────┬───────────┬───────────┬───────────┬───┬───────────┬───────────┬───────────┬───────────┐\n",
       "│ VendorID ┆ tpep_pick ┆ tpep_drop ┆ passenger ┆ … ┆ improveme ┆ total_amo ┆ congestio ┆ airport_f │\n",
       "│ ---      ┆ up_dateti ┆ off_datet ┆ _count    ┆   ┆ nt_surcha ┆ unt       ┆ n_surchar ┆ ee        │\n",
       "│ i64      ┆ me        ┆ ime       ┆ ---       ┆   ┆ rge       ┆ ---       ┆ ge        ┆ ---       │\n",
       "│          ┆ ---       ┆ ---       ┆ f64       ┆   ┆ ---       ┆ f64       ┆ ---       ┆ f64       │\n",
       "│          ┆ datetime[ ┆ datetime[ ┆           ┆   ┆ f64       ┆           ┆ f64       ┆           │\n",
       "│          ┆ ns]       ┆ ns]       ┆           ┆   ┆           ┆           ┆           ┆           │\n",
       "╞══════════╪═══════════╪═══════════╪═══════════╪═══╪═══════════╪═══════════╪═══════════╪═══════════╡\n",
       "│ 1        ┆ 2022-01-0 ┆ 2022-01-0 ┆ 2.0       ┆ … ┆ 0.3       ┆ 21.95     ┆ 2.5       ┆ 0.0       │\n",
       "│          ┆ 1         ┆ 1         ┆           ┆   ┆           ┆           ┆           ┆           │\n",
       "│          ┆ 00:35:40  ┆ 00:53:29  ┆           ┆   ┆           ┆           ┆           ┆           │\n",
       "│ 1        ┆ 2022-01-0 ┆ 2022-01-0 ┆ 1.0       ┆ … ┆ 0.3       ┆ 13.3      ┆ 0.0       ┆ 0.0       │\n",
       "│          ┆ 1         ┆ 1         ┆           ┆   ┆           ┆           ┆           ┆           │\n",
       "│          ┆ 00:33:43  ┆ 00:42:07  ┆           ┆   ┆           ┆           ┆           ┆           │\n",
       "│ 2        ┆ 2022-01-0 ┆ 2022-01-0 ┆ 1.0       ┆ … ┆ 0.3       ┆ 10.56     ┆ 0.0       ┆ 0.0       │\n",
       "│          ┆ 1         ┆ 1         ┆           ┆   ┆           ┆           ┆           ┆           │\n",
       "│          ┆ 00:53:21  ┆ 01:02:19  ┆           ┆   ┆           ┆           ┆           ┆           │\n",
       "│ 2        ┆ 2022-01-0 ┆ 2022-01-0 ┆ 1.0       ┆ … ┆ 0.3       ┆ 11.8      ┆ 2.5       ┆ 0.0       │\n",
       "│          ┆ 1         ┆ 1         ┆           ┆   ┆           ┆           ┆           ┆           │\n",
       "│          ┆ 00:25:21  ┆ 00:35:23  ┆           ┆   ┆           ┆           ┆           ┆           │\n",
       "│ 2        ┆ 2022-01-0 ┆ 2022-01-0 ┆ 1.0       ┆ … ┆ 0.3       ┆ 30.3      ┆ 2.5       ┆ 0.0       │\n",
       "│          ┆ 1         ┆ 1         ┆           ┆   ┆           ┆           ┆           ┆           │\n",
       "│          ┆ 00:36:48  ┆ 01:14:20  ┆           ┆   ┆           ┆           ┆           ┆           │\n",
       "└──────────┴───────────┴───────────┴───────────┴───┴───────────┴───────────┴───────────┴───────────┘"
      ]
     },
     "execution_count": 111,
     "metadata": {},
     "output_type": "execute_result"
    }
   ],
   "source": [
    "dataset2 = pl.scan_parquet(f\"{data_path}/*.parquet\", allow_missing_columns=True)\n",
    "dataset2.collect().head(5)"
   ]
  },
  {
   "cell_type": "markdown",
   "metadata": {},
   "source": [
    "## on peut charger le data set en mémoire mais on préfère pas"
   ]
  },
  {
   "cell_type": "code",
   "execution_count": null,
   "metadata": {},
   "outputs": [],
   "source": [
    "# dataset = pl.read_parquet(f\"{data_path}/yellow_202201.parquet\")\n",
    "# dataset"
   ]
  },
  {
   "cell_type": "markdown",
   "metadata": {},
   "source": [
    "## sélectionner des colonnes "
   ]
  },
  {
   "cell_type": "code",
   "execution_count": null,
   "metadata": {},
   "outputs": [
    {
     "data": {
      "text/html": [
       "<div><style>\n",
       ".dataframe > thead > tr,\n",
       ".dataframe > tbody > tr {\n",
       "  text-align: right;\n",
       "  white-space: pre-wrap;\n",
       "}\n",
       "</style>\n",
       "<small>shape: (5, 2)</small><table border=\"1\" class=\"dataframe\"><thead><tr><th>VendorID</th><th>passenger_count</th></tr><tr><td>i64</td><td>f64</td></tr></thead><tbody><tr><td>1</td><td>2.0</td></tr><tr><td>1</td><td>1.0</td></tr><tr><td>2</td><td>1.0</td></tr><tr><td>2</td><td>1.0</td></tr><tr><td>2</td><td>1.0</td></tr></tbody></table></div>"
      ],
      "text/plain": [
       "shape: (5, 2)\n",
       "┌──────────┬─────────────────┐\n",
       "│ VendorID ┆ passenger_count │\n",
       "│ ---      ┆ ---             │\n",
       "│ i64      ┆ f64             │\n",
       "╞══════════╪═════════════════╡\n",
       "│ 1        ┆ 2.0             │\n",
       "│ 1        ┆ 1.0             │\n",
       "│ 2        ┆ 1.0             │\n",
       "│ 2        ┆ 1.0             │\n",
       "│ 2        ┆ 1.0             │\n",
       "└──────────┴─────────────────┘"
      ]
     },
     "execution_count": 98,
     "metadata": {},
     "output_type": "execute_result"
    }
   ],
   "source": [
    "dataset.select(\n",
    "    pl.col(\"VendorID\", \"passenger_count\"),\n",
    ").collect().head(5)"
   ]
  },
  {
   "cell_type": "markdown",
   "metadata": {},
   "source": [
    "### sans le **collect** on a le scan"
   ]
  },
  {
   "cell_type": "code",
   "execution_count": null,
   "metadata": {},
   "outputs": [],
   "source": [
    "dataset = dataset.select(\n",
    "    pl.col(\"passenger_count\").alias(\"count\"),\n",
    "    pl.col(pl.Float64),  # on affiche toutes les colones de type FLoat64\n",
    ")"
   ]
  },
  {
   "cell_type": "code",
   "execution_count": 100,
   "metadata": {},
   "outputs": [
    {
     "data": {
      "text/html": [
       "<div><style>\n",
       ".dataframe > thead > tr,\n",
       ".dataframe > tbody > tr {\n",
       "  text-align: right;\n",
       "  white-space: pre-wrap;\n",
       "}\n",
       "</style>\n",
       "<small>shape: (9, 14)</small><table border=\"1\" class=\"dataframe\"><thead><tr><th>statistic</th><th>count</th><th>passenger_count</th><th>trip_distance</th><th>RatecodeID</th><th>fare_amount</th><th>extra</th><th>mta_tax</th><th>tip_amount</th><th>tolls_amount</th><th>improvement_surcharge</th><th>total_amount</th><th>congestion_surcharge</th><th>airport_fee</th></tr><tr><td>str</td><td>f64</td><td>f64</td><td>f64</td><td>f64</td><td>f64</td><td>f64</td><td>f64</td><td>f64</td><td>f64</td><td>f64</td><td>f64</td><td>f64</td><td>f64</td></tr></thead><tbody><tr><td>&quot;count&quot;</td><td>2.392428e6</td><td>2.392428e6</td><td>2.463931e6</td><td>2.392428e6</td><td>2.463931e6</td><td>2.463931e6</td><td>2.463931e6</td><td>2.463931e6</td><td>2.463931e6</td><td>2.463931e6</td><td>2.463931e6</td><td>2.392428e6</td><td>2.392428e6</td></tr><tr><td>&quot;null_count&quot;</td><td>71503.0</td><td>71503.0</td><td>0.0</td><td>71503.0</td><td>0.0</td><td>0.0</td><td>0.0</td><td>0.0</td><td>0.0</td><td>0.0</td><td>0.0</td><td>71503.0</td><td>71503.0</td></tr><tr><td>&quot;mean&quot;</td><td>1.389453</td><td>1.389453</td><td>5.372751</td><td>1.415507</td><td>12.946484</td><td>1.00671</td><td>0.491454</td><td>2.385696</td><td>0.374977</td><td>0.296723</td><td>19.16937</td><td>2.282322</td><td>0.082499</td></tr><tr><td>&quot;std&quot;</td><td>0.982969</td><td>0.982969</td><td>547.871404</td><td>5.917573</td><td>255.814887</td><td>1.236226</td><td>0.082916</td><td>2.830698</td><td>1.680538</td><td>0.043747</td><td>255.964089</td><td>0.743204</td><td>0.312555</td></tr><tr><td>&quot;min&quot;</td><td>0.0</td><td>0.0</td><td>0.0</td><td>1.0</td><td>-480.0</td><td>-4.5</td><td>-0.5</td><td>-125.22</td><td>-31.4</td><td>-0.3</td><td>-480.3</td><td>-2.5</td><td>-1.25</td></tr><tr><td>&quot;25%&quot;</td><td>1.0</td><td>1.0</td><td>1.04</td><td>1.0</td><td>6.5</td><td>0.0</td><td>0.5</td><td>0.72</td><td>0.0</td><td>0.3</td><td>11.3</td><td>2.5</td><td>0.0</td></tr><tr><td>&quot;50%&quot;</td><td>1.0</td><td>1.0</td><td>1.74</td><td>1.0</td><td>9.0</td><td>0.5</td><td>0.5</td><td>2.0</td><td>0.0</td><td>0.3</td><td>14.69</td><td>2.5</td><td>0.0</td></tr><tr><td>&quot;75%&quot;</td><td>1.0</td><td>1.0</td><td>3.13</td><td>1.0</td><td>14.0</td><td>2.5</td><td>0.5</td><td>3.0</td><td>0.0</td><td>0.3</td><td>20.02</td><td>2.5</td><td>0.0</td></tr><tr><td>&quot;max&quot;</td><td>9.0</td><td>9.0</td><td>306159.28</td><td>99.0</td><td>401092.32</td><td>33.5</td><td>16.59</td><td>888.88</td><td>193.3</td><td>0.3</td><td>401095.62</td><td>2.5</td><td>1.25</td></tr></tbody></table></div>"
      ],
      "text/plain": [
       "shape: (9, 14)\n",
       "┌───────────┬───────────┬───────────┬───────────┬───┬───────────┬───────────┬───────────┬──────────┐\n",
       "│ statistic ┆ count     ┆ passenger ┆ trip_dist ┆ … ┆ improveme ┆ total_amo ┆ congestio ┆ airport_ │\n",
       "│ ---       ┆ ---       ┆ _count    ┆ ance      ┆   ┆ nt_surcha ┆ unt       ┆ n_surchar ┆ fee      │\n",
       "│ str       ┆ f64       ┆ ---       ┆ ---       ┆   ┆ rge       ┆ ---       ┆ ge        ┆ ---      │\n",
       "│           ┆           ┆ f64       ┆ f64       ┆   ┆ ---       ┆ f64       ┆ ---       ┆ f64      │\n",
       "│           ┆           ┆           ┆           ┆   ┆ f64       ┆           ┆ f64       ┆          │\n",
       "╞═══════════╪═══════════╪═══════════╪═══════════╪═══╪═══════════╪═══════════╪═══════════╪══════════╡\n",
       "│ count     ┆ 2.392428e ┆ 2.392428e ┆ 2.463931e ┆ … ┆ 2.463931e ┆ 2.463931e ┆ 2.392428e ┆ 2.392428 │\n",
       "│           ┆ 6         ┆ 6         ┆ 6         ┆   ┆ 6         ┆ 6         ┆ 6         ┆ e6       │\n",
       "│ null_coun ┆ 71503.0   ┆ 71503.0   ┆ 0.0       ┆ … ┆ 0.0       ┆ 0.0       ┆ 71503.0   ┆ 71503.0  │\n",
       "│ t         ┆           ┆           ┆           ┆   ┆           ┆           ┆           ┆          │\n",
       "│ mean      ┆ 1.389453  ┆ 1.389453  ┆ 5.372751  ┆ … ┆ 0.296723  ┆ 19.16937  ┆ 2.282322  ┆ 0.082499 │\n",
       "│ std       ┆ 0.982969  ┆ 0.982969  ┆ 547.87140 ┆ … ┆ 0.043747  ┆ 255.96408 ┆ 0.743204  ┆ 0.312555 │\n",
       "│           ┆           ┆           ┆ 4         ┆   ┆           ┆ 9         ┆           ┆          │\n",
       "│ min       ┆ 0.0       ┆ 0.0       ┆ 0.0       ┆ … ┆ -0.3      ┆ -480.3    ┆ -2.5      ┆ -1.25    │\n",
       "│ 25%       ┆ 1.0       ┆ 1.0       ┆ 1.04      ┆ … ┆ 0.3       ┆ 11.3      ┆ 2.5       ┆ 0.0      │\n",
       "│ 50%       ┆ 1.0       ┆ 1.0       ┆ 1.74      ┆ … ┆ 0.3       ┆ 14.69     ┆ 2.5       ┆ 0.0      │\n",
       "│ 75%       ┆ 1.0       ┆ 1.0       ┆ 3.13      ┆ … ┆ 0.3       ┆ 20.02     ┆ 2.5       ┆ 0.0      │\n",
       "│ max       ┆ 9.0       ┆ 9.0       ┆ 306159.28 ┆ … ┆ 0.3       ┆ 401095.62 ┆ 2.5       ┆ 1.25     │\n",
       "└───────────┴───────────┴───────────┴───────────┴───┴───────────┴───────────┴───────────┴──────────┘"
      ]
     },
     "execution_count": 100,
     "metadata": {},
     "output_type": "execute_result"
    }
   ],
   "source": [
    "dataset.describe()"
   ]
  },
  {
   "cell_type": "markdown",
   "metadata": {},
   "source": [
    "###  avec le **collect** on a les n ligne du **head**"
   ]
  },
  {
   "cell_type": "code",
   "execution_count": null,
   "metadata": {},
   "outputs": [
    {
     "ename": "DuplicateError",
     "evalue": "the name 'count' is duplicate\n\nIt's possible that multiple expressions are returning the same default column name. If this is the case, try renaming the columns with `.alias(\"new_name\")` to avoid duplicate column names.",
     "output_type": "error",
     "traceback": [
      "\u001b[1;31m---------------------------------------------------------------------------\u001b[0m",
      "\u001b[1;31mDuplicateError\u001b[0m                            Traceback (most recent call last)",
      "Cell \u001b[1;32mIn[101], line 4\u001b[0m\n\u001b[0;32m      1\u001b[0m \u001b[43mdataset\u001b[49m\u001b[38;5;241;43m.\u001b[39;49m\u001b[43mselect\u001b[49m\u001b[43m(\u001b[49m\n\u001b[0;32m      2\u001b[0m \u001b[43m    \u001b[49m\u001b[43mpl\u001b[49m\u001b[38;5;241;43m.\u001b[39;49m\u001b[43mcol\u001b[49m\u001b[43m(\u001b[49m\u001b[38;5;124;43m\"\u001b[39;49m\u001b[38;5;124;43mpassenger_count\u001b[39;49m\u001b[38;5;124;43m\"\u001b[39;49m\u001b[43m)\u001b[49m\u001b[38;5;241;43m.\u001b[39;49m\u001b[43malias\u001b[49m\u001b[43m(\u001b[49m\u001b[38;5;124;43m\"\u001b[39;49m\u001b[38;5;124;43mcount\u001b[39;49m\u001b[38;5;124;43m\"\u001b[39;49m\u001b[43m)\u001b[49m\u001b[43m,\u001b[49m\n\u001b[0;32m      3\u001b[0m \u001b[43m    \u001b[49m\u001b[43mpl\u001b[49m\u001b[38;5;241;43m.\u001b[39;49m\u001b[43mcol\u001b[49m\u001b[43m(\u001b[49m\u001b[43mpl\u001b[49m\u001b[38;5;241;43m.\u001b[39;49m\u001b[43mFloat64\u001b[49m\u001b[43m)\u001b[49m\u001b[43m,\u001b[49m\u001b[43m  \u001b[49m\u001b[38;5;66;43;03m# on affiche toutes les colones de type FLoat64\u001b[39;49;00m\n\u001b[1;32m----> 4\u001b[0m \u001b[43m)\u001b[49m\u001b[38;5;241;43m.\u001b[39;49m\u001b[43mcollect\u001b[49m\u001b[43m(\u001b[49m\u001b[43m)\u001b[49m\u001b[38;5;241m.\u001b[39mhead(\u001b[38;5;241m5\u001b[39m)\n",
      "File \u001b[1;32mc:\\Python312\\Lib\\site-packages\\polars\\lazyframe\\frame.py:2065\u001b[0m, in \u001b[0;36mLazyFrame.collect\u001b[1;34m(self, type_coercion, _type_check, predicate_pushdown, projection_pushdown, simplify_expression, slice_pushdown, comm_subplan_elim, comm_subexpr_elim, cluster_with_columns, collapse_joins, no_optimization, streaming, engine, background, _check_order, _eager, **_kwargs)\u001b[0m\n\u001b[0;32m   2063\u001b[0m \u001b[38;5;66;03m# Only for testing purposes\u001b[39;00m\n\u001b[0;32m   2064\u001b[0m callback \u001b[38;5;241m=\u001b[39m _kwargs\u001b[38;5;241m.\u001b[39mget(\u001b[38;5;124m\"\u001b[39m\u001b[38;5;124mpost_opt_callback\u001b[39m\u001b[38;5;124m\"\u001b[39m, callback)\n\u001b[1;32m-> 2065\u001b[0m \u001b[38;5;28;01mreturn\u001b[39;00m wrap_df(\u001b[43mldf\u001b[49m\u001b[38;5;241;43m.\u001b[39;49m\u001b[43mcollect\u001b[49m\u001b[43m(\u001b[49m\u001b[43mcallback\u001b[49m\u001b[43m)\u001b[49m)\n",
      "\u001b[1;31mDuplicateError\u001b[0m: the name 'count' is duplicate\n\nIt's possible that multiple expressions are returning the same default column name. If this is the case, try renaming the columns with `.alias(\"new_name\")` to avoid duplicate column names."
     ]
    }
   ],
   "source": [
    "dataset.select(\n",
    "    pl.col(\"passenger_count\").alias(\"count\"),\n",
    "    pl.col(pl.Float64),  # on affiche toutes les colones de type FLoat64\n",
    ").collect().head(5)"
   ]
  },
  {
   "cell_type": "markdown",
   "metadata": {},
   "source": [
    "### on a l'équivalent du **dtypes** de pandas avec le **schema**"
   ]
  },
  {
   "cell_type": "code",
   "execution_count": null,
   "metadata": {},
   "outputs": [
    {
     "name": "stderr",
     "output_type": "stream",
     "text": [
      "C:\\Users\\thoma\\AppData\\Local\\Temp\\ipykernel_22452\\985804488.py:4: PerformanceWarning: Resolving the schema of a LazyFrame is a potentially expensive operation. Use `LazyFrame.collect_schema()` to get the schema without this warning.\n",
      "  ).schema\n"
     ]
    },
    {
     "data": {
      "text/plain": [
       "Schema([('count', Float64),\n",
       "        ('passenger_count', Float64),\n",
       "        ('trip_distance', Float64),\n",
       "        ('RatecodeID', Float64),\n",
       "        ('fare_amount', Float64),\n",
       "        ('extra', Float64),\n",
       "        ('mta_tax', Float64),\n",
       "        ('tip_amount', Float64),\n",
       "        ('tolls_amount', Float64),\n",
       "        ('improvement_surcharge', Float64),\n",
       "        ('total_amount', Float64),\n",
       "        ('congestion_surcharge', Float64),\n",
       "        ('airport_fee', Float64)])"
      ]
     },
     "execution_count": 35,
     "metadata": {},
     "output_type": "execute_result"
    }
   ],
   "source": [
    "dataset.select(\n",
    "    pl.col(\"passenger_count\").alias(\"count\"),\n",
    "    pl.col(pl.Float64),  # on affiche toutes les colones de type FLoat64\n",
    ").schema"
   ]
  },
  {
   "cell_type": "markdown",
   "metadata": {},
   "source": [
    "### on peut appliquer des filtres & (and) | (or)"
   ]
  },
  {
   "cell_type": "code",
   "execution_count": null,
   "metadata": {},
   "outputs": [
    {
     "data": {
      "text/html": [
       "<div><style>\n",
       ".dataframe > thead > tr,\n",
       ".dataframe > tbody > tr {\n",
       "  text-align: right;\n",
       "  white-space: pre-wrap;\n",
       "}\n",
       "</style>\n",
       "<small>shape: (5, 16)</small><table border=\"1\" class=\"dataframe\"><thead><tr><th>passenger_count</th><th>trip_distance</th><th>RatecodeID</th><th>fare_amount</th><th>extra</th><th>mta_tax</th><th>tip_amount</th><th>tolls_amount</th><th>improvement_surcharge</th><th>total_amount</th><th>congestion_surcharge</th><th>airport_fee</th><th>VendorID</th><th>PULocationID</th><th>DOLocationID</th><th>payment_type</th></tr><tr><td>f64</td><td>f64</td><td>f64</td><td>f64</td><td>f64</td><td>f64</td><td>f64</td><td>f64</td><td>f64</td><td>f64</td><td>f64</td><td>f64</td><td>i64</td><td>i64</td><td>i64</td><td>i64</td></tr></thead><tbody><tr><td>2.0</td><td>3.8</td><td>1.0</td><td>14.5</td><td>3.0</td><td>0.5</td><td>3.65</td><td>0.0</td><td>0.3</td><td>21.95</td><td>2.5</td><td>0.0</td><td>1</td><td>142</td><td>236</td><td>1</td></tr><tr><td>1.0</td><td>2.1</td><td>1.0</td><td>8.0</td><td>0.5</td><td>0.5</td><td>4.0</td><td>0.0</td><td>0.3</td><td>13.3</td><td>0.0</td><td>0.0</td><td>1</td><td>236</td><td>42</td><td>1</td></tr><tr><td>1.0</td><td>0.97</td><td>1.0</td><td>7.5</td><td>0.5</td><td>0.5</td><td>1.76</td><td>0.0</td><td>0.3</td><td>10.56</td><td>0.0</td><td>0.0</td><td>2</td><td>166</td><td>166</td><td>1</td></tr><tr><td>1.0</td><td>1.09</td><td>1.0</td><td>8.0</td><td>0.5</td><td>0.5</td><td>0.0</td><td>0.0</td><td>0.3</td><td>11.8</td><td>2.5</td><td>0.0</td><td>2</td><td>114</td><td>68</td><td>2</td></tr><tr><td>1.0</td><td>4.3</td><td>1.0</td><td>23.5</td><td>0.5</td><td>0.5</td><td>3.0</td><td>0.0</td><td>0.3</td><td>30.3</td><td>2.5</td><td>0.0</td><td>2</td><td>68</td><td>163</td><td>1</td></tr></tbody></table></div>"
      ],
      "text/plain": [
       "shape: (5, 16)\n",
       "┌───────────┬───────────┬───────────┬───────────┬───┬──────────┬───────────┬───────────┬───────────┐\n",
       "│ passenger ┆ trip_dist ┆ RatecodeI ┆ fare_amou ┆ … ┆ VendorID ┆ PULocatio ┆ DOLocatio ┆ payment_t │\n",
       "│ _count    ┆ ance      ┆ D         ┆ nt        ┆   ┆ ---      ┆ nID       ┆ nID       ┆ ype       │\n",
       "│ ---       ┆ ---       ┆ ---       ┆ ---       ┆   ┆ i64      ┆ ---       ┆ ---       ┆ ---       │\n",
       "│ f64       ┆ f64       ┆ f64       ┆ f64       ┆   ┆          ┆ i64       ┆ i64       ┆ i64       │\n",
       "╞═══════════╪═══════════╪═══════════╪═══════════╪═══╪══════════╪═══════════╪═══════════╪═══════════╡\n",
       "│ 2.0       ┆ 3.8       ┆ 1.0       ┆ 14.5      ┆ … ┆ 1        ┆ 142       ┆ 236       ┆ 1         │\n",
       "│ 1.0       ┆ 2.1       ┆ 1.0       ┆ 8.0       ┆ … ┆ 1        ┆ 236       ┆ 42        ┆ 1         │\n",
       "│ 1.0       ┆ 0.97      ┆ 1.0       ┆ 7.5       ┆ … ┆ 2        ┆ 166       ┆ 166       ┆ 1         │\n",
       "│ 1.0       ┆ 1.09      ┆ 1.0       ┆ 8.0       ┆ … ┆ 2        ┆ 114       ┆ 68        ┆ 2         │\n",
       "│ 1.0       ┆ 4.3       ┆ 1.0       ┆ 23.5      ┆ … ┆ 2        ┆ 68        ┆ 163       ┆ 1         │\n",
       "└───────────┴───────────┴───────────┴───────────┴───┴──────────┴───────────┴───────────┴───────────┘"
      ]
     },
     "execution_count": 112,
     "metadata": {},
     "output_type": "execute_result"
    }
   ],
   "source": [
    "dataset2.select(pl.col(pl.Float64), pl.col(pl.Int64)).filter(\n",
    "    (pl.col(\"passenger_count\") > 1) & (pl.col(\"total_amount\") < 20)\n",
    "    | pl.col(\"payment_type\").is_in([1, 2])\n",
    "    | (pl.col(\"passenger_count\").is_null())\n",
    ").collect().head(5)"
   ]
  },
  {
   "cell_type": "markdown",
   "metadata": {},
   "source": [
    "## ajouter des colonnes\n",
    "1) on peut le faire dans le select  avec une **variable** ou un **alias**\n",
    "2) on peut le faire avec le **.with_columns** "
   ]
  },
  {
   "cell_type": "code",
   "execution_count": null,
   "metadata": {},
   "outputs": [],
   "source": [
    "tmp = (\n",
    "    dataset2.select(\n",
    "        pl.col(pl.Float64),\n",
    "        pl.col(pl.Int64),\n",
    "        # price_miles=pl.col(\"total_amount\")/ pl.col(\"trip_distance\"),  # on crée une nouvelle colonnes price_miles\n",
    "        # (pl.col('total_amount')/pl.col('trip_distance')).alias('price_miles2')\n",
    "    )\n",
    "    .filter(\n",
    "        (pl.col(\"passenger_count\") > 1) & (pl.col(\"total_amount\") < 20)\n",
    "        | pl.col(\"payment_type\").is_in([1, 2])\n",
    "        | (pl.col(\"passenger_count\").is_null())\n",
    "    )\n",
    "    .with_columns(price_miles2=pl.col(\"total_amount\") / pl.col(\"trip_distance\"))\n",
    ")"
   ]
  },
  {
   "cell_type": "code",
   "execution_count": null,
   "metadata": {},
   "outputs": [
    {
     "data": {
      "text/html": [
       "<div><style>\n",
       ".dataframe > thead > tr,\n",
       ".dataframe > tbody > tr {\n",
       "  text-align: right;\n",
       "  white-space: pre-wrap;\n",
       "}\n",
       "</style>\n",
       "<small>shape: (1, 2)</small><table border=\"1\" class=\"dataframe\"><thead><tr><th>price_miles2</th><th>passenger_count</th></tr><tr><td>f64</td><td>f64</td></tr></thead><tbody><tr><td>12.923205</td><td>1.404722</td></tr></tbody></table></div>"
      ],
      "text/plain": [
       "shape: (1, 2)\n",
       "┌──────────────┬─────────────────┐\n",
       "│ price_miles2 ┆ passenger_count │\n",
       "│ ---          ┆ ---             │\n",
       "│ f64          ┆ f64             │\n",
       "╞══════════════╪═════════════════╡\n",
       "│ 12.923205    ┆ 1.404722        │\n",
       "└──────────────┴─────────────────┘"
      ]
     },
     "execution_count": 127,
     "metadata": {},
     "output_type": "execute_result"
    }
   ],
   "source": [
    "# tmp.select(\n",
    "#     pl.col(\"total_amount\", \"trip_distance\", \"price_miles2\").filter(\n",
    "#         pl.col(\"price_miles2\").is_null() | pl.col(\"price_miles2\").is_nan() #on regarde s'il y a des null ou nan pour price_miles2\n",
    "#     )\n",
    "# ).collect().head(5)\n",
    "\n",
    "tmp.select(\n",
    "    pl.col(\"price_miles2\").filter(pl.col(\"trip_distance\") > 0).mean(),\n",
    "    pl.col(\"passenger_count\").mean(),\n",
    ").collect()"
   ]
  },
  {
   "cell_type": "markdown",
   "metadata": {},
   "source": [
    "### clause conditionnelle **when** / **then** / **otherwise**"
   ]
  },
  {
   "cell_type": "code",
   "execution_count": null,
   "metadata": {},
   "outputs": [
    {
     "data": {
      "text/html": [
       "<i>naive plan: (run <b>LazyFrame.explain(optimized=True)</b> to see the optimized plan)</i>\n",
       "    <p></p>\n",
       "    <div> WITH_COLUMNS:<p></p> [col(\"total_amount\").strict_cast(Float32), col(\"congestion_surcharge\").strict_cast(Float32), col(\"price_miles2\").strict_cast(Float32), col(\"PULocationID\").strict_cast(Int32), col(\"extra\").strict_cast(Float32), col(\"DOLocationID\").strict_cast(Int32), col(\"tolls_amount\").strict_cast(Float32), col(\"airport_fee\").strict_cast(Float32), col(\"RatecodeID\").strict_cast(Float32), col(\"mta_tax\").strict_cast(Float32), col(\"trip_distance\").strict_cast(Float32), col(\"payment_type\").strict_cast(Int32), col(\"improvement_surcharge\").strict_cast(Float32), col(\"VendorID\").strict_cast(Int32), col(\"tip_amount\").strict_cast(Float32), col(\"passenger_count\").strict_cast(Float32), col(\"fare_amount\").strict_cast(Float32)] <p></p>   WITH_COLUMNS:<p></p>   [when([(col(\"payment_type\")) == (1)]).then(String(cash)).otherwise(when([(col(\"payment_type\")) == (2)]).then(String(credit)).otherwise(col(\"payment_type\").strict_cast(String))).alias(\"payment_method\")] <p></p>     WITH_COLUMNS:<p></p>     [[(col(\"total_amount\")) / (col(\"trip_distance\"))].alias(\"price_miles2\")] <p></p>      FILTER [([([([([(col(\"passenger_count\")) > (1.0)]) & ([(col(\"total_amount\")) < (20.0)])]) & ([(col(\"trip_distance\")) > (0.0)])]) | (col(\"payment_type\").is_in([Series]))]) | (col(\"passenger_count\").is_null())] FROM<p></p>         SELECT [col(\"passenger_count\"), col(\"trip_distance\"), col(\"RatecodeID\"), col(\"fare_amount\"), col(\"extra\"), col(\"mta_tax\"), col(\"tip_amount\"), col(\"tolls_amount\"), col(\"improvement_surcharge\"), col(\"total_amount\"), col(\"congestion_surcharge\"), col(\"airport_fee\"), col(\"VendorID\"), col(\"PULocationID\"), col(\"DOLocationID\"), col(\"payment_type\")] FROM<p></p>          Parquet SCAN [data\\2022\\yellow_202201.parquet, ... 11 other sources]<p></p>          PROJECT */19 COLUMNS</div>"
      ],
      "text/plain": [
       "<LazyFrame at 0x1F9329E3E90>"
      ]
     },
     "execution_count": 130,
     "metadata": {},
     "output_type": "execute_result"
    }
   ],
   "source": [
    "tmp.with_columns(\n",
    "    payment_method=pl.when(pl.col(\"payment_type\") == 1)\n",
    "    .then(pl.lit(\"cash\"))\n",
    "    .when(pl.col(\"payment_type\") == 2)\n",
    "    .then(pl.lit(\"credit\"))\n",
    "    .otherwise(pl.col(\"payment_type\"))\n",
    ").cast({pl.Int64: pl.Int32, pl.Float64: pl.Float32})"
   ]
  },
  {
   "cell_type": "markdown",
   "metadata": {},
   "source": [
    "### **cast** de type "
   ]
  },
  {
   "cell_type": "code",
   "execution_count": null,
   "metadata": {},
   "outputs": [],
   "source": [
    "# .cast({pl.Int64: pl.Int32, pl.Float64: pl.Float32})"
   ]
  }
 ],
 "metadata": {
  "kernelspec": {
   "display_name": "Python 3",
   "language": "python",
   "name": "python3"
  },
  "language_info": {
   "codemirror_mode": {
    "name": "ipython",
    "version": 3
   },
   "file_extension": ".py",
   "mimetype": "text/x-python",
   "name": "python",
   "nbconvert_exporter": "python",
   "pygments_lexer": "ipython3",
   "version": "3.12.2"
  }
 },
 "nbformat": 4,
 "nbformat_minor": 2
}
