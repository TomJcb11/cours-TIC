{
 "cells": [
  {
   "cell_type": "markdown",
   "metadata": {},
   "source": [
    "## 1. MinMaxScaler\n",
    "### Formule :\n",
    "$$ z = \\frac{x - x_{min}}{x_{max} - x_{min}} $$\n",
    "- **x** : valeur d'une caractéristique\n",
    "- **x_min, x_max** : valeurs minimale et maximale de la caractéristique.\n",
    "\n",
    "### Description :\n",
    "Le **MinMaxScaler** transforme les données pour les ramener dans une plage définie, par défaut entre [0, 1].\n",
    "\n",
    "### Cas d'utilisation :\n",
    "- Pour les modèles où les données doivent être bornées dans une plage spécifique (ex. réseaux neuronaux, visualisation).\n",
    "- Utile quand vous souhaitez préserver la forme de la distribution (les proportions sont conservées).\n",
    "\n",
    "---"
   ]
  },
  {
   "cell_type": "code",
   "execution_count": null,
   "metadata": {},
   "outputs": [],
   "source": []
  },
  {
   "cell_type": "markdown",
   "metadata": {},
   "source": [
    "## 2. RobustScaler\n",
    "### Formule :\n",
    "$$ z = \\frac{x - Median}{Q3 - Q1} $$\n",
    "- **x** : valeur d'une caractéristique\n",
    "- **Median** : médiane de la distribution\n",
    "- **Q1, Q3** : premier et troisième quartiles (médianes des moitiés inférieure et supérieure).\n",
    "\n",
    "### Description :\n",
    "Le **RobustScaler** standardise les données en les centrant par la médiane et en les mettant à l'échelle par l'écart interquartile (IQR). Cela le rend robuste aux **valeurs aberrantes**.\n",
    "\n",
    "### Cas d'utilisation :\n",
    "- Quand les données contiennent des **outliers** (valeurs extrêmes).\n",
    "- Adapté pour des algorithmes sensibles aux données non standardisées et avec des valeurs aberrantes.\n"
   ]
  },
  {
   "cell_type": "code",
   "execution_count": null,
   "metadata": {},
   "outputs": [],
   "source": []
  },
  {
   "cell_type": "markdown",
   "metadata": {},
   "source": [
    "## 3. StandardScaler\n",
    "### Formule :\n",
    "$$ z = \\frac{x - \\mu}{\\sigma} $$\n",
    "- **x** : valeur d'une caractéristique\n",
    "- **μ** : moyenne de la caractéristique\n",
    "- **σ** : écart-type de la caractéristique\n",
    "\n",
    "### Description :\n",
    "Le **StandardScaler** transforme les données pour qu'elles suivent une distribution normale centrée, avec une moyenne de 0 et un écart-type de 1.\n",
    "\n",
    "### Cas d'utilisation :\n",
    "- Quand vos données suivent une distribution normale ou presque normale.\n",
    "- Recommandé pour les algorithmes basés sur les distances (ex. SVM, KNN, Régression logistique).\n",
    "\n",
    "---"
   ]
  },
  {
   "cell_type": "code",
   "execution_count": null,
   "metadata": {},
   "outputs": [],
   "source": []
  },
  {
   "cell_type": "markdown",
   "metadata": {},
   "source": [
    "## OneHotEncoder\n",
    "\n",
    "Le OneHotEncoder est un encodeur qui transforme des variables catégorielles en une représentation binaire. Chaque catégorie unique est convertie en un vecteur contenant un seul 1 (true) et des 0 (false) ailleurs.\n",
    "Fonctionnement :\n",
    "\n",
    "    Identifie les catégories uniques.\n",
    "    Associe chaque catégorie à une colonne distincte.\n",
    "    Encode chaque valeur avec un vecteur binaire."
   ]
  },
  {
   "cell_type": "code",
   "execution_count": null,
   "metadata": {},
   "outputs": [],
   "source": []
  },
  {
   "cell_type": "markdown",
   "metadata": {},
   "source": [
    "## OrdinalEncoder\n",
    "\n",
    "L'OrdinalEncoder transforme des variables catégorielles en valeurs numériques ordonnées. Chaque catégorie unique est associée à un entier, en fonction de son ordre d'apparition ou d'un ordre défini manuellement.\n",
    "Fonctionnement :\n",
    "\n",
    "    Identifie les catégories uniques.\n",
    "    Associe un entier unique à chaque catégorie (ex: 0, 1, 2, ...).\n",
    "    Remplace chaque valeur catégorielle par son code numérique."
   ]
  },
  {
   "cell_type": "code",
   "execution_count": null,
   "metadata": {},
   "outputs": [],
   "source": []
  }
 ],
 "metadata": {
  "kernelspec": {
   "display_name": "Condaenv",
   "language": "python",
   "name": "python3"
  },
  "language_info": {
   "name": "python",
   "version": "3.12.4"
  }
 },
 "nbformat": 4,
 "nbformat_minor": 2
}
