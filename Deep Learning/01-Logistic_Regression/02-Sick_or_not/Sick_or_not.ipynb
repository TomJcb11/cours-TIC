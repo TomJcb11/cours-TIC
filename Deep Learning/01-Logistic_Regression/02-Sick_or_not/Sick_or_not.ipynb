{
 "cells": [
  {
   "cell_type": "markdown",
   "metadata": {},
   "source": [
    "# Sick or not ?\n",
    "\n",
    "Neural networks are also used and work very well on more traditional data sets than images. Here is a set of data that contains a column with the white blood cell rate, another with the red blood cell rate and a last one with an indication of who is sick or not. (Not sick = 0, sick = 1)\n",
    "\n",
    "The (fictionals) dataset is located in the dataset folder, here is the path :  \n",
    "\n",
    "``\"./dataset/sick_or_not.csv\"`` \n",
    "\n",
    "Rows : 40000\n",
    "\n",
    "## Your task:\n",
    "\n",
    "Design a model that recognizes if the person is sick based on white and red blood cells.  \n",
    "Use neural networks to perform this task. \n",
    "\n",
    "![](https://d418bv7mr3wfv.cloudfront.net/s3/W1siZiIsIjIwMTcvMDUvMzAvMDYvNTMvNTcvODk3L2dpcmwtMjE3MTA1Ml85NjBfNzIwLmpwZyJdLFsicCIsInRodW1iIiwiOTgweDU4MCMiXV0)"
   ]
  },
  {
   "cell_type": "markdown",
   "metadata": {},
   "source": [
    "### Score to beat :\n",
    "Accuracy: **% 96.025**  \n",
    "Loss : **0.1151**  \n",
    "Epochs : **40**  \n",
    "That means that out of **8000** test samples, this model got **7682** correct and **318** incorrect."
   ]
  },
  {
   "cell_type": "code",
   "execution_count": 2,
   "metadata": {},
   "outputs": [],
   "source": [
    "import pandas as pd\n",
    "from sklearn.model_selection import train_test_split"
   ]
  },
  {
   "cell_type": "code",
   "execution_count": 3,
   "metadata": {},
   "outputs": [
    {
     "data": {
      "application/vnd.microsoft.datawrangler.viewer.v0+json": {
       "columns": [
        {
         "name": "index",
         "rawType": "int64",
         "type": "integer"
        },
        {
         "name": "white_blood_cell",
         "rawType": "float64",
         "type": "float"
        },
        {
         "name": "red_blood_cell",
         "rawType": "float64",
         "type": "float"
        },
        {
         "name": "sick",
         "rawType": "float64",
         "type": "float"
        }
       ],
       "conversionMethod": "pd.DataFrame",
       "ref": "8afac91a-7674-4ad4-b0b9-a663ee7198ea",
       "rows": [
        [
         "0",
         "1.1780282895195011",
         "0.4643154056575322",
         "0.0"
        ],
        [
         "1",
         "0.844174768033688",
         "2.4403507123889767",
         "0.0"
        ],
        [
         "2",
         "2.878409306308704",
         "-1.4381235296418606",
         "1.0"
        ],
        [
         "3",
         "-0.0575208560756135",
         "2.0549279199809307",
         "1.0"
        ],
        [
         "4",
         "-1.2325998694912528",
         "-2.7228046944927304",
         "0.0"
        ]
       ],
       "shape": {
        "columns": 3,
        "rows": 5
       }
      },
      "text/html": [
       "<div>\n",
       "<style scoped>\n",
       "    .dataframe tbody tr th:only-of-type {\n",
       "        vertical-align: middle;\n",
       "    }\n",
       "\n",
       "    .dataframe tbody tr th {\n",
       "        vertical-align: top;\n",
       "    }\n",
       "\n",
       "    .dataframe thead th {\n",
       "        text-align: right;\n",
       "    }\n",
       "</style>\n",
       "<table border=\"1\" class=\"dataframe\">\n",
       "  <thead>\n",
       "    <tr style=\"text-align: right;\">\n",
       "      <th></th>\n",
       "      <th>white_blood_cell</th>\n",
       "      <th>red_blood_cell</th>\n",
       "      <th>sick</th>\n",
       "    </tr>\n",
       "  </thead>\n",
       "  <tbody>\n",
       "    <tr>\n",
       "      <th>0</th>\n",
       "      <td>1.178028</td>\n",
       "      <td>0.464315</td>\n",
       "      <td>0.0</td>\n",
       "    </tr>\n",
       "    <tr>\n",
       "      <th>1</th>\n",
       "      <td>0.844175</td>\n",
       "      <td>2.440351</td>\n",
       "      <td>0.0</td>\n",
       "    </tr>\n",
       "    <tr>\n",
       "      <th>2</th>\n",
       "      <td>2.878409</td>\n",
       "      <td>-1.438124</td>\n",
       "      <td>1.0</td>\n",
       "    </tr>\n",
       "    <tr>\n",
       "      <th>3</th>\n",
       "      <td>-0.057521</td>\n",
       "      <td>2.054928</td>\n",
       "      <td>1.0</td>\n",
       "    </tr>\n",
       "    <tr>\n",
       "      <th>4</th>\n",
       "      <td>-1.232600</td>\n",
       "      <td>-2.722805</td>\n",
       "      <td>0.0</td>\n",
       "    </tr>\n",
       "  </tbody>\n",
       "</table>\n",
       "</div>"
      ],
      "text/plain": [
       "   white_blood_cell  red_blood_cell  sick\n",
       "0          1.178028        0.464315   0.0\n",
       "1          0.844175        2.440351   0.0\n",
       "2          2.878409       -1.438124   1.0\n",
       "3         -0.057521        2.054928   1.0\n",
       "4         -1.232600       -2.722805   0.0"
      ]
     },
     "execution_count": 3,
     "metadata": {},
     "output_type": "execute_result"
    }
   ],
   "source": [
    "# import dataset in variable df\n",
    "\n",
    "url = \"./dataset/sick_or_not.csv\"\n",
    "df = pd.read_csv(url)\n",
    "\n",
    "df.head()"
   ]
  },
  {
   "cell_type": "code",
   "execution_count": null,
   "metadata": {},
   "outputs": [
    {
     "data": {
      "application/vnd.microsoft.datawrangler.viewer.v0+json": {
       "columns": [
        {
         "name": "index",
         "rawType": "int64",
         "type": "integer"
        },
        {
         "name": "white_blood_cell",
         "rawType": "float64",
         "type": "float"
        },
        {
         "name": "red_blood_cell",
         "rawType": "float64",
         "type": "float"
        },
        {
         "name": "sick",
         "rawType": "float64",
         "type": "float"
        }
       ],
       "conversionMethod": "pd.DataFrame",
       "ref": "a1d8245b-c0ee-4f07-a63c-911992af4ceb",
       "rows": [
        [
         "39990",
         "0.1784450745020973",
         "3.025230043722116",
         "1.0"
        ],
        [
         "39991",
         "2.6817466257700224",
         "0.3001914285082565",
         "0.0"
        ],
        [
         "39992",
         "-1.1307549046003882",
         "-2.7271387187834093",
         "0.0"
        ],
        [
         "39993",
         "1.7880467856713076",
         "-1.1718220707253852",
         "1.0"
        ],
        [
         "39994",
         "-1.042972867742395",
         "-0.5308668833577137",
         "1.0"
        ],
        [
         "39995",
         "-2.6417171881383283",
         "2.3562348933861204",
         "1.0"
        ],
        [
         "39996",
         "3.675736570312632",
         "2.9562993475706483",
         "0.0"
        ],
        [
         "39997",
         "-2.1923195240343696",
         "-3.35627246966114",
         "0.0"
        ],
        [
         "39998",
         "3.1009800248369865",
         "-2.5613968434306567",
         "1.0"
        ],
        [
         "39999",
         "-1.6053968884413332",
         "2.6809714525393016",
         "1.0"
        ]
       ],
       "shape": {
        "columns": 3,
        "rows": 10
       }
      },
      "text/html": [
       "<div>\n",
       "<style scoped>\n",
       "    .dataframe tbody tr th:only-of-type {\n",
       "        vertical-align: middle;\n",
       "    }\n",
       "\n",
       "    .dataframe tbody tr th {\n",
       "        vertical-align: top;\n",
       "    }\n",
       "\n",
       "    .dataframe thead th {\n",
       "        text-align: right;\n",
       "    }\n",
       "</style>\n",
       "<table border=\"1\" class=\"dataframe\">\n",
       "  <thead>\n",
       "    <tr style=\"text-align: right;\">\n",
       "      <th></th>\n",
       "      <th>white_blood_cell</th>\n",
       "      <th>red_blood_cell</th>\n",
       "      <th>sick</th>\n",
       "    </tr>\n",
       "  </thead>\n",
       "  <tbody>\n",
       "    <tr>\n",
       "      <th>39990</th>\n",
       "      <td>0.178445</td>\n",
       "      <td>3.025230</td>\n",
       "      <td>1.0</td>\n",
       "    </tr>\n",
       "    <tr>\n",
       "      <th>39991</th>\n",
       "      <td>2.681747</td>\n",
       "      <td>0.300191</td>\n",
       "      <td>0.0</td>\n",
       "    </tr>\n",
       "    <tr>\n",
       "      <th>39992</th>\n",
       "      <td>-1.130755</td>\n",
       "      <td>-2.727139</td>\n",
       "      <td>0.0</td>\n",
       "    </tr>\n",
       "    <tr>\n",
       "      <th>39993</th>\n",
       "      <td>1.788047</td>\n",
       "      <td>-1.171822</td>\n",
       "      <td>1.0</td>\n",
       "    </tr>\n",
       "    <tr>\n",
       "      <th>39994</th>\n",
       "      <td>-1.042973</td>\n",
       "      <td>-0.530867</td>\n",
       "      <td>1.0</td>\n",
       "    </tr>\n",
       "    <tr>\n",
       "      <th>39995</th>\n",
       "      <td>-2.641717</td>\n",
       "      <td>2.356235</td>\n",
       "      <td>1.0</td>\n",
       "    </tr>\n",
       "    <tr>\n",
       "      <th>39996</th>\n",
       "      <td>3.675737</td>\n",
       "      <td>2.956299</td>\n",
       "      <td>0.0</td>\n",
       "    </tr>\n",
       "    <tr>\n",
       "      <th>39997</th>\n",
       "      <td>-2.192320</td>\n",
       "      <td>-3.356272</td>\n",
       "      <td>0.0</td>\n",
       "    </tr>\n",
       "    <tr>\n",
       "      <th>39998</th>\n",
       "      <td>3.100980</td>\n",
       "      <td>-2.561397</td>\n",
       "      <td>1.0</td>\n",
       "    </tr>\n",
       "    <tr>\n",
       "      <th>39999</th>\n",
       "      <td>-1.605397</td>\n",
       "      <td>2.680971</td>\n",
       "      <td>1.0</td>\n",
       "    </tr>\n",
       "  </tbody>\n",
       "</table>\n",
       "</div>"
      ],
      "text/plain": [
       "       white_blood_cell  red_blood_cell  sick\n",
       "39990          0.178445        3.025230   1.0\n",
       "39991          2.681747        0.300191   0.0\n",
       "39992         -1.130755       -2.727139   0.0\n",
       "39993          1.788047       -1.171822   1.0\n",
       "39994         -1.042973       -0.530867   1.0\n",
       "39995         -2.641717        2.356235   1.0\n",
       "39996          3.675737        2.956299   0.0\n",
       "39997         -2.192320       -3.356272   0.0\n",
       "39998          3.100980       -2.561397   1.0\n",
       "39999         -1.605397        2.680971   1.0"
      ]
     },
     "execution_count": 4,
     "metadata": {},
     "output_type": "execute_result"
    }
   ],
   "source": [
    "df.tail(10)"
   ]
  },
  {
   "cell_type": "code",
   "execution_count": 5,
   "metadata": {},
   "outputs": [
    {
     "data": {
      "application/vnd.microsoft.datawrangler.viewer.v0+json": {
       "columns": [
        {
         "name": "index",
         "rawType": "object",
         "type": "string"
        },
        {
         "name": "white_blood_cell",
         "rawType": "float64",
         "type": "float"
        },
        {
         "name": "red_blood_cell",
         "rawType": "float64",
         "type": "float"
        },
        {
         "name": "sick",
         "rawType": "float64",
         "type": "float"
        }
       ],
       "conversionMethod": "pd.DataFrame",
       "ref": "81cea4f2-b446-482f-a279-d1a4d16f2cb6",
       "rows": [
        [
         "count",
         "40000.0",
         "40000.0",
         "40000.0"
        ],
        [
         "mean",
         "-0.004351365855189896",
         "-0.0073238280528398775",
         "0.5"
        ],
        [
         "std",
         "2.229326196133116",
         "2.2357590631784086",
         "0.5000062501171899"
        ],
        [
         "min",
         "-5.8347236180524265",
         "-5.781231565716793",
         "0.0"
        ],
        [
         "25%",
         "-1.9956446643573695",
         "-2.0130003141532695",
         "0.0"
        ],
        [
         "50%",
         "0.00448482043449175",
         "-0.01453996356692805",
         "0.5"
        ],
        [
         "75%",
         "1.9837526786384059",
         "1.9854507915313668",
         "1.0"
        ],
        [
         "max",
         "5.541180853778813",
         "5.947922122079272",
         "1.0"
        ]
       ],
       "shape": {
        "columns": 3,
        "rows": 8
       }
      },
      "text/html": [
       "<div>\n",
       "<style scoped>\n",
       "    .dataframe tbody tr th:only-of-type {\n",
       "        vertical-align: middle;\n",
       "    }\n",
       "\n",
       "    .dataframe tbody tr th {\n",
       "        vertical-align: top;\n",
       "    }\n",
       "\n",
       "    .dataframe thead th {\n",
       "        text-align: right;\n",
       "    }\n",
       "</style>\n",
       "<table border=\"1\" class=\"dataframe\">\n",
       "  <thead>\n",
       "    <tr style=\"text-align: right;\">\n",
       "      <th></th>\n",
       "      <th>white_blood_cell</th>\n",
       "      <th>red_blood_cell</th>\n",
       "      <th>sick</th>\n",
       "    </tr>\n",
       "  </thead>\n",
       "  <tbody>\n",
       "    <tr>\n",
       "      <th>count</th>\n",
       "      <td>40000.000000</td>\n",
       "      <td>40000.000000</td>\n",
       "      <td>40000.000000</td>\n",
       "    </tr>\n",
       "    <tr>\n",
       "      <th>mean</th>\n",
       "      <td>-0.004351</td>\n",
       "      <td>-0.007324</td>\n",
       "      <td>0.500000</td>\n",
       "    </tr>\n",
       "    <tr>\n",
       "      <th>std</th>\n",
       "      <td>2.229326</td>\n",
       "      <td>2.235759</td>\n",
       "      <td>0.500006</td>\n",
       "    </tr>\n",
       "    <tr>\n",
       "      <th>min</th>\n",
       "      <td>-5.834724</td>\n",
       "      <td>-5.781232</td>\n",
       "      <td>0.000000</td>\n",
       "    </tr>\n",
       "    <tr>\n",
       "      <th>25%</th>\n",
       "      <td>-1.995645</td>\n",
       "      <td>-2.013000</td>\n",
       "      <td>0.000000</td>\n",
       "    </tr>\n",
       "    <tr>\n",
       "      <th>50%</th>\n",
       "      <td>0.004485</td>\n",
       "      <td>-0.014540</td>\n",
       "      <td>0.500000</td>\n",
       "    </tr>\n",
       "    <tr>\n",
       "      <th>75%</th>\n",
       "      <td>1.983753</td>\n",
       "      <td>1.985451</td>\n",
       "      <td>1.000000</td>\n",
       "    </tr>\n",
       "    <tr>\n",
       "      <th>max</th>\n",
       "      <td>5.541181</td>\n",
       "      <td>5.947922</td>\n",
       "      <td>1.000000</td>\n",
       "    </tr>\n",
       "  </tbody>\n",
       "</table>\n",
       "</div>"
      ],
      "text/plain": [
       "       white_blood_cell  red_blood_cell          sick\n",
       "count      40000.000000    40000.000000  40000.000000\n",
       "mean          -0.004351       -0.007324      0.500000\n",
       "std            2.229326        2.235759      0.500006\n",
       "min           -5.834724       -5.781232      0.000000\n",
       "25%           -1.995645       -2.013000      0.000000\n",
       "50%            0.004485       -0.014540      0.500000\n",
       "75%            1.983753        1.985451      1.000000\n",
       "max            5.541181        5.947922      1.000000"
      ]
     },
     "execution_count": 5,
     "metadata": {},
     "output_type": "execute_result"
    }
   ],
   "source": [
    "df.describe(include=\"all\")"
   ]
  },
  {
   "cell_type": "code",
   "execution_count": 6,
   "metadata": {},
   "outputs": [
    {
     "name": "stdout",
     "output_type": "stream",
     "text": [
      "<class 'pandas.core.frame.DataFrame'>\n",
      "RangeIndex: 40000 entries, 0 to 39999\n",
      "Data columns (total 3 columns):\n",
      " #   Column            Non-Null Count  Dtype  \n",
      "---  ------            --------------  -----  \n",
      " 0   white_blood_cell  40000 non-null  float64\n",
      " 1   red_blood_cell    40000 non-null  float64\n",
      " 2   sick              40000 non-null  float64\n",
      "dtypes: float64(3)\n",
      "memory usage: 937.6 KB\n"
     ]
    }
   ],
   "source": [
    "df.info()"
   ]
  },
  {
   "cell_type": "code",
   "execution_count": 7,
   "metadata": {},
   "outputs": [
    {
     "data": {
      "text/plain": [
       "-0.004351365855189896"
      ]
     },
     "execution_count": 7,
     "metadata": {},
     "output_type": "execute_result"
    }
   ],
   "source": [
    "df[\"white_blood_cell\"].mean()"
   ]
  },
  {
   "cell_type": "code",
   "execution_count": 8,
   "metadata": {},
   "outputs": [
    {
     "data": {
      "text/plain": [
       "0        False\n",
       "1        False\n",
       "2        False\n",
       "3         True\n",
       "4         True\n",
       "         ...  \n",
       "39995     True\n",
       "39996    False\n",
       "39997     True\n",
       "39998    False\n",
       "39999     True\n",
       "Name: white_blood_cell, Length: 40000, dtype: bool"
      ]
     },
     "execution_count": 8,
     "metadata": {},
     "output_type": "execute_result"
    }
   ],
   "source": [
    "mask = df[\"white_blood_cell\"] < df[\"white_blood_cell\"].mean()\n",
    "mask"
   ]
  },
  {
   "cell_type": "code",
   "execution_count": 9,
   "metadata": {},
   "outputs": [
    {
     "data": {
      "application/vnd.microsoft.datawrangler.viewer.v0+json": {
       "columns": [
        {
         "name": "index",
         "rawType": "int64",
         "type": "integer"
        },
        {
         "name": "white_blood_cell",
         "rawType": "float64",
         "type": "float"
        },
        {
         "name": "red_blood_cell",
         "rawType": "float64",
         "type": "float"
        },
        {
         "name": "sick",
         "rawType": "float64",
         "type": "float"
        }
       ],
       "conversionMethod": "pd.DataFrame",
       "ref": "8bb4e119-1540-46cf-b318-f14f3b86ceb5",
       "rows": [
        [
         "3",
         "-0.0575208560756135",
         "2.0549279199809307",
         "1.0"
        ],
        [
         "4",
         "-1.2325998694912528",
         "-2.7228046944927304",
         "0.0"
        ],
        [
         "5",
         "-1.8665361133557",
         "-1.0525490806766375",
         "0.0"
        ],
        [
         "10",
         "-0.2648782527296611",
         "-0.5161843126825354",
         "1.0"
        ],
        [
         "12",
         "-2.4610480042302707",
         "-2.3016438017228125",
         "0.0"
        ],
        [
         "13",
         "-2.8141273674619",
         "3.9756592502865824",
         "1.0"
        ],
        [
         "16",
         "-2.424474045708579",
         "-1.0643699831153508",
         "0.0"
        ],
        [
         "19",
         "-3.5411310869151094",
         "-2.4911101335091934",
         "0.0"
        ],
        [
         "21",
         "-2.6962458918851056",
         "2.7800765860133465",
         "1.0"
        ],
        [
         "25",
         "-3.926612676097724",
         "2.3793240937825195",
         "1.0"
        ],
        [
         "26",
         "-1.8091042304876803",
         "-0.95200607713037",
         "0.0"
        ],
        [
         "29",
         "-2.079810972136916",
         "2.92367180907404",
         "1.0"
        ],
        [
         "31",
         "-2.779076672255373",
         "-2.4332695074976107",
         "0.0"
        ],
        [
         "38",
         "-1.5309126894714624",
         "3.046357421396679",
         "1.0"
        ],
        [
         "47",
         "-1.6734133713780162",
         "2.807547414262204",
         "1.0"
        ],
        [
         "48",
         "-0.0890970659449024",
         "-3.3468686336813565",
         "0.0"
        ],
        [
         "53",
         "-1.4523059960947076",
         "-1.6489184944662367",
         "0.0"
        ],
        [
         "55",
         "-1.0433176574576808",
         "-3.049321543580149",
         "0.0"
        ],
        [
         "58",
         "-1.908182210397092",
         "1.4394813421471886",
         "1.0"
        ],
        [
         "61",
         "-2.8953390625372006",
         "2.6220713257858863",
         "1.0"
        ],
        [
         "62",
         "-1.4292360602055854",
         "-1.2384712974109937",
         "0.0"
        ],
        [
         "63",
         "-1.2884609014730517",
         "2.4229830020897163",
         "1.0"
        ],
        [
         "64",
         "-1.5625129191949707",
         "3.30651858323484",
         "1.0"
        ],
        [
         "68",
         "-1.9339927350156088",
         "1.3423752361605108",
         "1.0"
        ],
        [
         "70",
         "-1.3679443021465272",
         "-3.9827809112083288",
         "0.0"
        ],
        [
         "71",
         "-2.0421340510972623",
         "1.5960637810179952",
         "1.0"
        ],
        [
         "72",
         "-3.2315828487197567",
         "-1.5645002922911548",
         "0.0"
        ],
        [
         "75",
         "-2.472753595820644",
         "1.5563732318473642",
         "1.0"
        ],
        [
         "76",
         "-2.165827373533343",
         "-3.6971108444770486",
         "0.0"
        ],
        [
         "77",
         "-2.9838870086557487",
         "-2.2094074439898432",
         "0.0"
        ],
        [
         "81",
         "-1.591132385524214",
         "0.9430507114024756",
         "1.0"
        ],
        [
         "83",
         "-0.996844810948052",
         "2.4631323861685805",
         "1.0"
        ],
        [
         "87",
         "-2.3311795488807383",
         "-0.5017015341680535",
         "1.0"
        ],
        [
         "88",
         "-1.939345249176808",
         "-1.892185046827992",
         "0.0"
        ],
        [
         "89",
         "-1.5548465448053994",
         "-3.681496160773901",
         "0.0"
        ],
        [
         "90",
         "-0.8601894276481601",
         "-3.310522171355238",
         "0.0"
        ],
        [
         "91",
         "-1.8096742792911271",
         "-1.4051749182198323",
         "0.0"
        ],
        [
         "93",
         "-3.2347728214969247",
         "-3.060789705749412",
         "0.0"
        ],
        [
         "94",
         "-1.1182623289634228",
         "0.3054425650296457",
         "1.0"
        ],
        [
         "95",
         "-1.6254788833543583",
         "3.903210953740031",
         "1.0"
        ],
        [
         "99",
         "-0.8589814610261792",
         "2.2518618173923253",
         "1.0"
        ],
        [
         "100",
         "-2.4840865366585287",
         "0.796015797518979",
         "1.0"
        ],
        [
         "101",
         "-1.0797297608030738",
         "-1.354077503385052",
         "0.0"
        ],
        [
         "102",
         "-2.24067424318594",
         "-2.3895457613444773",
         "0.0"
        ],
        [
         "104",
         "-2.510086109814349",
         "-0.5487764202841887",
         "0.0"
        ],
        [
         "105",
         "-2.5219354270493595",
         "3.720226446561405",
         "1.0"
        ],
        [
         "108",
         "-3.819782524866041",
         "2.872274538689439",
         "1.0"
        ],
        [
         "109",
         "-1.0348714686033629",
         "0.0029658757421897",
         "1.0"
        ],
        [
         "111",
         "-0.6968875387432001",
         "-2.2420029064501623",
         "0.0"
        ],
        [
         "118",
         "-2.014657994175188",
         "0.2119286989291202",
         "0.0"
        ]
       ],
       "shape": {
        "columns": 3,
        "rows": 19981
       }
      },
      "text/html": [
       "<div>\n",
       "<style scoped>\n",
       "    .dataframe tbody tr th:only-of-type {\n",
       "        vertical-align: middle;\n",
       "    }\n",
       "\n",
       "    .dataframe tbody tr th {\n",
       "        vertical-align: top;\n",
       "    }\n",
       "\n",
       "    .dataframe thead th {\n",
       "        text-align: right;\n",
       "    }\n",
       "</style>\n",
       "<table border=\"1\" class=\"dataframe\">\n",
       "  <thead>\n",
       "    <tr style=\"text-align: right;\">\n",
       "      <th></th>\n",
       "      <th>white_blood_cell</th>\n",
       "      <th>red_blood_cell</th>\n",
       "      <th>sick</th>\n",
       "    </tr>\n",
       "  </thead>\n",
       "  <tbody>\n",
       "    <tr>\n",
       "      <th>3</th>\n",
       "      <td>-0.057521</td>\n",
       "      <td>2.054928</td>\n",
       "      <td>1.0</td>\n",
       "    </tr>\n",
       "    <tr>\n",
       "      <th>4</th>\n",
       "      <td>-1.232600</td>\n",
       "      <td>-2.722805</td>\n",
       "      <td>0.0</td>\n",
       "    </tr>\n",
       "    <tr>\n",
       "      <th>5</th>\n",
       "      <td>-1.866536</td>\n",
       "      <td>-1.052549</td>\n",
       "      <td>0.0</td>\n",
       "    </tr>\n",
       "    <tr>\n",
       "      <th>10</th>\n",
       "      <td>-0.264878</td>\n",
       "      <td>-0.516184</td>\n",
       "      <td>1.0</td>\n",
       "    </tr>\n",
       "    <tr>\n",
       "      <th>12</th>\n",
       "      <td>-2.461048</td>\n",
       "      <td>-2.301644</td>\n",
       "      <td>0.0</td>\n",
       "    </tr>\n",
       "    <tr>\n",
       "      <th>...</th>\n",
       "      <td>...</td>\n",
       "      <td>...</td>\n",
       "      <td>...</td>\n",
       "    </tr>\n",
       "    <tr>\n",
       "      <th>39992</th>\n",
       "      <td>-1.130755</td>\n",
       "      <td>-2.727139</td>\n",
       "      <td>0.0</td>\n",
       "    </tr>\n",
       "    <tr>\n",
       "      <th>39994</th>\n",
       "      <td>-1.042973</td>\n",
       "      <td>-0.530867</td>\n",
       "      <td>1.0</td>\n",
       "    </tr>\n",
       "    <tr>\n",
       "      <th>39995</th>\n",
       "      <td>-2.641717</td>\n",
       "      <td>2.356235</td>\n",
       "      <td>1.0</td>\n",
       "    </tr>\n",
       "    <tr>\n",
       "      <th>39997</th>\n",
       "      <td>-2.192320</td>\n",
       "      <td>-3.356272</td>\n",
       "      <td>0.0</td>\n",
       "    </tr>\n",
       "    <tr>\n",
       "      <th>39999</th>\n",
       "      <td>-1.605397</td>\n",
       "      <td>2.680971</td>\n",
       "      <td>1.0</td>\n",
       "    </tr>\n",
       "  </tbody>\n",
       "</table>\n",
       "<p>19981 rows × 3 columns</p>\n",
       "</div>"
      ],
      "text/plain": [
       "       white_blood_cell  red_blood_cell  sick\n",
       "3             -0.057521        2.054928   1.0\n",
       "4             -1.232600       -2.722805   0.0\n",
       "5             -1.866536       -1.052549   0.0\n",
       "10            -0.264878       -0.516184   1.0\n",
       "12            -2.461048       -2.301644   0.0\n",
       "...                 ...             ...   ...\n",
       "39992         -1.130755       -2.727139   0.0\n",
       "39994         -1.042973       -0.530867   1.0\n",
       "39995         -2.641717        2.356235   1.0\n",
       "39997         -2.192320       -3.356272   0.0\n",
       "39999         -1.605397        2.680971   1.0\n",
       "\n",
       "[19981 rows x 3 columns]"
      ]
     },
     "execution_count": 9,
     "metadata": {},
     "output_type": "execute_result"
    }
   ],
   "source": [
    "df[mask]"
   ]
  },
  {
   "cell_type": "code",
   "execution_count": 10,
   "metadata": {},
   "outputs": [],
   "source": [
    "# X = df[[\"white_blood_cell\", \"red_blood_cell\"]]\n",
    "X = df.drop(columns=[\"sick\"])"
   ]
  },
  {
   "cell_type": "code",
   "execution_count": null,
   "metadata": {},
   "outputs": [],
   "source": [
    "y = df[\"sick\"]"
   ]
  },
  {
   "cell_type": "code",
   "execution_count": null,
   "metadata": {},
   "outputs": [],
   "source": [
    "X_train, X_test, y_train, y_test = train_test_split(\n",
    "    X, y, test_size=0.33, random_state=42\n",
    ")"
   ]
  },
  {
   "cell_type": "code",
   "execution_count": 13,
   "metadata": {},
   "outputs": [
    {
     "data": {
      "text/plain": [
       "(13200, 2)"
      ]
     },
     "execution_count": 13,
     "metadata": {},
     "output_type": "execute_result"
    }
   ],
   "source": [
    "X_train.shape\n",
    "X_test.shape"
   ]
  },
  {
   "cell_type": "code",
   "execution_count": 14,
   "metadata": {},
   "outputs": [
    {
     "data": {
      "text/plain": [
       "(13200,)"
      ]
     },
     "execution_count": 14,
     "metadata": {},
     "output_type": "execute_result"
    }
   ],
   "source": [
    "y_train.shape\n",
    "y_test.shape"
   ]
  },
  {
   "cell_type": "code",
   "execution_count": 15,
   "metadata": {},
   "outputs": [
    {
     "data": {
      "application/vnd.microsoft.datawrangler.viewer.v0+json": {
       "columns": [
        {
         "name": "index",
         "rawType": "int64",
         "type": "integer"
        },
        {
         "name": "white_blood_cell",
         "rawType": "float64",
         "type": "float"
        },
        {
         "name": "red_blood_cell",
         "rawType": "float64",
         "type": "float"
        }
       ],
       "conversionMethod": "pd.DataFrame",
       "ref": "2ac20fb4-b112-4715-88f3-e037d491b16f",
       "rows": [
        [
         "0",
         "1.1780282895195011",
         "0.4643154056575322"
        ],
        [
         "1",
         "0.844174768033688",
         "2.4403507123889767"
        ],
        [
         "2",
         "2.878409306308704",
         "-1.4381235296418606"
        ],
        [
         "3",
         "-0.0575208560756135",
         "2.0549279199809307"
        ],
        [
         "4",
         "-1.2325998694912528",
         "-2.7228046944927304"
        ],
        [
         "5",
         "-1.8665361133557",
         "-1.0525490806766375"
        ],
        [
         "6",
         "1.4119072135577786",
         "1.3772680884514674"
        ],
        [
         "7",
         "2.6428900935572552",
         "-2.0097104920648503"
        ],
        [
         "8",
         "2.7755519286770567",
         "1.5686115690475808"
        ],
        [
         "9",
         "1.9142681479862504",
         "1.7944881143097582"
        ],
        [
         "10",
         "-0.2648782527296611",
         "-0.5161843126825354"
        ],
        [
         "11",
         "2.2425025427561023",
         "-2.0452125921461857"
        ],
        [
         "12",
         "-2.4610480042302707",
         "-2.3016438017228125"
        ],
        [
         "13",
         "-2.8141273674619",
         "3.9756592502865824"
        ],
        [
         "14",
         "1.984070151731488",
         "-2.7025054469398606"
        ],
        [
         "15",
         "2.3686448591231857",
         "-2.350131886209585"
        ],
        [
         "16",
         "-2.424474045708579",
         "-1.0643699831153508"
        ],
        [
         "17",
         "1.669704715383472",
         "2.8175155466740383"
        ],
        [
         "18",
         "0.5898433518301598",
         "2.8379068065665543"
        ],
        [
         "19",
         "-3.5411310869151094",
         "-2.4911101335091934"
        ],
        [
         "20",
         "0.9508700446230958",
         "-2.20607874166731"
        ],
        [
         "21",
         "-2.6962458918851056",
         "2.7800765860133465"
        ],
        [
         "22",
         "1.26019735419872",
         "-3.2047557550154613"
        ],
        [
         "23",
         "1.606245057611849",
         "3.2140149656620074"
        ],
        [
         "24",
         "2.3367957000375856",
         "-2.168543778478626"
        ],
        [
         "25",
         "-3.926612676097724",
         "2.3793240937825195"
        ],
        [
         "26",
         "-1.8091042304876803",
         "-0.95200607713037"
        ],
        [
         "27",
         "2.4120579190086624",
         "2.0321372141361773"
        ],
        [
         "28",
         "2.583210374748194",
         "2.809594138070897"
        ],
        [
         "29",
         "-2.079810972136916",
         "2.92367180907404"
        ],
        [
         "30",
         "1.9140679117012456",
         "-0.3619592072835642"
        ],
        [
         "31",
         "-2.779076672255373",
         "-2.4332695074976107"
        ],
        [
         "32",
         "2.1827557899654817",
         "3.2594112190780384"
        ],
        [
         "33",
         "1.2144735584955684",
         "2.157337741017885"
        ],
        [
         "34",
         "2.567255291854994",
         "-2.010979224319309"
        ],
        [
         "35",
         "3.486560968904235",
         "-1.9213243851567168"
        ],
        [
         "36",
         "2.1219429690624114",
         "-2.104798444495141"
        ],
        [
         "37",
         "2.8735010562076195",
         "2.7365849750128555"
        ],
        [
         "38",
         "-1.5309126894714624",
         "3.046357421396679"
        ],
        [
         "39",
         "0.2039036112019212",
         "-2.5332289332935507"
        ],
        [
         "40",
         "3.0432128700052923",
         "-2.8594203334407355"
        ],
        [
         "41",
         "2.782090678540209",
         "-2.9183978551416225"
        ],
        [
         "42",
         "1.3442746742668257",
         "0.9932444633443888"
        ],
        [
         "43",
         "2.9445795484768884",
         "1.6982514238754411"
        ],
        [
         "44",
         "1.2309937574346266",
         "2.3038529408044743"
        ],
        [
         "45",
         "1.5709893213676789",
         "1.7004497835482848"
        ],
        [
         "46",
         "1.317435574260441",
         "1.795770986493959"
        ],
        [
         "47",
         "-1.6734133713780162",
         "2.807547414262204"
        ],
        [
         "48",
         "-0.0890970659449024",
         "-3.3468686336813565"
        ],
        [
         "49",
         "3.4401280721913974",
         "1.875554263406825"
        ]
       ],
       "shape": {
        "columns": 2,
        "rows": 40000
       }
      },
      "text/html": [
       "<div>\n",
       "<style scoped>\n",
       "    .dataframe tbody tr th:only-of-type {\n",
       "        vertical-align: middle;\n",
       "    }\n",
       "\n",
       "    .dataframe tbody tr th {\n",
       "        vertical-align: top;\n",
       "    }\n",
       "\n",
       "    .dataframe thead th {\n",
       "        text-align: right;\n",
       "    }\n",
       "</style>\n",
       "<table border=\"1\" class=\"dataframe\">\n",
       "  <thead>\n",
       "    <tr style=\"text-align: right;\">\n",
       "      <th></th>\n",
       "      <th>white_blood_cell</th>\n",
       "      <th>red_blood_cell</th>\n",
       "    </tr>\n",
       "  </thead>\n",
       "  <tbody>\n",
       "    <tr>\n",
       "      <th>0</th>\n",
       "      <td>1.178028</td>\n",
       "      <td>0.464315</td>\n",
       "    </tr>\n",
       "    <tr>\n",
       "      <th>1</th>\n",
       "      <td>0.844175</td>\n",
       "      <td>2.440351</td>\n",
       "    </tr>\n",
       "    <tr>\n",
       "      <th>2</th>\n",
       "      <td>2.878409</td>\n",
       "      <td>-1.438124</td>\n",
       "    </tr>\n",
       "    <tr>\n",
       "      <th>3</th>\n",
       "      <td>-0.057521</td>\n",
       "      <td>2.054928</td>\n",
       "    </tr>\n",
       "    <tr>\n",
       "      <th>4</th>\n",
       "      <td>-1.232600</td>\n",
       "      <td>-2.722805</td>\n",
       "    </tr>\n",
       "    <tr>\n",
       "      <th>...</th>\n",
       "      <td>...</td>\n",
       "      <td>...</td>\n",
       "    </tr>\n",
       "    <tr>\n",
       "      <th>39995</th>\n",
       "      <td>-2.641717</td>\n",
       "      <td>2.356235</td>\n",
       "    </tr>\n",
       "    <tr>\n",
       "      <th>39996</th>\n",
       "      <td>3.675737</td>\n",
       "      <td>2.956299</td>\n",
       "    </tr>\n",
       "    <tr>\n",
       "      <th>39997</th>\n",
       "      <td>-2.192320</td>\n",
       "      <td>-3.356272</td>\n",
       "    </tr>\n",
       "    <tr>\n",
       "      <th>39998</th>\n",
       "      <td>3.100980</td>\n",
       "      <td>-2.561397</td>\n",
       "    </tr>\n",
       "    <tr>\n",
       "      <th>39999</th>\n",
       "      <td>-1.605397</td>\n",
       "      <td>2.680971</td>\n",
       "    </tr>\n",
       "  </tbody>\n",
       "</table>\n",
       "<p>40000 rows × 2 columns</p>\n",
       "</div>"
      ],
      "text/plain": [
       "       white_blood_cell  red_blood_cell\n",
       "0              1.178028        0.464315\n",
       "1              0.844175        2.440351\n",
       "2              2.878409       -1.438124\n",
       "3             -0.057521        2.054928\n",
       "4             -1.232600       -2.722805\n",
       "...                 ...             ...\n",
       "39995         -2.641717        2.356235\n",
       "39996          3.675737        2.956299\n",
       "39997         -2.192320       -3.356272\n",
       "39998          3.100980       -2.561397\n",
       "39999         -1.605397        2.680971\n",
       "\n",
       "[40000 rows x 2 columns]"
      ]
     },
     "execution_count": 15,
     "metadata": {},
     "output_type": "execute_result"
    }
   ],
   "source": [
    "df[[\"white_blood_cell\", \"red_blood_cell\"]]"
   ]
  },
  {
   "cell_type": "code",
   "execution_count": 16,
   "metadata": {},
   "outputs": [
    {
     "data": {
      "text/plain": [
       "(40000, 1)"
      ]
     },
     "execution_count": 16,
     "metadata": {},
     "output_type": "execute_result"
    }
   ],
   "source": [
    "df[[\"white_blood_cell\"]].shape"
   ]
  },
  {
   "cell_type": "code",
   "execution_count": null,
   "metadata": {},
   "outputs": [],
   "source": [
    "###Enter your code here !\n",
    "# Load the dataset\n",
    "from sklearn.preprocessing import StandardScaler\n",
    "from sklearn.model_selection import train_test_split\n",
    "\n",
    "data = pd.read_csv(\"./dataset/sick_or_not.csv\")\n",
    "X = data[[\"white_blood_cell\", \"red_blood_cell\"]].values\n",
    "y = data[\"sick\"].values\n",
    "\n",
    "# Split the dataset into training and test sets\n",
    "X_train, X_test, y_train, y_test = train_test_split(\n",
    "    X, y, test_size=0.2, random_state=42\n",
    ")\n",
    "\n",
    "# Normalize the data\n",
    "scaler = StandardScaler()\n",
    "X_train = scaler.fit_transform(X_train)\n",
    "X_test = scaler.transform(X_test)"
   ]
  },
  {
   "cell_type": "code",
   "execution_count": null,
   "metadata": {},
   "outputs": [
    {
     "ename": "ImportError",
     "evalue": "Traceback (most recent call last):\n  File \"c:\\Python312\\Lib\\site-packages\\tensorflow\\python\\pywrap_tensorflow.py\", line 73, in <module>\n    from tensorflow.python._pywrap_tensorflow_internal import *\nImportError: DLL load failed while importing _pywrap_tensorflow_internal: A dynamic link library (DLL) initialization routine failed.\n\n\nFailed to load the native TensorFlow runtime.\nSee https://www.tensorflow.org/install/errors for some common causes and solutions.\nIf you need help, create an issue at https://github.com/tensorflow/tensorflow/issues and include the entire stack trace above this error message.",
     "output_type": "error",
     "traceback": [
      "\u001b[1;31m---------------------------------------------------------------------------\u001b[0m",
      "\u001b[1;31mImportError\u001b[0m                               Traceback (most recent call last)",
      "File \u001b[1;32mc:\\Python312\\Lib\\site-packages\\tensorflow\\python\\pywrap_tensorflow.py:73\u001b[0m\n\u001b[0;32m     72\u001b[0m \u001b[38;5;28;01mtry\u001b[39;00m:\n\u001b[1;32m---> 73\u001b[0m   \u001b[38;5;28;01mfrom\u001b[39;00m \u001b[38;5;21;01mtensorflow\u001b[39;00m\u001b[38;5;21;01m.\u001b[39;00m\u001b[38;5;21;01mpython\u001b[39;00m\u001b[38;5;21;01m.\u001b[39;00m\u001b[38;5;21;01m_pywrap_tensorflow_internal\u001b[39;00m \u001b[38;5;28;01mimport\u001b[39;00m \u001b[38;5;241m*\u001b[39m\n\u001b[0;32m     74\u001b[0m \u001b[38;5;66;03m# This try catch logic is because there is no bazel equivalent for py_extension.\u001b[39;00m\n\u001b[0;32m     75\u001b[0m \u001b[38;5;66;03m# Externally in opensource we must enable exceptions to load the shared object\u001b[39;00m\n\u001b[0;32m     76\u001b[0m \u001b[38;5;66;03m# by exposing the PyInit symbols with pybind. This error will only be\u001b[39;00m\n\u001b[0;32m     77\u001b[0m \u001b[38;5;66;03m# caught internally or if someone changes the name of the target _pywrap_tensorflow_internal.\u001b[39;00m\n\u001b[0;32m     78\u001b[0m \n\u001b[0;32m     79\u001b[0m \u001b[38;5;66;03m# This logic is used in other internal projects using py_extension.\u001b[39;00m\n",
      "\u001b[1;31mImportError\u001b[0m: DLL load failed while importing _pywrap_tensorflow_internal: A dynamic link library (DLL) initialization routine failed.",
      "\nDuring handling of the above exception, another exception occurred:\n",
      "\u001b[1;31mImportError\u001b[0m                               Traceback (most recent call last)",
      "Cell \u001b[1;32mIn[18], line 1\u001b[0m\n\u001b[1;32m----> 1\u001b[0m \u001b[38;5;28;01mimport\u001b[39;00m \u001b[38;5;21;01mtensorflow\u001b[39;00m \u001b[38;5;28;01mas\u001b[39;00m \u001b[38;5;21;01mtf\u001b[39;00m\n\u001b[0;32m      3\u001b[0m \u001b[38;5;66;03m# Build a neural network model\u001b[39;00m\n\u001b[0;32m      4\u001b[0m model \u001b[38;5;241m=\u001b[39m tf\u001b[38;5;241m.\u001b[39mkeras\u001b[38;5;241m.\u001b[39mSequential([\n\u001b[0;32m      5\u001b[0m     tf\u001b[38;5;241m.\u001b[39mkeras\u001b[38;5;241m.\u001b[39mlayers\u001b[38;5;241m.\u001b[39mDense(\u001b[38;5;241m48\u001b[39m, input_shape\u001b[38;5;241m=\u001b[39m(\u001b[38;5;241m2\u001b[39m,), activation\u001b[38;5;241m=\u001b[39m\u001b[38;5;124m'\u001b[39m\u001b[38;5;124mrelu\u001b[39m\u001b[38;5;124m'\u001b[39m),\n\u001b[0;32m      6\u001b[0m     tf\u001b[38;5;241m.\u001b[39mkeras\u001b[38;5;241m.\u001b[39mlayers\u001b[38;5;241m.\u001b[39mDense(\u001b[38;5;241m36\u001b[39m, activation\u001b[38;5;241m=\u001b[39m\u001b[38;5;124m'\u001b[39m\u001b[38;5;124mrelu\u001b[39m\u001b[38;5;124m'\u001b[39m),\n\u001b[0;32m      7\u001b[0m     \u001b[38;5;66;03m# Output layer for binary classification\u001b[39;00m\n\u001b[0;32m      8\u001b[0m     tf\u001b[38;5;241m.\u001b[39mkeras\u001b[38;5;241m.\u001b[39mlayers\u001b[38;5;241m.\u001b[39mDense(\u001b[38;5;241m1\u001b[39m, activation\u001b[38;5;241m=\u001b[39m\u001b[38;5;124m'\u001b[39m\u001b[38;5;124msigmoid\u001b[39m\u001b[38;5;124m'\u001b[39m)\n\u001b[0;32m      9\u001b[0m ])\n",
      "File \u001b[1;32mc:\\Python312\\Lib\\site-packages\\tensorflow\\__init__.py:40\u001b[0m\n\u001b[0;32m     37\u001b[0m _os\u001b[38;5;241m.\u001b[39menviron\u001b[38;5;241m.\u001b[39msetdefault(\u001b[38;5;124m\"\u001b[39m\u001b[38;5;124mENABLE_RUNTIME_UPTIME_TELEMETRY\u001b[39m\u001b[38;5;124m\"\u001b[39m, \u001b[38;5;124m\"\u001b[39m\u001b[38;5;124m1\u001b[39m\u001b[38;5;124m\"\u001b[39m)\n\u001b[0;32m     39\u001b[0m \u001b[38;5;66;03m# Do not remove this line; See https://github.com/tensorflow/tensorflow/issues/42596\u001b[39;00m\n\u001b[1;32m---> 40\u001b[0m \u001b[38;5;28;01mfrom\u001b[39;00m \u001b[38;5;21;01mtensorflow\u001b[39;00m\u001b[38;5;21;01m.\u001b[39;00m\u001b[38;5;21;01mpython\u001b[39;00m \u001b[38;5;28;01mimport\u001b[39;00m pywrap_tensorflow \u001b[38;5;28;01mas\u001b[39;00m _pywrap_tensorflow  \u001b[38;5;66;03m# pylint: disable=unused-import\u001b[39;00m\n\u001b[0;32m     41\u001b[0m \u001b[38;5;28;01mfrom\u001b[39;00m \u001b[38;5;21;01mtensorflow\u001b[39;00m\u001b[38;5;21;01m.\u001b[39;00m\u001b[38;5;21;01mpython\u001b[39;00m\u001b[38;5;21;01m.\u001b[39;00m\u001b[38;5;21;01mtools\u001b[39;00m \u001b[38;5;28;01mimport\u001b[39;00m module_util \u001b[38;5;28;01mas\u001b[39;00m _module_util\n\u001b[0;32m     42\u001b[0m \u001b[38;5;28;01mfrom\u001b[39;00m \u001b[38;5;21;01mtensorflow\u001b[39;00m\u001b[38;5;21;01m.\u001b[39;00m\u001b[38;5;21;01mpython\u001b[39;00m\u001b[38;5;21;01m.\u001b[39;00m\u001b[38;5;21;01mutil\u001b[39;00m\u001b[38;5;21;01m.\u001b[39;00m\u001b[38;5;21;01mlazy_loader\u001b[39;00m \u001b[38;5;28;01mimport\u001b[39;00m KerasLazyLoader \u001b[38;5;28;01mas\u001b[39;00m _KerasLazyLoader\n",
      "File \u001b[1;32mc:\\Python312\\Lib\\site-packages\\tensorflow\\python\\pywrap_tensorflow.py:88\u001b[0m\n\u001b[0;32m     86\u001b[0m     sys\u001b[38;5;241m.\u001b[39msetdlopenflags(_default_dlopen_flags)\n\u001b[0;32m     87\u001b[0m \u001b[38;5;28;01mexcept\u001b[39;00m \u001b[38;5;167;01mImportError\u001b[39;00m:\n\u001b[1;32m---> 88\u001b[0m   \u001b[38;5;28;01mraise\u001b[39;00m \u001b[38;5;167;01mImportError\u001b[39;00m(\n\u001b[0;32m     89\u001b[0m       \u001b[38;5;124mf\u001b[39m\u001b[38;5;124m'\u001b[39m\u001b[38;5;132;01m{\u001b[39;00mtraceback\u001b[38;5;241m.\u001b[39mformat_exc()\u001b[38;5;132;01m}\u001b[39;00m\u001b[38;5;124m'\u001b[39m\n\u001b[0;32m     90\u001b[0m       \u001b[38;5;124mf\u001b[39m\u001b[38;5;124m'\u001b[39m\u001b[38;5;130;01m\\n\u001b[39;00m\u001b[38;5;130;01m\\n\u001b[39;00m\u001b[38;5;124mFailed to load the native TensorFlow runtime.\u001b[39m\u001b[38;5;130;01m\\n\u001b[39;00m\u001b[38;5;124m'\u001b[39m\n\u001b[0;32m     91\u001b[0m       \u001b[38;5;124mf\u001b[39m\u001b[38;5;124m'\u001b[39m\u001b[38;5;124mSee https://www.tensorflow.org/install/errors \u001b[39m\u001b[38;5;124m'\u001b[39m\n\u001b[0;32m     92\u001b[0m       \u001b[38;5;124mf\u001b[39m\u001b[38;5;124m'\u001b[39m\u001b[38;5;124mfor some common causes and solutions.\u001b[39m\u001b[38;5;130;01m\\n\u001b[39;00m\u001b[38;5;124m'\u001b[39m\n\u001b[0;32m     93\u001b[0m       \u001b[38;5;124mf\u001b[39m\u001b[38;5;124m'\u001b[39m\u001b[38;5;124mIf you need help, create an issue \u001b[39m\u001b[38;5;124m'\u001b[39m\n\u001b[0;32m     94\u001b[0m       \u001b[38;5;124mf\u001b[39m\u001b[38;5;124m'\u001b[39m\u001b[38;5;124mat https://github.com/tensorflow/tensorflow/issues \u001b[39m\u001b[38;5;124m'\u001b[39m\n\u001b[0;32m     95\u001b[0m       \u001b[38;5;124mf\u001b[39m\u001b[38;5;124m'\u001b[39m\u001b[38;5;124mand include the entire stack trace above this error message.\u001b[39m\u001b[38;5;124m'\u001b[39m)\n\u001b[0;32m     97\u001b[0m \u001b[38;5;66;03m# pylint: enable=wildcard-import,g-import-not-at-top,unused-import,line-too-long\u001b[39;00m\n",
      "\u001b[1;31mImportError\u001b[0m: Traceback (most recent call last):\n  File \"c:\\Python312\\Lib\\site-packages\\tensorflow\\python\\pywrap_tensorflow.py\", line 73, in <module>\n    from tensorflow.python._pywrap_tensorflow_internal import *\nImportError: DLL load failed while importing _pywrap_tensorflow_internal: A dynamic link library (DLL) initialization routine failed.\n\n\nFailed to load the native TensorFlow runtime.\nSee https://www.tensorflow.org/install/errors for some common causes and solutions.\nIf you need help, create an issue at https://github.com/tensorflow/tensorflow/issues and include the entire stack trace above this error message."
     ]
    }
   ],
   "source": [
    "import tensorflow as tf\n",
    "\n",
    "# Build a neural network model\n",
    "model = tf.keras.Sequential(\n",
    "    [\n",
    "        tf.keras.layers.Dense(48, input_shape=(2,), activation=\"relu\"),\n",
    "        tf.keras.layers.Dense(36, activation=\"relu\"),\n",
    "        # Output layer for binary classification\n",
    "        tf.keras.layers.Dense(1, activation=\"sigmoid\"),\n",
    "    ]\n",
    ")\n",
    "\n",
    "# Compile the model\n",
    "model.compile(optimizer=\"adam\", loss=\"binary_crossentropy\", metrics=[\"accuracy\"])\n",
    "# Train the model\n",
    "history = model.fit(X_train, y_train, epochs=30, batch_size=16, validation_split=0.1)"
   ]
  }
 ],
 "metadata": {
  "kernelspec": {
   "display_name": "Python 3",
   "language": "python",
   "name": "python3"
  },
  "language_info": {
   "codemirror_mode": {
    "name": "ipython",
    "version": 3
   },
   "file_extension": ".py",
   "mimetype": "text/x-python",
   "name": "python",
   "nbconvert_exporter": "python",
   "pygments_lexer": "ipython3",
   "version": "3.12.2"
  }
 },
 "nbformat": 4,
 "nbformat_minor": 2
}
